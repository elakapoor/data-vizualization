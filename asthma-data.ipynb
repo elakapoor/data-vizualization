{
 "cells": [
  {
   "cell_type": "markdown",
   "id": "a646dbcb",
   "metadata": {
    "papermill": {
     "duration": 0.042274,
     "end_time": "2022-02-14T14:01:41.893572",
     "exception": false,
     "start_time": "2022-02-14T14:01:41.851298",
     "status": "completed"
    },
    "tags": []
   },
   "source": [
    "<h1> <center>Analysing asthma problem in California residents</center></h1>\n",
    "\n",
    "When the data is provided for any analysing it is always mixed and non-uniform in nature. \n",
    "Before starting any new data analysis project it is important that we have a certain business decision to make.In this manner we can categorize our data according to our need.<br> In the following asthama dataset information related to counts and rates (per 10,000 residents) of asthma (ICD9-CM, 493.0-493.9) emergency department visits among California residents by County and age group (all ages, 0-17, 18+) is present. <br>\n",
    "The key result that we need to find out from the data set are:\n",
    "1. Analyze Geography in relation to Lghc Indicator Id\n",
    "2. Study the influence of Age Group on Numerator <br>\n",
    "Let us create our model to find the answer to above query"
   ]
  },
  {
   "cell_type": "code",
   "execution_count": 1,
   "id": "8d081dd7",
   "metadata": {
    "_cell_guid": "b1076dfc-b9ad-4769-8c92-a6c4dae69d19",
    "_uuid": "8f2839f25d086af736a60e9eeb907d3b93b6e0e5",
    "execution": {
     "iopub.execute_input": "2022-02-14T14:01:41.985417Z",
     "iopub.status.busy": "2022-02-14T14:01:41.983408Z",
     "iopub.status.idle": "2022-02-14T14:01:42.989150Z",
     "shell.execute_reply": "2022-02-14T14:01:42.989821Z",
     "shell.execute_reply.started": "2022-02-14T13:50:39.726881Z"
    },
    "papermill": {
     "duration": 1.054006,
     "end_time": "2022-02-14T14:01:42.990282",
     "exception": false,
     "start_time": "2022-02-14T14:01:41.936276",
     "status": "completed"
    },
    "tags": []
   },
   "outputs": [
    {
     "name": "stdout",
     "output_type": "stream",
     "text": [
      "/kaggle/input/asthma-ed-visit-rates-lghc-indicatore/asthma-ed-visit-rates-lghc-indicator-07-.csv\n",
      "/kaggle/input/asthma-ed-visit-rates-lghc-indicatore/asthma-ed-visit-rates-lghc-indicator-1.csv\n",
      "/kaggle/input/asthma-ed-visit-rates-lghc-indicatore/asthma-emergency-department-visit-rates-by-county-in-2012-description.pdf\n",
      "/kaggle/input/asthma-ed-visit-rates-lghc-indicatore/asthma-ed-visit-rates-lghc-indicator-4.pdf\n",
      "/kaggle/input/asthma-ed-visit-rates-lghc-indicatore/asthma-ed-visit-rates-lghc-indicator-2.xlsx\n",
      "/kaggle/input/asthma-ed-visit-rates-lghc-indicatore/asthma-ed-visit-rates-lghc-indicator-07-dd.xlsx\n",
      "/kaggle/input/asthma-ed-visit-rates-lghc-indicatore/datapackage.json\n",
      "/kaggle/input/asthma-ed-visit-rates-lghc-indicatore/resource_links.md\n"
     ]
    }
   ],
   "source": [
    "# This Python 3 environment comes with many helpful analytics libraries installed\n",
    "# It is defined by the kaggle/python Docker image: https://github.com/kaggle/docker-python\n",
    "# For example, here's several helpful packages to load\n",
    "\n",
    "import numpy as np # linear algebra\n",
    "import pandas as pd # data processing, CSV file I/O (e.g. pd.read_csv)\n",
    "import matplotlib.pyplot as plt\n",
    "import glob\n",
    "from scipy.stats import skew, kurtosis\n",
    "# Input data files are available in the read-only \"../input/\" directory\n",
    "# For example, running this (by clicking run or pressing Shift+Enter) will list all files under the input directory\n",
    "\n",
    "import os\n",
    "for dirname, _, filenames in os.walk('/kaggle/input'):\n",
    "    for filename in filenames:\n",
    "        print(os.path.join(dirname, filename))\n",
    "\n",
    "# You can write up to 20GB to the current directory (/kaggle/working/) that gets preserved as output when you create a version using \"Save & Run All\" \n",
    "# You can also write temporary files to /kaggle/temp/, but they won't be saved outside of the current session"
   ]
  },
  {
   "cell_type": "code",
   "execution_count": 2,
   "id": "7153f464",
   "metadata": {
    "execution": {
     "iopub.execute_input": "2022-02-14T14:01:43.097730Z",
     "iopub.status.busy": "2022-02-14T14:01:43.097029Z",
     "iopub.status.idle": "2022-02-14T14:01:43.105048Z",
     "shell.execute_reply": "2022-02-14T14:01:43.105766Z",
     "shell.execute_reply.started": "2022-02-14T13:50:40.706771Z"
    },
    "papermill": {
     "duration": 0.058179,
     "end_time": "2022-02-14T14:01:43.105992",
     "exception": false,
     "start_time": "2022-02-14T14:01:43.047813",
     "status": "completed"
    },
    "tags": []
   },
   "outputs": [
    {
     "data": {
      "text/plain": [
       "2"
      ]
     },
     "execution_count": 2,
     "metadata": {},
     "output_type": "execute_result"
    }
   ],
   "source": [
    "file = glob.glob(\"/kaggle/input/asthma-ed-visit-rates-lghc-indicatore/*.csv\")\n",
    "len(file)"
   ]
  },
  {
   "cell_type": "code",
   "execution_count": 3,
   "id": "594f49e6",
   "metadata": {
    "execution": {
     "iopub.execute_input": "2022-02-14T14:01:43.208341Z",
     "iopub.status.busy": "2022-02-14T14:01:43.207724Z",
     "iopub.status.idle": "2022-02-14T14:01:43.317287Z",
     "shell.execute_reply": "2022-02-14T14:01:43.316496Z",
     "shell.execute_reply.started": "2022-02-14T13:50:41.658761Z"
    },
    "papermill": {
     "duration": 0.156451,
     "end_time": "2022-02-14T14:01:43.317497",
     "exception": false,
     "start_time": "2022-02-14T14:01:43.161046",
     "status": "completed"
    },
    "tags": []
   },
   "outputs": [
    {
     "name": "stdout",
     "output_type": "stream",
     "text": [
      "(9425, 11)\n",
      "(9484, 11)\n"
     ]
    },
    {
     "data": {
      "text/html": [
       "<div>\n",
       "<style scoped>\n",
       "    .dataframe tbody tr th:only-of-type {\n",
       "        vertical-align: middle;\n",
       "    }\n",
       "\n",
       "    .dataframe tbody tr th {\n",
       "        vertical-align: top;\n",
       "    }\n",
       "\n",
       "    .dataframe thead th {\n",
       "        text-align: right;\n",
       "    }\n",
       "</style>\n",
       "<table border=\"1\" class=\"dataframe\">\n",
       "  <thead>\n",
       "    <tr style=\"text-align: right;\">\n",
       "      <th></th>\n",
       "      <th></th>\n",
       "      <th>index</th>\n",
       "      <th>LGHC Indicator Name</th>\n",
       "      <th>Geography</th>\n",
       "      <th>Year</th>\n",
       "      <th>Age Group</th>\n",
       "      <th>Strata</th>\n",
       "      <th>Strata Name</th>\n",
       "      <th>Numerator</th>\n",
       "      <th>Rate</th>\n",
       "      <th>LGHC Indicator ID</th>\n",
       "      <th>LGHC Target Rate</th>\n",
       "    </tr>\n",
       "  </thead>\n",
       "  <tbody>\n",
       "    <tr>\n",
       "      <th rowspan=\"5\" valign=\"top\">1</th>\n",
       "      <th>0</th>\n",
       "      <td>0</td>\n",
       "      <td>Asthma ED Visit Rates</td>\n",
       "      <td>Alameda</td>\n",
       "      <td>2015</td>\n",
       "      <td>18 and Over</td>\n",
       "      <td>Total Population</td>\n",
       "      <td>18 and Over</td>\n",
       "      <td>6,513</td>\n",
       "      <td>53.1</td>\n",
       "      <td>7</td>\n",
       "      <td>28</td>\n",
       "    </tr>\n",
       "    <tr>\n",
       "      <th>1</th>\n",
       "      <td>1</td>\n",
       "      <td>Asthma ED Visit Rates</td>\n",
       "      <td>Amador</td>\n",
       "      <td>2015</td>\n",
       "      <td>18 and Over</td>\n",
       "      <td>Total Population</td>\n",
       "      <td>18 and Over</td>\n",
       "      <td>151</td>\n",
       "      <td>49.1</td>\n",
       "      <td>7</td>\n",
       "      <td>28</td>\n",
       "    </tr>\n",
       "    <tr>\n",
       "      <th>2</th>\n",
       "      <td>2</td>\n",
       "      <td>Asthma ED Visit Rates</td>\n",
       "      <td>Butte</td>\n",
       "      <td>2015</td>\n",
       "      <td>18 and Over</td>\n",
       "      <td>Total Population</td>\n",
       "      <td>18 and Over</td>\n",
       "      <td>736</td>\n",
       "      <td>43.8</td>\n",
       "      <td>7</td>\n",
       "      <td>28</td>\n",
       "    </tr>\n",
       "    <tr>\n",
       "      <th>3</th>\n",
       "      <td>3</td>\n",
       "      <td>Asthma ED Visit Rates</td>\n",
       "      <td>Calaveras</td>\n",
       "      <td>2015</td>\n",
       "      <td>18 and Over</td>\n",
       "      <td>Total Population</td>\n",
       "      <td>18 and Over</td>\n",
       "      <td>139</td>\n",
       "      <td>42.7</td>\n",
       "      <td>7</td>\n",
       "      <td>28</td>\n",
       "    </tr>\n",
       "    <tr>\n",
       "      <th>4</th>\n",
       "      <td>4</td>\n",
       "      <td>Asthma ED Visit Rates</td>\n",
       "      <td>California</td>\n",
       "      <td>2015</td>\n",
       "      <td>18 and Over</td>\n",
       "      <td>Total Population</td>\n",
       "      <td>18 and Over</td>\n",
       "      <td>117,854</td>\n",
       "      <td>40.0</td>\n",
       "      <td>7</td>\n",
       "      <td>28</td>\n",
       "    </tr>\n",
       "    <tr>\n",
       "      <th>...</th>\n",
       "      <th>...</th>\n",
       "      <td>...</td>\n",
       "      <td>...</td>\n",
       "      <td>...</td>\n",
       "      <td>...</td>\n",
       "      <td>...</td>\n",
       "      <td>...</td>\n",
       "      <td>...</td>\n",
       "      <td>...</td>\n",
       "      <td>...</td>\n",
       "      <td>...</td>\n",
       "      <td>...</td>\n",
       "    </tr>\n",
       "    <tr>\n",
       "      <th rowspan=\"5\" valign=\"top\">2</th>\n",
       "      <th>9479</th>\n",
       "      <td>9479</td>\n",
       "      <td>Asthma ED Visit Rates</td>\n",
       "      <td>Tulare</td>\n",
       "      <td>2019</td>\n",
       "      <td>Under 18</td>\n",
       "      <td>Sex</td>\n",
       "      <td>Male</td>\n",
       "      <td>597</td>\n",
       "      <td>81.2</td>\n",
       "      <td>7</td>\n",
       "      <td>28</td>\n",
       "    </tr>\n",
       "    <tr>\n",
       "      <th>9480</th>\n",
       "      <td>9480</td>\n",
       "      <td>Asthma ED Visit Rates</td>\n",
       "      <td>Tuolumne</td>\n",
       "      <td>2019</td>\n",
       "      <td>Under 18</td>\n",
       "      <td>Sex</td>\n",
       "      <td>Male</td>\n",
       "      <td>37</td>\n",
       "      <td>90.0</td>\n",
       "      <td>7</td>\n",
       "      <td>28</td>\n",
       "    </tr>\n",
       "    <tr>\n",
       "      <th>9481</th>\n",
       "      <td>9481</td>\n",
       "      <td>Asthma ED Visit Rates</td>\n",
       "      <td>Ventura</td>\n",
       "      <td>2019</td>\n",
       "      <td>Under 18</td>\n",
       "      <td>Sex</td>\n",
       "      <td>Male</td>\n",
       "      <td>602</td>\n",
       "      <td>61.0</td>\n",
       "      <td>7</td>\n",
       "      <td>28</td>\n",
       "    </tr>\n",
       "    <tr>\n",
       "      <th>9482</th>\n",
       "      <td>9482</td>\n",
       "      <td>Asthma ED Visit Rates</td>\n",
       "      <td>Yolo</td>\n",
       "      <td>2019</td>\n",
       "      <td>Under 18</td>\n",
       "      <td>Sex</td>\n",
       "      <td>Male</td>\n",
       "      <td>135</td>\n",
       "      <td>52.4</td>\n",
       "      <td>7</td>\n",
       "      <td>28</td>\n",
       "    </tr>\n",
       "    <tr>\n",
       "      <th>9483</th>\n",
       "      <td>9483</td>\n",
       "      <td>Asthma ED Visit Rates</td>\n",
       "      <td>Yuba</td>\n",
       "      <td>2019</td>\n",
       "      <td>Under 18</td>\n",
       "      <td>Sex</td>\n",
       "      <td>Male</td>\n",
       "      <td>59</td>\n",
       "      <td>52.9</td>\n",
       "      <td>7</td>\n",
       "      <td>28</td>\n",
       "    </tr>\n",
       "  </tbody>\n",
       "</table>\n",
       "<p>18909 rows × 11 columns</p>\n",
       "</div>"
      ],
      "text/plain": [
       "        index    LGHC Indicator Name   Geography  Year    Age Group  \\\n",
       "1 0         0  Asthma ED Visit Rates     Alameda  2015  18 and Over   \n",
       "  1         1  Asthma ED Visit Rates      Amador  2015  18 and Over   \n",
       "  2         2  Asthma ED Visit Rates       Butte  2015  18 and Over   \n",
       "  3         3  Asthma ED Visit Rates   Calaveras  2015  18 and Over   \n",
       "  4         4  Asthma ED Visit Rates  California  2015  18 and Over   \n",
       "...       ...                    ...         ...   ...          ...   \n",
       "2 9479   9479  Asthma ED Visit Rates      Tulare  2019     Under 18   \n",
       "  9480   9480  Asthma ED Visit Rates    Tuolumne  2019     Under 18   \n",
       "  9481   9481  Asthma ED Visit Rates     Ventura  2019     Under 18   \n",
       "  9482   9482  Asthma ED Visit Rates        Yolo  2019     Under 18   \n",
       "  9483   9483  Asthma ED Visit Rates        Yuba  2019     Under 18   \n",
       "\n",
       "                  Strata  Strata Name Numerator  Rate  LGHC Indicator ID  \\\n",
       "1 0     Total Population  18 and Over     6,513  53.1                  7   \n",
       "  1     Total Population  18 and Over       151  49.1                  7   \n",
       "  2     Total Population  18 and Over       736  43.8                  7   \n",
       "  3     Total Population  18 and Over       139  42.7                  7   \n",
       "  4     Total Population  18 and Over   117,854  40.0                  7   \n",
       "...                  ...          ...       ...   ...                ...   \n",
       "2 9479               Sex         Male       597  81.2                  7   \n",
       "  9480               Sex         Male        37  90.0                  7   \n",
       "  9481               Sex         Male       602  61.0                  7   \n",
       "  9482               Sex         Male       135  52.4                  7   \n",
       "  9483               Sex         Male        59  52.9                  7   \n",
       "\n",
       "        LGHC Target Rate  \n",
       "1 0                   28  \n",
       "  1                   28  \n",
       "  2                   28  \n",
       "  3                   28  \n",
       "  4                   28  \n",
       "...                  ...  \n",
       "2 9479                28  \n",
       "  9480                28  \n",
       "  9481                28  \n",
       "  9482                28  \n",
       "  9483                28  \n",
       "\n",
       "[18909 rows x 11 columns]"
      ]
     },
     "execution_count": 3,
     "metadata": {},
     "output_type": "execute_result"
    }
   ],
   "source": [
    "df = []\n",
    "for f in file:\n",
    "    df_temp = pd.read_csv(f)\n",
    "    print(df_temp.shape)\n",
    "    df.append(df_temp)\n",
    "frame = pd.concat(df, keys = [1, 2])\n",
    "frame"
   ]
  },
  {
   "cell_type": "markdown",
   "id": "330a5cd8",
   "metadata": {
    "papermill": {
     "duration": 0.041577,
     "end_time": "2022-02-14T14:01:43.415861",
     "exception": false,
     "start_time": "2022-02-14T14:01:43.374284",
     "status": "completed"
    },
    "tags": []
   },
   "source": [
    "Before moving forward with the analysis it is impportant to know what types of variables are we dealing with. "
   ]
  },
  {
   "cell_type": "code",
   "execution_count": 4,
   "id": "b08091b8",
   "metadata": {
    "execution": {
     "iopub.execute_input": "2022-02-14T14:01:43.505607Z",
     "iopub.status.busy": "2022-02-14T14:01:43.504567Z",
     "iopub.status.idle": "2022-02-14T14:01:43.514406Z",
     "shell.execute_reply": "2022-02-14T14:01:43.514905Z",
     "shell.execute_reply.started": "2022-02-14T13:50:43.050565Z"
    },
    "papermill": {
     "duration": 0.057031,
     "end_time": "2022-02-14T14:01:43.515081",
     "exception": false,
     "start_time": "2022-02-14T14:01:43.458050",
     "status": "completed"
    },
    "tags": []
   },
   "outputs": [],
   "source": [
    "frame = frame.loc[1]"
   ]
  },
  {
   "cell_type": "code",
   "execution_count": 5,
   "id": "6c6f4eff",
   "metadata": {
    "execution": {
     "iopub.execute_input": "2022-02-14T14:01:43.602318Z",
     "iopub.status.busy": "2022-02-14T14:01:43.601714Z",
     "iopub.status.idle": "2022-02-14T14:01:43.626348Z",
     "shell.execute_reply": "2022-02-14T14:01:43.627063Z",
     "shell.execute_reply.started": "2022-02-14T13:50:43.606139Z"
    },
    "papermill": {
     "duration": 0.070438,
     "end_time": "2022-02-14T14:01:43.627290",
     "exception": false,
     "start_time": "2022-02-14T14:01:43.556852",
     "status": "completed"
    },
    "tags": []
   },
   "outputs": [
    {
     "name": "stdout",
     "output_type": "stream",
     "text": [
      "<class 'pandas.core.frame.DataFrame'>\n",
      "Int64Index: 9425 entries, 0 to 9424\n",
      "Data columns (total 11 columns):\n",
      " #   Column               Non-Null Count  Dtype  \n",
      "---  ------               --------------  -----  \n",
      " 0   index                9425 non-null   int64  \n",
      " 1   LGHC Indicator Name  9425 non-null   object \n",
      " 2   Geography            9425 non-null   object \n",
      " 3   Year                 9425 non-null   int64  \n",
      " 4   Age Group            9425 non-null   object \n",
      " 5   Strata               9425 non-null   object \n",
      " 6   Strata Name          9425 non-null   object \n",
      " 7   Numerator            9425 non-null   object \n",
      " 8   Rate                 9316 non-null   float64\n",
      " 9   LGHC Indicator ID    9425 non-null   int64  \n",
      " 10  LGHC Target Rate     9425 non-null   int64  \n",
      "dtypes: float64(1), int64(4), object(6)\n",
      "memory usage: 883.6+ KB\n"
     ]
    }
   ],
   "source": [
    "frame.info()"
   ]
  },
  {
   "cell_type": "markdown",
   "id": "275ae392",
   "metadata": {
    "papermill": {
     "duration": 0.0423,
     "end_time": "2022-02-14T14:01:43.712857",
     "exception": false,
     "start_time": "2022-02-14T14:01:43.670557",
     "status": "completed"
    },
    "tags": []
   },
   "source": [
    "Here we see that the column named **Numerator** is present as the object instead of the int64. So we need to convert this column type to numerator"
   ]
  },
  {
   "cell_type": "code",
   "execution_count": 6,
   "id": "4c7de1d5",
   "metadata": {
    "execution": {
     "iopub.execute_input": "2022-02-14T14:01:43.825199Z",
     "iopub.status.busy": "2022-02-14T14:01:43.810213Z",
     "iopub.status.idle": "2022-02-14T14:01:43.829760Z",
     "shell.execute_reply": "2022-02-14T14:01:43.829177Z",
     "shell.execute_reply.started": "2022-02-14T13:50:44.659653Z"
    },
    "papermill": {
     "duration": 0.074212,
     "end_time": "2022-02-14T14:01:43.829898",
     "exception": false,
     "start_time": "2022-02-14T14:01:43.755686",
     "status": "completed"
    },
    "tags": []
   },
   "outputs": [
    {
     "name": "stderr",
     "output_type": "stream",
     "text": [
      "/opt/conda/lib/python3.7/site-packages/ipykernel_launcher.py:1: SettingWithCopyWarning: \n",
      "A value is trying to be set on a copy of a slice from a DataFrame.\n",
      "Try using .loc[row_indexer,col_indexer] = value instead\n",
      "\n",
      "See the caveats in the documentation: https://pandas.pydata.org/pandas-docs/stable/user_guide/indexing.html#returning-a-view-versus-a-copy\n",
      "  \"\"\"Entry point for launching an IPython kernel.\n"
     ]
    },
    {
     "data": {
      "text/html": [
       "<div>\n",
       "<style scoped>\n",
       "    .dataframe tbody tr th:only-of-type {\n",
       "        vertical-align: middle;\n",
       "    }\n",
       "\n",
       "    .dataframe tbody tr th {\n",
       "        vertical-align: top;\n",
       "    }\n",
       "\n",
       "    .dataframe thead th {\n",
       "        text-align: right;\n",
       "    }\n",
       "</style>\n",
       "<table border=\"1\" class=\"dataframe\">\n",
       "  <thead>\n",
       "    <tr style=\"text-align: right;\">\n",
       "      <th></th>\n",
       "      <th>index</th>\n",
       "      <th>LGHC Indicator Name</th>\n",
       "      <th>Geography</th>\n",
       "      <th>Year</th>\n",
       "      <th>Age Group</th>\n",
       "      <th>Strata</th>\n",
       "      <th>Strata Name</th>\n",
       "      <th>Numerator</th>\n",
       "      <th>Rate</th>\n",
       "      <th>LGHC Indicator ID</th>\n",
       "      <th>LGHC Target Rate</th>\n",
       "    </tr>\n",
       "  </thead>\n",
       "  <tbody>\n",
       "    <tr>\n",
       "      <th>0</th>\n",
       "      <td>0</td>\n",
       "      <td>Asthma ED Visit Rates</td>\n",
       "      <td>Alameda</td>\n",
       "      <td>2015</td>\n",
       "      <td>18 and Over</td>\n",
       "      <td>Total Population</td>\n",
       "      <td>18 and Over</td>\n",
       "      <td>6513</td>\n",
       "      <td>53.1</td>\n",
       "      <td>7</td>\n",
       "      <td>28</td>\n",
       "    </tr>\n",
       "    <tr>\n",
       "      <th>1</th>\n",
       "      <td>1</td>\n",
       "      <td>Asthma ED Visit Rates</td>\n",
       "      <td>Amador</td>\n",
       "      <td>2015</td>\n",
       "      <td>18 and Over</td>\n",
       "      <td>Total Population</td>\n",
       "      <td>18 and Over</td>\n",
       "      <td>151</td>\n",
       "      <td>49.1</td>\n",
       "      <td>7</td>\n",
       "      <td>28</td>\n",
       "    </tr>\n",
       "    <tr>\n",
       "      <th>2</th>\n",
       "      <td>2</td>\n",
       "      <td>Asthma ED Visit Rates</td>\n",
       "      <td>Butte</td>\n",
       "      <td>2015</td>\n",
       "      <td>18 and Over</td>\n",
       "      <td>Total Population</td>\n",
       "      <td>18 and Over</td>\n",
       "      <td>736</td>\n",
       "      <td>43.8</td>\n",
       "      <td>7</td>\n",
       "      <td>28</td>\n",
       "    </tr>\n",
       "    <tr>\n",
       "      <th>3</th>\n",
       "      <td>3</td>\n",
       "      <td>Asthma ED Visit Rates</td>\n",
       "      <td>Calaveras</td>\n",
       "      <td>2015</td>\n",
       "      <td>18 and Over</td>\n",
       "      <td>Total Population</td>\n",
       "      <td>18 and Over</td>\n",
       "      <td>139</td>\n",
       "      <td>42.7</td>\n",
       "      <td>7</td>\n",
       "      <td>28</td>\n",
       "    </tr>\n",
       "    <tr>\n",
       "      <th>4</th>\n",
       "      <td>4</td>\n",
       "      <td>Asthma ED Visit Rates</td>\n",
       "      <td>California</td>\n",
       "      <td>2015</td>\n",
       "      <td>18 and Over</td>\n",
       "      <td>Total Population</td>\n",
       "      <td>18 and Over</td>\n",
       "      <td>117854</td>\n",
       "      <td>40.0</td>\n",
       "      <td>7</td>\n",
       "      <td>28</td>\n",
       "    </tr>\n",
       "    <tr>\n",
       "      <th>...</th>\n",
       "      <td>...</td>\n",
       "      <td>...</td>\n",
       "      <td>...</td>\n",
       "      <td>...</td>\n",
       "      <td>...</td>\n",
       "      <td>...</td>\n",
       "      <td>...</td>\n",
       "      <td>...</td>\n",
       "      <td>...</td>\n",
       "      <td>...</td>\n",
       "      <td>...</td>\n",
       "    </tr>\n",
       "    <tr>\n",
       "      <th>9420</th>\n",
       "      <td>9420</td>\n",
       "      <td>Asthma ED Visit Rates</td>\n",
       "      <td>Tulare</td>\n",
       "      <td>2019</td>\n",
       "      <td>Under 18</td>\n",
       "      <td>Sex</td>\n",
       "      <td>Male</td>\n",
       "      <td>597</td>\n",
       "      <td>81.2</td>\n",
       "      <td>7</td>\n",
       "      <td>28</td>\n",
       "    </tr>\n",
       "    <tr>\n",
       "      <th>9421</th>\n",
       "      <td>9421</td>\n",
       "      <td>Asthma ED Visit Rates</td>\n",
       "      <td>Tuolumne</td>\n",
       "      <td>2019</td>\n",
       "      <td>Under 18</td>\n",
       "      <td>Sex</td>\n",
       "      <td>Male</td>\n",
       "      <td>37</td>\n",
       "      <td>90.0</td>\n",
       "      <td>7</td>\n",
       "      <td>28</td>\n",
       "    </tr>\n",
       "    <tr>\n",
       "      <th>9422</th>\n",
       "      <td>9422</td>\n",
       "      <td>Asthma ED Visit Rates</td>\n",
       "      <td>Ventura</td>\n",
       "      <td>2019</td>\n",
       "      <td>Under 18</td>\n",
       "      <td>Sex</td>\n",
       "      <td>Male</td>\n",
       "      <td>602</td>\n",
       "      <td>61.0</td>\n",
       "      <td>7</td>\n",
       "      <td>28</td>\n",
       "    </tr>\n",
       "    <tr>\n",
       "      <th>9423</th>\n",
       "      <td>9423</td>\n",
       "      <td>Asthma ED Visit Rates</td>\n",
       "      <td>Yolo</td>\n",
       "      <td>2019</td>\n",
       "      <td>Under 18</td>\n",
       "      <td>Sex</td>\n",
       "      <td>Male</td>\n",
       "      <td>135</td>\n",
       "      <td>52.4</td>\n",
       "      <td>7</td>\n",
       "      <td>28</td>\n",
       "    </tr>\n",
       "    <tr>\n",
       "      <th>9424</th>\n",
       "      <td>9424</td>\n",
       "      <td>Asthma ED Visit Rates</td>\n",
       "      <td>Yuba</td>\n",
       "      <td>2019</td>\n",
       "      <td>Under 18</td>\n",
       "      <td>Sex</td>\n",
       "      <td>Male</td>\n",
       "      <td>59</td>\n",
       "      <td>52.9</td>\n",
       "      <td>7</td>\n",
       "      <td>28</td>\n",
       "    </tr>\n",
       "  </tbody>\n",
       "</table>\n",
       "<p>9425 rows × 11 columns</p>\n",
       "</div>"
      ],
      "text/plain": [
       "      index    LGHC Indicator Name   Geography  Year    Age Group  \\\n",
       "0         0  Asthma ED Visit Rates     Alameda  2015  18 and Over   \n",
       "1         1  Asthma ED Visit Rates      Amador  2015  18 and Over   \n",
       "2         2  Asthma ED Visit Rates       Butte  2015  18 and Over   \n",
       "3         3  Asthma ED Visit Rates   Calaveras  2015  18 and Over   \n",
       "4         4  Asthma ED Visit Rates  California  2015  18 and Over   \n",
       "...     ...                    ...         ...   ...          ...   \n",
       "9420   9420  Asthma ED Visit Rates      Tulare  2019     Under 18   \n",
       "9421   9421  Asthma ED Visit Rates    Tuolumne  2019     Under 18   \n",
       "9422   9422  Asthma ED Visit Rates     Ventura  2019     Under 18   \n",
       "9423   9423  Asthma ED Visit Rates        Yolo  2019     Under 18   \n",
       "9424   9424  Asthma ED Visit Rates        Yuba  2019     Under 18   \n",
       "\n",
       "                Strata  Strata Name  Numerator  Rate  LGHC Indicator ID  \\\n",
       "0     Total Population  18 and Over       6513  53.1                  7   \n",
       "1     Total Population  18 and Over        151  49.1                  7   \n",
       "2     Total Population  18 and Over        736  43.8                  7   \n",
       "3     Total Population  18 and Over        139  42.7                  7   \n",
       "4     Total Population  18 and Over     117854  40.0                  7   \n",
       "...                ...          ...        ...   ...                ...   \n",
       "9420               Sex         Male        597  81.2                  7   \n",
       "9421               Sex         Male         37  90.0                  7   \n",
       "9422               Sex         Male        602  61.0                  7   \n",
       "9423               Sex         Male        135  52.4                  7   \n",
       "9424               Sex         Male         59  52.9                  7   \n",
       "\n",
       "      LGHC Target Rate  \n",
       "0                   28  \n",
       "1                   28  \n",
       "2                   28  \n",
       "3                   28  \n",
       "4                   28  \n",
       "...                ...  \n",
       "9420                28  \n",
       "9421                28  \n",
       "9422                28  \n",
       "9423                28  \n",
       "9424                28  \n",
       "\n",
       "[9425 rows x 11 columns]"
      ]
     },
     "execution_count": 6,
     "metadata": {},
     "output_type": "execute_result"
    }
   ],
   "source": [
    "frame[\"Numerator\"] = frame[\"Numerator\"].str.replace(\",\", \"\").astype(int)\n",
    "frame"
   ]
  },
  {
   "cell_type": "code",
   "execution_count": 7,
   "id": "9c3b6432",
   "metadata": {
    "execution": {
     "iopub.execute_input": "2022-02-14T14:01:43.923801Z",
     "iopub.status.busy": "2022-02-14T14:01:43.923188Z",
     "iopub.status.idle": "2022-02-14T14:01:43.929714Z",
     "shell.execute_reply": "2022-02-14T14:01:43.929228Z",
     "shell.execute_reply.started": "2022-02-14T13:50:45.343435Z"
    },
    "papermill": {
     "duration": 0.056869,
     "end_time": "2022-02-14T14:01:43.929865",
     "exception": false,
     "start_time": "2022-02-14T14:01:43.872996",
     "status": "completed"
    },
    "tags": []
   },
   "outputs": [
    {
     "data": {
      "text/plain": [
       "index                    0\n",
       "LGHC Indicator Name      0\n",
       "Geography                0\n",
       "Year                     0\n",
       "Age Group                0\n",
       "Strata                   0\n",
       "Strata Name              0\n",
       "Numerator                0\n",
       "Rate                   109\n",
       "LGHC Indicator ID        0\n",
       "LGHC Target Rate         0\n",
       "dtype: int64"
      ]
     },
     "execution_count": 7,
     "metadata": {},
     "output_type": "execute_result"
    }
   ],
   "source": [
    "# check for null values\n",
    "frame.isnull().sum()"
   ]
  },
  {
   "cell_type": "code",
   "execution_count": 8,
   "id": "484e4027",
   "metadata": {
    "execution": {
     "iopub.execute_input": "2022-02-14T14:01:44.021525Z",
     "iopub.status.busy": "2022-02-14T14:01:44.020944Z",
     "iopub.status.idle": "2022-02-14T14:01:44.034947Z",
     "shell.execute_reply": "2022-02-14T14:01:44.035382Z",
     "shell.execute_reply.started": "2022-02-14T13:50:46.080988Z"
    },
    "papermill": {
     "duration": 0.061933,
     "end_time": "2022-02-14T14:01:44.035577",
     "exception": false,
     "start_time": "2022-02-14T14:01:43.973644",
     "status": "completed"
    },
    "tags": []
   },
   "outputs": [
    {
     "name": "stdout",
     "output_type": "stream",
     "text": [
      "<class 'pandas.core.frame.DataFrame'>\n",
      "Int64Index: 9425 entries, 0 to 9424\n",
      "Data columns (total 11 columns):\n",
      " #   Column               Non-Null Count  Dtype  \n",
      "---  ------               --------------  -----  \n",
      " 0   index                9425 non-null   int64  \n",
      " 1   LGHC Indicator Name  9425 non-null   object \n",
      " 2   Geography            9425 non-null   object \n",
      " 3   Year                 9425 non-null   int64  \n",
      " 4   Age Group            9425 non-null   object \n",
      " 5   Strata               9425 non-null   object \n",
      " 6   Strata Name          9425 non-null   object \n",
      " 7   Numerator            9425 non-null   int64  \n",
      " 8   Rate                 9316 non-null   float64\n",
      " 9   LGHC Indicator ID    9425 non-null   int64  \n",
      " 10  LGHC Target Rate     9425 non-null   int64  \n",
      "dtypes: float64(1), int64(5), object(5)\n",
      "memory usage: 883.6+ KB\n"
     ]
    }
   ],
   "source": [
    "frame.info()"
   ]
  },
  {
   "cell_type": "markdown",
   "id": "4c765787",
   "metadata": {
    "papermill": {
     "duration": 0.044214,
     "end_time": "2022-02-14T14:01:44.124251",
     "exception": false,
     "start_time": "2022-02-14T14:01:44.080037",
     "status": "completed"
    },
    "tags": []
   },
   "source": [
    "Now let us divide our variable as continious or categorical. From the dataframe we obtain the following results:\n",
    "1. Categorical variables:<br>\n",
    "    a. Strata Name<br>\n",
    "    b. Age Group<br>\n",
    "    c. Strata<br>\n",
    "    d. Geography<br>\n",
    "2. Continious variables: <br>\n",
    "    a. Numerator<br>\n",
    "    b. Rate<br>"
   ]
  },
  {
   "cell_type": "markdown",
   "id": "de5b059a",
   "metadata": {
    "papermill": {
     "duration": 0.044102,
     "end_time": "2022-02-14T14:01:44.212798",
     "exception": false,
     "start_time": "2022-02-14T14:01:44.168696",
     "status": "completed"
    },
    "tags": []
   },
   "source": [
    "# Univariate Analysis\n",
    "The methods to perform univariate analysis depends on the type of variables. If they are continoius or categorical variable. There are 3 types of statistics that we are intrested in each univariable variable.\n",
    "1. General information: datatype, number of unique values, count of values etc\n",
    "2. Range and middle: mean, median, mode, min, max, quartile\n",
    "3. Normality and spread: standard deviation, skewness, kurtosis\n",
    "\n",
    "The normality of the variable provide its feseability for the predictive analysis. If the variable spread is Gaussian then it will have no outliers and no skewness and we can say that is it stable"
   ]
  },
  {
   "cell_type": "code",
   "execution_count": 9,
   "id": "3e67776a",
   "metadata": {
    "execution": {
     "iopub.execute_input": "2022-02-14T14:01:44.305958Z",
     "iopub.status.busy": "2022-02-14T14:01:44.305196Z",
     "iopub.status.idle": "2022-02-14T14:01:44.320796Z",
     "shell.execute_reply": "2022-02-14T14:01:44.321270Z",
     "shell.execute_reply.started": "2022-02-14T13:50:47.744144Z"
    },
    "papermill": {
     "duration": 0.064531,
     "end_time": "2022-02-14T14:01:44.321435",
     "exception": false,
     "start_time": "2022-02-14T14:01:44.256904",
     "status": "completed"
    },
    "tags": []
   },
   "outputs": [
    {
     "name": "stdout",
     "output_type": "stream",
     "text": [
      "The unique values for index column: \n",
      " [   0    1    2 ... 9422 9423 9424]\n",
      "\n",
      "The unique values for LGHC Indicator Name column: \n",
      " ['Asthma ED Visit Rates']\n",
      "\n",
      "The unique values for Geography column: \n",
      " ['Alameda' 'Amador' 'Butte' 'Calaveras' 'California' 'Colusa'\n",
      " 'Contra Costa' 'Del Norte' 'El Dorado' 'Fresno' 'Glenn' 'Humboldt'\n",
      " 'Imperial' 'Inyo' 'Kern' 'Kings' 'Lake' 'Lassen' 'Los Angeles' 'Madera'\n",
      " 'Marin' 'Mariposa' 'Mendocino' 'Merced' 'Modoc' 'Mono' 'Monterey' 'Napa'\n",
      " 'Nevada' 'Orange' 'Placer' 'Plumas' 'Riverside' 'Sacramento' 'San Benito'\n",
      " 'San Bernardino' 'San Diego' 'San Francisco' 'San Joaquin'\n",
      " 'San Luis Obispo' 'San Mateo' 'Santa Barbara' 'Santa Clara' 'Santa Cruz'\n",
      " 'Shasta' 'Siskiyou' 'Solano' 'Sonoma' 'Stanislaus' 'Sutter' 'Tehama'\n",
      " 'Trinity' 'Tulare' 'Tuolumne' 'Ventura' 'Yolo' 'Yuba' 'Sierra' 'Humbolt']\n",
      "\n",
      "The unique values for Year column: \n",
      " [2015 2014 2013 2012 2011 2016 2017 2018 2019 2021 2020]\n",
      "\n",
      "The unique values for Age Group column: \n",
      " ['18 and Over' 'All Ages' 'Under 18' 'Under 20' 'Under 19']\n",
      "\n",
      "The unique values for Strata column: \n",
      " ['Total Population' 'Race-Ethnicity' 'Sex']\n",
      "\n",
      "The unique values for Strata Name column: \n",
      " ['18 and Over' 'African-American' 'American Indian/Alaskan Native'\n",
      " 'Asian/Pacific Islander' 'Hispanic' 'White' 'Female' 'Male' 'All Ages'\n",
      " 'Under 18']\n",
      "\n",
      "The unique values for Numerator column: \n",
      " [ 6513   151   736 ... 10895  2407   661]\n",
      "\n",
      "The unique values for Rate column: \n",
      " [ 53.1  49.1  43.8 ...  92.5 157.6 128.5]\n",
      "\n",
      "The unique values for LGHC Indicator ID column: \n",
      " [7]\n",
      "\n",
      "The unique values for LGHC Target Rate column: \n",
      " [28]\n",
      "\n"
     ]
    }
   ],
   "source": [
    "# general information\n",
    "for i in frame.columns:\n",
    "    print(f\"The unique values for {i} column: \\n\", frame[i].unique())\n",
    "    print()\n",
    "    "
   ]
  },
  {
   "cell_type": "code",
   "execution_count": 10,
   "id": "94e85818",
   "metadata": {
    "execution": {
     "iopub.execute_input": "2022-02-14T14:01:44.412560Z",
     "iopub.status.busy": "2022-02-14T14:01:44.411989Z",
     "iopub.status.idle": "2022-02-14T14:01:44.439326Z",
     "shell.execute_reply": "2022-02-14T14:01:44.439744Z",
     "shell.execute_reply.started": "2022-02-14T13:50:48.304504Z"
    },
    "papermill": {
     "duration": 0.074243,
     "end_time": "2022-02-14T14:01:44.439916",
     "exception": false,
     "start_time": "2022-02-14T14:01:44.365673",
     "status": "completed"
    },
    "tags": []
   },
   "outputs": [
    {
     "data": {
      "text/html": [
       "<div>\n",
       "<style scoped>\n",
       "    .dataframe tbody tr th:only-of-type {\n",
       "        vertical-align: middle;\n",
       "    }\n",
       "\n",
       "    .dataframe tbody tr th {\n",
       "        vertical-align: top;\n",
       "    }\n",
       "\n",
       "    .dataframe thead th {\n",
       "        text-align: right;\n",
       "    }\n",
       "</style>\n",
       "<table border=\"1\" class=\"dataframe\">\n",
       "  <thead>\n",
       "    <tr style=\"text-align: right;\">\n",
       "      <th></th>\n",
       "      <th>index</th>\n",
       "      <th>Year</th>\n",
       "      <th>Numerator</th>\n",
       "      <th>Rate</th>\n",
       "      <th>LGHC Indicator ID</th>\n",
       "      <th>LGHC Target Rate</th>\n",
       "    </tr>\n",
       "  </thead>\n",
       "  <tbody>\n",
       "    <tr>\n",
       "      <th>count</th>\n",
       "      <td>9425.000000</td>\n",
       "      <td>9425.000000</td>\n",
       "      <td>9425.000000</td>\n",
       "      <td>9316.000000</td>\n",
       "      <td>9425.0</td>\n",
       "      <td>9425.0</td>\n",
       "    </tr>\n",
       "    <tr>\n",
       "      <th>mean</th>\n",
       "      <td>4712.000000</td>\n",
       "      <td>2015.013687</td>\n",
       "      <td>2014.324562</td>\n",
       "      <td>67.205603</td>\n",
       "      <td>7.0</td>\n",
       "      <td>28.0</td>\n",
       "    </tr>\n",
       "    <tr>\n",
       "      <th>std</th>\n",
       "      <td>2720.907477</td>\n",
       "      <td>2.573933</td>\n",
       "      <td>9453.381439</td>\n",
       "      <td>86.222507</td>\n",
       "      <td>0.0</td>\n",
       "      <td>0.0</td>\n",
       "    </tr>\n",
       "    <tr>\n",
       "      <th>min</th>\n",
       "      <td>0.000000</td>\n",
       "      <td>2011.000000</td>\n",
       "      <td>7.000000</td>\n",
       "      <td>6.000000</td>\n",
       "      <td>7.0</td>\n",
       "      <td>28.0</td>\n",
       "    </tr>\n",
       "    <tr>\n",
       "      <th>25%</th>\n",
       "      <td>2356.000000</td>\n",
       "      <td>2013.000000</td>\n",
       "      <td>58.000000</td>\n",
       "      <td>34.000000</td>\n",
       "      <td>7.0</td>\n",
       "      <td>28.0</td>\n",
       "    </tr>\n",
       "    <tr>\n",
       "      <th>50%</th>\n",
       "      <td>4712.000000</td>\n",
       "      <td>2015.000000</td>\n",
       "      <td>257.000000</td>\n",
       "      <td>49.100000</td>\n",
       "      <td>7.0</td>\n",
       "      <td>28.0</td>\n",
       "    </tr>\n",
       "    <tr>\n",
       "      <th>75%</th>\n",
       "      <td>7068.000000</td>\n",
       "      <td>2017.000000</td>\n",
       "      <td>959.000000</td>\n",
       "      <td>71.700000</td>\n",
       "      <td>7.0</td>\n",
       "      <td>28.0</td>\n",
       "    </tr>\n",
       "    <tr>\n",
       "      <th>max</th>\n",
       "      <td>9424.000000</td>\n",
       "      <td>2021.000000</td>\n",
       "      <td>191904.000000</td>\n",
       "      <td>4564.100000</td>\n",
       "      <td>7.0</td>\n",
       "      <td>28.0</td>\n",
       "    </tr>\n",
       "  </tbody>\n",
       "</table>\n",
       "</div>"
      ],
      "text/plain": [
       "             index         Year      Numerator         Rate  \\\n",
       "count  9425.000000  9425.000000    9425.000000  9316.000000   \n",
       "mean   4712.000000  2015.013687    2014.324562    67.205603   \n",
       "std    2720.907477     2.573933    9453.381439    86.222507   \n",
       "min       0.000000  2011.000000       7.000000     6.000000   \n",
       "25%    2356.000000  2013.000000      58.000000    34.000000   \n",
       "50%    4712.000000  2015.000000     257.000000    49.100000   \n",
       "75%    7068.000000  2017.000000     959.000000    71.700000   \n",
       "max    9424.000000  2021.000000  191904.000000  4564.100000   \n",
       "\n",
       "       LGHC Indicator ID  LGHC Target Rate  \n",
       "count             9425.0            9425.0  \n",
       "mean                 7.0              28.0  \n",
       "std                  0.0               0.0  \n",
       "min                  7.0              28.0  \n",
       "25%                  7.0              28.0  \n",
       "50%                  7.0              28.0  \n",
       "75%                  7.0              28.0  \n",
       "max                  7.0              28.0  "
      ]
     },
     "execution_count": 10,
     "metadata": {},
     "output_type": "execute_result"
    }
   ],
   "source": [
    "# range and middle (descriptive statistics)\n",
    "# only numerical variables are included\n",
    "frame.describe()"
   ]
  },
  {
   "cell_type": "code",
   "execution_count": 11,
   "id": "84077b60",
   "metadata": {
    "execution": {
     "iopub.execute_input": "2022-02-14T14:01:44.532925Z",
     "iopub.status.busy": "2022-02-14T14:01:44.532291Z",
     "iopub.status.idle": "2022-02-14T14:01:44.553681Z",
     "shell.execute_reply": "2022-02-14T14:01:44.554112Z",
     "shell.execute_reply.started": "2022-02-14T13:50:48.881782Z"
    },
    "papermill": {
     "duration": 0.069422,
     "end_time": "2022-02-14T14:01:44.554287",
     "exception": false,
     "start_time": "2022-02-14T14:01:44.484865",
     "status": "completed"
    },
    "tags": []
   },
   "outputs": [
    {
     "data": {
      "text/html": [
       "<div>\n",
       "<style scoped>\n",
       "    .dataframe tbody tr th:only-of-type {\n",
       "        vertical-align: middle;\n",
       "    }\n",
       "\n",
       "    .dataframe tbody tr th {\n",
       "        vertical-align: top;\n",
       "    }\n",
       "\n",
       "    .dataframe thead th {\n",
       "        text-align: right;\n",
       "    }\n",
       "</style>\n",
       "<table border=\"1\" class=\"dataframe\">\n",
       "  <thead>\n",
       "    <tr style=\"text-align: right;\">\n",
       "      <th></th>\n",
       "      <th>Numerator</th>\n",
       "      <th>Rate</th>\n",
       "      <th>LGHC Indicator ID</th>\n",
       "      <th>LGHC Target Rate</th>\n",
       "    </tr>\n",
       "  </thead>\n",
       "  <tbody>\n",
       "    <tr>\n",
       "      <th>count</th>\n",
       "      <td>9425.000000</td>\n",
       "      <td>9316.000000</td>\n",
       "      <td>9425.0</td>\n",
       "      <td>9425.0</td>\n",
       "    </tr>\n",
       "    <tr>\n",
       "      <th>mean</th>\n",
       "      <td>2014.324562</td>\n",
       "      <td>67.205603</td>\n",
       "      <td>7.0</td>\n",
       "      <td>28.0</td>\n",
       "    </tr>\n",
       "    <tr>\n",
       "      <th>std</th>\n",
       "      <td>9453.381439</td>\n",
       "      <td>86.222507</td>\n",
       "      <td>0.0</td>\n",
       "      <td>0.0</td>\n",
       "    </tr>\n",
       "    <tr>\n",
       "      <th>min</th>\n",
       "      <td>7.000000</td>\n",
       "      <td>6.000000</td>\n",
       "      <td>7.0</td>\n",
       "      <td>28.0</td>\n",
       "    </tr>\n",
       "    <tr>\n",
       "      <th>25%</th>\n",
       "      <td>58.000000</td>\n",
       "      <td>34.000000</td>\n",
       "      <td>7.0</td>\n",
       "      <td>28.0</td>\n",
       "    </tr>\n",
       "    <tr>\n",
       "      <th>50%</th>\n",
       "      <td>257.000000</td>\n",
       "      <td>49.100000</td>\n",
       "      <td>7.0</td>\n",
       "      <td>28.0</td>\n",
       "    </tr>\n",
       "    <tr>\n",
       "      <th>75%</th>\n",
       "      <td>959.000000</td>\n",
       "      <td>71.700000</td>\n",
       "      <td>7.0</td>\n",
       "      <td>28.0</td>\n",
       "    </tr>\n",
       "    <tr>\n",
       "      <th>max</th>\n",
       "      <td>191904.000000</td>\n",
       "      <td>4564.100000</td>\n",
       "      <td>7.0</td>\n",
       "      <td>28.0</td>\n",
       "    </tr>\n",
       "  </tbody>\n",
       "</table>\n",
       "</div>"
      ],
      "text/plain": [
       "           Numerator         Rate  LGHC Indicator ID  LGHC Target Rate\n",
       "count    9425.000000  9316.000000             9425.0            9425.0\n",
       "mean     2014.324562    67.205603                7.0              28.0\n",
       "std      9453.381439    86.222507                0.0               0.0\n",
       "min         7.000000     6.000000                7.0              28.0\n",
       "25%        58.000000    34.000000                7.0              28.0\n",
       "50%       257.000000    49.100000                7.0              28.0\n",
       "75%       959.000000    71.700000                7.0              28.0\n",
       "max    191904.000000  4564.100000                7.0              28.0"
      ]
     },
     "execution_count": 11,
     "metadata": {},
     "output_type": "execute_result"
    }
   ],
   "source": [
    "# We can select what numerical varaibles we need in our descriptive analysis\n",
    "frame[[\"Numerator\", \"Rate\", \"LGHC Indicator ID\", \"LGHC Target Rate\"]].describe()"
   ]
  },
  {
   "cell_type": "markdown",
   "id": "6c26fe5c",
   "metadata": {
    "papermill": {
     "duration": 0.047224,
     "end_time": "2022-02-14T14:01:44.648759",
     "exception": false,
     "start_time": "2022-02-14T14:01:44.601535",
     "status": "completed"
    },
    "tags": []
   },
   "source": [
    "Breif overview of the different functions:\n",
    "1. **count**: total number of variable present under each column\n",
    "2. **mean**: it is the aruthmetic mean or average of total variable\n",
    "3. **std**: As the names says deviation from the standard line. It tells you how spread out the data is from the mean\n",
    "4. **min**: the lowest value in all variable under given column\n",
    "5.**25%**, **50%**, **75%**: the qurtiles telling amount of data under each as per their values\n",
    "6. **max**: the highest value in all variable under given column"
   ]
  },
  {
   "cell_type": "code",
   "execution_count": 12,
   "id": "8b8cfc19",
   "metadata": {
    "execution": {
     "iopub.execute_input": "2022-02-14T14:01:44.745974Z",
     "iopub.status.busy": "2022-02-14T14:01:44.745324Z",
     "iopub.status.idle": "2022-02-14T14:01:44.752545Z",
     "shell.execute_reply": "2022-02-14T14:01:44.751867Z",
     "shell.execute_reply.started": "2022-02-14T13:50:50.264633Z"
    },
    "papermill": {
     "duration": 0.05872,
     "end_time": "2022-02-14T14:01:44.752763",
     "exception": false,
     "start_time": "2022-02-14T14:01:44.694043",
     "status": "completed"
    },
    "tags": []
   },
   "outputs": [
    {
     "name": "stdout",
     "output_type": "stream",
     "text": [
      "The value of median for column Numerator: \n",
      " 257.0\n",
      "The value of median for column Rate: \n",
      " 49.1\n",
      "The value of median for column LGHC Indicator ID: \n",
      " 7.0\n",
      "The value of median for column LGHC Target Rate: \n",
      " 28.0\n"
     ]
    }
   ],
   "source": [
    "for i in frame[[\"Numerator\", \"Rate\", \"LGHC Indicator ID\", \"LGHC Target Rate\"]]:\n",
    "    print(f\"The value of median for column {i}: \\n\", frame[i].median())"
   ]
  },
  {
   "cell_type": "markdown",
   "id": "563c6ee5",
   "metadata": {
    "papermill": {
     "duration": 0.045662,
     "end_time": "2022-02-14T14:01:44.845328",
     "exception": false,
     "start_time": "2022-02-14T14:01:44.799666",
     "status": "completed"
    },
    "tags": []
   },
   "source": [
    "Observations:\n",
    "1. We can see that some rows are missing RATE column as we calculated above.\n",
    "2. The 25% quartile represent that out of 100 records 25 records have value less than the give value at 25% in the dataset\n",
    "3. The value for 50% and median are same"
   ]
  },
  {
   "cell_type": "code",
   "execution_count": 13,
   "id": "debf89f1",
   "metadata": {
    "execution": {
     "iopub.execute_input": "2022-02-14T14:01:44.942461Z",
     "iopub.status.busy": "2022-02-14T14:01:44.941818Z",
     "iopub.status.idle": "2022-02-14T14:01:47.247565Z",
     "shell.execute_reply": "2022-02-14T14:01:47.248056Z",
     "shell.execute_reply.started": "2022-02-14T13:50:51.482729Z"
    },
    "papermill": {
     "duration": 2.357231,
     "end_time": "2022-02-14T14:01:47.248232",
     "exception": false,
     "start_time": "2022-02-14T14:01:44.891001",
     "status": "completed"
    },
    "tags": []
   },
   "outputs": [
    {
     "data": {
      "text/html": [
       "        <script type=\"text/javascript\">\n",
       "        window.PlotlyConfig = {MathJaxConfig: 'local'};\n",
       "        if (window.MathJax) {MathJax.Hub.Config({SVG: {font: \"STIX-Web\"}});}\n",
       "        if (typeof require !== 'undefined') {\n",
       "        require.undef(\"plotly\");\n",
       "        requirejs.config({\n",
       "            paths: {\n",
       "                'plotly': ['https://cdn.plot.ly/plotly-2.8.3.min']\n",
       "            }\n",
       "        });\n",
       "        require(['plotly'], function(Plotly) {\n",
       "            window._Plotly = Plotly;\n",
       "        });\n",
       "        }\n",
       "        </script>\n",
       "        "
      ]
     },
     "metadata": {},
     "output_type": "display_data"
    },
    {
     "data": {
      "text/html": [
       "<div>                            <div id=\"24c03715-5ef4-413b-bd29-d4fe88d775d2\" class=\"plotly-graph-div\" style=\"height:525px; width:100%;\"></div>            <script type=\"text/javascript\">                require([\"plotly\"], function(Plotly) {                    window.PLOTLYENV=window.PLOTLYENV || {};                                    if (document.getElementById(\"24c03715-5ef4-413b-bd29-d4fe88d775d2\")) {                    Plotly.newPlot(                        \"24c03715-5ef4-413b-bd29-d4fe88d775d2\",                        [{\"alignmentgroup\":\"True\",\"hovertemplate\":\"Numerator=%{x}<extra></extra>\",\"legendgroup\":\"\",\"marker\":{\"color\":\"#636efa\"},\"name\":\"\",\"notched\":false,\"offsetgroup\":\"\",\"orientation\":\"h\",\"showlegend\":false,\"x\":[6513,151,736,139,117854,49,4528,91,422,3454,83,682,651,55,3293,635,363,115,31687,445,374,69,349,1315,34,27,1224,382,272,5996,788,78,6194,6824,170,7742,7030,2291,2934,629,1869,1045,4545,567,715,133,2274,1350,2045,216,195,60,1278,203,1662,561,215,2930,63,25317,1474,14,312,36,31,610,89,18,8744,36,37,186,91,14,398,22,1236,2275,1767,1296,808,703,33,94,87,499,17,17,804,65,232,11,42,82,42,18,136,537,36,42,30,29,42,18,13,20,19,14,617,12,6454,268,91,50,1690,19,19,68,23,526,30,107,509,145,433,319,219,265,22,607,13,151,25,39,23,15,48,35,11,1071,13,64,13,37997,20,998,60,1746,18,24,489,1216,241,51,13143,244,55,39,602,623,75,1855,79,21,2226,1106,102,2647,1977,350,868,95,761,430,1797,172,21,349,216,676,48,37,451,651,176,21,1259,128,565,122,41407,23,1497,78,241,1220,57,535,116,43,1317,280,271,102,6748,141,252,62,280,479,29,21,373,253,257,2957,620,48,2355,2512,63,2599,2785,660,1005,472,607,491,1418,365,631,106,834,965,978,122,148,55,358,182,826,282,153,3828,113,439,96,73315,27,2852,69,283,2251,51,397,397,36,2083,424,239,72,19745,292,221,46,208,838,27,15,793,254,198,3668,520,45,3889,4216,104,4884,4469,1307,1798,398,1088,654,2730,287,454,71,1474,851,1302,136,122,26,816,136,1057,349,126,2685,38,297,43,44533,22,1675,22,139,1203,32,285,254,19,1210,211,124,43,11939,153,153,23,141,477,12,431,128,74,2328,268,33,2304,2608,66,2858,2560,984,1136,231,781,391,1815,280,261,62,800,499,743,80,73,34,462,67,605,212,89,9939,196,1044,185,191904,97,6858,140,592,7936,122,835,1388,88,5859,1250,478,148,52227,1031,541,79,479,2425,53,43,2194,572,351,10275,1125,99,10111,10109,285,12761,11646,3141,4802,950,2695,1734,6521,910,1015,9,176,3415,1936,3281,337,323,67,2542,257,2933,852,346,185,765,13,11,49,12,51,19,13,44,43,69,25,19,28,12,21,23,957,19,9676,401,12,237,79,11,2360,25,33,86,34,814,42,182,749,214,668,498,328,11,361,38,943,20,212,32,59,31,23,76,58,14,4051,91,38416,2150,775,49,48,1039,167,21,13260,70,54,13,284,135,26,610,43,1996,3440,2935,1883,994,1194,45,132,115,602,22,24,1228,97,379,21,70,11,156,62,29,2263,24,121,21,77639,54,1937,15,101,4827,39,40,1139,23,2694,592,79,25709,704,118,82,1355,16,1393,168,14,4274,137,21,4192,2046,183,5105,4392,593,1699,236,1154,921,2872,441,64,12,656,508,1296,91,77,1273,15,1443,313,62,1549,161,764,156,54967,37,1906,110,318,1951,73,634,174,52,1851,444,344,126,8625,229,324,69,348,702,42,27,464,318,329,4025,843,68,3279,3266,92,3552,3698,816,1335,613,805,632,1753,428,852,136,1082,1196,1370,176,227,62,482,224,1162,378,226,5154,129,563,115,100117,41,3758,93,361,3971,65,462,686,48,2970,620,285,83,26869,525,275,50,246,1251,34,24,1125,332,221,5157,659,52,5333,5440,140,6648,6187,1641,2479,517,1407,927,3425,420,579,85,1935,1070,1718,179,173,30,1212,158,1523,453,169,4785,67,481,70,91780,56,3099,47,231,3965,57,373,702,40,2889,630,193,65,25355,506,266,29,233,1174,19,19,1069,240,130,5118,466,47,4777,4669,145,6113,5458,1500,2323,433,1288,807,3096,489,436,91,1480,866,1563,158,150,37,1330,99,1410,399,177,3426,45,308,46,74050,48,2330,49,170,4482,39,153,737,33,2566,615,115,33,20540,586,167,130,1110,19,16,970,190,79,4279,337,21,3917,3285,115,5019,4616,850,1868,321,826,689,1976,343,300,43,1141,586,1236,121,128,1264,54,1271,291,131,1121,28,13099,676,463,17,429,78,4516,34,17,98,44,212,21,760,1165,1168,587,186,491,38,28,103,424,32,147,28,74,20,11,49,228,13,14,14,27,340,3222,133,146,29,670,14,18,11,288,12,75,240,69,235,179,109,96,16,336,61,20,28,23,2263,24,121,21,39642,54,1937,15,101,4827,39,40,1139,23,2694,592,79,25709,704,118,82,1355,16,1393,168,14,4274,137,21,4192,2046,183,5105,4392,593,1699,236,1154,921,2872,441,64,12,656,508,1296,91,77,1273,15,1443,313,62,290,33,199,34,13560,14,409,32,77,731,16,99,58,534,164,73,24,1877,88,72,68,223,13,91,65,72,1068,223,20,924,754,29,953,913,156,330,141,198,141,335,63,221,30,248,231,392,54,79,124,42,336,96,73,1326,16,124,19,26802,14,906,24,78,1720,14,65,289,12,887,196,46,11,7124,233,54,38,413,332,78,23,1489,139,1444,1224,36,1764,1718,334,681,119,319,273,695,133,125,14,461,219,416,43,51,396,22,466,104,43,2100,29,184,27,47247,34,1424,25,92,2762,25,88,448,21,1679,419,69,22,13416,353,113,92,697,12,638,112,56,2790,198,14,2473,2061,79,3255,2898,516,1187,202,507,416,1281,209,175,29,680,367,820,78,77,868,32,805,187,88,6332,181,680,140,113063,53,4423,84,402,3277,68,745,744,58,3075,652,368,66,30170,378,424,51,324,1288,45,38,1171,454,303,5737,749,43,5668,6767,193,7491,6738,2238,2811,601,1786,900,3796,551,786,147,2234,1329,2065,247,213,63,1250,174,1616,545,238,2943,37,24494,1414,14,325,30,31,543,84,23,8423,31,61,217,99,13,435,26,1073,2112,1821,1233,753,671,23,115,85,396,30,28,768,69,214,16,60,96,60,28,99,488,17,18,23,12,13,40,13,18,28,16,28,11,11,42,12,524,15,5840,241,71,19,39,1535,16,29,47,24,480,24,98,485,123,399,304,186,235,15,493,15,178,25,51,32,15,39,30,2147,1657,5008,4914,35121,181,227,167,20,26,117,64,12,206,137,90,298,680,978,17,19,13,15,37,47,547,121,177,408,272,11,17,65,106,740,529,449,66,140,206,14,126,26,40,96,44,17,182,122,84,1351,167,547,126,41147,29,1551,73,240,1255,45,607,131,33,1265,300,294,57,6558,143,270,45,243,459,37,23,319,321,280,2940,619,30,2287,2471,61,2553,2770,698,1025,469,552,470,1260,374,663,116,792,908,1083,145,172,59,345,162,857,285,160,3690,117,408,96,70772,34,2840,61,277,2195,46,459,436,40,1954,444,252,49,19018,265,241,37,193,822,31,14,759,265,216,3636,508,28,3702,4069,124,4690,4274,1254,1758,382,1022,578,2326,320,450,101,1453,803,1297,136,141,36,757,113,1045,330,137,2642,64,272,44,42290,19,1583,23,125,1082,22,286,308,18,1121,208,116,17,11152,113,183,14,131,466,14,24,412,189,87,2101,241,15,1966,2698,69,2800,2464,984,1053,219,764,322,1470,231,336,46,781,526,768,111,72,27,493,61,571,215,101,9922,227,978,206,186944,92,6794,130,603,7645,109,906,1515,92,5624,1239,482,103,50937,980,643,60,465,2336,60,49,2102,650,369,9781,1079,66,9615,10006,310,12662,11309,3098,4592,872,2653,1573,5649,926,1098,10,193,3329,1901,3424,372,326,78,2376,242,2866,813,323,148,11,711,25,24,32,18,15,57,32,12,31,42,22,35,14,17,20,47,14,841,17,8973,381,201,22,64,14,2185,27,47,62,33,771,45,156,704,186,649,460,283,352,26,828,23,244,37,65,38,22,71,39,11,4206,65,38041,2146,21,835,42,1009,150,32,12994,57,88,26,308,128,28,623,45,1840,3239,3190,1834,949,1118,32,150,117,512,35,46,13,1203,106,359,23,89,152,89,33,2147,12,106,17,74034,47,1834,11,82,4439,39,54,1251,23,2517,572,48,25032,646,142,88,1272,11,1404,184,22,3895,114,3988,1985,208,5048,4164,584,1588,180,1132,787,2385,419,52,16,653,510,1291,105,65,1117,19,1352,283,58,1657,206,740,182,55019,40,1910,107,354,2013,65,715,189,46,1862,468,368,88,8459,244,362,51,300,676,47,28,403,386,329,4026,849,47,3226,3278,86,3553,3692,848,1343,610,740,614,1558,455,900,146,1034,1150,1537,183,245,73,481,215,1207,361,214,5008,137,529,122,97777,46,3779,82,367,3859,62,526,696,50,2913,628,291,63,26433,496,326,45,247,1166,39,20,1120,341,245,5090,645,37,5134,5251,171,6541,5927,1597,2396,487,1366,853,2977,460,576,121,1854,1008,1782,175,183,40,1124,150,1544,443,166,4914,90,449,84,89166,46,3015,48,236,3786,47,380,819,42,2711,611,191,40,24504,484,317,15,218,1170,21,29,982,309,124,4691,434,29,4481,4755,139,6120,5382,1501,2196,385,1287,720,2672,466,522,72,1475,893,1642,197,143,38,1252,92,1322,370,157,3590,46,298,66,73881,39,2371,46,201,4368,41,161,771,34,2549,587,114,37,20767,602,219,141,1048,15,11,931,196,66,4044,330,23,3947,3239,117,5171,4571,860,1781,271,867,673,1853,375,312,46,1095,572,1359,125,113,15,1126,68,1250,268,85,1263,28,13547,732,510,11,466,66,4571,26,27,91,29,188,19,767,1127,1369,601,196,447,35,32,116,435,37,145,29,56,29,49,223,17,19,13,14,317,3133,140,130,25,650,11,18,15,291,21,58,219,63,250,156,97,117,11,335,66,12,14,32,1177,59,38913,26,926,36,2909,19,20,687,14,1389,320,18,12741,467,77,49,710,763,101,2264,55,2010,865,88,2435,2364,251,802,99,401,474,982,283,26,283,260,689,65,35,672,11,771,141,25,306,39,193,56,13872,11,359,34,114,758,20,108,58,13,597,168,74,31,1901,101,92,57,217,84,65,49,1086,230,17,939,807,25,1000,922,150,318,141,188,144,298,81,237,30,242,242,454,38,73,14,136,53,350,76,54,1318,20,121,26,27005,12,939,21,90,1664,16,67,260,959,184,39,14,7415,231,85,54,344,361,76,29,1454,137,1432,1182,47,1851,1653,343,638,105,344,275,651,140,126,20,401,205,485,39,42,367,37,499,113,29,2272,26,177,40,46876,27,1432,25,111,2704,25,94,511,24,1590,403,75,23,13352,371,134,87,704,570,120,37,2590,193,14,2515,2057,70,3320,2918,517,1143,166,523,398,1202,235,186,26,694,367,874,86,71,759,31,751,155,56,6705,203,695,162,113107,41,4691,91,441,3402,89,757,580,60,2845,818,341,66,29502,337,501,46,363,1227,32,31,1107,394,281,5931,831,56,5541,6532,196,7503,6939,2247,2990,542,1830,907,3823,618,618,132,2181,1414,1961,208,219,38,1272,206,1702,505,241,3150,41,24473,1429,313,43,24,527,104,23,8086,34,67,249,90,16,14,416,30,1108,2080,1859,1290,702,708,24,123,62,394,30,16,764,73,236,21,68,101,40,28,21,389,34,51,24,11,24,20,23,11,12,11,20,562,5841,278,81,37,1460,19,35,39,19,478,25,93,384,116,469,345,217,265,19,451,15,190,28,43,24,21,41,15,969,72,34320,994,39,1532,21,31,384,989,290,45,11900,152,71,45,518,550,96,1594,78,1870,1131,113,2510,1753,359,846,82,724,331,1468,161,18,335,255,559,32,16,487,647,129,35,1579,190,531,147,42781,32,1673,69,378,1409,60,628,149,41,1157,374,263,55,6939,140,331,44,283,397,25,24,372,256,252,3159,674,51,2295,2420,81,2647,2903,722,1094,409,596,485,1307,397,549,111,784,1007,1021,119,195,35,407,143,867,288,161,4125,132,422,107,71795,33,3022,51,307,2217,50,459,338,38,1801,541,236,46,18716,224,315,33,204,817,25,17,730,237,164,3886,514,40,3621,4089,119,4845,4494,1291,1835,328,1136,580,2427,359,401,80,1374,889,1239,128,160,29,820,125,1083,296,151,2580,71,273,55,41312,1669,40,134,1185,39,298,242,22,1044,277,105,20,10786,113,186,13,159,410,377,157,117,2045,317,16,1920,2443,77,2658,2445,956,1155,214,694,327,1396,259,217,52,807,525,722,80,59,452,81,619,209,90,9974,255,970,222,183949,79,6942,139,576,7216,122,962,1289,90,5239,1376,437,103,49888,829,684,64,467,2192,42,40,2096,555,342,9832,1163,85,9365,9567,313,12781,11755,3057,4681,771,2600,1571,5629,1004,899,13,176,3147,1974,3115,285,305,43,2369,278,2784,754,338,28,565,18,11,11,46,19,15,70,36,14,19,33,27,34,17,13,11,13,16,21,20,875,19,8748,409,202,11,63,2081,26,48,46,29,745,46,156,566,189,697,478,342,349,32,742,15,247,39,64,30,31,65,27,13,4239,60,37182,2088,13,675,53,40,1003,157,31,12466,66,85,11,328,129,24,14,586,45,1845,3124,3262,1856,875,1148,32,169,91,512,32,34,1140,106,386,25,101,154,54,32,2029,12,119,12,71374,28,1816,21,79,4059,36,68,970,14,2273,620,58,24398,524,132,81,1150,12,1357,190,12,3669,140,3797,1946,196,5017,4303,553,1542,175,1116,777,2414,442,45,13,578,533,1128,59,39,1177,19,1281,248,63,1929,237,727,198,56693,48,2092,100,468,2163,76,765,241,52,1685,517,328,84,8907,226,415,58,333,630,35,27,466,300,305,4271,895,76,3226,3135,113,3665,3896,924,1434,522,747,654,1621,493,761,140,1005,1231,1395,155,246,40,594,185,1212,367,220,5369,153,537,128,97408,44,3872,78,360,3620,61,543,592,48,2715,724,275,59,25833,393,384,42,243,1169,29,22,1091,298,179,5309,629,52,5022,5235,161,6655,6244,1584,2462,424,1433,847,3070,524,502,13,99,1721,1112,1640,153,195,31,1180,166,1479,384,183,4605,102,433,94,86540,35,3070,61,216,3596,61,419,697,42,2524,652,162,44,24055,436,300,22,224,1023,13,18,1005,257,163,4523,534,33,4342,4332,152,6126,5511,1473,2219,347,1167,724,2559,480,397,77,1426,862,1475,132,110,12,1189,112,1305,370,155,3269,52,275,60,70842,38,2251,48,135,3814,33,205,709,30,2394,558,96,37,20386,492,183,18,104,965,989,161,61,3901,332,29,3824,3035,117,5278,4816,810,1691,229,770,664,1806,386,281,44,966,560,1154,77,86,1097,72,1082,249,97,1089,19,12709,659,362,16,476,53,4380,32,18,79,39,170,15,737,1044,1403,566,173,440,46,29,118,18,376,33,150,33,53,14,176,12,19,12,11,11,313,2907,131,121,26,621,13,267,21,63,182,73,228,133,125,84,13,291,57,11,21,24,12,1060,47,37054,21,822,12,40,2527,15,37,586,1284,330,13,12498,372,61,36,632,807,94,2075,62,1927,815,83,2507,2550,194,696,93,392,446,946,281,27,243,278,569,27,23,690,634,119,28,350,47,196,51,13912,16,419,31,90,754,16,137,92,11,528,143,65,29,1968,86,84,14,50,233,94,44,53,1112,221,25,931,715,32,1018,993,202,340,113,151,169,314,96,212,29,221,224,374,36,51,187,42,345,79,59,1244,21,115,21,25613,11,850,27,53,1403,11,84,254,914,183,39,13,7117,169,69,39,352,361,61,15,1423,115,12,1401,1146,42,1810,1750,293,627,96,297,267,643,165,101,19,347,223,401,25,35,360,41,396,88,32,2025,31,160,39,45228,27,1401,21,82,2411,22,121,455,20,1480,375,57,24,13269,323,114,65,613,628,100,46,2478,217,17,2422,1889,75,3468,3066,517,1064,133,473,397,1163,221,180,25,619,337,753,52,51,737,31,686,161,65,6965,214,698,137,113149,52,5317,92,402,3432,74,769,660,50,2793,856,328,72,28793,472,517,40,353,1232,35,16,1096,407,303,5848,801,49,5828,6574,132,7744,6632,2406,2755,585,1957,826,3791,510,662,117,2232,1349,1832,175,221,57,1266,192,1583,546,220,3344,35,25073,1693,30,372,30,38,512,128,24,8040,50,60,12,234,81,24,386,23,1154,2031,1986,1328,793,678,27,127,58,398,783,92,188,62,83,42,26,19,403,20,37,45,20,12,36,31,23,14,15,13,574,5571,258,67,11,48,1376,17,20,32,18,439,24,111,366,103,367,362,198,272,510,11,177,12,33,17,34,40,919,62,33176,17,1132,25,1565,13,28,389,958,287,42,11216,242,60,43,519,526,58,14,1632,54,1858,1174,73,2423,1660,298,724,83,771,296,1417,147,28,320,265,519,44,443,12,543,184,30,1716,202,565,126,43905,28,1843,56,358,1361,54,647,213,40,1194,428,251,57,6980,169,362,33,263,426,31,385,303,276,3095,680,39,2507,2554,54,2847,2842,836,1079,458,684,440,1282,319,593,94,849,939,1004,101,202,48,463,174,883,264,154,4381,128,439,86,71141,36,3296,70,253,2229,51,472,435,30,1701,557,199,44,18314,306,312,27,202,837,25,711,260,191,3748,507,40,3684,4045,83,4908,4140,1389,1675,387,1102,532,2409,330,395,72,1375,866,1106,118,150,35,766,115,1057,308,146,2584,86,259,51,42005,16,2020,22,149,1203,23,297,224,20,1092,299,129,28,10479,166,205,13,151,395,385,147,112,2100,294,2144,2529,49,2836,2492,1017,1080,198,855,294,1382,180,267,45,857,483,726,57,71,22,500,77,526,237,74,9917,264,950,173,185831,81,7940,140,570,7190,106,990,1422,82,5255,1443,437,102,49574,1134,713,61,494,2211,48,24,1990,565,399,9946,1107,76,9856,9449,241,13307,11792,3236,4305,861,2781,1520,5689,934,929,159,3295,1949,2918,256,326,65,2330,267,2793,797,284,24,537,25,11,50,16,61,25,17,47,36,31,20,15,22,12,862,13,8634,394,169,16,71,2067,11,29,34,43,24,706,40,184,552,172,644,502,300,404,20,789,16,11,264,25,59,20,11,25,67,49,4294,57,38295,2422,30,18,762,41,54,993,189,33,12745,86,84,17,342,114,32,584,38,1977,2961,3459,2029,954,1051,38,170,88,523,16,23,15,1185,137,313,11,92,134,75,33,1825,13,98,70205,35,2106,13,58,4034,27,52,972,11,2253,624,60,12,23596,727,125,87,1136,1241,139,28,3823,101,3884,1908,147,4958,4194,500,1352,184,1132,776,2429,424,41,588,523,1066,78,41,1102,22,1266,290,54,2133,246,744,156,58921,34,2358,89,475,2102,71,802,357,53,1763,607,331,82,9109,303,446,50,340,658,43,14,486,362,352,4298,891,62,3425,3274,79,4011,3946,1055,1430,608,866,603,1627,449,814,123,1090,1207,1341,140,262,55,641,236,1249,348,181,5460,142,542,98,97120,50,4300,85,331,3575,69,562,693,38,2581,770,241,53,25530,548,376,36,262,1193,34,12,1045,308,228,5202,630,46,5089,5077,133,6848,6051,1663,2215,495,1418,802,3072,500,505,89,1781,1090,1512,144,190,38,1128,151,1462,398,172,4457,122,408,75,88708,31,3639,55,239,3615,37,428,728,44,2674,673,196,49,24044,586,337,25,232,1018,14,12,945,257,171,4744,477,30,4767,4372,108,6459,5741,1573,2090,366,1363,718,2617,434,424,70,1514,859,1406,112,136,27,1202,116,1331,398,112,2952,50,252,36,72682,29,2623,48,168,3758,32,221,762,32,2462,587,109,30,20781,662,196,21,141,979,13,894,158,96,4098,306,27,4028,2875,109,5563,5160,830,1550,276,824,694,1898,424,267,42,1063,600,1086,81,105,1064,75,1210,251,64,950,22,13222,729,13,390,11,16,481,61,4705,36,24,108,33,198,15,823,930,1473,701,161,373,11,43,30,125,14,402,45,125,30,51,33,134,13,16,11,288,3063,136,102,23,691,12,14,11,267,16,73,186,69,277,140,102,132,279,87,13,26,33,906,36,37029,18,974,33,2469,14,24,583,1295,337,18,12380,485,65,44,617,715,81,14,2191,47,2026,734,74,2535,2534,202,628,101,361,480,1012,277,13,268,258,547,34,31,659,723,106,24,417,44,179,30,15016,515,33,117,741,17,155,144,13,569,179,80,25,2129,134,84,17,77,232,12,101,59,76,1203,211,23,918,720,25,1164,1104,219,351,150,182,163,345,130,221,29,241,268,337,39,60,178,62,366,84,27,1079,14,103,12,25979,14,1004,15,78,1346,18,90,258,880,213,42,7216,242,64,60,356,334,48,37,1454,123,1405,1032,50,1940,1911,274,540,108,316,270,663,170,110,17,406,224,406,26,40,362,36,405,90,26,1873,36,149,24,46703,15,1619,33,90,2412,14,131,504,24,1582,374,67,21,13565,420,132,12,81,623,560,110,59,2644,183,21,2623,1843,59,3623,3249,556,1010,168,508,424,1235,254,157,25,657,376,680,55,65,702,39,805,161,38,6706,162,807,156,108920,34,5362,102,389,3501,81,703,673,66,2536,708,265,76,27302,484,535,44,402,1132,39,14,965,434,318,5218,745,59,5659,5967,155,7086,6548,2455,2727,575,1923,794,3824,507,694,18,99,2219,1480,1807,190,286,39,1270,158,1637,483,202,3060,42,23198,1760,19,322,37,33,450,98,7296,56,64,27,214,78,11,347,19,1105,1803,1719,1249,833,602,122,41,404,14,736,92,200,48,103,40,14,341,13,39,14,15,29,23,19,624,5525,291,86,35,1349,17,18,27,19,360,18,104,330,86,335,405,181,267,11,512,182,30,30,29,53,24,841,48,31528,13,1023,23,1643,26,13,479,12,737,225,23,10881,252,93,59,458,483,83,1364,57,1851,862,84,2139,1664,232,783,85,731,285,1431,171,23,322,273,505,36,23,449,505,141,28,1733,158,658,149,43080,18,1922,74,334,1298,52,601,150,47,1198,354,223,64,6694,169,338,38,285,401,30,300,317,288,2893,627,46,2389,2451,55,2794,2850,872,1039,458,683,442,1302,293,627,17,84,858,1042,971,117,238,34,471,143,941,248,152,4182,103,524,92,70059,22,3434,77,271,2255,54,437,416,36,1649,424,188,51,17822,333,311,30,268,731,19,603,286,198,3509,465,47,3694,3756,103,4661,4298,1410,1676,377,1161,507,2432,307,407,15,69,1434,941,1103,126,192,27,830,102,1119,286,120,2524,59,283,64,38861,12,1928,25,118,1246,27,266,257,30,887,284,77,25,9480,151,224,14,134,401,20,362,148,120,1709,280,12,1965,2211,52,2425,2250,1045,1051,198,762,287,1392,200,287,30,785,539,704,64,94,12,440,56,518,197,82,9335,215,1102,223,178537,66,7741,157,549,7054,123,880,1398,97,4627,1303,388,105,47630,1097,762,69,543,2023,48,20,1920,579,436,8803,1058,89,9672,8862,311,12284,11303,3232,4306,842,2794,1341,5719,874,978,23,141,3275,2113,2835,267,367,57,2346,231,2801,710,313,14,15,500,22,18,33,16,59,22,13,26,39,32,26,13,15,936,20,8495,445,190,19,48,1953,28,27,42,26,633,27,146,522,163,581,563,266,398,16,820,12,248,50,53,23,37,98,35,3840,62,35442,2427,19,17,644,42,43,827,162,22,11766,87,85,27,305,118,19,11,535,33,1881,2723,3078,1903,987,949,20,170,61,544,20,29,1152,136,288,18,90,151,49,19,1597,117,11,66710,27,1874,23,39,3981,49,30,1117,21,1799,559,46,22953,718,180,113,996,11,1228,156,23,3281,107,3863,1551,197,4462,3960,409,1465,169,1117,645,2447,429,43,576,557,1001,69,40,1097,14,1171,247,65,2134,204,848,204,57985,34,2435,103,459,1953,71,736,206,58,1695,521,300,88,8986,275,438,58,361,635,37,11,398,367,386,3888,851,71,3393,3245,90,3993,3911,1072,1400,610,880,596,1610,381,860,22,116,1111,1305,1333,153,297,48,640,207,1314,332,213,5172,122,646,118,95192,27,4322,105,335,3589,65,503,667,54,2454,654,241,59,25055,580,392,39,322,1036,22,14,940,341,231,4762,611,59,5153,4790,166,6464,5976,1704,2204,473,1514,717,3078,449,508,17,78,1850,1167,1480,147,222,36,1217,143,1517,365,160,4163,93,456,105,83344,39,3419,52,214,3465,58,377,731,43,2173,649,147,46,22575,517,370,30,221,987,26,980,238,205,4040,447,30,4519,4072,145,5820,5327,1528,2102,369,1280,624,2641,425,470,63,1425,946,1355,120,145,21,1129,88,1284,345,153,2629,53,295,67,69617,32,2379,55,160,3553,42,177,725,31,2091,595,123,29,20328,613,227,25,141,891,955,145,118,3585,313,30,4013,2895,156,5198,4755,777,1579,267,871,547,1895,367,284,42,1056,633,1028,77,81,18,1076,73,1164,227,111,780,20,12244,667,322,377,64,15,4470,31,21,91,40,188,14,776,920,1359,654,154,347,12,48,20,140,15,416,44,88,42,48,159,20,11,312,2970,154,104,13,604,11,15,273,42,192,77,246,158,85,131,308,66,20,23,45,11,756,69,35182,14,851,16,2338,23,17,638,1062,334,23,12072,466,87,54,538,745,73,13,1917,50,2012,689,113,2323,2296,177,682,84,386,360,1016,258,20,254,284,496,33,17,648,666,106,37,401,46,190,55,14905,16,513,29,125,655,19,135,56,11,497,167,77,24,2292,106,100,20,76,234,98,50,98,995,224,25,1004,794,35,1199,1061,200,361,152,197,154,308,88,233,32,253,263,362,36,59,14,169,64,373,84,61,990,19,122,26,25133,888,28,64,1334,11,66,251,18,805,230,53,7233,247,81,54,305,337,55,33,1253,146,12,1459,1034,63,1803,1678,294,528,96,353,210,646,142,101,416,226,377,21,30,387,41,398,79,40,1639,34,173,41,44483,27,1491,27,96,2219,31,111,474,13,1286,365,70,21,13095,366,146,16,87,586,618,90,85,2331,167,18,2554,1861,93,3395,3077,483,1051,171,518,337,1249,225,183,33,640,407,651,56,51,689,32,766,148,71,5651,131,544,131,105358,41,3836,101,409,2864,65,655,569,51,2780,517,379,86,30316,361,377,44,323,1172,40,19,1201,291,207,5006,680,77,5645,6128,148,6656,5983,2067,2658,658,1600,956,3858,532,471,99,2270,1147,1701,198,223,43,1020,172,1455,487,202,2530,46,23537,1325,251,54,17,515,89,21,8282,40,55,176,98,18,382,41,13,1187,2139,1518,1226,663,741,31,107,68,435,24,863,85,224,22,49,57,34,25,31,477,24,11,44,17,20,22,100,34,30,683,6708,317,11,68,12,63,1838,16,19,60,14,406,31,126,539,149,455,294,196,277,22,560,15,243,41,56,22,15,54,40,13,986,18,48,36171,17,868,41,1517,21,35,466,1165,228,45,11,13062,188,61,69,551,642,72,15,1722,73,2029,1124,89,2572,1771,398,840,123,647,404,1567,164,23,373,238,612,48,35,381,12,546,179,27,1113,107,413,117,33698,23,1157,86,269,969,35,498,70,31,986,186,294,63,5875,122,233,39,213,401,33,11,348,180,187,2277,510,50,2060,2041,53,1965,2110,578,757,460,498,440,1114,330,384,84,711,724,726,92,169,40,216,154,744,204,127,3306,80,308,90,64368,29,2416,68,272,1807,43,381,315,34,1755,311,247,58,18380,233,233,36,204,749,26,783,185,120,3169,433,43,3396,3665,94,4270,3684,1134,1577,410,910,582,2262,305,291,64,1394,727,1071,121,152,19,642,114,910,310,109,2344,51,236,41,40985,12,1420,33,137,1057,22,274,254,17,1025,206,132,28,11934,128,144,119,423,14,13,418,106,87,1837,247,34,2249,2463,54,2386,2299,932,1081,248,689,374,1596,227,180,35,876,420,630,77,71,24,378,58,545,177,93,9086,187,770,171,174733,67,6021,172,564,6930,103,815,1287,90,5008,1027,487,118,50778,956,543,66,451,2211,59,33,1959,439,267,8878,968,99,9596,8953,268,11335,10068,2997,4245,926,2382,1641,5534,864,726,8,128,3349,1682,2763,324,335,55,1980,224,2619,774,297,37,672,14,12,32,17,14,58,26,33,34,143,40,38,11,11,15,14,11,1112,10306,474,17,214,15,92,13,2633,23,51,82,21,743,47,215,770,239,689,482,306,13,414,34,865,20,325,63,82,28,27,74,50,16,3646,66,36180,1982,14,721,70,33,893,139,29,12869,96,73,260,124,22,565,61,13,1976,3178,2556,1730,848,1178,39,146,95,556,14,33,1298,112,331,29,85,109,62,42,2187,28,83,73234,33,1727,21,72,4254,44,47,1103,25,2468,540,67,14,25431,629,122,115,1268,11,1240,156,20,3814,121,4058,1890,173,5066,3934,684,1534,241,1016,903,2444,399,54,659,498,1185,94,74,964,17,1298,317,48,1438,146,571,151,45866,33,1534,126,355,1631,48,603,120,45,1432,311,351,92,7663,217,303,53,275,588,44,19,427,230,237,3230,699,69,2934,2707,84,2716,2930,751,1014,588,676,578,1399,406,570,105,914,937,1024,155,236,50,320,197,1045,287,180,4620,102,412,100,89559,40,3255,104,334,3310,58,447,553,45,2583,484,290,64,25559,439,301,41,251,1100,32,11,1055,234,145,4578,558,49,4760,4710,134,5923,5254,1496,2135,515,1197,836,2869,440,390,74,1813,940,1467,168,187,23,970,142,1359,422,146,4465,85,358,71,85169,27,2766,68,230,3620,45,368,734,45,2425,543,197,54,25217,517,242,25,200,1111,27,22,904,205,122,4300,410,50,4836,4243,134,5412,4814,1500,2110,411,1184,805,2665,424,336,54,1536,742,1296,156,148,32,1010,82,1260,352,151,3435,56,226,40,69375,26,2185,71,155,4066,38,160,718,39,2228,510,108,32,20462,595,166,22,128,1039,19,14,758,148,60,3872,288,22,3951,2825,120,4679,4085,930,1587,268,782,685,1676,332,255,29,1079,535,1062,126,112,12,960,52,1164,287,95,1116,20,12643,657,470,16,16,378,50,4587,56,18,84,26,183,20,789,1039,1038,504,185,437,39,27,121,435,27,107,36,52,28,17,195,14,13,12,43,429,3598,157,146,29,795,32,22,337,16,89,231,90,234,188,110,137,12,305,82,22,26,12,20,1201,35,37063,16,859,15,31,2737,23,12,637,17,1303,312,22,12369,441,61,46,717,598,84,2092,48,2029,766,84,2494,2163,286,694,118,369,499,877,235,31,286,260,573,46,39,583,752,138,21,325,39,158,34,12168,377,40,86,662,13,105,50,14,446,125,57,29,1788,95,70,14,62,187,11,79,50,50,953,189,19,874,666,31,751,820,173,257,128,178,138,285,76,186,21,203,213,298,63,67,104,43,301,83,53,1314,22,104,25191,11,839,36,62,1503,15,66,238,11,828,173,43,7179,206,68,47,351,272,49,25,1409,125,1364,1045,40,1653,1570,362,558,105,287,254,607,135,99,419,213,396,47,35,328,28,449,112,37,2121,34,122,30,44184,15,1346,35,93,2563,23,94,480,28,1400,337,65,26,13283,389,98,17,81,688,13,486,99,35,2463,163,16,2587,1780,80,3026,2515,568,1029,163,495,431,1069,197,156,19,660,322,666,79,77,632,24,715,175,58,5763,138,710,148,111266,25,4502,98,487,3412,102,678,600,78,2634,568,370,96,30443,417,399,49,375,1173,58,31,1169,385,226,5256,821,57,6145,6960,202,6685,6048,2198,3189,530,1594,897,4031,482,493,114,2651,1377,1956,183,211,45,1080,182,1756,600,245,30,530,17,11,12,17,15,47,16,35,33,108,32,11,12,16,11,18,710,14,7320,413,15,74,12,63,1804,14,29,48,31,487,42,163,681,162,482,289,291,282,24,604,16,307,39,50,18,12,45,39,12,2553,57,24217,1485,21,281,47,17,540,95,26,8182,37,52,15,155,79,18,380,44,1238,2317,1540,1172,781,829,29,115,61,414,13,20,951,84,229,28,39,84,59,22,1013,22,87,39070,1192,11,57,1878,27,59,497,17,1131,248,70,13450,240,73,71,639,627,108,23,1847,84,2321,1389,133,2733,1801,406,990,85,596,355,1551,152,26,495,308,730,48,59,428,670,186,43,1140,100,515,128,34680,1241,75,353,1074,64,494,83,46,821,210,259,74,5563,129,249,36,261,329,28,14,376,219,195,2304,617,42,2150,2228,65,1784,2208,612,857,366,527,411,1112,296,389,88,804,880,854,75,127,36,216,165,901,274,155,3441,79,395,101,68393,12,2749,73,324,2174,55,408,351,54,1604,326,251,60,18605,260,249,27,235,714,35,778,235,132,3333,506,35,3852,4110,119,4222,3967,1250,1844,325,992,544,2374,268,286,68,1689,855,1199,115,134,28,697,99,1129,405,140,2322,59,315,47,42873,13,1753,25,163,1238,47,270,249,24,1030,242,119,36,11838,157,150,22,140,459,23,21,391,150,94,1923,315,22,2293,2850,83,2463,2081,948,1345,205,602,353,1657,214,207,46,962,522,757,68,77,17,383,83,627,195,105,8942,176,936,198,180053,62,6706,150,650,7783,129,851,1291,110,4853,1074,482,131,49504,979,564,63,567,2067,77,40,1916,537,306,9084,1193,86,10076,10129,340,11204,10339,3247,4881,800,2346,1471,5865,772,722,159,3850,1938,3077,301,350,55,2134,244,2836,894,366,36,734,33,16,17,24,20,15,57,30,12,45,42,151,44,27,16,18,11,23,1112,21,10945,579,21,208,14,98,2515,18,54,67,38,792,61,249,957,244,733,476,412,456,32,939,12,23,429,61,66,30,22,67,51,14,3564,68,36416,2136,27,792,54,31,952,156,35,12350,62,69,18,226,107,24,579,68,1969,3427,2594,1689,1017,1239,40,140,81,506,17,30,1425,113,320,43,58,124,95,43,2098,28,133,11,75479,42,2027,16,97,4818,41,84,1129,27,2403,577,93,14,24959,680,144,127,1258,14,1210,187,32,3846,163,11,4365,2305,237,5105,4114,728,1738,203,943,742,2485,340,48,12,808,584,1378,89,102,1034,20,1373,328,83,1466,125,664,167,46961,12,1625,109,445,1791,72,614,123,63,1229,315,319,102,7271,211,312,48,365,483,39,17,450,277,260,3318,847,68,3021,2947,93,2500,3039,798,1141,481,676,535,1410,377,565,121,1050,1093,1175,115,209,44,344,215,1178,364,211,4681,88,472,118,93308,23,3628,91,390,3695,67,486,605,66,2421,499,289,71,25420,480,323,33,324,1033,42,12,1021,309,171,4701,639,45,5191,5231,174,5818,5524,1666,2444,429,1256,776,3034,372,378,83,2179,1054,1596,152,177,30,1089,122,1527,497,194,4261,88,464,80,86745,39,3078,59,260,4088,62,365,686,44,2432,575,193,60,24084,499,241,30,243,1034,35,28,895,228,135,4383,554,41,4885,4898,166,5386,4815,1581,2437,371,1090,695,2831,400,344,76,1671,884,1481,149,173,25,1045,122,1309,397,172,3179,38,226,50,68787,37,2204,52,163,4371,27,173,691,32,2219,506,112,35,19061,562,165,14,192,894,19,747,152,80,3828,372,29,3931,3169,138,4519,4291,1049,1692,270,752,574,1834,290,229,45,1199,561,1121,118,139,1054,62,1080,294,121,204,16,14,43,12,16,402,3625,166,134,35,711,25,19,305,19,86,276,82,251,187,121,174,335,122,22,16,12,22,12,1011,11,12199,651,511,14,412,61,4168,25,17,71,28,199,24,731,1110,1054,517,236,410,11,25,20,92,474,29,91,15,19,40,36,21,1085,46,36409,32,835,40,2940,14,25,632,1272,329,23,11509,440,71,56,619,583,79,1999,79,2044,916,104,2372,2313,322,748,118,347,387,934,188,22,313,276,648,41,43,606,11,703,142,40,326,25,149,39,12281,384,34,92,717,120,40,17,408,105,60,28,1708,82,63,12,104,154,11,74,58,65,1014,230,26,871,719,28,716,831,186,284,115,149,124,298,81,176,33,246,213,321,40,82,128,50,277,90,56,1240,77,17,24915,11,879,18,66,1521,12,78,254,12,817,173,38,11,6815,220,74,89,319,243,74,39,1368,133,1339,1121,55,1596,1557,416,600,104,264,232,660,104,92,15,490,199,397,37,43,392,23,398,92,54,1939,29,149,33,43872,26,1325,34,97,2850,15,95,437,20,1402,333,74,24,12246,342,91,103,575,12,504,78,41,2460,239,19,2592,2048,83,2923,2734,633,1092,166,488,342,1174,186,137,30,709,362,724,81,96,662,39,682,202,67,5243,103,706,136,104054,68,4077,86,433,3248,70,550,550,56,2390,465,391,88,28932,327,415,56,354,1033,53,47,1045,354,168,5076,845,64,5626,6809,210,6537,5792,1932,3041,494,1391,780,3595,513,428,105,2332,1280,1830,187,193,36,817,173,1523,544,227,18,479,31,40,12,26,30,134,31,15,694,15,6974,366,12,126,14,48,1507,14,29,21,40,27,518,50,180,683,164,421,303,279,281,26,586,30,255,52,63,18,12,51,37,2282,90,22629,1366,21,374,46,16,490,58,20,7858,25,56,26,91,61,14,337,52,1089,2136,1497,1006,694,800,36,127,64,370,20,21,866,69,201,18,34,92,47,41,957,51,37074,30,1051,53,1711,16,39,458,11,1027,203,69,12846,197,79,73,598,15,592,105,17,1732,131,2212,1440,138,2636,1801,331,995,90,502,326,1473,145,22,431,338,666,58,36,446,630,175,32,1009,89,501,116,31990,30,1133,72,336,945,41,365,68,36,752,189,279,67,5330,89,259,53,231,293,31,288,200,147,2263,576,52,1912,2217,59,1769,2138,498,814,324,420,322,889,329,330,96,702,766,780,79,129,35,191,152,688,256,142,3078,59,388,81,63512,41,2538,52,300,2078,47,334,319,32,1430,277,252,54,17505,203,261,26,202,651,30,654,240,104,3197,554,43,3434,4039,128,4110,3731,1062,1796,284,791,474,2235,238,272,72,1446,793,1167,105,99,24,494,111,955,344,149,2163,44,318,55,40536,27,1539,34,133,1170,23,216,231,24,960,188,139,34,11426,124,154,30,152,382,23,37,391,114,64,1879,290,21,2192,2770,82,2427,2061,870,1245,210,600,306,1359,275,156,33,886,486,663,82,94,12,323,62,568,200,78,7795,137,907,186,163807,118,6001,132,564,6935,101,688,1147,81,4299,833,504,112,46729,813,583,68,507,1709,86,65,1615,511,219,8183,1154,94,8935,9656,318,10343,9436,2859,4527,693,2051,1213,5095,725,608,12,138,3354,1770,2904,291,288,57,1600,220,2469,807,333,22,683,14,14,42,14,57,23,12,38,35,173,39,23,14,14,1082,17,10326,521,17,248,17,64,2221,11,23,50,22,46,31,817,68,259,940,250,666,494,387,410,38,870,32,337,67,91,24,18,69,51,3091,111,33599,1974,25,865,53,22,917,103,32,11695,59,66,29,151,83,21,462,61,1742,3196,2370,1486,896,1152,45,151,80,457,24,30,1275,89,302,26,59,130,77,57,1783,17,78,13,68760,69,1769,16,83,4144,23,60,995,21,2090,435,94,11,23665,574,150,125,1058,25,1041,186,25,3368,212,3932,2239,217,4602,3689,619,1676,172,817,613,2241,296,49,12,735,582,1272,88,57,1013,24,1248,307,72,1249,109,629,151,42139,41,1449,96,422,1506,52,454,112,47,1087,267,342,87,6859,156,325,61,310,417,41,15,351,257,180,3082,763,77,2588,2779,83,2399,2840,649,1052,413,545,421,1135,380,453,12,118,891,955,1078,133,184,53,283,181,912,326,186,4073,75,468,99,85198,54,3308,67,349,3385,53,390,541,43,2104,397,296,62,23861,394,322,32,255,894,46,20,861,295,123,4298,672,57,4570,5107,177,5438,5064,1417,2327,361,1021,650,2787,304,333,81,1849,973,1571,140,141,33,789,129,1290,443,186,3720,62,439,87,78603,64,2693,65,215,3550,48,298,606,38,2195,436,208,50,22867,419,261,36,252,815,40,45,754,216,96,3885,481,37,4365,4549,141,4905,4372,1442,2200,332,1030,563,2307,421,275,57,1505,796,1333,151,147,24,811,91,1179,364,147,2552,34,201,50,59753,50,1924,46,131,3687,31,138,597,25,1909,368,113,24,17797,486,168,12,153,676,33,18,570,157,51,3107,309,30,3309,2847,108,3806,3644,927,1486,199,660,433,1500,212,180,33,1022,490,1074,104,95,21,783,47,946,263,106,204,11,17,11,12,39,388,3352,155,122,16,714,21,299,18,79,257,86,245,191,108,129,12,284,82,15,28,18,14,809,21,10970,608,491,427,45,12,3837,34,60,22,125,653,1060,873,480,202,352,24,16,87,409,20,101,25,38,30,16,826,27,31686,39,718,30,2433,21,537,1063,232,25,10819,377,71,52,460,449,81,1636,81,1720,799,79,1966,1888,288,681,82,315,287,768,151,27,304,244,606,30,21,567,16,618,132,40,240,20,128,35,10149,11,316,24,86,561,11,89,44,11,335,78,63,20,1529,67,66,79,124,63,57,33,819,187,25,676,562,24,630,702,151,238,89,125,99,246,51,123,22,189,189,298,54,55,18,92,29,224,70,44,995,16,80,18,21686,13,770,15,49,1307,56,222,11,674,120,44,6356,191,61,53,243,16,207,55,19,1101,118,14,1136,1068,49,1328,1333,355,531,77,230,176,552,66,61,403,180,404,35,42,295,18,335,99,37,1557,18,121,32,38067,37,1154,31,82,2380,25,82,375,14,1235,248,69,16,11441,295,107,100,433,17,363,102,32,2006,191,16,2173,1779,59,2478,2311,572,955,122,430,257,948,146,119,24,619,310,670,69,53,12,488,29,611,164,69,5130,126,557,135,106982,61,3950,83,402,3006,67,485,577,59,2483,377,385,85,29619,340,384,52,365,962,54,32,953,348,163,5229,696,73,5897,6315,225,7156,6123,1861,2865,522,1440,809,3312,573,463,107,2061,1078,1816,176,172,34,1042,123,1505,519,233,24,424,12,31,62,22,12,28,18,16,26,13,719,7208,305,109,63,1697,17,21,34,24,512,35,159,678,149,475,314,255,286,18,609,11,20,218,35,71,19,24,33,30,2100,73,23444,1320,18,516,44,18,563,59,17,7814,22,62,31,117,54,20,335,27,1191,2035,1644,997,615,732,39,82,61,342,22,729,86,163,11,58,77,68,29,1015,74,11,38774,31,1034,14,23,1537,28,41,481,13,1028,193,72,13493,187,72,73,518,578,131,17,1860,116,2362,1248,160,2988,2031,337,924,105,531,357,1342,191,26,12,382,264,732,47,43,633,12,584,166,50,923,116,371,115,31474,24,1092,55,340,758,30,304,65,37,749,120,264,52,4992,114,217,46,228,277,36,12,229,158,136,2256,479,63,1888,1958,53,1971,2102,490,770,341,454,334,850,346,365,75,623,645,730,84,97,30,299,108,737,207,131,3002,83,357,76,64712,41,2383,52,267,1926,48,289,336,34,1468,223,262,46,17941,227,233,30,217,596,34,13,572,219,106,3306,460,50,3622,3858,141,4504,3927,1018,1742,309,872,511,2045,294,272,79,1316,655,1076,111,97,22,615,78,1001,328,144,2128,43,200,59,42263,20,1567,31,135,1080,19,196,241,25,1015,154,123,39,11677,113,151,22,148,366,20,19,380,129,57,1923,236,23,2274,2457,84,2652,2195,843,1123,213,568,298,1267,278,191,28,745,422,740,65,75,12,427,45,503,191,89,7448,169,753,199,165449,103,5910,117,539,6592,118,614,1198,93,4285,753,510,102,46804,781,540,63,489,1690,67,51,1634,497,218,8321,1038,86,9257,9011,341,10902,9873,2673,4390,764,1987,1228,4655,797,632,7,148,2992,1489,2892,274,274,48,1996,186,2413,743,328,27,539,13,37,17,12,73,34,12,38,23,19,36,13,1055,14,10346,483,15,226,83,2306,19,42,44,29,834,63,250,953,229,699,472,378,382,23,863,14,25,291,45,90,22,33,48,38,2779,83,33458,1839,19,982,52,25,917,86,31,11427,41,79,31,178,74,27,490,47,1811,2961,2530,1398,757,1078,45,93,76,412,11,33,1036,108,262,18,11,99,117,91,42,1798,20,107,22,70432,67,1823,20,60,4003,50,69,1042,24,2063,435,113,13,23985,533,131,120,1015,21,1130,213,23,3535,170,4135,1965,251,4969,4066,606,1600,206,793,657,2057,339,49,17,658,482,1341,87,82,1356,23,1121,277,78,1132,141,502,155,40733,28,1371,74,422,1132,46,382,111,49,1062,213,321,64,6323,174,281,52,288,391,41,18,291,209,176,2979,678,70,2571,2461,70,2542,2750,595,1013,450,566,413,1060,411,486,105,793,785,999,123,146,42,438,158,1001,265,176,3923,97,429,96,86264,51,3138,68,314,3203,64,330,567,44,2163,336,303,51,24231,392,293,36,259,853,39,18,802,281,132,4458,598,55,4846,4862,190,5843,5350,1331,2295,402,1090,700,2482,375,331,96,1682,808,1491,138,129,24,972,104,1307,417,180,3525,72,324,103,79178,52,2772,49,225,3389,54,284,631,49,2122,417,207,51,22572,389,247,27,230,837,28,33,831,216,86,3863,440,31,4410,4149,151,5059,4522,1342,2095,362,897,528,2173,421,301,52,1310,680,1401,136,145,24,1024,82,1105,326,148,2318,43,196,64,58467,42,1960,34,137,3586,51,129,621,34,1802,376,125,17,17185,441,156,11,124,728,13,19,681,149,55,3092,342,13,3360,2696,116,3746,3750,812,1525,242,547,419,1343,224,169,41,931,411,1076,98,102,14,954,63,908,224,95,115,11,12,336,3138,178,117,20,609,21,322,28,91,275,80,224,158,123,96,254,73,19,15,679,10014,519,466,354,27,14,3613,19,17,61,20,155,20,620,926,886,401,142,346,11,15,70,11,307,22,99,41,40,23,13,783,15,33,11,31658,36,789,37,2466,22,28,561,11,1035,242,41,10492,346,59,47,497,13,552,82,1675,54,1773,717,91,1981,2035,269,676,101,262,300,715,148,23,276,218,609,40,39,723,11,537,111,28,209,25,131,40,9259,279,19,82,374,16,78,46,12,313,93,57,12,1331,60,64,60,114,62,51,40,723,199,683,503,17,571,648,105,243,109,112,79,210,65,121,30,170,140,269,39,49,12,139,50,264,58,45,921,14,72,20,21552,755,16,47,1277,16,41,231,695,113,41,6290,165,60,42,257,230,62,26,1152,138,1224,1004,49,1339,1423,313,553,93,218,189,437,81,59,17,366,153,415,27,32,357,26,306,89,36,1397,29,124,44,36915,32,1205,18,90,2309,35,88,390,24,1107,263,84,12,10895,276,96,82,471,14,451,87,29,1940,204,2136,1692,67,2407,2327,499,972,149,329,230,906,143,110,24,565,258,661,71,70,12,597,37,602,135,59],\"x0\":\" \",\"xaxis\":\"x\",\"y0\":\" \",\"yaxis\":\"y\",\"type\":\"box\"}],                        {\"template\":{\"data\":{\"bar\":[{\"error_x\":{\"color\":\"#2a3f5f\"},\"error_y\":{\"color\":\"#2a3f5f\"},\"marker\":{\"line\":{\"color\":\"#E5ECF6\",\"width\":0.5},\"pattern\":{\"fillmode\":\"overlay\",\"size\":10,\"solidity\":0.2}},\"type\":\"bar\"}],\"barpolar\":[{\"marker\":{\"line\":{\"color\":\"#E5ECF6\",\"width\":0.5},\"pattern\":{\"fillmode\":\"overlay\",\"size\":10,\"solidity\":0.2}},\"type\":\"barpolar\"}],\"carpet\":[{\"aaxis\":{\"endlinecolor\":\"#2a3f5f\",\"gridcolor\":\"white\",\"linecolor\":\"white\",\"minorgridcolor\":\"white\",\"startlinecolor\":\"#2a3f5f\"},\"baxis\":{\"endlinecolor\":\"#2a3f5f\",\"gridcolor\":\"white\",\"linecolor\":\"white\",\"minorgridcolor\":\"white\",\"startlinecolor\":\"#2a3f5f\"},\"type\":\"carpet\"}],\"choropleth\":[{\"colorbar\":{\"outlinewidth\":0,\"ticks\":\"\"},\"type\":\"choropleth\"}],\"contour\":[{\"colorbar\":{\"outlinewidth\":0,\"ticks\":\"\"},\"colorscale\":[[0.0,\"#0d0887\"],[0.1111111111111111,\"#46039f\"],[0.2222222222222222,\"#7201a8\"],[0.3333333333333333,\"#9c179e\"],[0.4444444444444444,\"#bd3786\"],[0.5555555555555556,\"#d8576b\"],[0.6666666666666666,\"#ed7953\"],[0.7777777777777778,\"#fb9f3a\"],[0.8888888888888888,\"#fdca26\"],[1.0,\"#f0f921\"]],\"type\":\"contour\"}],\"contourcarpet\":[{\"colorbar\":{\"outlinewidth\":0,\"ticks\":\"\"},\"type\":\"contourcarpet\"}],\"heatmap\":[{\"colorbar\":{\"outlinewidth\":0,\"ticks\":\"\"},\"colorscale\":[[0.0,\"#0d0887\"],[0.1111111111111111,\"#46039f\"],[0.2222222222222222,\"#7201a8\"],[0.3333333333333333,\"#9c179e\"],[0.4444444444444444,\"#bd3786\"],[0.5555555555555556,\"#d8576b\"],[0.6666666666666666,\"#ed7953\"],[0.7777777777777778,\"#fb9f3a\"],[0.8888888888888888,\"#fdca26\"],[1.0,\"#f0f921\"]],\"type\":\"heatmap\"}],\"heatmapgl\":[{\"colorbar\":{\"outlinewidth\":0,\"ticks\":\"\"},\"colorscale\":[[0.0,\"#0d0887\"],[0.1111111111111111,\"#46039f\"],[0.2222222222222222,\"#7201a8\"],[0.3333333333333333,\"#9c179e\"],[0.4444444444444444,\"#bd3786\"],[0.5555555555555556,\"#d8576b\"],[0.6666666666666666,\"#ed7953\"],[0.7777777777777778,\"#fb9f3a\"],[0.8888888888888888,\"#fdca26\"],[1.0,\"#f0f921\"]],\"type\":\"heatmapgl\"}],\"histogram\":[{\"marker\":{\"pattern\":{\"fillmode\":\"overlay\",\"size\":10,\"solidity\":0.2}},\"type\":\"histogram\"}],\"histogram2d\":[{\"colorbar\":{\"outlinewidth\":0,\"ticks\":\"\"},\"colorscale\":[[0.0,\"#0d0887\"],[0.1111111111111111,\"#46039f\"],[0.2222222222222222,\"#7201a8\"],[0.3333333333333333,\"#9c179e\"],[0.4444444444444444,\"#bd3786\"],[0.5555555555555556,\"#d8576b\"],[0.6666666666666666,\"#ed7953\"],[0.7777777777777778,\"#fb9f3a\"],[0.8888888888888888,\"#fdca26\"],[1.0,\"#f0f921\"]],\"type\":\"histogram2d\"}],\"histogram2dcontour\":[{\"colorbar\":{\"outlinewidth\":0,\"ticks\":\"\"},\"colorscale\":[[0.0,\"#0d0887\"],[0.1111111111111111,\"#46039f\"],[0.2222222222222222,\"#7201a8\"],[0.3333333333333333,\"#9c179e\"],[0.4444444444444444,\"#bd3786\"],[0.5555555555555556,\"#d8576b\"],[0.6666666666666666,\"#ed7953\"],[0.7777777777777778,\"#fb9f3a\"],[0.8888888888888888,\"#fdca26\"],[1.0,\"#f0f921\"]],\"type\":\"histogram2dcontour\"}],\"mesh3d\":[{\"colorbar\":{\"outlinewidth\":0,\"ticks\":\"\"},\"type\":\"mesh3d\"}],\"parcoords\":[{\"line\":{\"colorbar\":{\"outlinewidth\":0,\"ticks\":\"\"}},\"type\":\"parcoords\"}],\"pie\":[{\"automargin\":true,\"type\":\"pie\"}],\"scatter\":[{\"marker\":{\"colorbar\":{\"outlinewidth\":0,\"ticks\":\"\"}},\"type\":\"scatter\"}],\"scatter3d\":[{\"line\":{\"colorbar\":{\"outlinewidth\":0,\"ticks\":\"\"}},\"marker\":{\"colorbar\":{\"outlinewidth\":0,\"ticks\":\"\"}},\"type\":\"scatter3d\"}],\"scattercarpet\":[{\"marker\":{\"colorbar\":{\"outlinewidth\":0,\"ticks\":\"\"}},\"type\":\"scattercarpet\"}],\"scattergeo\":[{\"marker\":{\"colorbar\":{\"outlinewidth\":0,\"ticks\":\"\"}},\"type\":\"scattergeo\"}],\"scattergl\":[{\"marker\":{\"colorbar\":{\"outlinewidth\":0,\"ticks\":\"\"}},\"type\":\"scattergl\"}],\"scattermapbox\":[{\"marker\":{\"colorbar\":{\"outlinewidth\":0,\"ticks\":\"\"}},\"type\":\"scattermapbox\"}],\"scatterpolar\":[{\"marker\":{\"colorbar\":{\"outlinewidth\":0,\"ticks\":\"\"}},\"type\":\"scatterpolar\"}],\"scatterpolargl\":[{\"marker\":{\"colorbar\":{\"outlinewidth\":0,\"ticks\":\"\"}},\"type\":\"scatterpolargl\"}],\"scatterternary\":[{\"marker\":{\"colorbar\":{\"outlinewidth\":0,\"ticks\":\"\"}},\"type\":\"scatterternary\"}],\"surface\":[{\"colorbar\":{\"outlinewidth\":0,\"ticks\":\"\"},\"colorscale\":[[0.0,\"#0d0887\"],[0.1111111111111111,\"#46039f\"],[0.2222222222222222,\"#7201a8\"],[0.3333333333333333,\"#9c179e\"],[0.4444444444444444,\"#bd3786\"],[0.5555555555555556,\"#d8576b\"],[0.6666666666666666,\"#ed7953\"],[0.7777777777777778,\"#fb9f3a\"],[0.8888888888888888,\"#fdca26\"],[1.0,\"#f0f921\"]],\"type\":\"surface\"}],\"table\":[{\"cells\":{\"fill\":{\"color\":\"#EBF0F8\"},\"line\":{\"color\":\"white\"}},\"header\":{\"fill\":{\"color\":\"#C8D4E3\"},\"line\":{\"color\":\"white\"}},\"type\":\"table\"}]},\"layout\":{\"annotationdefaults\":{\"arrowcolor\":\"#2a3f5f\",\"arrowhead\":0,\"arrowwidth\":1},\"autotypenumbers\":\"strict\",\"coloraxis\":{\"colorbar\":{\"outlinewidth\":0,\"ticks\":\"\"}},\"colorscale\":{\"diverging\":[[0,\"#8e0152\"],[0.1,\"#c51b7d\"],[0.2,\"#de77ae\"],[0.3,\"#f1b6da\"],[0.4,\"#fde0ef\"],[0.5,\"#f7f7f7\"],[0.6,\"#e6f5d0\"],[0.7,\"#b8e186\"],[0.8,\"#7fbc41\"],[0.9,\"#4d9221\"],[1,\"#276419\"]],\"sequential\":[[0.0,\"#0d0887\"],[0.1111111111111111,\"#46039f\"],[0.2222222222222222,\"#7201a8\"],[0.3333333333333333,\"#9c179e\"],[0.4444444444444444,\"#bd3786\"],[0.5555555555555556,\"#d8576b\"],[0.6666666666666666,\"#ed7953\"],[0.7777777777777778,\"#fb9f3a\"],[0.8888888888888888,\"#fdca26\"],[1.0,\"#f0f921\"]],\"sequentialminus\":[[0.0,\"#0d0887\"],[0.1111111111111111,\"#46039f\"],[0.2222222222222222,\"#7201a8\"],[0.3333333333333333,\"#9c179e\"],[0.4444444444444444,\"#bd3786\"],[0.5555555555555556,\"#d8576b\"],[0.6666666666666666,\"#ed7953\"],[0.7777777777777778,\"#fb9f3a\"],[0.8888888888888888,\"#fdca26\"],[1.0,\"#f0f921\"]]},\"colorway\":[\"#636efa\",\"#EF553B\",\"#00cc96\",\"#ab63fa\",\"#FFA15A\",\"#19d3f3\",\"#FF6692\",\"#B6E880\",\"#FF97FF\",\"#FECB52\"],\"font\":{\"color\":\"#2a3f5f\"},\"geo\":{\"bgcolor\":\"white\",\"lakecolor\":\"white\",\"landcolor\":\"#E5ECF6\",\"showlakes\":true,\"showland\":true,\"subunitcolor\":\"white\"},\"hoverlabel\":{\"align\":\"left\"},\"hovermode\":\"closest\",\"mapbox\":{\"style\":\"light\"},\"paper_bgcolor\":\"white\",\"plot_bgcolor\":\"#E5ECF6\",\"polar\":{\"angularaxis\":{\"gridcolor\":\"white\",\"linecolor\":\"white\",\"ticks\":\"\"},\"bgcolor\":\"#E5ECF6\",\"radialaxis\":{\"gridcolor\":\"white\",\"linecolor\":\"white\",\"ticks\":\"\"}},\"scene\":{\"xaxis\":{\"backgroundcolor\":\"#E5ECF6\",\"gridcolor\":\"white\",\"gridwidth\":2,\"linecolor\":\"white\",\"showbackground\":true,\"ticks\":\"\",\"zerolinecolor\":\"white\"},\"yaxis\":{\"backgroundcolor\":\"#E5ECF6\",\"gridcolor\":\"white\",\"gridwidth\":2,\"linecolor\":\"white\",\"showbackground\":true,\"ticks\":\"\",\"zerolinecolor\":\"white\"},\"zaxis\":{\"backgroundcolor\":\"#E5ECF6\",\"gridcolor\":\"white\",\"gridwidth\":2,\"linecolor\":\"white\",\"showbackground\":true,\"ticks\":\"\",\"zerolinecolor\":\"white\"}},\"shapedefaults\":{\"line\":{\"color\":\"#2a3f5f\"}},\"ternary\":{\"aaxis\":{\"gridcolor\":\"white\",\"linecolor\":\"white\",\"ticks\":\"\"},\"baxis\":{\"gridcolor\":\"white\",\"linecolor\":\"white\",\"ticks\":\"\"},\"bgcolor\":\"#E5ECF6\",\"caxis\":{\"gridcolor\":\"white\",\"linecolor\":\"white\",\"ticks\":\"\"}},\"title\":{\"x\":0.05},\"xaxis\":{\"automargin\":true,\"gridcolor\":\"white\",\"linecolor\":\"white\",\"ticks\":\"\",\"title\":{\"standoff\":15},\"zerolinecolor\":\"white\",\"zerolinewidth\":2},\"yaxis\":{\"automargin\":true,\"gridcolor\":\"white\",\"linecolor\":\"white\",\"ticks\":\"\",\"title\":{\"standoff\":15},\"zerolinecolor\":\"white\",\"zerolinewidth\":2}}},\"xaxis\":{\"anchor\":\"y\",\"domain\":[0.0,1.0],\"title\":{\"text\":\"Numerator\"}},\"yaxis\":{\"anchor\":\"x\",\"domain\":[0.0,1.0]},\"legend\":{\"tracegroupgap\":0},\"margin\":{\"t\":60},\"boxmode\":\"group\"},                        {\"responsive\": true}                    ).then(function(){\n",
       "                            \n",
       "var gd = document.getElementById('24c03715-5ef4-413b-bd29-d4fe88d775d2');\n",
       "var x = new MutationObserver(function (mutations, observer) {{\n",
       "        var display = window.getComputedStyle(gd).display;\n",
       "        if (!display || display === 'none') {{\n",
       "            console.log([gd, 'removed!']);\n",
       "            Plotly.purge(gd);\n",
       "            observer.disconnect();\n",
       "        }}\n",
       "}});\n",
       "\n",
       "// Listen for the removal of the full notebook cells\n",
       "var notebookContainer = gd.closest('#notebook-container');\n",
       "if (notebookContainer) {{\n",
       "    x.observe(notebookContainer, {childList: true});\n",
       "}}\n",
       "\n",
       "// Listen for the clearing of the current output cell\n",
       "var outputEl = gd.closest('.output');\n",
       "if (outputEl) {{\n",
       "    x.observe(outputEl, {childList: true});\n",
       "}}\n",
       "\n",
       "                        })                };                });            </script>        </div>"
      ]
     },
     "metadata": {},
     "output_type": "display_data"
    }
   ],
   "source": [
    "import plotly.express as px\n",
    "fig = px.box(frame, x=\"Numerator\")\n",
    "fig.show()"
   ]
  },
  {
   "cell_type": "markdown",
   "id": "f4de972e",
   "metadata": {
    "papermill": {
     "duration": 0.048049,
     "end_time": "2022-02-14T14:01:47.344030",
     "exception": false,
     "start_time": "2022-02-14T14:01:47.295981",
     "status": "completed"
    },
    "tags": []
   },
   "source": [
    "The box plot shows a perfect way represent the descriptive analysis of the numerical variable. Here we have take the column NUMERATOR. From this we can arrive at following results:\n",
    "1. The outliers are are present in the data\n",
    "2. Highly concentrated i.e. values of min, q2, median and q3 lies closely\n"
   ]
  },
  {
   "cell_type": "markdown",
   "id": "2bb95688",
   "metadata": {
    "papermill": {
     "duration": 0.046871,
     "end_time": "2022-02-14T14:01:47.438190",
     "exception": false,
     "start_time": "2022-02-14T14:01:47.391319",
     "status": "completed"
    },
    "tags": []
   },
   "source": [
    "# Normality and spread:\n",
    "The two primary measure for the abnormality are skewness and kurtosis\n",
    "1. Skewness: measure how much the bulk of the data is measured towards right or left of the x-axis. To define the skewness as left or right look at the tail of the curve. If the tail is towards right than right skewed curve. <br>\n",
    "    a. right skew: skewness score is positive <br>\n",
    "    b. left skew: skewness score is negative <br>\n",
    "    c. no skew: skewness score is zero <br>\n",
    "  if skewness is within -1 <sk< 1 than we can consider out data as normal<br>\n",
    "2. Kurtosis: measures how high or low the peak of the data is:<br>\n",
    "    a. high: S<sub>ku</sub> > 0 <br>\n",
    "    b. low: S<sub>ku</sub> < 0 <br>\n",
    "    c. normal: S<sub>ku</sub> = 0 <br>"
   ]
  },
  {
   "cell_type": "code",
   "execution_count": 14,
   "id": "83e0553e",
   "metadata": {
    "execution": {
     "iopub.execute_input": "2022-02-14T14:01:47.535453Z",
     "iopub.status.busy": "2022-02-14T14:01:47.534863Z",
     "iopub.status.idle": "2022-02-14T14:01:47.542088Z",
     "shell.execute_reply": "2022-02-14T14:01:47.542663Z",
     "shell.execute_reply.started": "2022-02-14T13:50:53.787069Z"
    },
    "papermill": {
     "duration": 0.057525,
     "end_time": "2022-02-14T14:01:47.542828",
     "exception": false,
     "start_time": "2022-02-14T14:01:47.485303",
     "status": "completed"
    },
    "tags": []
   },
   "outputs": [
    {
     "name": "stdout",
     "output_type": "stream",
     "text": [
      "Skewness 11.09206510721386\n",
      "Kurtosis 158.17805273939567\n"
     ]
    }
   ],
   "source": [
    "print(\"Skewness\",skew(frame.Numerator, bias = False))\n",
    "print(\"Kurtosis\",kurtosis( frame.Numerator, bias = False))"
   ]
  },
  {
   "cell_type": "code",
   "execution_count": 15,
   "id": "02d25fa1",
   "metadata": {
    "execution": {
     "iopub.execute_input": "2022-02-14T14:01:47.640911Z",
     "iopub.status.busy": "2022-02-14T14:01:47.640288Z",
     "iopub.status.idle": "2022-02-14T14:01:47.735944Z",
     "shell.execute_reply": "2022-02-14T14:01:47.735435Z",
     "shell.execute_reply.started": "2022-02-14T13:50:53.796759Z"
    },
    "papermill": {
     "duration": 0.145808,
     "end_time": "2022-02-14T14:01:47.736076",
     "exception": false,
     "start_time": "2022-02-14T14:01:47.590268",
     "status": "completed"
    },
    "tags": []
   },
   "outputs": [
    {
     "data": {
      "text/html": [
       "<div>                            <div id=\"24355e35-da67-4de4-93d0-0771121baa37\" class=\"plotly-graph-div\" style=\"height:525px; width:100%;\"></div>            <script type=\"text/javascript\">                require([\"plotly\"], function(Plotly) {                    window.PLOTLYENV=window.PLOTLYENV || {};                                    if (document.getElementById(\"24355e35-da67-4de4-93d0-0771121baa37\")) {                    Plotly.newPlot(                        \"24355e35-da67-4de4-93d0-0771121baa37\",                        [{\"alignmentgroup\":\"True\",\"bingroup\":\"x\",\"hovertemplate\":\"Numerator=%{x}<br>count=%{y}<extra></extra>\",\"legendgroup\":\"\",\"marker\":{\"color\":\"#636efa\",\"pattern\":{\"shape\":\"\"}},\"name\":\"\",\"offsetgroup\":\"\",\"orientation\":\"v\",\"showlegend\":false,\"x\":[6513,151,736,139,117854,49,4528,91,422,3454,83,682,651,55,3293,635,363,115,31687,445,374,69,349,1315,34,27,1224,382,272,5996,788,78,6194,6824,170,7742,7030,2291,2934,629,1869,1045,4545,567,715,133,2274,1350,2045,216,195,60,1278,203,1662,561,215,2930,63,25317,1474,14,312,36,31,610,89,18,8744,36,37,186,91,14,398,22,1236,2275,1767,1296,808,703,33,94,87,499,17,17,804,65,232,11,42,82,42,18,136,537,36,42,30,29,42,18,13,20,19,14,617,12,6454,268,91,50,1690,19,19,68,23,526,30,107,509,145,433,319,219,265,22,607,13,151,25,39,23,15,48,35,11,1071,13,64,13,37997,20,998,60,1746,18,24,489,1216,241,51,13143,244,55,39,602,623,75,1855,79,21,2226,1106,102,2647,1977,350,868,95,761,430,1797,172,21,349,216,676,48,37,451,651,176,21,1259,128,565,122,41407,23,1497,78,241,1220,57,535,116,43,1317,280,271,102,6748,141,252,62,280,479,29,21,373,253,257,2957,620,48,2355,2512,63,2599,2785,660,1005,472,607,491,1418,365,631,106,834,965,978,122,148,55,358,182,826,282,153,3828,113,439,96,73315,27,2852,69,283,2251,51,397,397,36,2083,424,239,72,19745,292,221,46,208,838,27,15,793,254,198,3668,520,45,3889,4216,104,4884,4469,1307,1798,398,1088,654,2730,287,454,71,1474,851,1302,136,122,26,816,136,1057,349,126,2685,38,297,43,44533,22,1675,22,139,1203,32,285,254,19,1210,211,124,43,11939,153,153,23,141,477,12,431,128,74,2328,268,33,2304,2608,66,2858,2560,984,1136,231,781,391,1815,280,261,62,800,499,743,80,73,34,462,67,605,212,89,9939,196,1044,185,191904,97,6858,140,592,7936,122,835,1388,88,5859,1250,478,148,52227,1031,541,79,479,2425,53,43,2194,572,351,10275,1125,99,10111,10109,285,12761,11646,3141,4802,950,2695,1734,6521,910,1015,9,176,3415,1936,3281,337,323,67,2542,257,2933,852,346,185,765,13,11,49,12,51,19,13,44,43,69,25,19,28,12,21,23,957,19,9676,401,12,237,79,11,2360,25,33,86,34,814,42,182,749,214,668,498,328,11,361,38,943,20,212,32,59,31,23,76,58,14,4051,91,38416,2150,775,49,48,1039,167,21,13260,70,54,13,284,135,26,610,43,1996,3440,2935,1883,994,1194,45,132,115,602,22,24,1228,97,379,21,70,11,156,62,29,2263,24,121,21,77639,54,1937,15,101,4827,39,40,1139,23,2694,592,79,25709,704,118,82,1355,16,1393,168,14,4274,137,21,4192,2046,183,5105,4392,593,1699,236,1154,921,2872,441,64,12,656,508,1296,91,77,1273,15,1443,313,62,1549,161,764,156,54967,37,1906,110,318,1951,73,634,174,52,1851,444,344,126,8625,229,324,69,348,702,42,27,464,318,329,4025,843,68,3279,3266,92,3552,3698,816,1335,613,805,632,1753,428,852,136,1082,1196,1370,176,227,62,482,224,1162,378,226,5154,129,563,115,100117,41,3758,93,361,3971,65,462,686,48,2970,620,285,83,26869,525,275,50,246,1251,34,24,1125,332,221,5157,659,52,5333,5440,140,6648,6187,1641,2479,517,1407,927,3425,420,579,85,1935,1070,1718,179,173,30,1212,158,1523,453,169,4785,67,481,70,91780,56,3099,47,231,3965,57,373,702,40,2889,630,193,65,25355,506,266,29,233,1174,19,19,1069,240,130,5118,466,47,4777,4669,145,6113,5458,1500,2323,433,1288,807,3096,489,436,91,1480,866,1563,158,150,37,1330,99,1410,399,177,3426,45,308,46,74050,48,2330,49,170,4482,39,153,737,33,2566,615,115,33,20540,586,167,130,1110,19,16,970,190,79,4279,337,21,3917,3285,115,5019,4616,850,1868,321,826,689,1976,343,300,43,1141,586,1236,121,128,1264,54,1271,291,131,1121,28,13099,676,463,17,429,78,4516,34,17,98,44,212,21,760,1165,1168,587,186,491,38,28,103,424,32,147,28,74,20,11,49,228,13,14,14,27,340,3222,133,146,29,670,14,18,11,288,12,75,240,69,235,179,109,96,16,336,61,20,28,23,2263,24,121,21,39642,54,1937,15,101,4827,39,40,1139,23,2694,592,79,25709,704,118,82,1355,16,1393,168,14,4274,137,21,4192,2046,183,5105,4392,593,1699,236,1154,921,2872,441,64,12,656,508,1296,91,77,1273,15,1443,313,62,290,33,199,34,13560,14,409,32,77,731,16,99,58,534,164,73,24,1877,88,72,68,223,13,91,65,72,1068,223,20,924,754,29,953,913,156,330,141,198,141,335,63,221,30,248,231,392,54,79,124,42,336,96,73,1326,16,124,19,26802,14,906,24,78,1720,14,65,289,12,887,196,46,11,7124,233,54,38,413,332,78,23,1489,139,1444,1224,36,1764,1718,334,681,119,319,273,695,133,125,14,461,219,416,43,51,396,22,466,104,43,2100,29,184,27,47247,34,1424,25,92,2762,25,88,448,21,1679,419,69,22,13416,353,113,92,697,12,638,112,56,2790,198,14,2473,2061,79,3255,2898,516,1187,202,507,416,1281,209,175,29,680,367,820,78,77,868,32,805,187,88,6332,181,680,140,113063,53,4423,84,402,3277,68,745,744,58,3075,652,368,66,30170,378,424,51,324,1288,45,38,1171,454,303,5737,749,43,5668,6767,193,7491,6738,2238,2811,601,1786,900,3796,551,786,147,2234,1329,2065,247,213,63,1250,174,1616,545,238,2943,37,24494,1414,14,325,30,31,543,84,23,8423,31,61,217,99,13,435,26,1073,2112,1821,1233,753,671,23,115,85,396,30,28,768,69,214,16,60,96,60,28,99,488,17,18,23,12,13,40,13,18,28,16,28,11,11,42,12,524,15,5840,241,71,19,39,1535,16,29,47,24,480,24,98,485,123,399,304,186,235,15,493,15,178,25,51,32,15,39,30,2147,1657,5008,4914,35121,181,227,167,20,26,117,64,12,206,137,90,298,680,978,17,19,13,15,37,47,547,121,177,408,272,11,17,65,106,740,529,449,66,140,206,14,126,26,40,96,44,17,182,122,84,1351,167,547,126,41147,29,1551,73,240,1255,45,607,131,33,1265,300,294,57,6558,143,270,45,243,459,37,23,319,321,280,2940,619,30,2287,2471,61,2553,2770,698,1025,469,552,470,1260,374,663,116,792,908,1083,145,172,59,345,162,857,285,160,3690,117,408,96,70772,34,2840,61,277,2195,46,459,436,40,1954,444,252,49,19018,265,241,37,193,822,31,14,759,265,216,3636,508,28,3702,4069,124,4690,4274,1254,1758,382,1022,578,2326,320,450,101,1453,803,1297,136,141,36,757,113,1045,330,137,2642,64,272,44,42290,19,1583,23,125,1082,22,286,308,18,1121,208,116,17,11152,113,183,14,131,466,14,24,412,189,87,2101,241,15,1966,2698,69,2800,2464,984,1053,219,764,322,1470,231,336,46,781,526,768,111,72,27,493,61,571,215,101,9922,227,978,206,186944,92,6794,130,603,7645,109,906,1515,92,5624,1239,482,103,50937,980,643,60,465,2336,60,49,2102,650,369,9781,1079,66,9615,10006,310,12662,11309,3098,4592,872,2653,1573,5649,926,1098,10,193,3329,1901,3424,372,326,78,2376,242,2866,813,323,148,11,711,25,24,32,18,15,57,32,12,31,42,22,35,14,17,20,47,14,841,17,8973,381,201,22,64,14,2185,27,47,62,33,771,45,156,704,186,649,460,283,352,26,828,23,244,37,65,38,22,71,39,11,4206,65,38041,2146,21,835,42,1009,150,32,12994,57,88,26,308,128,28,623,45,1840,3239,3190,1834,949,1118,32,150,117,512,35,46,13,1203,106,359,23,89,152,89,33,2147,12,106,17,74034,47,1834,11,82,4439,39,54,1251,23,2517,572,48,25032,646,142,88,1272,11,1404,184,22,3895,114,3988,1985,208,5048,4164,584,1588,180,1132,787,2385,419,52,16,653,510,1291,105,65,1117,19,1352,283,58,1657,206,740,182,55019,40,1910,107,354,2013,65,715,189,46,1862,468,368,88,8459,244,362,51,300,676,47,28,403,386,329,4026,849,47,3226,3278,86,3553,3692,848,1343,610,740,614,1558,455,900,146,1034,1150,1537,183,245,73,481,215,1207,361,214,5008,137,529,122,97777,46,3779,82,367,3859,62,526,696,50,2913,628,291,63,26433,496,326,45,247,1166,39,20,1120,341,245,5090,645,37,5134,5251,171,6541,5927,1597,2396,487,1366,853,2977,460,576,121,1854,1008,1782,175,183,40,1124,150,1544,443,166,4914,90,449,84,89166,46,3015,48,236,3786,47,380,819,42,2711,611,191,40,24504,484,317,15,218,1170,21,29,982,309,124,4691,434,29,4481,4755,139,6120,5382,1501,2196,385,1287,720,2672,466,522,72,1475,893,1642,197,143,38,1252,92,1322,370,157,3590,46,298,66,73881,39,2371,46,201,4368,41,161,771,34,2549,587,114,37,20767,602,219,141,1048,15,11,931,196,66,4044,330,23,3947,3239,117,5171,4571,860,1781,271,867,673,1853,375,312,46,1095,572,1359,125,113,15,1126,68,1250,268,85,1263,28,13547,732,510,11,466,66,4571,26,27,91,29,188,19,767,1127,1369,601,196,447,35,32,116,435,37,145,29,56,29,49,223,17,19,13,14,317,3133,140,130,25,650,11,18,15,291,21,58,219,63,250,156,97,117,11,335,66,12,14,32,1177,59,38913,26,926,36,2909,19,20,687,14,1389,320,18,12741,467,77,49,710,763,101,2264,55,2010,865,88,2435,2364,251,802,99,401,474,982,283,26,283,260,689,65,35,672,11,771,141,25,306,39,193,56,13872,11,359,34,114,758,20,108,58,13,597,168,74,31,1901,101,92,57,217,84,65,49,1086,230,17,939,807,25,1000,922,150,318,141,188,144,298,81,237,30,242,242,454,38,73,14,136,53,350,76,54,1318,20,121,26,27005,12,939,21,90,1664,16,67,260,959,184,39,14,7415,231,85,54,344,361,76,29,1454,137,1432,1182,47,1851,1653,343,638,105,344,275,651,140,126,20,401,205,485,39,42,367,37,499,113,29,2272,26,177,40,46876,27,1432,25,111,2704,25,94,511,24,1590,403,75,23,13352,371,134,87,704,570,120,37,2590,193,14,2515,2057,70,3320,2918,517,1143,166,523,398,1202,235,186,26,694,367,874,86,71,759,31,751,155,56,6705,203,695,162,113107,41,4691,91,441,3402,89,757,580,60,2845,818,341,66,29502,337,501,46,363,1227,32,31,1107,394,281,5931,831,56,5541,6532,196,7503,6939,2247,2990,542,1830,907,3823,618,618,132,2181,1414,1961,208,219,38,1272,206,1702,505,241,3150,41,24473,1429,313,43,24,527,104,23,8086,34,67,249,90,16,14,416,30,1108,2080,1859,1290,702,708,24,123,62,394,30,16,764,73,236,21,68,101,40,28,21,389,34,51,24,11,24,20,23,11,12,11,20,562,5841,278,81,37,1460,19,35,39,19,478,25,93,384,116,469,345,217,265,19,451,15,190,28,43,24,21,41,15,969,72,34320,994,39,1532,21,31,384,989,290,45,11900,152,71,45,518,550,96,1594,78,1870,1131,113,2510,1753,359,846,82,724,331,1468,161,18,335,255,559,32,16,487,647,129,35,1579,190,531,147,42781,32,1673,69,378,1409,60,628,149,41,1157,374,263,55,6939,140,331,44,283,397,25,24,372,256,252,3159,674,51,2295,2420,81,2647,2903,722,1094,409,596,485,1307,397,549,111,784,1007,1021,119,195,35,407,143,867,288,161,4125,132,422,107,71795,33,3022,51,307,2217,50,459,338,38,1801,541,236,46,18716,224,315,33,204,817,25,17,730,237,164,3886,514,40,3621,4089,119,4845,4494,1291,1835,328,1136,580,2427,359,401,80,1374,889,1239,128,160,29,820,125,1083,296,151,2580,71,273,55,41312,1669,40,134,1185,39,298,242,22,1044,277,105,20,10786,113,186,13,159,410,377,157,117,2045,317,16,1920,2443,77,2658,2445,956,1155,214,694,327,1396,259,217,52,807,525,722,80,59,452,81,619,209,90,9974,255,970,222,183949,79,6942,139,576,7216,122,962,1289,90,5239,1376,437,103,49888,829,684,64,467,2192,42,40,2096,555,342,9832,1163,85,9365,9567,313,12781,11755,3057,4681,771,2600,1571,5629,1004,899,13,176,3147,1974,3115,285,305,43,2369,278,2784,754,338,28,565,18,11,11,46,19,15,70,36,14,19,33,27,34,17,13,11,13,16,21,20,875,19,8748,409,202,11,63,2081,26,48,46,29,745,46,156,566,189,697,478,342,349,32,742,15,247,39,64,30,31,65,27,13,4239,60,37182,2088,13,675,53,40,1003,157,31,12466,66,85,11,328,129,24,14,586,45,1845,3124,3262,1856,875,1148,32,169,91,512,32,34,1140,106,386,25,101,154,54,32,2029,12,119,12,71374,28,1816,21,79,4059,36,68,970,14,2273,620,58,24398,524,132,81,1150,12,1357,190,12,3669,140,3797,1946,196,5017,4303,553,1542,175,1116,777,2414,442,45,13,578,533,1128,59,39,1177,19,1281,248,63,1929,237,727,198,56693,48,2092,100,468,2163,76,765,241,52,1685,517,328,84,8907,226,415,58,333,630,35,27,466,300,305,4271,895,76,3226,3135,113,3665,3896,924,1434,522,747,654,1621,493,761,140,1005,1231,1395,155,246,40,594,185,1212,367,220,5369,153,537,128,97408,44,3872,78,360,3620,61,543,592,48,2715,724,275,59,25833,393,384,42,243,1169,29,22,1091,298,179,5309,629,52,5022,5235,161,6655,6244,1584,2462,424,1433,847,3070,524,502,13,99,1721,1112,1640,153,195,31,1180,166,1479,384,183,4605,102,433,94,86540,35,3070,61,216,3596,61,419,697,42,2524,652,162,44,24055,436,300,22,224,1023,13,18,1005,257,163,4523,534,33,4342,4332,152,6126,5511,1473,2219,347,1167,724,2559,480,397,77,1426,862,1475,132,110,12,1189,112,1305,370,155,3269,52,275,60,70842,38,2251,48,135,3814,33,205,709,30,2394,558,96,37,20386,492,183,18,104,965,989,161,61,3901,332,29,3824,3035,117,5278,4816,810,1691,229,770,664,1806,386,281,44,966,560,1154,77,86,1097,72,1082,249,97,1089,19,12709,659,362,16,476,53,4380,32,18,79,39,170,15,737,1044,1403,566,173,440,46,29,118,18,376,33,150,33,53,14,176,12,19,12,11,11,313,2907,131,121,26,621,13,267,21,63,182,73,228,133,125,84,13,291,57,11,21,24,12,1060,47,37054,21,822,12,40,2527,15,37,586,1284,330,13,12498,372,61,36,632,807,94,2075,62,1927,815,83,2507,2550,194,696,93,392,446,946,281,27,243,278,569,27,23,690,634,119,28,350,47,196,51,13912,16,419,31,90,754,16,137,92,11,528,143,65,29,1968,86,84,14,50,233,94,44,53,1112,221,25,931,715,32,1018,993,202,340,113,151,169,314,96,212,29,221,224,374,36,51,187,42,345,79,59,1244,21,115,21,25613,11,850,27,53,1403,11,84,254,914,183,39,13,7117,169,69,39,352,361,61,15,1423,115,12,1401,1146,42,1810,1750,293,627,96,297,267,643,165,101,19,347,223,401,25,35,360,41,396,88,32,2025,31,160,39,45228,27,1401,21,82,2411,22,121,455,20,1480,375,57,24,13269,323,114,65,613,628,100,46,2478,217,17,2422,1889,75,3468,3066,517,1064,133,473,397,1163,221,180,25,619,337,753,52,51,737,31,686,161,65,6965,214,698,137,113149,52,5317,92,402,3432,74,769,660,50,2793,856,328,72,28793,472,517,40,353,1232,35,16,1096,407,303,5848,801,49,5828,6574,132,7744,6632,2406,2755,585,1957,826,3791,510,662,117,2232,1349,1832,175,221,57,1266,192,1583,546,220,3344,35,25073,1693,30,372,30,38,512,128,24,8040,50,60,12,234,81,24,386,23,1154,2031,1986,1328,793,678,27,127,58,398,783,92,188,62,83,42,26,19,403,20,37,45,20,12,36,31,23,14,15,13,574,5571,258,67,11,48,1376,17,20,32,18,439,24,111,366,103,367,362,198,272,510,11,177,12,33,17,34,40,919,62,33176,17,1132,25,1565,13,28,389,958,287,42,11216,242,60,43,519,526,58,14,1632,54,1858,1174,73,2423,1660,298,724,83,771,296,1417,147,28,320,265,519,44,443,12,543,184,30,1716,202,565,126,43905,28,1843,56,358,1361,54,647,213,40,1194,428,251,57,6980,169,362,33,263,426,31,385,303,276,3095,680,39,2507,2554,54,2847,2842,836,1079,458,684,440,1282,319,593,94,849,939,1004,101,202,48,463,174,883,264,154,4381,128,439,86,71141,36,3296,70,253,2229,51,472,435,30,1701,557,199,44,18314,306,312,27,202,837,25,711,260,191,3748,507,40,3684,4045,83,4908,4140,1389,1675,387,1102,532,2409,330,395,72,1375,866,1106,118,150,35,766,115,1057,308,146,2584,86,259,51,42005,16,2020,22,149,1203,23,297,224,20,1092,299,129,28,10479,166,205,13,151,395,385,147,112,2100,294,2144,2529,49,2836,2492,1017,1080,198,855,294,1382,180,267,45,857,483,726,57,71,22,500,77,526,237,74,9917,264,950,173,185831,81,7940,140,570,7190,106,990,1422,82,5255,1443,437,102,49574,1134,713,61,494,2211,48,24,1990,565,399,9946,1107,76,9856,9449,241,13307,11792,3236,4305,861,2781,1520,5689,934,929,159,3295,1949,2918,256,326,65,2330,267,2793,797,284,24,537,25,11,50,16,61,25,17,47,36,31,20,15,22,12,862,13,8634,394,169,16,71,2067,11,29,34,43,24,706,40,184,552,172,644,502,300,404,20,789,16,11,264,25,59,20,11,25,67,49,4294,57,38295,2422,30,18,762,41,54,993,189,33,12745,86,84,17,342,114,32,584,38,1977,2961,3459,2029,954,1051,38,170,88,523,16,23,15,1185,137,313,11,92,134,75,33,1825,13,98,70205,35,2106,13,58,4034,27,52,972,11,2253,624,60,12,23596,727,125,87,1136,1241,139,28,3823,101,3884,1908,147,4958,4194,500,1352,184,1132,776,2429,424,41,588,523,1066,78,41,1102,22,1266,290,54,2133,246,744,156,58921,34,2358,89,475,2102,71,802,357,53,1763,607,331,82,9109,303,446,50,340,658,43,14,486,362,352,4298,891,62,3425,3274,79,4011,3946,1055,1430,608,866,603,1627,449,814,123,1090,1207,1341,140,262,55,641,236,1249,348,181,5460,142,542,98,97120,50,4300,85,331,3575,69,562,693,38,2581,770,241,53,25530,548,376,36,262,1193,34,12,1045,308,228,5202,630,46,5089,5077,133,6848,6051,1663,2215,495,1418,802,3072,500,505,89,1781,1090,1512,144,190,38,1128,151,1462,398,172,4457,122,408,75,88708,31,3639,55,239,3615,37,428,728,44,2674,673,196,49,24044,586,337,25,232,1018,14,12,945,257,171,4744,477,30,4767,4372,108,6459,5741,1573,2090,366,1363,718,2617,434,424,70,1514,859,1406,112,136,27,1202,116,1331,398,112,2952,50,252,36,72682,29,2623,48,168,3758,32,221,762,32,2462,587,109,30,20781,662,196,21,141,979,13,894,158,96,4098,306,27,4028,2875,109,5563,5160,830,1550,276,824,694,1898,424,267,42,1063,600,1086,81,105,1064,75,1210,251,64,950,22,13222,729,13,390,11,16,481,61,4705,36,24,108,33,198,15,823,930,1473,701,161,373,11,43,30,125,14,402,45,125,30,51,33,134,13,16,11,288,3063,136,102,23,691,12,14,11,267,16,73,186,69,277,140,102,132,279,87,13,26,33,906,36,37029,18,974,33,2469,14,24,583,1295,337,18,12380,485,65,44,617,715,81,14,2191,47,2026,734,74,2535,2534,202,628,101,361,480,1012,277,13,268,258,547,34,31,659,723,106,24,417,44,179,30,15016,515,33,117,741,17,155,144,13,569,179,80,25,2129,134,84,17,77,232,12,101,59,76,1203,211,23,918,720,25,1164,1104,219,351,150,182,163,345,130,221,29,241,268,337,39,60,178,62,366,84,27,1079,14,103,12,25979,14,1004,15,78,1346,18,90,258,880,213,42,7216,242,64,60,356,334,48,37,1454,123,1405,1032,50,1940,1911,274,540,108,316,270,663,170,110,17,406,224,406,26,40,362,36,405,90,26,1873,36,149,24,46703,15,1619,33,90,2412,14,131,504,24,1582,374,67,21,13565,420,132,12,81,623,560,110,59,2644,183,21,2623,1843,59,3623,3249,556,1010,168,508,424,1235,254,157,25,657,376,680,55,65,702,39,805,161,38,6706,162,807,156,108920,34,5362,102,389,3501,81,703,673,66,2536,708,265,76,27302,484,535,44,402,1132,39,14,965,434,318,5218,745,59,5659,5967,155,7086,6548,2455,2727,575,1923,794,3824,507,694,18,99,2219,1480,1807,190,286,39,1270,158,1637,483,202,3060,42,23198,1760,19,322,37,33,450,98,7296,56,64,27,214,78,11,347,19,1105,1803,1719,1249,833,602,122,41,404,14,736,92,200,48,103,40,14,341,13,39,14,15,29,23,19,624,5525,291,86,35,1349,17,18,27,19,360,18,104,330,86,335,405,181,267,11,512,182,30,30,29,53,24,841,48,31528,13,1023,23,1643,26,13,479,12,737,225,23,10881,252,93,59,458,483,83,1364,57,1851,862,84,2139,1664,232,783,85,731,285,1431,171,23,322,273,505,36,23,449,505,141,28,1733,158,658,149,43080,18,1922,74,334,1298,52,601,150,47,1198,354,223,64,6694,169,338,38,285,401,30,300,317,288,2893,627,46,2389,2451,55,2794,2850,872,1039,458,683,442,1302,293,627,17,84,858,1042,971,117,238,34,471,143,941,248,152,4182,103,524,92,70059,22,3434,77,271,2255,54,437,416,36,1649,424,188,51,17822,333,311,30,268,731,19,603,286,198,3509,465,47,3694,3756,103,4661,4298,1410,1676,377,1161,507,2432,307,407,15,69,1434,941,1103,126,192,27,830,102,1119,286,120,2524,59,283,64,38861,12,1928,25,118,1246,27,266,257,30,887,284,77,25,9480,151,224,14,134,401,20,362,148,120,1709,280,12,1965,2211,52,2425,2250,1045,1051,198,762,287,1392,200,287,30,785,539,704,64,94,12,440,56,518,197,82,9335,215,1102,223,178537,66,7741,157,549,7054,123,880,1398,97,4627,1303,388,105,47630,1097,762,69,543,2023,48,20,1920,579,436,8803,1058,89,9672,8862,311,12284,11303,3232,4306,842,2794,1341,5719,874,978,23,141,3275,2113,2835,267,367,57,2346,231,2801,710,313,14,15,500,22,18,33,16,59,22,13,26,39,32,26,13,15,936,20,8495,445,190,19,48,1953,28,27,42,26,633,27,146,522,163,581,563,266,398,16,820,12,248,50,53,23,37,98,35,3840,62,35442,2427,19,17,644,42,43,827,162,22,11766,87,85,27,305,118,19,11,535,33,1881,2723,3078,1903,987,949,20,170,61,544,20,29,1152,136,288,18,90,151,49,19,1597,117,11,66710,27,1874,23,39,3981,49,30,1117,21,1799,559,46,22953,718,180,113,996,11,1228,156,23,3281,107,3863,1551,197,4462,3960,409,1465,169,1117,645,2447,429,43,576,557,1001,69,40,1097,14,1171,247,65,2134,204,848,204,57985,34,2435,103,459,1953,71,736,206,58,1695,521,300,88,8986,275,438,58,361,635,37,11,398,367,386,3888,851,71,3393,3245,90,3993,3911,1072,1400,610,880,596,1610,381,860,22,116,1111,1305,1333,153,297,48,640,207,1314,332,213,5172,122,646,118,95192,27,4322,105,335,3589,65,503,667,54,2454,654,241,59,25055,580,392,39,322,1036,22,14,940,341,231,4762,611,59,5153,4790,166,6464,5976,1704,2204,473,1514,717,3078,449,508,17,78,1850,1167,1480,147,222,36,1217,143,1517,365,160,4163,93,456,105,83344,39,3419,52,214,3465,58,377,731,43,2173,649,147,46,22575,517,370,30,221,987,26,980,238,205,4040,447,30,4519,4072,145,5820,5327,1528,2102,369,1280,624,2641,425,470,63,1425,946,1355,120,145,21,1129,88,1284,345,153,2629,53,295,67,69617,32,2379,55,160,3553,42,177,725,31,2091,595,123,29,20328,613,227,25,141,891,955,145,118,3585,313,30,4013,2895,156,5198,4755,777,1579,267,871,547,1895,367,284,42,1056,633,1028,77,81,18,1076,73,1164,227,111,780,20,12244,667,322,377,64,15,4470,31,21,91,40,188,14,776,920,1359,654,154,347,12,48,20,140,15,416,44,88,42,48,159,20,11,312,2970,154,104,13,604,11,15,273,42,192,77,246,158,85,131,308,66,20,23,45,11,756,69,35182,14,851,16,2338,23,17,638,1062,334,23,12072,466,87,54,538,745,73,13,1917,50,2012,689,113,2323,2296,177,682,84,386,360,1016,258,20,254,284,496,33,17,648,666,106,37,401,46,190,55,14905,16,513,29,125,655,19,135,56,11,497,167,77,24,2292,106,100,20,76,234,98,50,98,995,224,25,1004,794,35,1199,1061,200,361,152,197,154,308,88,233,32,253,263,362,36,59,14,169,64,373,84,61,990,19,122,26,25133,888,28,64,1334,11,66,251,18,805,230,53,7233,247,81,54,305,337,55,33,1253,146,12,1459,1034,63,1803,1678,294,528,96,353,210,646,142,101,416,226,377,21,30,387,41,398,79,40,1639,34,173,41,44483,27,1491,27,96,2219,31,111,474,13,1286,365,70,21,13095,366,146,16,87,586,618,90,85,2331,167,18,2554,1861,93,3395,3077,483,1051,171,518,337,1249,225,183,33,640,407,651,56,51,689,32,766,148,71,5651,131,544,131,105358,41,3836,101,409,2864,65,655,569,51,2780,517,379,86,30316,361,377,44,323,1172,40,19,1201,291,207,5006,680,77,5645,6128,148,6656,5983,2067,2658,658,1600,956,3858,532,471,99,2270,1147,1701,198,223,43,1020,172,1455,487,202,2530,46,23537,1325,251,54,17,515,89,21,8282,40,55,176,98,18,382,41,13,1187,2139,1518,1226,663,741,31,107,68,435,24,863,85,224,22,49,57,34,25,31,477,24,11,44,17,20,22,100,34,30,683,6708,317,11,68,12,63,1838,16,19,60,14,406,31,126,539,149,455,294,196,277,22,560,15,243,41,56,22,15,54,40,13,986,18,48,36171,17,868,41,1517,21,35,466,1165,228,45,11,13062,188,61,69,551,642,72,15,1722,73,2029,1124,89,2572,1771,398,840,123,647,404,1567,164,23,373,238,612,48,35,381,12,546,179,27,1113,107,413,117,33698,23,1157,86,269,969,35,498,70,31,986,186,294,63,5875,122,233,39,213,401,33,11,348,180,187,2277,510,50,2060,2041,53,1965,2110,578,757,460,498,440,1114,330,384,84,711,724,726,92,169,40,216,154,744,204,127,3306,80,308,90,64368,29,2416,68,272,1807,43,381,315,34,1755,311,247,58,18380,233,233,36,204,749,26,783,185,120,3169,433,43,3396,3665,94,4270,3684,1134,1577,410,910,582,2262,305,291,64,1394,727,1071,121,152,19,642,114,910,310,109,2344,51,236,41,40985,12,1420,33,137,1057,22,274,254,17,1025,206,132,28,11934,128,144,119,423,14,13,418,106,87,1837,247,34,2249,2463,54,2386,2299,932,1081,248,689,374,1596,227,180,35,876,420,630,77,71,24,378,58,545,177,93,9086,187,770,171,174733,67,6021,172,564,6930,103,815,1287,90,5008,1027,487,118,50778,956,543,66,451,2211,59,33,1959,439,267,8878,968,99,9596,8953,268,11335,10068,2997,4245,926,2382,1641,5534,864,726,8,128,3349,1682,2763,324,335,55,1980,224,2619,774,297,37,672,14,12,32,17,14,58,26,33,34,143,40,38,11,11,15,14,11,1112,10306,474,17,214,15,92,13,2633,23,51,82,21,743,47,215,770,239,689,482,306,13,414,34,865,20,325,63,82,28,27,74,50,16,3646,66,36180,1982,14,721,70,33,893,139,29,12869,96,73,260,124,22,565,61,13,1976,3178,2556,1730,848,1178,39,146,95,556,14,33,1298,112,331,29,85,109,62,42,2187,28,83,73234,33,1727,21,72,4254,44,47,1103,25,2468,540,67,14,25431,629,122,115,1268,11,1240,156,20,3814,121,4058,1890,173,5066,3934,684,1534,241,1016,903,2444,399,54,659,498,1185,94,74,964,17,1298,317,48,1438,146,571,151,45866,33,1534,126,355,1631,48,603,120,45,1432,311,351,92,7663,217,303,53,275,588,44,19,427,230,237,3230,699,69,2934,2707,84,2716,2930,751,1014,588,676,578,1399,406,570,105,914,937,1024,155,236,50,320,197,1045,287,180,4620,102,412,100,89559,40,3255,104,334,3310,58,447,553,45,2583,484,290,64,25559,439,301,41,251,1100,32,11,1055,234,145,4578,558,49,4760,4710,134,5923,5254,1496,2135,515,1197,836,2869,440,390,74,1813,940,1467,168,187,23,970,142,1359,422,146,4465,85,358,71,85169,27,2766,68,230,3620,45,368,734,45,2425,543,197,54,25217,517,242,25,200,1111,27,22,904,205,122,4300,410,50,4836,4243,134,5412,4814,1500,2110,411,1184,805,2665,424,336,54,1536,742,1296,156,148,32,1010,82,1260,352,151,3435,56,226,40,69375,26,2185,71,155,4066,38,160,718,39,2228,510,108,32,20462,595,166,22,128,1039,19,14,758,148,60,3872,288,22,3951,2825,120,4679,4085,930,1587,268,782,685,1676,332,255,29,1079,535,1062,126,112,12,960,52,1164,287,95,1116,20,12643,657,470,16,16,378,50,4587,56,18,84,26,183,20,789,1039,1038,504,185,437,39,27,121,435,27,107,36,52,28,17,195,14,13,12,43,429,3598,157,146,29,795,32,22,337,16,89,231,90,234,188,110,137,12,305,82,22,26,12,20,1201,35,37063,16,859,15,31,2737,23,12,637,17,1303,312,22,12369,441,61,46,717,598,84,2092,48,2029,766,84,2494,2163,286,694,118,369,499,877,235,31,286,260,573,46,39,583,752,138,21,325,39,158,34,12168,377,40,86,662,13,105,50,14,446,125,57,29,1788,95,70,14,62,187,11,79,50,50,953,189,19,874,666,31,751,820,173,257,128,178,138,285,76,186,21,203,213,298,63,67,104,43,301,83,53,1314,22,104,25191,11,839,36,62,1503,15,66,238,11,828,173,43,7179,206,68,47,351,272,49,25,1409,125,1364,1045,40,1653,1570,362,558,105,287,254,607,135,99,419,213,396,47,35,328,28,449,112,37,2121,34,122,30,44184,15,1346,35,93,2563,23,94,480,28,1400,337,65,26,13283,389,98,17,81,688,13,486,99,35,2463,163,16,2587,1780,80,3026,2515,568,1029,163,495,431,1069,197,156,19,660,322,666,79,77,632,24,715,175,58,5763,138,710,148,111266,25,4502,98,487,3412,102,678,600,78,2634,568,370,96,30443,417,399,49,375,1173,58,31,1169,385,226,5256,821,57,6145,6960,202,6685,6048,2198,3189,530,1594,897,4031,482,493,114,2651,1377,1956,183,211,45,1080,182,1756,600,245,30,530,17,11,12,17,15,47,16,35,33,108,32,11,12,16,11,18,710,14,7320,413,15,74,12,63,1804,14,29,48,31,487,42,163,681,162,482,289,291,282,24,604,16,307,39,50,18,12,45,39,12,2553,57,24217,1485,21,281,47,17,540,95,26,8182,37,52,15,155,79,18,380,44,1238,2317,1540,1172,781,829,29,115,61,414,13,20,951,84,229,28,39,84,59,22,1013,22,87,39070,1192,11,57,1878,27,59,497,17,1131,248,70,13450,240,73,71,639,627,108,23,1847,84,2321,1389,133,2733,1801,406,990,85,596,355,1551,152,26,495,308,730,48,59,428,670,186,43,1140,100,515,128,34680,1241,75,353,1074,64,494,83,46,821,210,259,74,5563,129,249,36,261,329,28,14,376,219,195,2304,617,42,2150,2228,65,1784,2208,612,857,366,527,411,1112,296,389,88,804,880,854,75,127,36,216,165,901,274,155,3441,79,395,101,68393,12,2749,73,324,2174,55,408,351,54,1604,326,251,60,18605,260,249,27,235,714,35,778,235,132,3333,506,35,3852,4110,119,4222,3967,1250,1844,325,992,544,2374,268,286,68,1689,855,1199,115,134,28,697,99,1129,405,140,2322,59,315,47,42873,13,1753,25,163,1238,47,270,249,24,1030,242,119,36,11838,157,150,22,140,459,23,21,391,150,94,1923,315,22,2293,2850,83,2463,2081,948,1345,205,602,353,1657,214,207,46,962,522,757,68,77,17,383,83,627,195,105,8942,176,936,198,180053,62,6706,150,650,7783,129,851,1291,110,4853,1074,482,131,49504,979,564,63,567,2067,77,40,1916,537,306,9084,1193,86,10076,10129,340,11204,10339,3247,4881,800,2346,1471,5865,772,722,159,3850,1938,3077,301,350,55,2134,244,2836,894,366,36,734,33,16,17,24,20,15,57,30,12,45,42,151,44,27,16,18,11,23,1112,21,10945,579,21,208,14,98,2515,18,54,67,38,792,61,249,957,244,733,476,412,456,32,939,12,23,429,61,66,30,22,67,51,14,3564,68,36416,2136,27,792,54,31,952,156,35,12350,62,69,18,226,107,24,579,68,1969,3427,2594,1689,1017,1239,40,140,81,506,17,30,1425,113,320,43,58,124,95,43,2098,28,133,11,75479,42,2027,16,97,4818,41,84,1129,27,2403,577,93,14,24959,680,144,127,1258,14,1210,187,32,3846,163,11,4365,2305,237,5105,4114,728,1738,203,943,742,2485,340,48,12,808,584,1378,89,102,1034,20,1373,328,83,1466,125,664,167,46961,12,1625,109,445,1791,72,614,123,63,1229,315,319,102,7271,211,312,48,365,483,39,17,450,277,260,3318,847,68,3021,2947,93,2500,3039,798,1141,481,676,535,1410,377,565,121,1050,1093,1175,115,209,44,344,215,1178,364,211,4681,88,472,118,93308,23,3628,91,390,3695,67,486,605,66,2421,499,289,71,25420,480,323,33,324,1033,42,12,1021,309,171,4701,639,45,5191,5231,174,5818,5524,1666,2444,429,1256,776,3034,372,378,83,2179,1054,1596,152,177,30,1089,122,1527,497,194,4261,88,464,80,86745,39,3078,59,260,4088,62,365,686,44,2432,575,193,60,24084,499,241,30,243,1034,35,28,895,228,135,4383,554,41,4885,4898,166,5386,4815,1581,2437,371,1090,695,2831,400,344,76,1671,884,1481,149,173,25,1045,122,1309,397,172,3179,38,226,50,68787,37,2204,52,163,4371,27,173,691,32,2219,506,112,35,19061,562,165,14,192,894,19,747,152,80,3828,372,29,3931,3169,138,4519,4291,1049,1692,270,752,574,1834,290,229,45,1199,561,1121,118,139,1054,62,1080,294,121,204,16,14,43,12,16,402,3625,166,134,35,711,25,19,305,19,86,276,82,251,187,121,174,335,122,22,16,12,22,12,1011,11,12199,651,511,14,412,61,4168,25,17,71,28,199,24,731,1110,1054,517,236,410,11,25,20,92,474,29,91,15,19,40,36,21,1085,46,36409,32,835,40,2940,14,25,632,1272,329,23,11509,440,71,56,619,583,79,1999,79,2044,916,104,2372,2313,322,748,118,347,387,934,188,22,313,276,648,41,43,606,11,703,142,40,326,25,149,39,12281,384,34,92,717,120,40,17,408,105,60,28,1708,82,63,12,104,154,11,74,58,65,1014,230,26,871,719,28,716,831,186,284,115,149,124,298,81,176,33,246,213,321,40,82,128,50,277,90,56,1240,77,17,24915,11,879,18,66,1521,12,78,254,12,817,173,38,11,6815,220,74,89,319,243,74,39,1368,133,1339,1121,55,1596,1557,416,600,104,264,232,660,104,92,15,490,199,397,37,43,392,23,398,92,54,1939,29,149,33,43872,26,1325,34,97,2850,15,95,437,20,1402,333,74,24,12246,342,91,103,575,12,504,78,41,2460,239,19,2592,2048,83,2923,2734,633,1092,166,488,342,1174,186,137,30,709,362,724,81,96,662,39,682,202,67,5243,103,706,136,104054,68,4077,86,433,3248,70,550,550,56,2390,465,391,88,28932,327,415,56,354,1033,53,47,1045,354,168,5076,845,64,5626,6809,210,6537,5792,1932,3041,494,1391,780,3595,513,428,105,2332,1280,1830,187,193,36,817,173,1523,544,227,18,479,31,40,12,26,30,134,31,15,694,15,6974,366,12,126,14,48,1507,14,29,21,40,27,518,50,180,683,164,421,303,279,281,26,586,30,255,52,63,18,12,51,37,2282,90,22629,1366,21,374,46,16,490,58,20,7858,25,56,26,91,61,14,337,52,1089,2136,1497,1006,694,800,36,127,64,370,20,21,866,69,201,18,34,92,47,41,957,51,37074,30,1051,53,1711,16,39,458,11,1027,203,69,12846,197,79,73,598,15,592,105,17,1732,131,2212,1440,138,2636,1801,331,995,90,502,326,1473,145,22,431,338,666,58,36,446,630,175,32,1009,89,501,116,31990,30,1133,72,336,945,41,365,68,36,752,189,279,67,5330,89,259,53,231,293,31,288,200,147,2263,576,52,1912,2217,59,1769,2138,498,814,324,420,322,889,329,330,96,702,766,780,79,129,35,191,152,688,256,142,3078,59,388,81,63512,41,2538,52,300,2078,47,334,319,32,1430,277,252,54,17505,203,261,26,202,651,30,654,240,104,3197,554,43,3434,4039,128,4110,3731,1062,1796,284,791,474,2235,238,272,72,1446,793,1167,105,99,24,494,111,955,344,149,2163,44,318,55,40536,27,1539,34,133,1170,23,216,231,24,960,188,139,34,11426,124,154,30,152,382,23,37,391,114,64,1879,290,21,2192,2770,82,2427,2061,870,1245,210,600,306,1359,275,156,33,886,486,663,82,94,12,323,62,568,200,78,7795,137,907,186,163807,118,6001,132,564,6935,101,688,1147,81,4299,833,504,112,46729,813,583,68,507,1709,86,65,1615,511,219,8183,1154,94,8935,9656,318,10343,9436,2859,4527,693,2051,1213,5095,725,608,12,138,3354,1770,2904,291,288,57,1600,220,2469,807,333,22,683,14,14,42,14,57,23,12,38,35,173,39,23,14,14,1082,17,10326,521,17,248,17,64,2221,11,23,50,22,46,31,817,68,259,940,250,666,494,387,410,38,870,32,337,67,91,24,18,69,51,3091,111,33599,1974,25,865,53,22,917,103,32,11695,59,66,29,151,83,21,462,61,1742,3196,2370,1486,896,1152,45,151,80,457,24,30,1275,89,302,26,59,130,77,57,1783,17,78,13,68760,69,1769,16,83,4144,23,60,995,21,2090,435,94,11,23665,574,150,125,1058,25,1041,186,25,3368,212,3932,2239,217,4602,3689,619,1676,172,817,613,2241,296,49,12,735,582,1272,88,57,1013,24,1248,307,72,1249,109,629,151,42139,41,1449,96,422,1506,52,454,112,47,1087,267,342,87,6859,156,325,61,310,417,41,15,351,257,180,3082,763,77,2588,2779,83,2399,2840,649,1052,413,545,421,1135,380,453,12,118,891,955,1078,133,184,53,283,181,912,326,186,4073,75,468,99,85198,54,3308,67,349,3385,53,390,541,43,2104,397,296,62,23861,394,322,32,255,894,46,20,861,295,123,4298,672,57,4570,5107,177,5438,5064,1417,2327,361,1021,650,2787,304,333,81,1849,973,1571,140,141,33,789,129,1290,443,186,3720,62,439,87,78603,64,2693,65,215,3550,48,298,606,38,2195,436,208,50,22867,419,261,36,252,815,40,45,754,216,96,3885,481,37,4365,4549,141,4905,4372,1442,2200,332,1030,563,2307,421,275,57,1505,796,1333,151,147,24,811,91,1179,364,147,2552,34,201,50,59753,50,1924,46,131,3687,31,138,597,25,1909,368,113,24,17797,486,168,12,153,676,33,18,570,157,51,3107,309,30,3309,2847,108,3806,3644,927,1486,199,660,433,1500,212,180,33,1022,490,1074,104,95,21,783,47,946,263,106,204,11,17,11,12,39,388,3352,155,122,16,714,21,299,18,79,257,86,245,191,108,129,12,284,82,15,28,18,14,809,21,10970,608,491,427,45,12,3837,34,60,22,125,653,1060,873,480,202,352,24,16,87,409,20,101,25,38,30,16,826,27,31686,39,718,30,2433,21,537,1063,232,25,10819,377,71,52,460,449,81,1636,81,1720,799,79,1966,1888,288,681,82,315,287,768,151,27,304,244,606,30,21,567,16,618,132,40,240,20,128,35,10149,11,316,24,86,561,11,89,44,11,335,78,63,20,1529,67,66,79,124,63,57,33,819,187,25,676,562,24,630,702,151,238,89,125,99,246,51,123,22,189,189,298,54,55,18,92,29,224,70,44,995,16,80,18,21686,13,770,15,49,1307,56,222,11,674,120,44,6356,191,61,53,243,16,207,55,19,1101,118,14,1136,1068,49,1328,1333,355,531,77,230,176,552,66,61,403,180,404,35,42,295,18,335,99,37,1557,18,121,32,38067,37,1154,31,82,2380,25,82,375,14,1235,248,69,16,11441,295,107,100,433,17,363,102,32,2006,191,16,2173,1779,59,2478,2311,572,955,122,430,257,948,146,119,24,619,310,670,69,53,12,488,29,611,164,69,5130,126,557,135,106982,61,3950,83,402,3006,67,485,577,59,2483,377,385,85,29619,340,384,52,365,962,54,32,953,348,163,5229,696,73,5897,6315,225,7156,6123,1861,2865,522,1440,809,3312,573,463,107,2061,1078,1816,176,172,34,1042,123,1505,519,233,24,424,12,31,62,22,12,28,18,16,26,13,719,7208,305,109,63,1697,17,21,34,24,512,35,159,678,149,475,314,255,286,18,609,11,20,218,35,71,19,24,33,30,2100,73,23444,1320,18,516,44,18,563,59,17,7814,22,62,31,117,54,20,335,27,1191,2035,1644,997,615,732,39,82,61,342,22,729,86,163,11,58,77,68,29,1015,74,11,38774,31,1034,14,23,1537,28,41,481,13,1028,193,72,13493,187,72,73,518,578,131,17,1860,116,2362,1248,160,2988,2031,337,924,105,531,357,1342,191,26,12,382,264,732,47,43,633,12,584,166,50,923,116,371,115,31474,24,1092,55,340,758,30,304,65,37,749,120,264,52,4992,114,217,46,228,277,36,12,229,158,136,2256,479,63,1888,1958,53,1971,2102,490,770,341,454,334,850,346,365,75,623,645,730,84,97,30,299,108,737,207,131,3002,83,357,76,64712,41,2383,52,267,1926,48,289,336,34,1468,223,262,46,17941,227,233,30,217,596,34,13,572,219,106,3306,460,50,3622,3858,141,4504,3927,1018,1742,309,872,511,2045,294,272,79,1316,655,1076,111,97,22,615,78,1001,328,144,2128,43,200,59,42263,20,1567,31,135,1080,19,196,241,25,1015,154,123,39,11677,113,151,22,148,366,20,19,380,129,57,1923,236,23,2274,2457,84,2652,2195,843,1123,213,568,298,1267,278,191,28,745,422,740,65,75,12,427,45,503,191,89,7448,169,753,199,165449,103,5910,117,539,6592,118,614,1198,93,4285,753,510,102,46804,781,540,63,489,1690,67,51,1634,497,218,8321,1038,86,9257,9011,341,10902,9873,2673,4390,764,1987,1228,4655,797,632,7,148,2992,1489,2892,274,274,48,1996,186,2413,743,328,27,539,13,37,17,12,73,34,12,38,23,19,36,13,1055,14,10346,483,15,226,83,2306,19,42,44,29,834,63,250,953,229,699,472,378,382,23,863,14,25,291,45,90,22,33,48,38,2779,83,33458,1839,19,982,52,25,917,86,31,11427,41,79,31,178,74,27,490,47,1811,2961,2530,1398,757,1078,45,93,76,412,11,33,1036,108,262,18,11,99,117,91,42,1798,20,107,22,70432,67,1823,20,60,4003,50,69,1042,24,2063,435,113,13,23985,533,131,120,1015,21,1130,213,23,3535,170,4135,1965,251,4969,4066,606,1600,206,793,657,2057,339,49,17,658,482,1341,87,82,1356,23,1121,277,78,1132,141,502,155,40733,28,1371,74,422,1132,46,382,111,49,1062,213,321,64,6323,174,281,52,288,391,41,18,291,209,176,2979,678,70,2571,2461,70,2542,2750,595,1013,450,566,413,1060,411,486,105,793,785,999,123,146,42,438,158,1001,265,176,3923,97,429,96,86264,51,3138,68,314,3203,64,330,567,44,2163,336,303,51,24231,392,293,36,259,853,39,18,802,281,132,4458,598,55,4846,4862,190,5843,5350,1331,2295,402,1090,700,2482,375,331,96,1682,808,1491,138,129,24,972,104,1307,417,180,3525,72,324,103,79178,52,2772,49,225,3389,54,284,631,49,2122,417,207,51,22572,389,247,27,230,837,28,33,831,216,86,3863,440,31,4410,4149,151,5059,4522,1342,2095,362,897,528,2173,421,301,52,1310,680,1401,136,145,24,1024,82,1105,326,148,2318,43,196,64,58467,42,1960,34,137,3586,51,129,621,34,1802,376,125,17,17185,441,156,11,124,728,13,19,681,149,55,3092,342,13,3360,2696,116,3746,3750,812,1525,242,547,419,1343,224,169,41,931,411,1076,98,102,14,954,63,908,224,95,115,11,12,336,3138,178,117,20,609,21,322,28,91,275,80,224,158,123,96,254,73,19,15,679,10014,519,466,354,27,14,3613,19,17,61,20,155,20,620,926,886,401,142,346,11,15,70,11,307,22,99,41,40,23,13,783,15,33,11,31658,36,789,37,2466,22,28,561,11,1035,242,41,10492,346,59,47,497,13,552,82,1675,54,1773,717,91,1981,2035,269,676,101,262,300,715,148,23,276,218,609,40,39,723,11,537,111,28,209,25,131,40,9259,279,19,82,374,16,78,46,12,313,93,57,12,1331,60,64,60,114,62,51,40,723,199,683,503,17,571,648,105,243,109,112,79,210,65,121,30,170,140,269,39,49,12,139,50,264,58,45,921,14,72,20,21552,755,16,47,1277,16,41,231,695,113,41,6290,165,60,42,257,230,62,26,1152,138,1224,1004,49,1339,1423,313,553,93,218,189,437,81,59,17,366,153,415,27,32,357,26,306,89,36,1397,29,124,44,36915,32,1205,18,90,2309,35,88,390,24,1107,263,84,12,10895,276,96,82,471,14,451,87,29,1940,204,2136,1692,67,2407,2327,499,972,149,329,230,906,143,110,24,565,258,661,71,70,12,597,37,602,135,59],\"xaxis\":\"x\",\"yaxis\":\"y\",\"type\":\"histogram\"}],                        {\"template\":{\"data\":{\"bar\":[{\"error_x\":{\"color\":\"#2a3f5f\"},\"error_y\":{\"color\":\"#2a3f5f\"},\"marker\":{\"line\":{\"color\":\"#E5ECF6\",\"width\":0.5},\"pattern\":{\"fillmode\":\"overlay\",\"size\":10,\"solidity\":0.2}},\"type\":\"bar\"}],\"barpolar\":[{\"marker\":{\"line\":{\"color\":\"#E5ECF6\",\"width\":0.5},\"pattern\":{\"fillmode\":\"overlay\",\"size\":10,\"solidity\":0.2}},\"type\":\"barpolar\"}],\"carpet\":[{\"aaxis\":{\"endlinecolor\":\"#2a3f5f\",\"gridcolor\":\"white\",\"linecolor\":\"white\",\"minorgridcolor\":\"white\",\"startlinecolor\":\"#2a3f5f\"},\"baxis\":{\"endlinecolor\":\"#2a3f5f\",\"gridcolor\":\"white\",\"linecolor\":\"white\",\"minorgridcolor\":\"white\",\"startlinecolor\":\"#2a3f5f\"},\"type\":\"carpet\"}],\"choropleth\":[{\"colorbar\":{\"outlinewidth\":0,\"ticks\":\"\"},\"type\":\"choropleth\"}],\"contour\":[{\"colorbar\":{\"outlinewidth\":0,\"ticks\":\"\"},\"colorscale\":[[0.0,\"#0d0887\"],[0.1111111111111111,\"#46039f\"],[0.2222222222222222,\"#7201a8\"],[0.3333333333333333,\"#9c179e\"],[0.4444444444444444,\"#bd3786\"],[0.5555555555555556,\"#d8576b\"],[0.6666666666666666,\"#ed7953\"],[0.7777777777777778,\"#fb9f3a\"],[0.8888888888888888,\"#fdca26\"],[1.0,\"#f0f921\"]],\"type\":\"contour\"}],\"contourcarpet\":[{\"colorbar\":{\"outlinewidth\":0,\"ticks\":\"\"},\"type\":\"contourcarpet\"}],\"heatmap\":[{\"colorbar\":{\"outlinewidth\":0,\"ticks\":\"\"},\"colorscale\":[[0.0,\"#0d0887\"],[0.1111111111111111,\"#46039f\"],[0.2222222222222222,\"#7201a8\"],[0.3333333333333333,\"#9c179e\"],[0.4444444444444444,\"#bd3786\"],[0.5555555555555556,\"#d8576b\"],[0.6666666666666666,\"#ed7953\"],[0.7777777777777778,\"#fb9f3a\"],[0.8888888888888888,\"#fdca26\"],[1.0,\"#f0f921\"]],\"type\":\"heatmap\"}],\"heatmapgl\":[{\"colorbar\":{\"outlinewidth\":0,\"ticks\":\"\"},\"colorscale\":[[0.0,\"#0d0887\"],[0.1111111111111111,\"#46039f\"],[0.2222222222222222,\"#7201a8\"],[0.3333333333333333,\"#9c179e\"],[0.4444444444444444,\"#bd3786\"],[0.5555555555555556,\"#d8576b\"],[0.6666666666666666,\"#ed7953\"],[0.7777777777777778,\"#fb9f3a\"],[0.8888888888888888,\"#fdca26\"],[1.0,\"#f0f921\"]],\"type\":\"heatmapgl\"}],\"histogram\":[{\"marker\":{\"pattern\":{\"fillmode\":\"overlay\",\"size\":10,\"solidity\":0.2}},\"type\":\"histogram\"}],\"histogram2d\":[{\"colorbar\":{\"outlinewidth\":0,\"ticks\":\"\"},\"colorscale\":[[0.0,\"#0d0887\"],[0.1111111111111111,\"#46039f\"],[0.2222222222222222,\"#7201a8\"],[0.3333333333333333,\"#9c179e\"],[0.4444444444444444,\"#bd3786\"],[0.5555555555555556,\"#d8576b\"],[0.6666666666666666,\"#ed7953\"],[0.7777777777777778,\"#fb9f3a\"],[0.8888888888888888,\"#fdca26\"],[1.0,\"#f0f921\"]],\"type\":\"histogram2d\"}],\"histogram2dcontour\":[{\"colorbar\":{\"outlinewidth\":0,\"ticks\":\"\"},\"colorscale\":[[0.0,\"#0d0887\"],[0.1111111111111111,\"#46039f\"],[0.2222222222222222,\"#7201a8\"],[0.3333333333333333,\"#9c179e\"],[0.4444444444444444,\"#bd3786\"],[0.5555555555555556,\"#d8576b\"],[0.6666666666666666,\"#ed7953\"],[0.7777777777777778,\"#fb9f3a\"],[0.8888888888888888,\"#fdca26\"],[1.0,\"#f0f921\"]],\"type\":\"histogram2dcontour\"}],\"mesh3d\":[{\"colorbar\":{\"outlinewidth\":0,\"ticks\":\"\"},\"type\":\"mesh3d\"}],\"parcoords\":[{\"line\":{\"colorbar\":{\"outlinewidth\":0,\"ticks\":\"\"}},\"type\":\"parcoords\"}],\"pie\":[{\"automargin\":true,\"type\":\"pie\"}],\"scatter\":[{\"marker\":{\"colorbar\":{\"outlinewidth\":0,\"ticks\":\"\"}},\"type\":\"scatter\"}],\"scatter3d\":[{\"line\":{\"colorbar\":{\"outlinewidth\":0,\"ticks\":\"\"}},\"marker\":{\"colorbar\":{\"outlinewidth\":0,\"ticks\":\"\"}},\"type\":\"scatter3d\"}],\"scattercarpet\":[{\"marker\":{\"colorbar\":{\"outlinewidth\":0,\"ticks\":\"\"}},\"type\":\"scattercarpet\"}],\"scattergeo\":[{\"marker\":{\"colorbar\":{\"outlinewidth\":0,\"ticks\":\"\"}},\"type\":\"scattergeo\"}],\"scattergl\":[{\"marker\":{\"colorbar\":{\"outlinewidth\":0,\"ticks\":\"\"}},\"type\":\"scattergl\"}],\"scattermapbox\":[{\"marker\":{\"colorbar\":{\"outlinewidth\":0,\"ticks\":\"\"}},\"type\":\"scattermapbox\"}],\"scatterpolar\":[{\"marker\":{\"colorbar\":{\"outlinewidth\":0,\"ticks\":\"\"}},\"type\":\"scatterpolar\"}],\"scatterpolargl\":[{\"marker\":{\"colorbar\":{\"outlinewidth\":0,\"ticks\":\"\"}},\"type\":\"scatterpolargl\"}],\"scatterternary\":[{\"marker\":{\"colorbar\":{\"outlinewidth\":0,\"ticks\":\"\"}},\"type\":\"scatterternary\"}],\"surface\":[{\"colorbar\":{\"outlinewidth\":0,\"ticks\":\"\"},\"colorscale\":[[0.0,\"#0d0887\"],[0.1111111111111111,\"#46039f\"],[0.2222222222222222,\"#7201a8\"],[0.3333333333333333,\"#9c179e\"],[0.4444444444444444,\"#bd3786\"],[0.5555555555555556,\"#d8576b\"],[0.6666666666666666,\"#ed7953\"],[0.7777777777777778,\"#fb9f3a\"],[0.8888888888888888,\"#fdca26\"],[1.0,\"#f0f921\"]],\"type\":\"surface\"}],\"table\":[{\"cells\":{\"fill\":{\"color\":\"#EBF0F8\"},\"line\":{\"color\":\"white\"}},\"header\":{\"fill\":{\"color\":\"#C8D4E3\"},\"line\":{\"color\":\"white\"}},\"type\":\"table\"}]},\"layout\":{\"annotationdefaults\":{\"arrowcolor\":\"#2a3f5f\",\"arrowhead\":0,\"arrowwidth\":1},\"autotypenumbers\":\"strict\",\"coloraxis\":{\"colorbar\":{\"outlinewidth\":0,\"ticks\":\"\"}},\"colorscale\":{\"diverging\":[[0,\"#8e0152\"],[0.1,\"#c51b7d\"],[0.2,\"#de77ae\"],[0.3,\"#f1b6da\"],[0.4,\"#fde0ef\"],[0.5,\"#f7f7f7\"],[0.6,\"#e6f5d0\"],[0.7,\"#b8e186\"],[0.8,\"#7fbc41\"],[0.9,\"#4d9221\"],[1,\"#276419\"]],\"sequential\":[[0.0,\"#0d0887\"],[0.1111111111111111,\"#46039f\"],[0.2222222222222222,\"#7201a8\"],[0.3333333333333333,\"#9c179e\"],[0.4444444444444444,\"#bd3786\"],[0.5555555555555556,\"#d8576b\"],[0.6666666666666666,\"#ed7953\"],[0.7777777777777778,\"#fb9f3a\"],[0.8888888888888888,\"#fdca26\"],[1.0,\"#f0f921\"]],\"sequentialminus\":[[0.0,\"#0d0887\"],[0.1111111111111111,\"#46039f\"],[0.2222222222222222,\"#7201a8\"],[0.3333333333333333,\"#9c179e\"],[0.4444444444444444,\"#bd3786\"],[0.5555555555555556,\"#d8576b\"],[0.6666666666666666,\"#ed7953\"],[0.7777777777777778,\"#fb9f3a\"],[0.8888888888888888,\"#fdca26\"],[1.0,\"#f0f921\"]]},\"colorway\":[\"#636efa\",\"#EF553B\",\"#00cc96\",\"#ab63fa\",\"#FFA15A\",\"#19d3f3\",\"#FF6692\",\"#B6E880\",\"#FF97FF\",\"#FECB52\"],\"font\":{\"color\":\"#2a3f5f\"},\"geo\":{\"bgcolor\":\"white\",\"lakecolor\":\"white\",\"landcolor\":\"#E5ECF6\",\"showlakes\":true,\"showland\":true,\"subunitcolor\":\"white\"},\"hoverlabel\":{\"align\":\"left\"},\"hovermode\":\"closest\",\"mapbox\":{\"style\":\"light\"},\"paper_bgcolor\":\"white\",\"plot_bgcolor\":\"#E5ECF6\",\"polar\":{\"angularaxis\":{\"gridcolor\":\"white\",\"linecolor\":\"white\",\"ticks\":\"\"},\"bgcolor\":\"#E5ECF6\",\"radialaxis\":{\"gridcolor\":\"white\",\"linecolor\":\"white\",\"ticks\":\"\"}},\"scene\":{\"xaxis\":{\"backgroundcolor\":\"#E5ECF6\",\"gridcolor\":\"white\",\"gridwidth\":2,\"linecolor\":\"white\",\"showbackground\":true,\"ticks\":\"\",\"zerolinecolor\":\"white\"},\"yaxis\":{\"backgroundcolor\":\"#E5ECF6\",\"gridcolor\":\"white\",\"gridwidth\":2,\"linecolor\":\"white\",\"showbackground\":true,\"ticks\":\"\",\"zerolinecolor\":\"white\"},\"zaxis\":{\"backgroundcolor\":\"#E5ECF6\",\"gridcolor\":\"white\",\"gridwidth\":2,\"linecolor\":\"white\",\"showbackground\":true,\"ticks\":\"\",\"zerolinecolor\":\"white\"}},\"shapedefaults\":{\"line\":{\"color\":\"#2a3f5f\"}},\"ternary\":{\"aaxis\":{\"gridcolor\":\"white\",\"linecolor\":\"white\",\"ticks\":\"\"},\"baxis\":{\"gridcolor\":\"white\",\"linecolor\":\"white\",\"ticks\":\"\"},\"bgcolor\":\"#E5ECF6\",\"caxis\":{\"gridcolor\":\"white\",\"linecolor\":\"white\",\"ticks\":\"\"}},\"title\":{\"x\":0.05},\"xaxis\":{\"automargin\":true,\"gridcolor\":\"white\",\"linecolor\":\"white\",\"ticks\":\"\",\"title\":{\"standoff\":15},\"zerolinecolor\":\"white\",\"zerolinewidth\":2},\"yaxis\":{\"automargin\":true,\"gridcolor\":\"white\",\"linecolor\":\"white\",\"ticks\":\"\",\"title\":{\"standoff\":15},\"zerolinecolor\":\"white\",\"zerolinewidth\":2}}},\"xaxis\":{\"anchor\":\"y\",\"domain\":[0.0,1.0],\"title\":{\"text\":\"Numerator\"}},\"yaxis\":{\"anchor\":\"x\",\"domain\":[0.0,1.0],\"title\":{\"text\":\"count\"}},\"legend\":{\"tracegroupgap\":0},\"margin\":{\"t\":60},\"barmode\":\"relative\"},                        {\"responsive\": true}                    ).then(function(){\n",
       "                            \n",
       "var gd = document.getElementById('24355e35-da67-4de4-93d0-0771121baa37');\n",
       "var x = new MutationObserver(function (mutations, observer) {{\n",
       "        var display = window.getComputedStyle(gd).display;\n",
       "        if (!display || display === 'none') {{\n",
       "            console.log([gd, 'removed!']);\n",
       "            Plotly.purge(gd);\n",
       "            observer.disconnect();\n",
       "        }}\n",
       "}});\n",
       "\n",
       "// Listen for the removal of the full notebook cells\n",
       "var notebookContainer = gd.closest('#notebook-container');\n",
       "if (notebookContainer) {{\n",
       "    x.observe(notebookContainer, {childList: true});\n",
       "}}\n",
       "\n",
       "// Listen for the clearing of the current output cell\n",
       "var outputEl = gd.closest('.output');\n",
       "if (outputEl) {{\n",
       "    x.observe(outputEl, {childList: true});\n",
       "}}\n",
       "\n",
       "                        })                };                });            </script>        </div>"
      ]
     },
     "metadata": {},
     "output_type": "display_data"
    }
   ],
   "source": [
    "import plotly.express as px\n",
    "fig = px.histogram(frame, x=\"Numerator\")\n",
    "fig.show()"
   ]
  },
  {
   "cell_type": "markdown",
   "id": "ed429796",
   "metadata": {
    "papermill": {
     "duration": 0.048921,
     "end_time": "2022-02-14T14:01:47.835997",
     "exception": false,
     "start_time": "2022-02-14T14:01:47.787076",
     "status": "completed"
    },
    "tags": []
   },
   "source": [
    "The above graph shows that data for Numerator column is highly centered around (0-499) with the count of around 6000 values. Also the tail of the curve is towards right so we can say that data is right skewed. The above graphical representation can be calculated with the following pandas function."
   ]
  },
  {
   "cell_type": "code",
   "execution_count": 16,
   "id": "8a251c86",
   "metadata": {
    "execution": {
     "iopub.execute_input": "2022-02-14T14:01:47.937327Z",
     "iopub.status.busy": "2022-02-14T14:01:47.936709Z",
     "iopub.status.idle": "2022-02-14T14:01:47.943514Z",
     "shell.execute_reply": "2022-02-14T14:01:47.944024Z",
     "shell.execute_reply.started": "2022-02-14T13:55:12.795210Z"
    },
    "papermill": {
     "duration": 0.059189,
     "end_time": "2022-02-14T14:01:47.944187",
     "exception": false,
     "start_time": "2022-02-14T14:01:47.884998",
     "status": "completed"
    },
    "tags": []
   },
   "outputs": [
    {
     "data": {
      "text/plain": [
       "11       105\n",
       "12       101\n",
       "14        97\n",
       "13        72\n",
       "17        68\n",
       "        ... \n",
       "5848       1\n",
       "1096       1\n",
       "1232       1\n",
       "28793      1\n",
       "661        1\n",
       "Name: Numerator, Length: 2730, dtype: int64"
      ]
     },
     "execution_count": 16,
     "metadata": {},
     "output_type": "execute_result"
    }
   ],
   "source": [
    "frame[\"Numerator\"].value_counts()"
   ]
  },
  {
   "cell_type": "code",
   "execution_count": 17,
   "id": "76b3695d",
   "metadata": {
    "execution": {
     "iopub.execute_input": "2022-02-14T14:01:48.047528Z",
     "iopub.status.busy": "2022-02-14T14:01:48.046955Z",
     "iopub.status.idle": "2022-02-14T14:01:48.053104Z",
     "shell.execute_reply": "2022-02-14T14:01:48.053528Z",
     "shell.execute_reply.started": "2022-02-14T13:57:01.556338Z"
    },
    "papermill": {
     "duration": 0.059523,
     "end_time": "2022-02-14T14:01:48.053713",
     "exception": false,
     "start_time": "2022-02-14T14:01:47.994190",
     "status": "completed"
    },
    "tags": []
   },
   "outputs": [
    {
     "data": {
      "text/plain": [
       "All Ages       3355\n",
       "18 and Over    3193\n",
       "Under 18       2875\n",
       "Under 20          1\n",
       "Under 19          1\n",
       "Name: Age Group, dtype: int64"
      ]
     },
     "execution_count": 17,
     "metadata": {},
     "output_type": "execute_result"
    }
   ],
   "source": [
    "# Categorical variable\n",
    "frame[\"Age Group\"].value_counts()"
   ]
  },
  {
   "cell_type": "code",
   "execution_count": 18,
   "id": "3b7923c0",
   "metadata": {
    "execution": {
     "iopub.execute_input": "2022-02-14T14:01:48.158639Z",
     "iopub.status.busy": "2022-02-14T14:01:48.157965Z",
     "iopub.status.idle": "2022-02-14T14:01:48.257878Z",
     "shell.execute_reply": "2022-02-14T14:01:48.258353Z",
     "shell.execute_reply.started": "2022-02-14T13:59:05.750803Z"
    },
    "papermill": {
     "duration": 0.15305,
     "end_time": "2022-02-14T14:01:48.258522",
     "exception": false,
     "start_time": "2022-02-14T14:01:48.105472",
     "status": "completed"
    },
    "tags": []
   },
   "outputs": [
    {
     "data": {
      "text/html": [
       "<div>                            <div id=\"ff1b5548-d37c-4073-be70-fa44a73d8fc5\" class=\"plotly-graph-div\" style=\"height:525px; width:100%;\"></div>            <script type=\"text/javascript\">                require([\"plotly\"], function(Plotly) {                    window.PLOTLYENV=window.PLOTLYENV || {};                                    if (document.getElementById(\"ff1b5548-d37c-4073-be70-fa44a73d8fc5\")) {                    Plotly.newPlot(                        \"ff1b5548-d37c-4073-be70-fa44a73d8fc5\",                        [{\"alignmentgroup\":\"True\",\"bingroup\":\"x\",\"hovertemplate\":\"Age Group=%{x}<br>count=%{y}<extra></extra>\",\"legendgroup\":\"\",\"marker\":{\"color\":\"#636efa\",\"pattern\":{\"shape\":\"\"}},\"name\":\"\",\"offsetgroup\":\"\",\"orientation\":\"v\",\"showlegend\":false,\"x\":[\"18 and Over\",\"18 and Over\",\"18 and Over\",\"18 and Over\",\"18 and Over\",\"18 and Over\",\"18 and Over\",\"18 and Over\",\"18 and Over\",\"18 and Over\",\"18 and Over\",\"18 and Over\",\"18 and Over\",\"18 and Over\",\"18 and Over\",\"18 and Over\",\"18 and Over\",\"18 and Over\",\"18 and Over\",\"18 and Over\",\"18 and Over\",\"18 and Over\",\"18 and Over\",\"18 and Over\",\"18 and Over\",\"18 and Over\",\"18 and Over\",\"18 and Over\",\"18 and Over\",\"18 and Over\",\"18 and Over\",\"18 and Over\",\"18 and Over\",\"18 and Over\",\"18 and Over\",\"18 and Over\",\"18 and Over\",\"18 and Over\",\"18 and Over\",\"18 and Over\",\"18 and Over\",\"18 and Over\",\"18 and Over\",\"18 and Over\",\"18 and Over\",\"18 and Over\",\"18 and Over\",\"18 and Over\",\"18 and Over\",\"18 and Over\",\"18 and Over\",\"18 and Over\",\"18 and Over\",\"18 and Over\",\"18 and Over\",\"18 and Over\",\"18 and Over\",\"18 and Over\",\"18 and Over\",\"18 and Over\",\"18 and Over\",\"18 and Over\",\"18 and Over\",\"18 and Over\",\"18 and Over\",\"18 and Over\",\"18 and Over\",\"18 and Over\",\"18 and Over\",\"18 and Over\",\"18 and Over\",\"18 and Over\",\"18 and Over\",\"18 and Over\",\"18 and Over\",\"18 and Over\",\"18 and Over\",\"18 and Over\",\"18 and Over\",\"18 and Over\",\"18 and Over\",\"18 and Over\",\"18 and Over\",\"18 and Over\",\"18 and Over\",\"18 and Over\",\"18 and Over\",\"18 and Over\",\"18 and Over\",\"18 and Over\",\"18 and Over\",\"18 and Over\",\"18 and Over\",\"18 and Over\",\"18 and Over\",\"18 and Over\",\"18 and Over\",\"18 and Over\",\"18 and Over\",\"18 and Over\",\"18 and Over\",\"18 and Over\",\"18 and Over\",\"18 and Over\",\"18 and Over\",\"18 and Over\",\"18 and Over\",\"18 and Over\",\"18 and Over\",\"18 and Over\",\"18 and Over\",\"18 and Over\",\"18 and Over\",\"18 and Over\",\"18 and Over\",\"18 and Over\",\"18 and Over\",\"18 and Over\",\"18 and Over\",\"18 and Over\",\"18 and Over\",\"18 and Over\",\"18 and Over\",\"18 and Over\",\"18 and Over\",\"18 and Over\",\"18 and Over\",\"18 and Over\",\"18 and Over\",\"18 and Over\",\"18 and Over\",\"18 and Over\",\"18 and Over\",\"18 and Over\",\"18 and Over\",\"18 and Over\",\"18 and Over\",\"18 and Over\",\"18 and Over\",\"18 and Over\",\"18 and Over\",\"18 and Over\",\"18 and Over\",\"18 and Over\",\"18 and Over\",\"18 and Over\",\"18 and Over\",\"18 and Over\",\"18 and Over\",\"18 and Over\",\"18 and Over\",\"18 and Over\",\"18 and Over\",\"18 and Over\",\"18 and Over\",\"18 and Over\",\"18 and Over\",\"18 and Over\",\"18 and Over\",\"18 and Over\",\"18 and Over\",\"18 and Over\",\"18 and Over\",\"18 and Over\",\"18 and Over\",\"18 and Over\",\"18 and Over\",\"18 and Over\",\"18 and Over\",\"18 and Over\",\"18 and Over\",\"18 and Over\",\"18 and Over\",\"18 and Over\",\"18 and Over\",\"18 and Over\",\"18 and Over\",\"18 and Over\",\"18 and Over\",\"18 and Over\",\"18 and Over\",\"18 and Over\",\"18 and Over\",\"18 and Over\",\"18 and Over\",\"18 and Over\",\"18 and Over\",\"18 and Over\",\"18 and Over\",\"18 and Over\",\"18 and Over\",\"18 and Over\",\"18 and Over\",\"18 and Over\",\"18 and Over\",\"18 and Over\",\"18 and Over\",\"18 and Over\",\"18 and Over\",\"18 and Over\",\"18 and Over\",\"18 and Over\",\"18 and Over\",\"18 and Over\",\"18 and Over\",\"18 and Over\",\"18 and Over\",\"18 and Over\",\"18 and Over\",\"18 and Over\",\"18 and Over\",\"18 and Over\",\"18 and Over\",\"18 and Over\",\"18 and Over\",\"18 and Over\",\"18 and Over\",\"18 and Over\",\"18 and Over\",\"18 and Over\",\"18 and Over\",\"18 and Over\",\"18 and Over\",\"18 and Over\",\"18 and Over\",\"18 and Over\",\"18 and Over\",\"18 and Over\",\"18 and Over\",\"18 and Over\",\"18 and Over\",\"18 and Over\",\"18 and Over\",\"18 and Over\",\"18 and Over\",\"18 and Over\",\"18 and Over\",\"18 and Over\",\"18 and Over\",\"18 and Over\",\"18 and Over\",\"18 and Over\",\"18 and Over\",\"18 and Over\",\"18 and Over\",\"18 and Over\",\"18 and Over\",\"18 and Over\",\"18 and Over\",\"18 and Over\",\"18 and Over\",\"18 and Over\",\"18 and Over\",\"18 and Over\",\"18 and Over\",\"18 and Over\",\"18 and Over\",\"18 and Over\",\"18 and Over\",\"18 and Over\",\"18 and Over\",\"18 and Over\",\"18 and Over\",\"18 and Over\",\"18 and Over\",\"18 and Over\",\"18 and Over\",\"18 and Over\",\"18 and Over\",\"18 and Over\",\"18 and Over\",\"18 and Over\",\"18 and Over\",\"18 and Over\",\"18 and Over\",\"18 and Over\",\"18 and Over\",\"18 and Over\",\"18 and Over\",\"18 and Over\",\"18 and Over\",\"18 and Over\",\"18 and Over\",\"18 and Over\",\"18 and Over\",\"18 and Over\",\"18 and Over\",\"18 and Over\",\"18 and Over\",\"18 and Over\",\"18 and Over\",\"18 and Over\",\"18 and Over\",\"18 and Over\",\"18 and Over\",\"18 and Over\",\"18 and Over\",\"18 and Over\",\"18 and Over\",\"18 and Over\",\"18 and Over\",\"18 and Over\",\"18 and Over\",\"18 and Over\",\"18 and Over\",\"18 and Over\",\"18 and Over\",\"18 and Over\",\"18 and Over\",\"18 and Over\",\"18 and Over\",\"18 and Over\",\"18 and Over\",\"18 and Over\",\"18 and Over\",\"18 and Over\",\"18 and Over\",\"18 and Over\",\"18 and Over\",\"18 and Over\",\"18 and Over\",\"18 and Over\",\"18 and Over\",\"18 and Over\",\"18 and Over\",\"18 and Over\",\"18 and Over\",\"18 and Over\",\"18 and Over\",\"18 and Over\",\"18 and Over\",\"18 and Over\",\"18 and Over\",\"18 and Over\",\"18 and Over\",\"18 and Over\",\"18 and Over\",\"18 and Over\",\"18 and Over\",\"18 and Over\",\"18 and Over\",\"18 and Over\",\"18 and Over\",\"18 and Over\",\"18 and Over\",\"18 and Over\",\"18 and Over\",\"18 and Over\",\"18 and Over\",\"18 and Over\",\"18 and Over\",\"18 and Over\",\"18 and Over\",\"18 and Over\",\"18 and Over\",\"18 and Over\",\"All Ages\",\"All Ages\",\"All Ages\",\"All Ages\",\"All Ages\",\"All Ages\",\"All Ages\",\"All Ages\",\"All Ages\",\"All Ages\",\"All Ages\",\"All Ages\",\"All Ages\",\"All Ages\",\"All Ages\",\"All Ages\",\"All Ages\",\"All Ages\",\"All Ages\",\"All Ages\",\"All Ages\",\"All Ages\",\"All Ages\",\"All Ages\",\"All Ages\",\"All Ages\",\"All Ages\",\"All Ages\",\"All Ages\",\"All Ages\",\"All Ages\",\"All Ages\",\"All Ages\",\"All Ages\",\"All Ages\",\"All Ages\",\"All Ages\",\"All Ages\",\"All Ages\",\"All Ages\",\"All Ages\",\"All Ages\",\"All Ages\",\"All Ages\",\"All Ages\",\"All Ages\",\"All Ages\",\"All Ages\",\"All Ages\",\"All Ages\",\"All Ages\",\"All Ages\",\"All Ages\",\"All Ages\",\"All Ages\",\"All Ages\",\"All Ages\",\"All Ages\",\"All Ages\",\"All Ages\",\"All Ages\",\"All Ages\",\"All Ages\",\"All Ages\",\"All Ages\",\"All Ages\",\"All Ages\",\"All Ages\",\"All Ages\",\"All Ages\",\"All Ages\",\"All Ages\",\"All Ages\",\"All Ages\",\"All Ages\",\"All Ages\",\"All Ages\",\"All Ages\",\"All Ages\",\"All Ages\",\"All Ages\",\"All Ages\",\"All Ages\",\"All Ages\",\"All Ages\",\"All Ages\",\"All Ages\",\"All Ages\",\"All Ages\",\"All Ages\",\"All Ages\",\"All Ages\",\"All Ages\",\"All Ages\",\"All Ages\",\"All Ages\",\"All Ages\",\"All Ages\",\"All Ages\",\"All Ages\",\"All Ages\",\"All Ages\",\"All Ages\",\"All Ages\",\"All Ages\",\"All Ages\",\"All Ages\",\"All Ages\",\"All Ages\",\"All Ages\",\"All Ages\",\"All Ages\",\"All Ages\",\"All Ages\",\"All Ages\",\"All Ages\",\"All Ages\",\"All Ages\",\"All Ages\",\"All Ages\",\"All Ages\",\"All Ages\",\"All Ages\",\"All Ages\",\"All Ages\",\"All Ages\",\"All Ages\",\"All Ages\",\"All Ages\",\"All Ages\",\"All Ages\",\"All Ages\",\"All Ages\",\"All Ages\",\"All Ages\",\"All Ages\",\"All Ages\",\"All Ages\",\"All Ages\",\"All Ages\",\"All Ages\",\"All Ages\",\"All Ages\",\"All Ages\",\"All Ages\",\"All Ages\",\"All Ages\",\"All Ages\",\"All Ages\",\"All Ages\",\"All Ages\",\"All Ages\",\"All Ages\",\"All Ages\",\"All Ages\",\"All Ages\",\"All Ages\",\"All Ages\",\"All Ages\",\"All Ages\",\"All Ages\",\"All Ages\",\"All Ages\",\"All Ages\",\"All Ages\",\"All Ages\",\"All Ages\",\"All Ages\",\"All Ages\",\"All Ages\",\"All Ages\",\"All Ages\",\"All Ages\",\"All Ages\",\"All Ages\",\"All Ages\",\"All Ages\",\"All Ages\",\"All Ages\",\"All Ages\",\"All Ages\",\"All Ages\",\"All Ages\",\"All Ages\",\"All Ages\",\"All Ages\",\"All Ages\",\"All Ages\",\"All Ages\",\"All Ages\",\"All Ages\",\"All Ages\",\"All Ages\",\"All Ages\",\"All Ages\",\"All Ages\",\"All Ages\",\"All Ages\",\"All Ages\",\"All Ages\",\"All Ages\",\"All Ages\",\"All Ages\",\"All Ages\",\"All Ages\",\"All Ages\",\"All Ages\",\"All Ages\",\"All Ages\",\"All Ages\",\"All Ages\",\"All Ages\",\"All Ages\",\"All Ages\",\"All Ages\",\"All Ages\",\"All Ages\",\"All Ages\",\"All Ages\",\"All Ages\",\"All Ages\",\"All Ages\",\"All Ages\",\"All Ages\",\"All Ages\",\"All Ages\",\"All Ages\",\"All Ages\",\"All Ages\",\"All Ages\",\"All Ages\",\"All Ages\",\"All Ages\",\"All Ages\",\"All Ages\",\"All Ages\",\"All Ages\",\"All Ages\",\"All Ages\",\"All Ages\",\"All Ages\",\"All Ages\",\"All Ages\",\"All Ages\",\"All Ages\",\"All Ages\",\"All Ages\",\"All Ages\",\"All Ages\",\"All Ages\",\"All Ages\",\"All Ages\",\"All Ages\",\"All Ages\",\"All Ages\",\"All Ages\",\"All Ages\",\"All Ages\",\"All Ages\",\"All Ages\",\"All Ages\",\"All Ages\",\"All Ages\",\"All Ages\",\"All Ages\",\"All Ages\",\"All Ages\",\"All Ages\",\"All Ages\",\"All Ages\",\"All Ages\",\"All Ages\",\"All Ages\",\"All Ages\",\"All Ages\",\"All Ages\",\"All Ages\",\"All Ages\",\"All Ages\",\"All Ages\",\"All Ages\",\"All Ages\",\"All Ages\",\"All Ages\",\"All Ages\",\"All Ages\",\"All Ages\",\"All Ages\",\"All Ages\",\"All Ages\",\"All Ages\",\"All Ages\",\"All Ages\",\"All Ages\",\"All Ages\",\"All Ages\",\"All Ages\",\"All Ages\",\"All Ages\",\"All Ages\",\"All Ages\",\"All Ages\",\"All Ages\",\"All Ages\",\"All Ages\",\"All Ages\",\"All Ages\",\"All Ages\",\"All Ages\",\"All Ages\",\"All Ages\",\"All Ages\",\"All Ages\",\"All Ages\",\"All Ages\",\"All Ages\",\"All Ages\",\"All Ages\",\"All Ages\",\"All Ages\",\"All Ages\",\"All Ages\",\"All Ages\",\"All Ages\",\"All Ages\",\"All Ages\",\"All Ages\",\"All Ages\",\"All Ages\",\"All Ages\",\"All Ages\",\"All Ages\",\"All Ages\",\"All Ages\",\"All Ages\",\"All Ages\",\"All Ages\",\"All Ages\",\"All Ages\",\"All Ages\",\"All Ages\",\"All Ages\",\"All Ages\",\"All Ages\",\"All Ages\",\"All Ages\",\"All Ages\",\"All Ages\",\"All Ages\",\"All Ages\",\"All Ages\",\"All Ages\",\"All Ages\",\"All Ages\",\"All Ages\",\"All Ages\",\"All Ages\",\"All Ages\",\"All Ages\",\"All Ages\",\"All Ages\",\"All Ages\",\"All Ages\",\"All Ages\",\"All Ages\",\"All Ages\",\"All Ages\",\"All Ages\",\"All Ages\",\"All Ages\",\"All Ages\",\"All Ages\",\"All Ages\",\"All Ages\",\"Under 18\",\"Under 18\",\"Under 18\",\"Under 18\",\"Under 18\",\"Under 18\",\"Under 18\",\"Under 18\",\"Under 18\",\"Under 18\",\"Under 18\",\"Under 18\",\"Under 18\",\"Under 18\",\"Under 18\",\"Under 18\",\"Under 18\",\"Under 18\",\"Under 18\",\"Under 18\",\"Under 18\",\"Under 18\",\"Under 18\",\"Under 18\",\"Under 18\",\"Under 18\",\"Under 18\",\"Under 18\",\"Under 18\",\"Under 18\",\"Under 18\",\"Under 18\",\"Under 18\",\"Under 18\",\"Under 18\",\"Under 18\",\"Under 18\",\"Under 18\",\"Under 18\",\"Under 18\",\"Under 18\",\"Under 18\",\"Under 18\",\"Under 18\",\"Under 18\",\"Under 18\",\"Under 18\",\"Under 18\",\"Under 18\",\"Under 18\",\"Under 18\",\"Under 18\",\"Under 18\",\"Under 18\",\"Under 18\",\"Under 18\",\"Under 18\",\"Under 18\",\"Under 18\",\"Under 18\",\"Under 18\",\"Under 18\",\"Under 18\",\"Under 18\",\"Under 18\",\"Under 18\",\"Under 18\",\"Under 18\",\"Under 18\",\"Under 18\",\"Under 18\",\"Under 18\",\"Under 18\",\"Under 18\",\"Under 18\",\"Under 18\",\"Under 18\",\"Under 18\",\"Under 18\",\"Under 18\",\"Under 18\",\"Under 18\",\"Under 18\",\"Under 18\",\"Under 18\",\"Under 18\",\"Under 18\",\"Under 18\",\"Under 18\",\"Under 18\",\"Under 18\",\"Under 18\",\"Under 18\",\"Under 18\",\"Under 18\",\"Under 18\",\"Under 18\",\"Under 18\",\"Under 18\",\"Under 18\",\"Under 18\",\"Under 18\",\"Under 18\",\"Under 18\",\"Under 18\",\"Under 18\",\"Under 18\",\"Under 18\",\"Under 18\",\"Under 18\",\"Under 18\",\"Under 18\",\"Under 18\",\"Under 18\",\"Under 18\",\"Under 18\",\"Under 18\",\"Under 18\",\"Under 18\",\"Under 18\",\"Under 18\",\"Under 18\",\"Under 18\",\"Under 18\",\"Under 18\",\"Under 18\",\"Under 18\",\"Under 18\",\"Under 18\",\"Under 18\",\"Under 18\",\"Under 18\",\"Under 18\",\"Under 18\",\"Under 18\",\"Under 18\",\"Under 18\",\"Under 18\",\"Under 18\",\"Under 18\",\"Under 18\",\"Under 18\",\"Under 18\",\"Under 18\",\"Under 18\",\"Under 18\",\"Under 18\",\"Under 18\",\"Under 18\",\"Under 18\",\"Under 18\",\"Under 18\",\"Under 18\",\"Under 18\",\"Under 18\",\"Under 18\",\"Under 18\",\"Under 18\",\"Under 18\",\"Under 18\",\"Under 18\",\"Under 18\",\"Under 18\",\"Under 18\",\"Under 18\",\"Under 18\",\"Under 18\",\"Under 18\",\"Under 18\",\"Under 18\",\"Under 18\",\"Under 18\",\"Under 18\",\"Under 18\",\"Under 18\",\"Under 18\",\"Under 18\",\"Under 18\",\"Under 18\",\"Under 18\",\"Under 18\",\"Under 18\",\"Under 18\",\"Under 18\",\"Under 18\",\"Under 18\",\"Under 18\",\"Under 18\",\"Under 18\",\"Under 18\",\"Under 18\",\"Under 18\",\"Under 18\",\"Under 18\",\"Under 18\",\"Under 18\",\"Under 18\",\"Under 18\",\"Under 18\",\"Under 18\",\"Under 18\",\"Under 18\",\"Under 18\",\"Under 18\",\"Under 18\",\"Under 18\",\"Under 18\",\"Under 18\",\"Under 18\",\"Under 18\",\"Under 18\",\"Under 18\",\"Under 18\",\"Under 18\",\"Under 18\",\"Under 18\",\"Under 18\",\"Under 18\",\"Under 18\",\"Under 18\",\"Under 18\",\"Under 18\",\"Under 18\",\"Under 18\",\"Under 18\",\"Under 18\",\"Under 18\",\"Under 18\",\"Under 18\",\"Under 18\",\"Under 18\",\"Under 18\",\"Under 18\",\"Under 18\",\"Under 18\",\"Under 18\",\"Under 18\",\"Under 18\",\"Under 18\",\"Under 18\",\"Under 18\",\"Under 18\",\"Under 18\",\"Under 18\",\"Under 18\",\"Under 18\",\"Under 18\",\"Under 18\",\"Under 18\",\"Under 18\",\"Under 18\",\"Under 18\",\"Under 18\",\"Under 18\",\"Under 18\",\"Under 18\",\"Under 18\",\"Under 18\",\"Under 18\",\"Under 18\",\"Under 18\",\"Under 18\",\"Under 18\",\"Under 18\",\"Under 18\",\"Under 18\",\"Under 18\",\"Under 18\",\"Under 18\",\"Under 18\",\"Under 18\",\"Under 18\",\"Under 18\",\"Under 18\",\"Under 18\",\"Under 18\",\"Under 18\",\"Under 18\",\"Under 18\",\"Under 18\",\"Under 18\",\"Under 18\",\"Under 18\",\"Under 18\",\"Under 18\",\"Under 18\",\"Under 18\",\"Under 18\",\"Under 18\",\"Under 18\",\"Under 18\",\"Under 18\",\"Under 18\",\"Under 18\",\"Under 18\",\"Under 18\",\"Under 18\",\"Under 18\",\"Under 18\",\"Under 18\",\"Under 18\",\"Under 18\",\"Under 18\",\"Under 18\",\"Under 18\",\"Under 18\",\"Under 18\",\"Under 18\",\"Under 18\",\"Under 18\",\"Under 18\",\"Under 18\",\"Under 18\",\"Under 18\",\"Under 18\",\"Under 18\",\"Under 18\",\"Under 18\",\"Under 18\",\"Under 18\",\"Under 18\",\"Under 18\",\"Under 18\",\"Under 18\",\"Under 18\",\"Under 18\",\"Under 18\",\"Under 18\",\"18 and Over\",\"18 and Over\",\"18 and Over\",\"18 and Over\",\"18 and Over\",\"18 and Over\",\"18 and Over\",\"18 and Over\",\"18 and Over\",\"18 and Over\",\"18 and Over\",\"18 and Over\",\"18 and Over\",\"18 and Over\",\"18 and Over\",\"18 and Over\",\"18 and Over\",\"18 and Over\",\"18 and Over\",\"18 and Over\",\"18 and Over\",\"18 and Over\",\"18 and Over\",\"18 and Over\",\"18 and Over\",\"18 and Over\",\"18 and Over\",\"18 and Over\",\"18 and Over\",\"18 and Over\",\"18 and Over\",\"18 and Over\",\"18 and Over\",\"18 and Over\",\"18 and Over\",\"18 and Over\",\"18 and Over\",\"18 and Over\",\"18 and Over\",\"18 and Over\",\"18 and Over\",\"18 and Over\",\"18 and Over\",\"18 and Over\",\"18 and Over\",\"18 and Over\",\"18 and Over\",\"18 and Over\",\"18 and Over\",\"18 and Over\",\"18 and Over\",\"18 and Over\",\"18 and Over\",\"18 and Over\",\"18 and Over\",\"18 and Over\",\"18 and Over\",\"18 and Over\",\"18 and Over\",\"18 and Over\",\"18 and Over\",\"18 and Over\",\"18 and Over\",\"18 and Over\",\"18 and Over\",\"18 and Over\",\"18 and Over\",\"18 and Over\",\"18 and Over\",\"18 and Over\",\"18 and Over\",\"18 and Over\",\"18 and Over\",\"18 and Over\",\"18 and Over\",\"18 and Over\",\"18 and Over\",\"18 and Over\",\"18 and Over\",\"18 and Over\",\"18 and Over\",\"18 and Over\",\"18 and Over\",\"18 and Over\",\"18 and Over\",\"18 and Over\",\"18 and Over\",\"18 and Over\",\"18 and Over\",\"18 and Over\",\"18 and Over\",\"18 and Over\",\"18 and Over\",\"18 and Over\",\"18 and Over\",\"18 and Over\",\"18 and Over\",\"18 and Over\",\"18 and Over\",\"18 and Over\",\"18 and Over\",\"18 and Over\",\"18 and Over\",\"18 and Over\",\"18 and Over\",\"18 and Over\",\"18 and Over\",\"18 and Over\",\"18 and Over\",\"18 and Over\",\"18 and Over\",\"18 and Over\",\"18 and Over\",\"18 and Over\",\"18 and Over\",\"18 and Over\",\"18 and Over\",\"18 and Over\",\"18 and Over\",\"18 and Over\",\"18 and Over\",\"18 and Over\",\"18 and Over\",\"18 and Over\",\"18 and Over\",\"18 and Over\",\"18 and Over\",\"18 and Over\",\"18 and Over\",\"18 and Over\",\"18 and Over\",\"18 and Over\",\"18 and Over\",\"18 and Over\",\"18 and Over\",\"18 and Over\",\"18 and Over\",\"18 and Over\",\"18 and Over\",\"18 and Over\",\"18 and Over\",\"18 and Over\",\"18 and Over\",\"18 and Over\",\"18 and Over\",\"18 and Over\",\"18 and Over\",\"18 and Over\",\"18 and Over\",\"18 and Over\",\"18 and Over\",\"18 and Over\",\"18 and Over\",\"18 and Over\",\"18 and Over\",\"18 and Over\",\"18 and Over\",\"18 and Over\",\"18 and Over\",\"18 and Over\",\"18 and Over\",\"18 and Over\",\"18 and Over\",\"18 and Over\",\"18 and Over\",\"18 and Over\",\"18 and Over\",\"18 and Over\",\"18 and Over\",\"18 and Over\",\"18 and Over\",\"18 and Over\",\"18 and Over\",\"18 and Over\",\"18 and Over\",\"18 and Over\",\"18 and Over\",\"18 and Over\",\"18 and Over\",\"18 and Over\",\"18 and Over\",\"18 and Over\",\"18 and Over\",\"18 and Over\",\"18 and Over\",\"18 and Over\",\"18 and Over\",\"18 and Over\",\"18 and Over\",\"18 and Over\",\"18 and Over\",\"18 and Over\",\"18 and Over\",\"18 and Over\",\"18 and Over\",\"18 and Over\",\"18 and Over\",\"18 and Over\",\"18 and Over\",\"18 and Over\",\"18 and Over\",\"18 and Over\",\"18 and Over\",\"18 and Over\",\"18 and Over\",\"18 and Over\",\"18 and Over\",\"18 and Over\",\"18 and Over\",\"18 and Over\",\"18 and Over\",\"18 and Over\",\"18 and Over\",\"18 and Over\",\"18 and Over\",\"18 and Over\",\"18 and Over\",\"18 and Over\",\"18 and Over\",\"18 and Over\",\"18 and Over\",\"18 and Over\",\"18 and Over\",\"18 and Over\",\"18 and Over\",\"18 and Over\",\"18 and Over\",\"18 and Over\",\"18 and Over\",\"18 and Over\",\"18 and Over\",\"18 and Over\",\"18 and Over\",\"18 and Over\",\"18 and Over\",\"18 and Over\",\"18 and Over\",\"18 and Over\",\"18 and Over\",\"18 and Over\",\"18 and Over\",\"18 and Over\",\"18 and Over\",\"18 and Over\",\"18 and Over\",\"18 and Over\",\"18 and Over\",\"18 and Over\",\"18 and Over\",\"18 and Over\",\"18 and Over\",\"18 and Over\",\"18 and Over\",\"18 and Over\",\"18 and Over\",\"18 and Over\",\"18 and Over\",\"18 and Over\",\"18 and Over\",\"18 and Over\",\"18 and Over\",\"18 and Over\",\"18 and Over\",\"18 and Over\",\"18 and Over\",\"18 and Over\",\"18 and Over\",\"18 and Over\",\"18 and Over\",\"18 and Over\",\"18 and Over\",\"18 and Over\",\"18 and Over\",\"18 and Over\",\"18 and Over\",\"18 and Over\",\"18 and Over\",\"18 and Over\",\"18 and Over\",\"18 and Over\",\"18 and Over\",\"18 and Over\",\"18 and Over\",\"18 and Over\",\"18 and Over\",\"18 and Over\",\"18 and Over\",\"18 and Over\",\"18 and Over\",\"18 and Over\",\"18 and Over\",\"18 and Over\",\"18 and Over\",\"18 and Over\",\"18 and Over\",\"18 and Over\",\"18 and Over\",\"18 and Over\",\"18 and Over\",\"18 and Over\",\"18 and Over\",\"18 and Over\",\"18 and Over\",\"18 and Over\",\"18 and Over\",\"18 and Over\",\"18 and Over\",\"18 and Over\",\"18 and Over\",\"18 and Over\",\"18 and Over\",\"18 and Over\",\"18 and Over\",\"18 and Over\",\"18 and Over\",\"18 and Over\",\"18 and Over\",\"18 and Over\",\"18 and Over\",\"18 and Over\",\"18 and Over\",\"18 and Over\",\"18 and Over\",\"18 and Over\",\"18 and Over\",\"18 and Over\",\"18 and Over\",\"18 and Over\",\"18 and Over\",\"18 and Over\",\"18 and Over\",\"18 and Over\",\"18 and Over\",\"18 and Over\",\"18 and Over\",\"18 and Over\",\"18 and Over\",\"18 and Over\",\"18 and Over\",\"18 and Over\",\"18 and Over\",\"18 and Over\",\"18 and Over\",\"18 and Over\",\"18 and Over\",\"18 and Over\",\"18 and Over\",\"18 and Over\",\"18 and Over\",\"18 and Over\",\"18 and Over\",\"18 and Over\",\"18 and Over\",\"18 and Over\",\"18 and Over\",\"18 and Over\",\"18 and Over\",\"18 and Over\",\"18 and Over\",\"18 and Over\",\"18 and Over\",\"18 and Over\",\"18 and Over\",\"18 and Over\",\"18 and Over\",\"All Ages\",\"All Ages\",\"All Ages\",\"All Ages\",\"All Ages\",\"All Ages\",\"All Ages\",\"All Ages\",\"All Ages\",\"All Ages\",\"All Ages\",\"All Ages\",\"All Ages\",\"All Ages\",\"All Ages\",\"All Ages\",\"All Ages\",\"All Ages\",\"All Ages\",\"All Ages\",\"All Ages\",\"All Ages\",\"All Ages\",\"All Ages\",\"All Ages\",\"All Ages\",\"All Ages\",\"All Ages\",\"All Ages\",\"All Ages\",\"All Ages\",\"All Ages\",\"All Ages\",\"All Ages\",\"All Ages\",\"All Ages\",\"All Ages\",\"All Ages\",\"All Ages\",\"All Ages\",\"All Ages\",\"All Ages\",\"All Ages\",\"All Ages\",\"All Ages\",\"All Ages\",\"All Ages\",\"All Ages\",\"All Ages\",\"All Ages\",\"All Ages\",\"All Ages\",\"All Ages\",\"All Ages\",\"All Ages\",\"All Ages\",\"All Ages\",\"All Ages\",\"All Ages\",\"All Ages\",\"All Ages\",\"All Ages\",\"All Ages\",\"All Ages\",\"All Ages\",\"All Ages\",\"All Ages\",\"All Ages\",\"All Ages\",\"All Ages\",\"All Ages\",\"All Ages\",\"All Ages\",\"All Ages\",\"All Ages\",\"All Ages\",\"All Ages\",\"All Ages\",\"All Ages\",\"All Ages\",\"All Ages\",\"All Ages\",\"All Ages\",\"All Ages\",\"All Ages\",\"All Ages\",\"All Ages\",\"All Ages\",\"All Ages\",\"All Ages\",\"All Ages\",\"All Ages\",\"All Ages\",\"All Ages\",\"All Ages\",\"All Ages\",\"All Ages\",\"All Ages\",\"All Ages\",\"All Ages\",\"All Ages\",\"All Ages\",\"All Ages\",\"All Ages\",\"All Ages\",\"All Ages\",\"All Ages\",\"All Ages\",\"All Ages\",\"All Ages\",\"All Ages\",\"All Ages\",\"All Ages\",\"All Ages\",\"All Ages\",\"All Ages\",\"All Ages\",\"All Ages\",\"All Ages\",\"All Ages\",\"All Ages\",\"All Ages\",\"All Ages\",\"All Ages\",\"All Ages\",\"All Ages\",\"All Ages\",\"All Ages\",\"All Ages\",\"All Ages\",\"All Ages\",\"All Ages\",\"All Ages\",\"All Ages\",\"All Ages\",\"All Ages\",\"All Ages\",\"All Ages\",\"All Ages\",\"All Ages\",\"All Ages\",\"All Ages\",\"All Ages\",\"All Ages\",\"All Ages\",\"All Ages\",\"All Ages\",\"All Ages\",\"All Ages\",\"All Ages\",\"All Ages\",\"All Ages\",\"All Ages\",\"All Ages\",\"All Ages\",\"All Ages\",\"All Ages\",\"All Ages\",\"All Ages\",\"All Ages\",\"All Ages\",\"All Ages\",\"All Ages\",\"All Ages\",\"All Ages\",\"All Ages\",\"All Ages\",\"All Ages\",\"All Ages\",\"All Ages\",\"All Ages\",\"All Ages\",\"All Ages\",\"All Ages\",\"All Ages\",\"All Ages\",\"All Ages\",\"All Ages\",\"All Ages\",\"All Ages\",\"All Ages\",\"All Ages\",\"All Ages\",\"All Ages\",\"All Ages\",\"All Ages\",\"All Ages\",\"All Ages\",\"All Ages\",\"All Ages\",\"All Ages\",\"All Ages\",\"All Ages\",\"All Ages\",\"All Ages\",\"All Ages\",\"All Ages\",\"All Ages\",\"All Ages\",\"All Ages\",\"All Ages\",\"All Ages\",\"All Ages\",\"All Ages\",\"All Ages\",\"All Ages\",\"All Ages\",\"All Ages\",\"All Ages\",\"All Ages\",\"All Ages\",\"All Ages\",\"All Ages\",\"All Ages\",\"All Ages\",\"All Ages\",\"All Ages\",\"All Ages\",\"All Ages\",\"All Ages\",\"All Ages\",\"All Ages\",\"All Ages\",\"All Ages\",\"All Ages\",\"All Ages\",\"All Ages\",\"All Ages\",\"All Ages\",\"All Ages\",\"All Ages\",\"All Ages\",\"All Ages\",\"All Ages\",\"All Ages\",\"All Ages\",\"All Ages\",\"All Ages\",\"All Ages\",\"All Ages\",\"All Ages\",\"All Ages\",\"All Ages\",\"All Ages\",\"All Ages\",\"All Ages\",\"All Ages\",\"All Ages\",\"All Ages\",\"All Ages\",\"All Ages\",\"All Ages\",\"All Ages\",\"All Ages\",\"All Ages\",\"All Ages\",\"All Ages\",\"All Ages\",\"All Ages\",\"All Ages\",\"All Ages\",\"All Ages\",\"All Ages\",\"All Ages\",\"All Ages\",\"All Ages\",\"All Ages\",\"All Ages\",\"All Ages\",\"All Ages\",\"All Ages\",\"All Ages\",\"All Ages\",\"All Ages\",\"All Ages\",\"All Ages\",\"All Ages\",\"All Ages\",\"All Ages\",\"All Ages\",\"All Ages\",\"All Ages\",\"All Ages\",\"All Ages\",\"All Ages\",\"All Ages\",\"All Ages\",\"All Ages\",\"All Ages\",\"All Ages\",\"All Ages\",\"All Ages\",\"All Ages\",\"All Ages\",\"All Ages\",\"All Ages\",\"All Ages\",\"All Ages\",\"All Ages\",\"All Ages\",\"All Ages\",\"All Ages\",\"All Ages\",\"All Ages\",\"All Ages\",\"All Ages\",\"All Ages\",\"All Ages\",\"All Ages\",\"All Ages\",\"All Ages\",\"All Ages\",\"All Ages\",\"All Ages\",\"All Ages\",\"All Ages\",\"All Ages\",\"All Ages\",\"All Ages\",\"All Ages\",\"All Ages\",\"All Ages\",\"All Ages\",\"All Ages\",\"All Ages\",\"All Ages\",\"All Ages\",\"All Ages\",\"All Ages\",\"All Ages\",\"All Ages\",\"All Ages\",\"All Ages\",\"All Ages\",\"All Ages\",\"All Ages\",\"All Ages\",\"All Ages\",\"All Ages\",\"All Ages\",\"All Ages\",\"All Ages\",\"All Ages\",\"All Ages\",\"All Ages\",\"All Ages\",\"All Ages\",\"All Ages\",\"All Ages\",\"All Ages\",\"All Ages\",\"All Ages\",\"All Ages\",\"All Ages\",\"All Ages\",\"All Ages\",\"All Ages\",\"All Ages\",\"All Ages\",\"All Ages\",\"All Ages\",\"All Ages\",\"All Ages\",\"All Ages\",\"All Ages\",\"All Ages\",\"All Ages\",\"All Ages\",\"All Ages\",\"All Ages\",\"All Ages\",\"All Ages\",\"All Ages\",\"All Ages\",\"Under 18\",\"Under 18\",\"Under 18\",\"Under 18\",\"Under 18\",\"Under 18\",\"Under 18\",\"Under 18\",\"Under 18\",\"Under 18\",\"Under 18\",\"Under 18\",\"Under 18\",\"Under 18\",\"Under 18\",\"Under 18\",\"Under 18\",\"Under 18\",\"Under 18\",\"Under 18\",\"Under 18\",\"Under 18\",\"Under 18\",\"Under 18\",\"Under 18\",\"Under 18\",\"Under 18\",\"Under 18\",\"Under 18\",\"Under 18\",\"Under 18\",\"Under 18\",\"Under 18\",\"Under 18\",\"Under 18\",\"Under 18\",\"Under 18\",\"Under 18\",\"Under 18\",\"Under 18\",\"Under 18\",\"Under 18\",\"Under 18\",\"Under 18\",\"Under 18\",\"Under 18\",\"Under 18\",\"Under 18\",\"Under 18\",\"Under 18\",\"Under 18\",\"Under 18\",\"Under 18\",\"Under 18\",\"Under 18\",\"Under 18\",\"Under 18\",\"Under 18\",\"Under 18\",\"Under 18\",\"Under 18\",\"Under 18\",\"Under 18\",\"Under 18\",\"Under 18\",\"Under 18\",\"Under 18\",\"Under 18\",\"Under 18\",\"Under 18\",\"Under 18\",\"Under 18\",\"Under 18\",\"Under 18\",\"Under 18\",\"Under 18\",\"Under 18\",\"Under 18\",\"Under 18\",\"Under 18\",\"Under 18\",\"Under 18\",\"Under 18\",\"Under 18\",\"Under 18\",\"Under 18\",\"Under 18\",\"Under 18\",\"Under 18\",\"Under 18\",\"Under 18\",\"Under 18\",\"Under 18\",\"Under 18\",\"Under 18\",\"Under 18\",\"Under 18\",\"Under 18\",\"Under 18\",\"Under 18\",\"Under 18\",\"Under 18\",\"Under 18\",\"Under 18\",\"Under 18\",\"Under 18\",\"Under 18\",\"Under 18\",\"Under 18\",\"Under 18\",\"Under 18\",\"Under 18\",\"Under 18\",\"Under 18\",\"Under 18\",\"Under 18\",\"Under 18\",\"Under 18\",\"Under 18\",\"Under 18\",\"Under 18\",\"Under 18\",\"Under 18\",\"Under 18\",\"Under 18\",\"Under 18\",\"Under 18\",\"Under 18\",\"Under 18\",\"Under 18\",\"Under 18\",\"Under 18\",\"Under 18\",\"Under 18\",\"Under 18\",\"Under 18\",\"Under 18\",\"Under 18\",\"Under 18\",\"Under 18\",\"Under 18\",\"Under 18\",\"Under 18\",\"Under 18\",\"Under 18\",\"Under 18\",\"Under 18\",\"Under 18\",\"Under 18\",\"Under 18\",\"Under 18\",\"Under 18\",\"Under 18\",\"Under 18\",\"Under 18\",\"Under 18\",\"Under 18\",\"Under 18\",\"Under 18\",\"Under 18\",\"Under 18\",\"Under 18\",\"Under 18\",\"Under 18\",\"Under 18\",\"Under 18\",\"Under 18\",\"Under 18\",\"Under 18\",\"Under 18\",\"Under 18\",\"Under 18\",\"Under 18\",\"Under 18\",\"Under 18\",\"Under 18\",\"Under 18\",\"Under 18\",\"Under 18\",\"Under 18\",\"Under 18\",\"Under 18\",\"Under 18\",\"Under 18\",\"Under 18\",\"Under 18\",\"Under 18\",\"Under 18\",\"Under 18\",\"Under 18\",\"Under 18\",\"Under 18\",\"Under 18\",\"Under 18\",\"Under 18\",\"Under 18\",\"Under 18\",\"Under 18\",\"Under 18\",\"Under 18\",\"Under 18\",\"Under 18\",\"Under 18\",\"Under 18\",\"Under 18\",\"Under 18\",\"Under 18\",\"Under 18\",\"Under 18\",\"Under 18\",\"Under 18\",\"Under 18\",\"Under 18\",\"Under 18\",\"Under 18\",\"Under 18\",\"Under 18\",\"Under 18\",\"Under 18\",\"Under 18\",\"Under 18\",\"Under 18\",\"Under 18\",\"Under 18\",\"Under 18\",\"Under 18\",\"Under 18\",\"Under 18\",\"Under 18\",\"Under 18\",\"Under 18\",\"Under 18\",\"Under 18\",\"Under 18\",\"Under 18\",\"Under 18\",\"Under 18\",\"Under 18\",\"Under 18\",\"Under 18\",\"Under 18\",\"Under 18\",\"Under 18\",\"Under 18\",\"Under 18\",\"Under 18\",\"Under 18\",\"Under 18\",\"Under 18\",\"Under 18\",\"Under 18\",\"Under 18\",\"Under 18\",\"Under 18\",\"Under 18\",\"Under 18\",\"Under 18\",\"Under 18\",\"Under 18\",\"Under 18\",\"Under 18\",\"Under 18\",\"Under 18\",\"Under 18\",\"Under 18\",\"Under 18\",\"Under 18\",\"Under 18\",\"Under 18\",\"Under 18\",\"Under 18\",\"Under 18\",\"Under 18\",\"Under 18\",\"Under 18\",\"Under 18\",\"Under 18\",\"Under 18\",\"Under 18\",\"Under 18\",\"Under 18\",\"Under 18\",\"Under 18\",\"Under 18\",\"Under 18\",\"Under 18\",\"Under 18\",\"Under 18\",\"Under 18\",\"Under 18\",\"Under 18\",\"Under 18\",\"Under 18\",\"Under 18\",\"Under 18\",\"Under 18\",\"Under 18\",\"Under 18\",\"Under 18\",\"Under 18\",\"Under 18\",\"Under 18\",\"Under 18\",\"Under 18\",\"Under 18\",\"Under 18\",\"Under 18\",\"Under 18\",\"Under 18\",\"Under 18\",\"Under 18\",\"Under 18\",\"Under 18\",\"Under 18\",\"Under 18\",\"Under 18\",\"Under 18\",\"Under 18\",\"Under 18\",\"Under 18\",\"18 and Over\",\"18 and Over\",\"18 and Over\",\"18 and Over\",\"18 and Over\",\"18 and Over\",\"18 and Over\",\"18 and Over\",\"18 and Over\",\"18 and Over\",\"18 and Over\",\"18 and Over\",\"18 and Over\",\"18 and Over\",\"18 and Over\",\"18 and Over\",\"18 and Over\",\"18 and Over\",\"18 and Over\",\"18 and Over\",\"18 and Over\",\"18 and Over\",\"18 and Over\",\"18 and Over\",\"18 and Over\",\"18 and Over\",\"18 and Over\",\"18 and Over\",\"18 and Over\",\"18 and Over\",\"18 and Over\",\"18 and Over\",\"18 and Over\",\"18 and Over\",\"18 and Over\",\"18 and Over\",\"18 and Over\",\"18 and Over\",\"18 and Over\",\"18 and Over\",\"18 and Over\",\"18 and Over\",\"18 and Over\",\"18 and Over\",\"18 and Over\",\"18 and Over\",\"18 and Over\",\"18 and Over\",\"18 and Over\",\"18 and Over\",\"18 and Over\",\"18 and Over\",\"18 and Over\",\"18 and Over\",\"18 and Over\",\"18 and Over\",\"18 and Over\",\"18 and Over\",\"18 and Over\",\"18 and Over\",\"18 and Over\",\"18 and Over\",\"18 and Over\",\"18 and Over\",\"18 and Over\",\"18 and Over\",\"18 and Over\",\"18 and Over\",\"18 and Over\",\"18 and Over\",\"18 and Over\",\"18 and Over\",\"18 and Over\",\"18 and Over\",\"18 and Over\",\"18 and Over\",\"18 and Over\",\"18 and Over\",\"18 and Over\",\"18 and Over\",\"18 and Over\",\"18 and Over\",\"18 and Over\",\"18 and Over\",\"18 and Over\",\"18 and Over\",\"18 and Over\",\"18 and Over\",\"18 and Over\",\"18 and Over\",\"18 and Over\",\"18 and Over\",\"18 and Over\",\"18 and Over\",\"18 and Over\",\"18 and Over\",\"18 and Over\",\"18 and Over\",\"18 and Over\",\"18 and Over\",\"18 and Over\",\"18 and Over\",\"18 and Over\",\"18 and Over\",\"18 and Over\",\"18 and Over\",\"18 and Over\",\"18 and Over\",\"18 and Over\",\"18 and Over\",\"18 and Over\",\"18 and Over\",\"18 and Over\",\"18 and Over\",\"18 and Over\",\"18 and Over\",\"18 and Over\",\"18 and Over\",\"18 and Over\",\"18 and Over\",\"18 and Over\",\"18 and Over\",\"18 and Over\",\"18 and Over\",\"18 and Over\",\"18 and Over\",\"18 and Over\",\"18 and Over\",\"18 and Over\",\"18 and Over\",\"18 and Over\",\"18 and Over\",\"18 and Over\",\"18 and Over\",\"18 and Over\",\"18 and Over\",\"18 and Over\",\"18 and Over\",\"18 and Over\",\"18 and Over\",\"18 and Over\",\"18 and Over\",\"18 and Over\",\"18 and Over\",\"18 and Over\",\"18 and Over\",\"18 and Over\",\"18 and Over\",\"18 and Over\",\"18 and Over\",\"18 and Over\",\"18 and Over\",\"18 and Over\",\"18 and Over\",\"18 and Over\",\"18 and Over\",\"18 and Over\",\"18 and Over\",\"18 and Over\",\"18 and Over\",\"18 and Over\",\"18 and Over\",\"18 and Over\",\"18 and Over\",\"18 and Over\",\"18 and Over\",\"18 and Over\",\"18 and Over\",\"18 and Over\",\"18 and Over\",\"18 and Over\",\"18 and Over\",\"18 and Over\",\"18 and Over\",\"18 and Over\",\"18 and Over\",\"18 and Over\",\"18 and Over\",\"18 and Over\",\"18 and Over\",\"18 and Over\",\"18 and Over\",\"18 and Over\",\"18 and Over\",\"18 and Over\",\"18 and Over\",\"18 and Over\",\"18 and Over\",\"18 and Over\",\"18 and Over\",\"18 and Over\",\"18 and Over\",\"18 and Over\",\"18 and Over\",\"18 and Over\",\"18 and Over\",\"18 and Over\",\"18 and Over\",\"18 and Over\",\"18 and Over\",\"18 and Over\",\"18 and Over\",\"18 and Over\",\"18 and Over\",\"18 and Over\",\"18 and Over\",\"18 and Over\",\"18 and Over\",\"18 and Over\",\"18 and Over\",\"18 and Over\",\"18 and Over\",\"18 and Over\",\"18 and Over\",\"18 and Over\",\"18 and Over\",\"18 and Over\",\"18 and Over\",\"18 and Over\",\"18 and Over\",\"18 and Over\",\"18 and Over\",\"18 and Over\",\"18 and Over\",\"18 and Over\",\"18 and Over\",\"18 and Over\",\"18 and Over\",\"18 and Over\",\"18 and Over\",\"18 and Over\",\"18 and Over\",\"18 and Over\",\"18 and Over\",\"18 and Over\",\"18 and Over\",\"18 and Over\",\"18 and Over\",\"18 and Over\",\"18 and Over\",\"18 and Over\",\"18 and Over\",\"18 and Over\",\"18 and Over\",\"18 and Over\",\"18 and Over\",\"18 and Over\",\"18 and Over\",\"18 and Over\",\"18 and Over\",\"18 and Over\",\"18 and Over\",\"18 and Over\",\"18 and Over\",\"18 and Over\",\"18 and Over\",\"18 and Over\",\"18 and Over\",\"18 and Over\",\"18 and Over\",\"18 and Over\",\"18 and Over\",\"18 and Over\",\"18 and Over\",\"18 and Over\",\"18 and Over\",\"18 and Over\",\"18 and Over\",\"18 and Over\",\"18 and Over\",\"18 and Over\",\"18 and Over\",\"18 and Over\",\"18 and Over\",\"18 and Over\",\"18 and Over\",\"18 and Over\",\"18 and Over\",\"18 and Over\",\"18 and Over\",\"18 and Over\",\"18 and Over\",\"18 and Over\",\"18 and Over\",\"18 and Over\",\"18 and Over\",\"18 and Over\",\"18 and Over\",\"18 and Over\",\"18 and Over\",\"18 and Over\",\"18 and Over\",\"18 and Over\",\"18 and Over\",\"18 and Over\",\"18 and Over\",\"18 and Over\",\"18 and Over\",\"18 and Over\",\"18 and Over\",\"18 and Over\",\"18 and Over\",\"18 and Over\",\"18 and Over\",\"18 and Over\",\"18 and Over\",\"18 and Over\",\"18 and Over\",\"18 and Over\",\"18 and Over\",\"18 and Over\",\"18 and Over\",\"18 and Over\",\"18 and Over\",\"18 and Over\",\"18 and Over\",\"18 and Over\",\"18 and Over\",\"18 and Over\",\"18 and Over\",\"18 and Over\",\"18 and Over\",\"18 and Over\",\"18 and Over\",\"18 and Over\",\"18 and Over\",\"18 and Over\",\"18 and Over\",\"18 and Over\",\"18 and Over\",\"18 and Over\",\"18 and Over\",\"18 and Over\",\"18 and Over\",\"18 and Over\",\"18 and Over\",\"18 and Over\",\"18 and Over\",\"18 and Over\",\"18 and Over\",\"18 and Over\",\"18 and Over\",\"18 and Over\",\"18 and Over\",\"18 and Over\",\"18 and Over\",\"18 and Over\",\"18 and Over\",\"All Ages\",\"All Ages\",\"All Ages\",\"All Ages\",\"All Ages\",\"All Ages\",\"All Ages\",\"All Ages\",\"All Ages\",\"All Ages\",\"All Ages\",\"All Ages\",\"All Ages\",\"All Ages\",\"All Ages\",\"All Ages\",\"All Ages\",\"All Ages\",\"All Ages\",\"All Ages\",\"All Ages\",\"All Ages\",\"All Ages\",\"All Ages\",\"All Ages\",\"All Ages\",\"All Ages\",\"All Ages\",\"All Ages\",\"All Ages\",\"All Ages\",\"All Ages\",\"All Ages\",\"All Ages\",\"All Ages\",\"All Ages\",\"All Ages\",\"All Ages\",\"All Ages\",\"All Ages\",\"All Ages\",\"All Ages\",\"All Ages\",\"All Ages\",\"All Ages\",\"All Ages\",\"All Ages\",\"All Ages\",\"All Ages\",\"All Ages\",\"All Ages\",\"All Ages\",\"All Ages\",\"All Ages\",\"All Ages\",\"All Ages\",\"All Ages\",\"All Ages\",\"All Ages\",\"All Ages\",\"All Ages\",\"All Ages\",\"All Ages\",\"All Ages\",\"All Ages\",\"All Ages\",\"All Ages\",\"All Ages\",\"All Ages\",\"All Ages\",\"All Ages\",\"All Ages\",\"All Ages\",\"All Ages\",\"All Ages\",\"All Ages\",\"All Ages\",\"All Ages\",\"All Ages\",\"All Ages\",\"All Ages\",\"All Ages\",\"All Ages\",\"All Ages\",\"All Ages\",\"All Ages\",\"All Ages\",\"All Ages\",\"All Ages\",\"All Ages\",\"All Ages\",\"All Ages\",\"All Ages\",\"All Ages\",\"All Ages\",\"All Ages\",\"All Ages\",\"All Ages\",\"All Ages\",\"All Ages\",\"All Ages\",\"All Ages\",\"All Ages\",\"All Ages\",\"All Ages\",\"All Ages\",\"All Ages\",\"All Ages\",\"All Ages\",\"All Ages\",\"All Ages\",\"All Ages\",\"All Ages\",\"All Ages\",\"All Ages\",\"All Ages\",\"All Ages\",\"All Ages\",\"All Ages\",\"All Ages\",\"All Ages\",\"All Ages\",\"All Ages\",\"All Ages\",\"All Ages\",\"All Ages\",\"All Ages\",\"All Ages\",\"All Ages\",\"All Ages\",\"All Ages\",\"All Ages\",\"All Ages\",\"All Ages\",\"All Ages\",\"All Ages\",\"All Ages\",\"All Ages\",\"All Ages\",\"All Ages\",\"All Ages\",\"All Ages\",\"All Ages\",\"All Ages\",\"All Ages\",\"All Ages\",\"All Ages\",\"All Ages\",\"All Ages\",\"All Ages\",\"All Ages\",\"All Ages\",\"All Ages\",\"All Ages\",\"All Ages\",\"All Ages\",\"All Ages\",\"All Ages\",\"All Ages\",\"All Ages\",\"All Ages\",\"All Ages\",\"All Ages\",\"All Ages\",\"All Ages\",\"All Ages\",\"All Ages\",\"All Ages\",\"All Ages\",\"All Ages\",\"All Ages\",\"All Ages\",\"All Ages\",\"All Ages\",\"All Ages\",\"All Ages\",\"All Ages\",\"All Ages\",\"All Ages\",\"All Ages\",\"All Ages\",\"All Ages\",\"All Ages\",\"All Ages\",\"All Ages\",\"All Ages\",\"All Ages\",\"All Ages\",\"All Ages\",\"All Ages\",\"All Ages\",\"All Ages\",\"All Ages\",\"All Ages\",\"All Ages\",\"All Ages\",\"All Ages\",\"All Ages\",\"All Ages\",\"All Ages\",\"All Ages\",\"All Ages\",\"All Ages\",\"All Ages\",\"All Ages\",\"All Ages\",\"All Ages\",\"All Ages\",\"All Ages\",\"All Ages\",\"All Ages\",\"All Ages\",\"All Ages\",\"All Ages\",\"All Ages\",\"All Ages\",\"All Ages\",\"All Ages\",\"All Ages\",\"All Ages\",\"All Ages\",\"All Ages\",\"All Ages\",\"All Ages\",\"All Ages\",\"All Ages\",\"All Ages\",\"All Ages\",\"All Ages\",\"All Ages\",\"All Ages\",\"All Ages\",\"All Ages\",\"All Ages\",\"All Ages\",\"All Ages\",\"All Ages\",\"All Ages\",\"All Ages\",\"All Ages\",\"All Ages\",\"All Ages\",\"All Ages\",\"All Ages\",\"All Ages\",\"All Ages\",\"All Ages\",\"All Ages\",\"All Ages\",\"All Ages\",\"All Ages\",\"All Ages\",\"All Ages\",\"All Ages\",\"All Ages\",\"All Ages\",\"All Ages\",\"All Ages\",\"All Ages\",\"All Ages\",\"All Ages\",\"All Ages\",\"All Ages\",\"All Ages\",\"All Ages\",\"All Ages\",\"All Ages\",\"All Ages\",\"All Ages\",\"All Ages\",\"All Ages\",\"All Ages\",\"All Ages\",\"All Ages\",\"All Ages\",\"All Ages\",\"All Ages\",\"All Ages\",\"All Ages\",\"All Ages\",\"All Ages\",\"All Ages\",\"All Ages\",\"All Ages\",\"All Ages\",\"All Ages\",\"All Ages\",\"All Ages\",\"All Ages\",\"All Ages\",\"All Ages\",\"All Ages\",\"All Ages\",\"All Ages\",\"All Ages\",\"All Ages\",\"All Ages\",\"All Ages\",\"All Ages\",\"All Ages\",\"All Ages\",\"All Ages\",\"All Ages\",\"All Ages\",\"All Ages\",\"All Ages\",\"All Ages\",\"All Ages\",\"All Ages\",\"All Ages\",\"All Ages\",\"All Ages\",\"All Ages\",\"All Ages\",\"All Ages\",\"All Ages\",\"All Ages\",\"All Ages\",\"All Ages\",\"All Ages\",\"All Ages\",\"All Ages\",\"All Ages\",\"All Ages\",\"All Ages\",\"All Ages\",\"All Ages\",\"All Ages\",\"All Ages\",\"All Ages\",\"All Ages\",\"All Ages\",\"All Ages\",\"All Ages\",\"All Ages\",\"All Ages\",\"All Ages\",\"All Ages\",\"All Ages\",\"All Ages\",\"All Ages\",\"All Ages\",\"All Ages\",\"All Ages\",\"All Ages\",\"All Ages\",\"All Ages\",\"All Ages\",\"All Ages\",\"All Ages\",\"All Ages\",\"All Ages\",\"All Ages\",\"All Ages\",\"All Ages\",\"All Ages\",\"All Ages\",\"All Ages\",\"All Ages\",\"All Ages\",\"All Ages\",\"All Ages\",\"All Ages\",\"All Ages\",\"All Ages\",\"All Ages\",\"All Ages\",\"All Ages\",\"All Ages\",\"All Ages\",\"All Ages\",\"All Ages\",\"All Ages\",\"All Ages\",\"All Ages\",\"All Ages\",\"All Ages\",\"Under 18\",\"Under 18\",\"Under 18\",\"Under 18\",\"Under 18\",\"Under 18\",\"Under 18\",\"Under 18\",\"Under 18\",\"Under 18\",\"Under 18\",\"Under 18\",\"Under 18\",\"Under 18\",\"Under 18\",\"Under 18\",\"Under 18\",\"Under 18\",\"Under 18\",\"Under 18\",\"Under 18\",\"Under 18\",\"Under 18\",\"Under 18\",\"Under 18\",\"Under 18\",\"Under 18\",\"Under 18\",\"Under 18\",\"Under 18\",\"Under 18\",\"Under 18\",\"Under 18\",\"Under 18\",\"Under 18\",\"Under 18\",\"Under 18\",\"Under 18\",\"Under 18\",\"Under 18\",\"Under 18\",\"Under 18\",\"Under 18\",\"Under 18\",\"Under 18\",\"Under 18\",\"Under 18\",\"Under 18\",\"Under 18\",\"Under 18\",\"Under 18\",\"Under 18\",\"Under 18\",\"Under 18\",\"Under 18\",\"Under 18\",\"Under 18\",\"Under 18\",\"Under 18\",\"Under 18\",\"Under 18\",\"Under 18\",\"Under 18\",\"Under 18\",\"Under 18\",\"Under 18\",\"Under 18\",\"Under 18\",\"Under 18\",\"Under 18\",\"Under 18\",\"Under 18\",\"Under 18\",\"Under 18\",\"Under 18\",\"Under 18\",\"Under 18\",\"Under 18\",\"Under 18\",\"Under 18\",\"Under 18\",\"Under 18\",\"Under 18\",\"Under 18\",\"Under 18\",\"Under 18\",\"Under 18\",\"Under 18\",\"Under 18\",\"Under 18\",\"Under 18\",\"Under 18\",\"Under 18\",\"Under 18\",\"Under 18\",\"Under 18\",\"Under 18\",\"Under 18\",\"Under 18\",\"Under 18\",\"Under 18\",\"Under 18\",\"Under 18\",\"Under 18\",\"Under 18\",\"Under 18\",\"Under 18\",\"Under 18\",\"Under 18\",\"Under 18\",\"Under 18\",\"Under 18\",\"Under 18\",\"Under 18\",\"Under 18\",\"Under 18\",\"Under 18\",\"Under 18\",\"Under 18\",\"Under 18\",\"Under 18\",\"Under 18\",\"Under 18\",\"Under 18\",\"Under 18\",\"Under 18\",\"Under 18\",\"Under 18\",\"Under 18\",\"Under 18\",\"Under 18\",\"Under 18\",\"Under 18\",\"Under 18\",\"Under 18\",\"Under 18\",\"Under 18\",\"Under 18\",\"Under 18\",\"Under 18\",\"Under 18\",\"Under 18\",\"Under 18\",\"Under 18\",\"Under 18\",\"Under 18\",\"Under 18\",\"Under 18\",\"Under 18\",\"Under 18\",\"Under 18\",\"Under 18\",\"Under 18\",\"Under 18\",\"Under 18\",\"Under 18\",\"Under 18\",\"Under 18\",\"Under 18\",\"Under 18\",\"Under 18\",\"Under 18\",\"Under 18\",\"Under 18\",\"Under 18\",\"Under 18\",\"Under 18\",\"Under 18\",\"Under 18\",\"Under 18\",\"Under 18\",\"Under 18\",\"Under 18\",\"Under 18\",\"Under 18\",\"Under 18\",\"Under 18\",\"Under 18\",\"Under 18\",\"Under 18\",\"Under 18\",\"Under 18\",\"Under 18\",\"Under 18\",\"Under 18\",\"Under 18\",\"Under 18\",\"Under 18\",\"Under 18\",\"Under 18\",\"Under 18\",\"Under 18\",\"Under 18\",\"Under 18\",\"Under 18\",\"Under 18\",\"Under 18\",\"Under 18\",\"Under 18\",\"Under 18\",\"Under 18\",\"Under 18\",\"Under 18\",\"Under 18\",\"Under 18\",\"Under 18\",\"Under 18\",\"Under 18\",\"Under 18\",\"Under 18\",\"Under 18\",\"Under 18\",\"Under 18\",\"Under 18\",\"Under 18\",\"Under 18\",\"Under 18\",\"Under 18\",\"Under 18\",\"Under 18\",\"Under 18\",\"Under 18\",\"Under 18\",\"Under 18\",\"Under 18\",\"Under 18\",\"Under 18\",\"Under 18\",\"Under 18\",\"Under 18\",\"Under 18\",\"Under 18\",\"Under 18\",\"Under 18\",\"Under 18\",\"Under 18\",\"Under 18\",\"Under 18\",\"Under 18\",\"Under 18\",\"Under 18\",\"Under 18\",\"Under 18\",\"Under 18\",\"Under 18\",\"Under 18\",\"Under 18\",\"Under 18\",\"Under 18\",\"Under 18\",\"Under 18\",\"Under 18\",\"Under 18\",\"Under 18\",\"Under 18\",\"Under 18\",\"Under 18\",\"Under 18\",\"Under 18\",\"Under 18\",\"Under 18\",\"Under 18\",\"Under 18\",\"Under 18\",\"Under 18\",\"Under 18\",\"Under 18\",\"Under 18\",\"Under 18\",\"Under 18\",\"Under 18\",\"Under 18\",\"Under 18\",\"Under 18\",\"Under 18\",\"Under 18\",\"Under 18\",\"Under 18\",\"Under 18\",\"Under 18\",\"Under 18\",\"Under 18\",\"Under 18\",\"Under 18\",\"Under 18\",\"Under 18\",\"Under 18\",\"Under 18\",\"Under 18\",\"Under 18\",\"Under 18\",\"Under 18\",\"Under 18\",\"Under 18\",\"Under 18\",\"Under 18\",\"Under 18\",\"Under 18\",\"Under 18\",\"Under 18\",\"Under 18\",\"Under 18\",\"Under 18\",\"Under 18\",\"Under 18\",\"Under 18\",\"Under 18\",\"Under 18\",\"Under 18\",\"Under 18\",\"Under 18\",\"Under 18\",\"Under 18\",\"Under 18\",\"Under 18\",\"Under 18\",\"Under 18\",\"Under 18\",\"18 and Over\",\"18 and Over\",\"18 and Over\",\"18 and Over\",\"18 and Over\",\"18 and Over\",\"18 and Over\",\"18 and Over\",\"18 and Over\",\"18 and Over\",\"18 and Over\",\"18 and Over\",\"18 and Over\",\"18 and Over\",\"18 and Over\",\"18 and Over\",\"18 and Over\",\"18 and Over\",\"18 and Over\",\"18 and Over\",\"18 and Over\",\"18 and Over\",\"18 and Over\",\"18 and Over\",\"18 and Over\",\"18 and Over\",\"18 and Over\",\"18 and Over\",\"18 and Over\",\"18 and Over\",\"18 and Over\",\"18 and Over\",\"18 and Over\",\"18 and Over\",\"18 and Over\",\"18 and Over\",\"18 and Over\",\"18 and Over\",\"18 and Over\",\"18 and Over\",\"18 and Over\",\"18 and Over\",\"18 and Over\",\"18 and Over\",\"18 and Over\",\"18 and Over\",\"18 and Over\",\"18 and Over\",\"18 and Over\",\"18 and Over\",\"18 and Over\",\"18 and Over\",\"18 and Over\",\"18 and Over\",\"18 and Over\",\"18 and Over\",\"18 and Over\",\"18 and Over\",\"18 and Over\",\"18 and Over\",\"18 and Over\",\"18 and Over\",\"18 and Over\",\"18 and Over\",\"18 and Over\",\"18 and Over\",\"18 and Over\",\"18 and Over\",\"18 and Over\",\"18 and Over\",\"18 and Over\",\"18 and Over\",\"18 and Over\",\"18 and Over\",\"18 and Over\",\"18 and Over\",\"18 and Over\",\"18 and Over\",\"18 and Over\",\"18 and Over\",\"18 and Over\",\"18 and Over\",\"18 and Over\",\"18 and Over\",\"18 and Over\",\"18 and Over\",\"18 and Over\",\"18 and Over\",\"18 and Over\",\"18 and Over\",\"18 and Over\",\"18 and Over\",\"18 and Over\",\"18 and Over\",\"18 and Over\",\"18 and Over\",\"18 and Over\",\"18 and Over\",\"18 and Over\",\"18 and Over\",\"18 and Over\",\"18 and Over\",\"18 and Over\",\"18 and Over\",\"18 and Over\",\"18 and Over\",\"18 and Over\",\"18 and Over\",\"18 and Over\",\"18 and Over\",\"18 and Over\",\"18 and Over\",\"18 and Over\",\"18 and Over\",\"18 and Over\",\"18 and Over\",\"18 and Over\",\"18 and Over\",\"18 and Over\",\"18 and Over\",\"18 and Over\",\"18 and Over\",\"18 and Over\",\"18 and Over\",\"18 and Over\",\"18 and Over\",\"18 and Over\",\"18 and Over\",\"18 and Over\",\"18 and Over\",\"18 and Over\",\"18 and Over\",\"18 and Over\",\"18 and Over\",\"18 and Over\",\"18 and Over\",\"18 and Over\",\"18 and Over\",\"18 and Over\",\"18 and Over\",\"18 and Over\",\"18 and Over\",\"18 and Over\",\"18 and Over\",\"18 and Over\",\"18 and Over\",\"18 and Over\",\"18 and Over\",\"18 and Over\",\"18 and Over\",\"18 and Over\",\"18 and Over\",\"18 and Over\",\"18 and Over\",\"18 and Over\",\"18 and Over\",\"18 and Over\",\"18 and Over\",\"18 and Over\",\"18 and Over\",\"18 and Over\",\"18 and Over\",\"18 and Over\",\"18 and Over\",\"18 and Over\",\"18 and Over\",\"18 and Over\",\"18 and Over\",\"18 and Over\",\"18 and Over\",\"18 and Over\",\"18 and Over\",\"18 and Over\",\"18 and Over\",\"18 and Over\",\"18 and Over\",\"18 and Over\",\"18 and Over\",\"18 and Over\",\"18 and Over\",\"18 and Over\",\"18 and Over\",\"18 and Over\",\"18 and Over\",\"18 and Over\",\"18 and Over\",\"18 and Over\",\"18 and Over\",\"18 and Over\",\"18 and Over\",\"18 and Over\",\"18 and Over\",\"18 and Over\",\"18 and Over\",\"18 and Over\",\"18 and Over\",\"18 and Over\",\"18 and Over\",\"18 and Over\",\"18 and Over\",\"18 and Over\",\"18 and Over\",\"18 and Over\",\"18 and Over\",\"18 and Over\",\"18 and Over\",\"18 and Over\",\"18 and Over\",\"18 and Over\",\"18 and Over\",\"18 and Over\",\"18 and Over\",\"18 and Over\",\"18 and Over\",\"18 and Over\",\"18 and Over\",\"18 and Over\",\"18 and Over\",\"18 and Over\",\"18 and Over\",\"18 and Over\",\"18 and Over\",\"18 and Over\",\"18 and Over\",\"18 and Over\",\"18 and Over\",\"18 and Over\",\"18 and Over\",\"18 and Over\",\"18 and Over\",\"18 and Over\",\"18 and Over\",\"18 and Over\",\"18 and Over\",\"18 and Over\",\"18 and Over\",\"18 and Over\",\"18 and Over\",\"18 and Over\",\"18 and Over\",\"18 and Over\",\"18 and Over\",\"18 and Over\",\"18 and Over\",\"18 and Over\",\"18 and Over\",\"18 and Over\",\"18 and Over\",\"18 and Over\",\"18 and Over\",\"18 and Over\",\"18 and Over\",\"18 and Over\",\"18 and Over\",\"18 and Over\",\"18 and Over\",\"18 and Over\",\"18 and Over\",\"18 and Over\",\"18 and Over\",\"18 and Over\",\"18 and Over\",\"18 and Over\",\"18 and Over\",\"18 and Over\",\"18 and Over\",\"18 and Over\",\"18 and Over\",\"18 and Over\",\"18 and Over\",\"18 and Over\",\"18 and Over\",\"18 and Over\",\"18 and Over\",\"18 and Over\",\"18 and Over\",\"18 and Over\",\"18 and Over\",\"18 and Over\",\"18 and Over\",\"18 and Over\",\"18 and Over\",\"18 and Over\",\"18 and Over\",\"18 and Over\",\"18 and Over\",\"18 and Over\",\"18 and Over\",\"18 and Over\",\"18 and Over\",\"18 and Over\",\"18 and Over\",\"18 and Over\",\"18 and Over\",\"18 and Over\",\"18 and Over\",\"18 and Over\",\"18 and Over\",\"18 and Over\",\"18 and Over\",\"18 and Over\",\"18 and Over\",\"18 and Over\",\"18 and Over\",\"18 and Over\",\"18 and Over\",\"18 and Over\",\"18 and Over\",\"18 and Over\",\"18 and Over\",\"18 and Over\",\"18 and Over\",\"18 and Over\",\"18 and Over\",\"18 and Over\",\"18 and Over\",\"18 and Over\",\"18 and Over\",\"18 and Over\",\"18 and Over\",\"18 and Over\",\"18 and Over\",\"18 and Over\",\"18 and Over\",\"18 and Over\",\"18 and Over\",\"18 and Over\",\"18 and Over\",\"18 and Over\",\"18 and Over\",\"18 and Over\",\"18 and Over\",\"18 and Over\",\"18 and Over\",\"18 and Over\",\"18 and Over\",\"18 and Over\",\"18 and Over\",\"18 and Over\",\"18 and Over\",\"18 and Over\",\"18 and Over\",\"18 and Over\",\"18 and Over\",\"18 and Over\",\"18 and Over\",\"All Ages\",\"All Ages\",\"All Ages\",\"All Ages\",\"All Ages\",\"All Ages\",\"All Ages\",\"All Ages\",\"All Ages\",\"All Ages\",\"All Ages\",\"All Ages\",\"All Ages\",\"All Ages\",\"All Ages\",\"All Ages\",\"All Ages\",\"All Ages\",\"All Ages\",\"All Ages\",\"All Ages\",\"All Ages\",\"All Ages\",\"All Ages\",\"All Ages\",\"All Ages\",\"All Ages\",\"All Ages\",\"All Ages\",\"All Ages\",\"All Ages\",\"All Ages\",\"All Ages\",\"All Ages\",\"All Ages\",\"All Ages\",\"All Ages\",\"All Ages\",\"All Ages\",\"All Ages\",\"All Ages\",\"All Ages\",\"All Ages\",\"All Ages\",\"All Ages\",\"All Ages\",\"All Ages\",\"All Ages\",\"All Ages\",\"All Ages\",\"All Ages\",\"All Ages\",\"All Ages\",\"All Ages\",\"All Ages\",\"All Ages\",\"All Ages\",\"All Ages\",\"All Ages\",\"All Ages\",\"All Ages\",\"All Ages\",\"All Ages\",\"All Ages\",\"All Ages\",\"All Ages\",\"All Ages\",\"All Ages\",\"All Ages\",\"All Ages\",\"All Ages\",\"All Ages\",\"All Ages\",\"All Ages\",\"All Ages\",\"All Ages\",\"All Ages\",\"All Ages\",\"All Ages\",\"All Ages\",\"All Ages\",\"All Ages\",\"All Ages\",\"All Ages\",\"All Ages\",\"All Ages\",\"All Ages\",\"All Ages\",\"All Ages\",\"All Ages\",\"All Ages\",\"All Ages\",\"All Ages\",\"All Ages\",\"All Ages\",\"All Ages\",\"All Ages\",\"All Ages\",\"All Ages\",\"All Ages\",\"All Ages\",\"All Ages\",\"All Ages\",\"All Ages\",\"All Ages\",\"All Ages\",\"All Ages\",\"All Ages\",\"All Ages\",\"All Ages\",\"All Ages\",\"All Ages\",\"All Ages\",\"All Ages\",\"All Ages\",\"All Ages\",\"All Ages\",\"All Ages\",\"All Ages\",\"All Ages\",\"All Ages\",\"All Ages\",\"All Ages\",\"All Ages\",\"All Ages\",\"All Ages\",\"All Ages\",\"All Ages\",\"All Ages\",\"All Ages\",\"All Ages\",\"All Ages\",\"All Ages\",\"All Ages\",\"All Ages\",\"All Ages\",\"All Ages\",\"All Ages\",\"All Ages\",\"All Ages\",\"All Ages\",\"All Ages\",\"All Ages\",\"All Ages\",\"All Ages\",\"All Ages\",\"All Ages\",\"All Ages\",\"All Ages\",\"All Ages\",\"All Ages\",\"All Ages\",\"All Ages\",\"All Ages\",\"All Ages\",\"All Ages\",\"All Ages\",\"All Ages\",\"All Ages\",\"All Ages\",\"All Ages\",\"All Ages\",\"All Ages\",\"All Ages\",\"All Ages\",\"All Ages\",\"All Ages\",\"All Ages\",\"All Ages\",\"All Ages\",\"All Ages\",\"All Ages\",\"All Ages\",\"All Ages\",\"All Ages\",\"All Ages\",\"All Ages\",\"All Ages\",\"All Ages\",\"All Ages\",\"All Ages\",\"All Ages\",\"All Ages\",\"All Ages\",\"All Ages\",\"All Ages\",\"All Ages\",\"All Ages\",\"All Ages\",\"All Ages\",\"All Ages\",\"All Ages\",\"All Ages\",\"All Ages\",\"All Ages\",\"All Ages\",\"All Ages\",\"All Ages\",\"All Ages\",\"All Ages\",\"All Ages\",\"All Ages\",\"All Ages\",\"All Ages\",\"All Ages\",\"All Ages\",\"All Ages\",\"All Ages\",\"All Ages\",\"All Ages\",\"All Ages\",\"All Ages\",\"All Ages\",\"All Ages\",\"All Ages\",\"All Ages\",\"All Ages\",\"All Ages\",\"All Ages\",\"All Ages\",\"All Ages\",\"All Ages\",\"All Ages\",\"All Ages\",\"All Ages\",\"All Ages\",\"All Ages\",\"All Ages\",\"All Ages\",\"All Ages\",\"All Ages\",\"All Ages\",\"All Ages\",\"All Ages\",\"All Ages\",\"All Ages\",\"All Ages\",\"All Ages\",\"All Ages\",\"All Ages\",\"All Ages\",\"All Ages\",\"All Ages\",\"All Ages\",\"All Ages\",\"All Ages\",\"All Ages\",\"All Ages\",\"All Ages\",\"All Ages\",\"All Ages\",\"All Ages\",\"All Ages\",\"All Ages\",\"All Ages\",\"All Ages\",\"All Ages\",\"All Ages\",\"All Ages\",\"All Ages\",\"All Ages\",\"All Ages\",\"All Ages\",\"All Ages\",\"All Ages\",\"All Ages\",\"All Ages\",\"All Ages\",\"All Ages\",\"All Ages\",\"All Ages\",\"All Ages\",\"All Ages\",\"All Ages\",\"All Ages\",\"All Ages\",\"All Ages\",\"All Ages\",\"All Ages\",\"All Ages\",\"All Ages\",\"All Ages\",\"All Ages\",\"All Ages\",\"All Ages\",\"All Ages\",\"All Ages\",\"All Ages\",\"All Ages\",\"All Ages\",\"All Ages\",\"All Ages\",\"All Ages\",\"All Ages\",\"All Ages\",\"All Ages\",\"All Ages\",\"All Ages\",\"All Ages\",\"All Ages\",\"All Ages\",\"All Ages\",\"All Ages\",\"All Ages\",\"All Ages\",\"All Ages\",\"All Ages\",\"All Ages\",\"All Ages\",\"All Ages\",\"All Ages\",\"All Ages\",\"All Ages\",\"All Ages\",\"All Ages\",\"All Ages\",\"All Ages\",\"All Ages\",\"All Ages\",\"All Ages\",\"All Ages\",\"All Ages\",\"All Ages\",\"All Ages\",\"All Ages\",\"All Ages\",\"All Ages\",\"All Ages\",\"All Ages\",\"All Ages\",\"All Ages\",\"All Ages\",\"All Ages\",\"All Ages\",\"All Ages\",\"All Ages\",\"All Ages\",\"All Ages\",\"All Ages\",\"All Ages\",\"All Ages\",\"All Ages\",\"All Ages\",\"All Ages\",\"All Ages\",\"All Ages\",\"All Ages\",\"All Ages\",\"All Ages\",\"All Ages\",\"All Ages\",\"All Ages\",\"All Ages\",\"All Ages\",\"All Ages\",\"All Ages\",\"All Ages\",\"All Ages\",\"All Ages\",\"All Ages\",\"All Ages\",\"All Ages\",\"All Ages\",\"All Ages\",\"All Ages\",\"All Ages\",\"All Ages\",\"All Ages\",\"All Ages\",\"All Ages\",\"Under 18\",\"Under 18\",\"Under 18\",\"Under 18\",\"Under 18\",\"Under 18\",\"Under 18\",\"Under 18\",\"Under 18\",\"Under 18\",\"Under 18\",\"Under 18\",\"Under 18\",\"Under 18\",\"Under 18\",\"Under 18\",\"Under 18\",\"Under 18\",\"Under 18\",\"Under 18\",\"Under 18\",\"Under 18\",\"Under 18\",\"Under 18\",\"Under 18\",\"Under 18\",\"Under 18\",\"Under 18\",\"Under 18\",\"Under 18\",\"Under 18\",\"Under 18\",\"Under 18\",\"Under 18\",\"Under 18\",\"Under 18\",\"Under 18\",\"Under 18\",\"Under 18\",\"Under 18\",\"Under 18\",\"Under 18\",\"Under 18\",\"Under 18\",\"Under 18\",\"Under 18\",\"Under 18\",\"Under 18\",\"Under 18\",\"Under 18\",\"Under 18\",\"Under 18\",\"Under 18\",\"Under 18\",\"Under 18\",\"Under 18\",\"Under 18\",\"Under 18\",\"Under 18\",\"Under 18\",\"Under 18\",\"Under 18\",\"Under 18\",\"Under 18\",\"Under 18\",\"Under 18\",\"Under 18\",\"Under 18\",\"Under 18\",\"Under 18\",\"Under 18\",\"Under 18\",\"Under 18\",\"Under 18\",\"Under 18\",\"Under 18\",\"Under 18\",\"Under 18\",\"Under 18\",\"Under 18\",\"Under 18\",\"Under 18\",\"Under 18\",\"Under 18\",\"Under 18\",\"Under 18\",\"Under 18\",\"Under 18\",\"Under 18\",\"Under 18\",\"Under 18\",\"Under 18\",\"Under 18\",\"Under 18\",\"Under 18\",\"Under 18\",\"Under 18\",\"Under 18\",\"Under 18\",\"Under 18\",\"Under 18\",\"Under 18\",\"Under 18\",\"Under 18\",\"Under 18\",\"Under 18\",\"Under 18\",\"Under 18\",\"Under 18\",\"Under 18\",\"Under 18\",\"Under 18\",\"Under 18\",\"Under 18\",\"Under 18\",\"Under 18\",\"Under 18\",\"Under 18\",\"Under 18\",\"Under 18\",\"Under 18\",\"Under 18\",\"Under 18\",\"Under 18\",\"Under 18\",\"Under 18\",\"Under 18\",\"Under 18\",\"Under 18\",\"Under 18\",\"Under 18\",\"Under 18\",\"Under 18\",\"Under 18\",\"Under 18\",\"Under 18\",\"Under 18\",\"Under 18\",\"Under 18\",\"Under 18\",\"Under 18\",\"Under 18\",\"Under 18\",\"Under 18\",\"Under 18\",\"Under 18\",\"Under 18\",\"Under 18\",\"Under 18\",\"Under 18\",\"Under 18\",\"Under 18\",\"Under 18\",\"Under 18\",\"Under 18\",\"Under 18\",\"Under 18\",\"Under 18\",\"Under 18\",\"Under 18\",\"Under 18\",\"Under 18\",\"Under 18\",\"Under 18\",\"Under 18\",\"Under 18\",\"Under 18\",\"Under 18\",\"Under 18\",\"Under 18\",\"Under 18\",\"Under 18\",\"Under 18\",\"Under 18\",\"Under 18\",\"Under 18\",\"Under 18\",\"Under 18\",\"Under 18\",\"Under 18\",\"Under 18\",\"Under 18\",\"Under 18\",\"Under 18\",\"Under 18\",\"Under 18\",\"Under 18\",\"Under 18\",\"Under 18\",\"Under 18\",\"Under 18\",\"Under 18\",\"Under 18\",\"Under 18\",\"Under 18\",\"Under 18\",\"Under 18\",\"Under 18\",\"Under 18\",\"Under 18\",\"Under 18\",\"Under 18\",\"Under 18\",\"Under 18\",\"Under 18\",\"Under 18\",\"Under 18\",\"Under 18\",\"Under 18\",\"Under 18\",\"Under 18\",\"Under 18\",\"Under 18\",\"Under 18\",\"Under 18\",\"Under 18\",\"Under 18\",\"Under 18\",\"Under 18\",\"Under 18\",\"Under 18\",\"Under 18\",\"Under 18\",\"Under 18\",\"Under 18\",\"Under 18\",\"Under 18\",\"Under 18\",\"Under 18\",\"Under 18\",\"Under 18\",\"Under 18\",\"Under 18\",\"Under 18\",\"Under 18\",\"Under 18\",\"Under 18\",\"Under 18\",\"Under 18\",\"Under 18\",\"Under 18\",\"Under 18\",\"Under 18\",\"Under 18\",\"Under 18\",\"Under 18\",\"Under 18\",\"Under 18\",\"Under 18\",\"Under 18\",\"Under 18\",\"Under 18\",\"Under 18\",\"Under 18\",\"Under 18\",\"Under 18\",\"Under 18\",\"Under 18\",\"Under 18\",\"Under 18\",\"Under 18\",\"Under 18\",\"Under 18\",\"Under 18\",\"Under 18\",\"Under 18\",\"Under 18\",\"Under 18\",\"Under 18\",\"Under 18\",\"Under 18\",\"Under 18\",\"Under 18\",\"Under 18\",\"Under 18\",\"Under 18\",\"Under 18\",\"Under 18\",\"Under 18\",\"Under 18\",\"Under 18\",\"Under 18\",\"Under 18\",\"Under 18\",\"Under 18\",\"Under 18\",\"Under 18\",\"Under 18\",\"Under 18\",\"Under 18\",\"Under 18\",\"Under 18\",\"Under 18\",\"Under 18\",\"Under 18\",\"Under 18\",\"Under 18\",\"Under 18\",\"Under 18\",\"Under 18\",\"Under 18\",\"Under 18\",\"Under 18\",\"Under 18\",\"Under 18\",\"Under 18\",\"Under 18\",\"Under 18\",\"Under 18\",\"Under 18\",\"Under 18\",\"Under 18\",\"Under 18\",\"Under 18\",\"Under 18\",\"Under 18\",\"Under 18\",\"Under 18\",\"Under 18\",\"18 and Over\",\"18 and Over\",\"18 and Over\",\"18 and Over\",\"18 and Over\",\"18 and Over\",\"18 and Over\",\"18 and Over\",\"18 and Over\",\"18 and Over\",\"18 and Over\",\"18 and Over\",\"18 and Over\",\"18 and Over\",\"18 and Over\",\"18 and Over\",\"18 and Over\",\"18 and Over\",\"18 and Over\",\"18 and Over\",\"18 and Over\",\"18 and Over\",\"18 and Over\",\"18 and Over\",\"18 and Over\",\"18 and Over\",\"18 and Over\",\"18 and Over\",\"18 and Over\",\"18 and Over\",\"18 and Over\",\"18 and Over\",\"18 and Over\",\"18 and Over\",\"18 and Over\",\"18 and Over\",\"18 and Over\",\"18 and Over\",\"18 and Over\",\"18 and Over\",\"18 and Over\",\"18 and Over\",\"18 and Over\",\"18 and Over\",\"18 and Over\",\"18 and Over\",\"18 and Over\",\"18 and Over\",\"18 and Over\",\"18 and Over\",\"18 and Over\",\"18 and Over\",\"18 and Over\",\"18 and Over\",\"18 and Over\",\"18 and Over\",\"18 and Over\",\"18 and Over\",\"18 and Over\",\"18 and Over\",\"18 and Over\",\"18 and Over\",\"18 and Over\",\"18 and Over\",\"18 and Over\",\"18 and Over\",\"18 and Over\",\"18 and Over\",\"18 and Over\",\"18 and Over\",\"18 and Over\",\"18 and Over\",\"18 and Over\",\"18 and Over\",\"18 and Over\",\"18 and Over\",\"18 and Over\",\"18 and Over\",\"18 and Over\",\"18 and Over\",\"18 and Over\",\"18 and Over\",\"18 and Over\",\"18 and Over\",\"18 and Over\",\"18 and Over\",\"18 and Over\",\"18 and Over\",\"18 and Over\",\"18 and Over\",\"18 and Over\",\"18 and Over\",\"18 and Over\",\"18 and Over\",\"18 and Over\",\"18 and Over\",\"18 and Over\",\"18 and Over\",\"18 and Over\",\"18 and Over\",\"18 and Over\",\"18 and Over\",\"18 and Over\",\"18 and Over\",\"18 and Over\",\"18 and Over\",\"18 and Over\",\"18 and Over\",\"18 and Over\",\"18 and Over\",\"18 and Over\",\"18 and Over\",\"18 and Over\",\"18 and Over\",\"18 and Over\",\"18 and Over\",\"18 and Over\",\"18 and Over\",\"18 and Over\",\"18 and Over\",\"18 and Over\",\"18 and Over\",\"18 and Over\",\"18 and Over\",\"18 and Over\",\"18 and Over\",\"18 and Over\",\"18 and Over\",\"18 and Over\",\"18 and Over\",\"18 and Over\",\"18 and Over\",\"18 and Over\",\"18 and Over\",\"18 and Over\",\"18 and Over\",\"18 and Over\",\"18 and Over\",\"18 and Over\",\"18 and Over\",\"18 and Over\",\"18 and Over\",\"18 and Over\",\"18 and Over\",\"18 and Over\",\"18 and Over\",\"18 and Over\",\"18 and Over\",\"18 and Over\",\"18 and Over\",\"18 and Over\",\"18 and Over\",\"18 and Over\",\"18 and Over\",\"18 and Over\",\"18 and Over\",\"18 and Over\",\"18 and Over\",\"18 and Over\",\"18 and Over\",\"18 and Over\",\"18 and Over\",\"18 and Over\",\"18 and Over\",\"18 and Over\",\"18 and Over\",\"18 and Over\",\"18 and Over\",\"18 and Over\",\"18 and Over\",\"18 and Over\",\"18 and Over\",\"18 and Over\",\"18 and Over\",\"18 and Over\",\"18 and Over\",\"18 and Over\",\"18 and Over\",\"18 and Over\",\"18 and Over\",\"18 and Over\",\"18 and Over\",\"18 and Over\",\"18 and Over\",\"18 and Over\",\"18 and Over\",\"18 and Over\",\"18 and Over\",\"18 and Over\",\"18 and Over\",\"18 and Over\",\"18 and Over\",\"18 and Over\",\"18 and Over\",\"18 and Over\",\"18 and Over\",\"18 and Over\",\"18 and Over\",\"18 and Over\",\"18 and Over\",\"18 and Over\",\"18 and Over\",\"18 and Over\",\"18 and Over\",\"18 and Over\",\"18 and Over\",\"18 and Over\",\"18 and Over\",\"18 and Over\",\"18 and Over\",\"18 and Over\",\"18 and Over\",\"18 and Over\",\"18 and Over\",\"18 and Over\",\"18 and Over\",\"18 and Over\",\"18 and Over\",\"18 and Over\",\"18 and Over\",\"18 and Over\",\"18 and Over\",\"18 and Over\",\"18 and Over\",\"18 and Over\",\"18 and Over\",\"18 and Over\",\"18 and Over\",\"18 and Over\",\"18 and Over\",\"18 and Over\",\"18 and Over\",\"18 and Over\",\"18 and Over\",\"18 and Over\",\"18 and Over\",\"18 and Over\",\"18 and Over\",\"18 and Over\",\"18 and Over\",\"18 and Over\",\"18 and Over\",\"18 and Over\",\"18 and Over\",\"18 and Over\",\"18 and Over\",\"18 and Over\",\"18 and Over\",\"18 and Over\",\"18 and Over\",\"18 and Over\",\"18 and Over\",\"18 and Over\",\"18 and Over\",\"18 and Over\",\"18 and Over\",\"18 and Over\",\"18 and Over\",\"18 and Over\",\"18 and Over\",\"18 and Over\",\"18 and Over\",\"18 and Over\",\"18 and Over\",\"18 and Over\",\"18 and Over\",\"18 and Over\",\"18 and Over\",\"18 and Over\",\"18 and Over\",\"18 and Over\",\"18 and Over\",\"18 and Over\",\"18 and Over\",\"18 and Over\",\"18 and Over\",\"18 and Over\",\"18 and Over\",\"18 and Over\",\"18 and Over\",\"18 and Over\",\"18 and Over\",\"18 and Over\",\"18 and Over\",\"18 and Over\",\"18 and Over\",\"18 and Over\",\"18 and Over\",\"18 and Over\",\"18 and Over\",\"18 and Over\",\"18 and Over\",\"18 and Over\",\"18 and Over\",\"18 and Over\",\"18 and Over\",\"18 and Over\",\"18 and Over\",\"18 and Over\",\"18 and Over\",\"18 and Over\",\"18 and Over\",\"18 and Over\",\"18 and Over\",\"18 and Over\",\"18 and Over\",\"18 and Over\",\"18 and Over\",\"18 and Over\",\"18 and Over\",\"18 and Over\",\"18 and Over\",\"18 and Over\",\"18 and Over\",\"18 and Over\",\"18 and Over\",\"18 and Over\",\"18 and Over\",\"18 and Over\",\"18 and Over\",\"18 and Over\",\"18 and Over\",\"18 and Over\",\"18 and Over\",\"18 and Over\",\"18 and Over\",\"18 and Over\",\"18 and Over\",\"18 and Over\",\"18 and Over\",\"18 and Over\",\"18 and Over\",\"18 and Over\",\"18 and Over\",\"18 and Over\",\"18 and Over\",\"18 and Over\",\"18 and Over\",\"18 and Over\",\"18 and Over\",\"18 and Over\",\"18 and Over\",\"18 and Over\",\"18 and Over\",\"All Ages\",\"All Ages\",\"All Ages\",\"All Ages\",\"All Ages\",\"All Ages\",\"All Ages\",\"All Ages\",\"All Ages\",\"All Ages\",\"All Ages\",\"All Ages\",\"All Ages\",\"All Ages\",\"All Ages\",\"All Ages\",\"All Ages\",\"All Ages\",\"All Ages\",\"All Ages\",\"All Ages\",\"All Ages\",\"All Ages\",\"All Ages\",\"All Ages\",\"All Ages\",\"All Ages\",\"All Ages\",\"All Ages\",\"All Ages\",\"All Ages\",\"All Ages\",\"All Ages\",\"All Ages\",\"All Ages\",\"All Ages\",\"All Ages\",\"All Ages\",\"All Ages\",\"All Ages\",\"All Ages\",\"All Ages\",\"All Ages\",\"All Ages\",\"All Ages\",\"All Ages\",\"All Ages\",\"All Ages\",\"All Ages\",\"All Ages\",\"All Ages\",\"All Ages\",\"All Ages\",\"All Ages\",\"All Ages\",\"All Ages\",\"All Ages\",\"All Ages\",\"All Ages\",\"All Ages\",\"All Ages\",\"All Ages\",\"All Ages\",\"All Ages\",\"All Ages\",\"All Ages\",\"All Ages\",\"All Ages\",\"All Ages\",\"All Ages\",\"All Ages\",\"All Ages\",\"All Ages\",\"All Ages\",\"All Ages\",\"All Ages\",\"All Ages\",\"All Ages\",\"All Ages\",\"All Ages\",\"All Ages\",\"All Ages\",\"All Ages\",\"All Ages\",\"All Ages\",\"All Ages\",\"All Ages\",\"All Ages\",\"All Ages\",\"All Ages\",\"All Ages\",\"All Ages\",\"All Ages\",\"All Ages\",\"All Ages\",\"All Ages\",\"All Ages\",\"All Ages\",\"All Ages\",\"All Ages\",\"All Ages\",\"All Ages\",\"All Ages\",\"All Ages\",\"All Ages\",\"All Ages\",\"All Ages\",\"All Ages\",\"All Ages\",\"All Ages\",\"All Ages\",\"All Ages\",\"All Ages\",\"All Ages\",\"All Ages\",\"All Ages\",\"All Ages\",\"All Ages\",\"All Ages\",\"All Ages\",\"All Ages\",\"All Ages\",\"All Ages\",\"All Ages\",\"All Ages\",\"All Ages\",\"All Ages\",\"All Ages\",\"All Ages\",\"All Ages\",\"All Ages\",\"All Ages\",\"All Ages\",\"All Ages\",\"All Ages\",\"All Ages\",\"All Ages\",\"All Ages\",\"All Ages\",\"All Ages\",\"All Ages\",\"All Ages\",\"All Ages\",\"All Ages\",\"All Ages\",\"All Ages\",\"All Ages\",\"All Ages\",\"All Ages\",\"All Ages\",\"All Ages\",\"All Ages\",\"All Ages\",\"All Ages\",\"All Ages\",\"All Ages\",\"All Ages\",\"All Ages\",\"All Ages\",\"All Ages\",\"All Ages\",\"All Ages\",\"All Ages\",\"All Ages\",\"All Ages\",\"All Ages\",\"All Ages\",\"All Ages\",\"All Ages\",\"All Ages\",\"All Ages\",\"All Ages\",\"All Ages\",\"All Ages\",\"All Ages\",\"All Ages\",\"All Ages\",\"All Ages\",\"All Ages\",\"All Ages\",\"All Ages\",\"All Ages\",\"All Ages\",\"All Ages\",\"All Ages\",\"All Ages\",\"All Ages\",\"All Ages\",\"All Ages\",\"All Ages\",\"All Ages\",\"All Ages\",\"All Ages\",\"All Ages\",\"All Ages\",\"All Ages\",\"All Ages\",\"All Ages\",\"All Ages\",\"All Ages\",\"All Ages\",\"All Ages\",\"All Ages\",\"All Ages\",\"All Ages\",\"All Ages\",\"All Ages\",\"All Ages\",\"All Ages\",\"All Ages\",\"All Ages\",\"All Ages\",\"All Ages\",\"All Ages\",\"All Ages\",\"All Ages\",\"All Ages\",\"All Ages\",\"All Ages\",\"All Ages\",\"All Ages\",\"All Ages\",\"All Ages\",\"All Ages\",\"All Ages\",\"All Ages\",\"All Ages\",\"All Ages\",\"All Ages\",\"All Ages\",\"All Ages\",\"All Ages\",\"All Ages\",\"All Ages\",\"All Ages\",\"All Ages\",\"All Ages\",\"All Ages\",\"All Ages\",\"All Ages\",\"All Ages\",\"All Ages\",\"All Ages\",\"All Ages\",\"All Ages\",\"All Ages\",\"All Ages\",\"All Ages\",\"All Ages\",\"All Ages\",\"All Ages\",\"All Ages\",\"All Ages\",\"All Ages\",\"All Ages\",\"All Ages\",\"All Ages\",\"All Ages\",\"All Ages\",\"All Ages\",\"All Ages\",\"All Ages\",\"All Ages\",\"All Ages\",\"All Ages\",\"All Ages\",\"All Ages\",\"All Ages\",\"All Ages\",\"All Ages\",\"All Ages\",\"All Ages\",\"All Ages\",\"All Ages\",\"All Ages\",\"All Ages\",\"All Ages\",\"All Ages\",\"All Ages\",\"All Ages\",\"All Ages\",\"All Ages\",\"All Ages\",\"All Ages\",\"All Ages\",\"All Ages\",\"All Ages\",\"All Ages\",\"All Ages\",\"All Ages\",\"All Ages\",\"All Ages\",\"All Ages\",\"All Ages\",\"All Ages\",\"All Ages\",\"All Ages\",\"All Ages\",\"All Ages\",\"All Ages\",\"All Ages\",\"All Ages\",\"All Ages\",\"All Ages\",\"All Ages\",\"All Ages\",\"All Ages\",\"All Ages\",\"All Ages\",\"All Ages\",\"All Ages\",\"All Ages\",\"All Ages\",\"All Ages\",\"All Ages\",\"All Ages\",\"All Ages\",\"All Ages\",\"All Ages\",\"All Ages\",\"All Ages\",\"All Ages\",\"All Ages\",\"All Ages\",\"All Ages\",\"All Ages\",\"All Ages\",\"All Ages\",\"All Ages\",\"All Ages\",\"All Ages\",\"All Ages\",\"All Ages\",\"All Ages\",\"All Ages\",\"All Ages\",\"All Ages\",\"All Ages\",\"All Ages\",\"All Ages\",\"All Ages\",\"All Ages\",\"All Ages\",\"All Ages\",\"All Ages\",\"All Ages\",\"All Ages\",\"All Ages\",\"All Ages\",\"All Ages\",\"All Ages\",\"All Ages\",\"All Ages\",\"All Ages\",\"All Ages\",\"All Ages\",\"All Ages\",\"All Ages\",\"All Ages\",\"All Ages\",\"All Ages\",\"All Ages\",\"All Ages\",\"All Ages\",\"All Ages\",\"All Ages\",\"All Ages\",\"All Ages\",\"All Ages\",\"Under 18\",\"Under 18\",\"Under 18\",\"Under 18\",\"Under 18\",\"Under 18\",\"Under 18\",\"Under 18\",\"Under 18\",\"Under 18\",\"Under 18\",\"Under 18\",\"Under 18\",\"Under 18\",\"Under 18\",\"Under 18\",\"Under 18\",\"Under 18\",\"Under 18\",\"Under 18\",\"Under 18\",\"Under 18\",\"Under 18\",\"Under 18\",\"Under 18\",\"Under 18\",\"Under 18\",\"Under 18\",\"Under 18\",\"Under 18\",\"Under 18\",\"Under 18\",\"Under 18\",\"Under 18\",\"Under 18\",\"Under 18\",\"Under 18\",\"Under 18\",\"Under 18\",\"Under 18\",\"Under 18\",\"Under 18\",\"Under 18\",\"Under 18\",\"Under 18\",\"Under 18\",\"Under 18\",\"Under 18\",\"Under 18\",\"Under 18\",\"Under 18\",\"Under 18\",\"Under 18\",\"Under 18\",\"Under 18\",\"Under 18\",\"Under 18\",\"Under 18\",\"Under 18\",\"Under 18\",\"Under 18\",\"Under 18\",\"Under 18\",\"Under 18\",\"Under 18\",\"Under 18\",\"Under 18\",\"Under 18\",\"Under 18\",\"Under 18\",\"Under 18\",\"Under 18\",\"Under 18\",\"Under 18\",\"Under 18\",\"Under 18\",\"Under 18\",\"Under 18\",\"Under 18\",\"Under 18\",\"Under 18\",\"Under 18\",\"Under 18\",\"Under 18\",\"Under 18\",\"Under 18\",\"Under 18\",\"Under 18\",\"Under 18\",\"Under 18\",\"Under 18\",\"Under 18\",\"Under 18\",\"Under 18\",\"Under 18\",\"Under 18\",\"Under 18\",\"Under 18\",\"Under 18\",\"Under 18\",\"Under 18\",\"Under 18\",\"Under 18\",\"Under 18\",\"Under 18\",\"Under 18\",\"Under 18\",\"Under 18\",\"Under 18\",\"Under 18\",\"Under 18\",\"Under 18\",\"Under 18\",\"Under 18\",\"Under 18\",\"Under 18\",\"Under 18\",\"Under 18\",\"Under 18\",\"Under 18\",\"Under 18\",\"Under 18\",\"Under 18\",\"Under 18\",\"Under 18\",\"Under 18\",\"Under 18\",\"Under 18\",\"Under 18\",\"Under 18\",\"Under 18\",\"Under 18\",\"Under 18\",\"Under 18\",\"Under 18\",\"Under 18\",\"Under 18\",\"Under 18\",\"Under 18\",\"Under 18\",\"Under 18\",\"Under 18\",\"Under 18\",\"Under 18\",\"Under 18\",\"Under 18\",\"Under 18\",\"Under 18\",\"Under 18\",\"Under 18\",\"Under 18\",\"Under 18\",\"Under 18\",\"Under 18\",\"Under 18\",\"Under 18\",\"Under 18\",\"Under 18\",\"Under 18\",\"Under 18\",\"Under 18\",\"Under 18\",\"Under 18\",\"Under 18\",\"Under 18\",\"Under 18\",\"Under 18\",\"Under 18\",\"Under 18\",\"Under 18\",\"Under 18\",\"Under 18\",\"Under 18\",\"Under 18\",\"Under 18\",\"Under 18\",\"Under 18\",\"Under 18\",\"Under 18\",\"Under 18\",\"Under 18\",\"Under 18\",\"Under 18\",\"Under 18\",\"Under 18\",\"Under 18\",\"Under 18\",\"Under 18\",\"Under 18\",\"Under 18\",\"Under 18\",\"Under 18\",\"Under 18\",\"Under 18\",\"Under 18\",\"Under 18\",\"Under 18\",\"Under 18\",\"Under 18\",\"Under 18\",\"Under 18\",\"Under 18\",\"Under 18\",\"Under 18\",\"Under 18\",\"Under 18\",\"Under 18\",\"Under 18\",\"Under 18\",\"Under 18\",\"Under 18\",\"Under 18\",\"Under 18\",\"Under 18\",\"Under 18\",\"Under 18\",\"Under 18\",\"Under 18\",\"Under 18\",\"Under 18\",\"Under 18\",\"Under 18\",\"Under 18\",\"Under 18\",\"Under 18\",\"Under 18\",\"Under 18\",\"Under 18\",\"Under 18\",\"Under 18\",\"Under 18\",\"Under 18\",\"Under 18\",\"Under 18\",\"Under 18\",\"Under 18\",\"Under 18\",\"Under 18\",\"Under 18\",\"Under 18\",\"Under 18\",\"Under 18\",\"Under 18\",\"Under 18\",\"Under 18\",\"Under 18\",\"Under 18\",\"Under 18\",\"Under 18\",\"Under 18\",\"Under 18\",\"Under 18\",\"Under 18\",\"Under 18\",\"Under 18\",\"Under 18\",\"Under 18\",\"Under 18\",\"Under 18\",\"Under 18\",\"Under 18\",\"Under 18\",\"Under 18\",\"Under 18\",\"Under 18\",\"Under 18\",\"Under 18\",\"Under 18\",\"Under 18\",\"Under 18\",\"Under 18\",\"Under 18\",\"Under 18\",\"Under 18\",\"Under 18\",\"Under 18\",\"Under 18\",\"Under 18\",\"Under 18\",\"Under 18\",\"Under 18\",\"Under 18\",\"Under 18\",\"Under 18\",\"Under 18\",\"Under 18\",\"Under 18\",\"Under 18\",\"Under 18\",\"Under 18\",\"Under 18\",\"Under 18\",\"Under 18\",\"Under 18\",\"Under 18\",\"Under 18\",\"Under 18\",\"Under 18\",\"Under 18\",\"Under 18\",\"Under 18\",\"Under 18\",\"Under 18\",\"Under 18\",\"Under 18\",\"Under 18\",\"Under 18\",\"Under 18\",\"Under 18\",\"Under 18\",\"Under 18\",\"Under 18\",\"Under 18\",\"Under 18\",\"Under 18\",\"18 and Over\",\"18 and Over\",\"18 and Over\",\"18 and Over\",\"18 and Over\",\"18 and Over\",\"18 and Over\",\"18 and Over\",\"18 and Over\",\"18 and Over\",\"18 and Over\",\"18 and Over\",\"18 and Over\",\"18 and Over\",\"18 and Over\",\"18 and Over\",\"18 and Over\",\"18 and Over\",\"18 and Over\",\"18 and Over\",\"18 and Over\",\"18 and Over\",\"18 and Over\",\"18 and Over\",\"18 and Over\",\"18 and Over\",\"18 and Over\",\"18 and Over\",\"18 and Over\",\"18 and Over\",\"18 and Over\",\"18 and Over\",\"18 and Over\",\"18 and Over\",\"18 and Over\",\"18 and Over\",\"18 and Over\",\"18 and Over\",\"18 and Over\",\"18 and Over\",\"18 and Over\",\"18 and Over\",\"18 and Over\",\"18 and Over\",\"18 and Over\",\"18 and Over\",\"18 and Over\",\"18 and Over\",\"18 and Over\",\"18 and Over\",\"18 and Over\",\"18 and Over\",\"18 and Over\",\"18 and Over\",\"18 and Over\",\"18 and Over\",\"18 and Over\",\"18 and Over\",\"18 and Over\",\"18 and Over\",\"18 and Over\",\"18 and Over\",\"18 and Over\",\"18 and Over\",\"18 and Over\",\"18 and Over\",\"18 and Over\",\"18 and Over\",\"18 and Over\",\"18 and Over\",\"18 and Over\",\"18 and Over\",\"18 and Over\",\"18 and Over\",\"18 and Over\",\"18 and Over\",\"18 and Over\",\"18 and Over\",\"18 and Over\",\"18 and Over\",\"18 and Over\",\"18 and Over\",\"18 and Over\",\"18 and Over\",\"18 and Over\",\"18 and Over\",\"18 and Over\",\"18 and Over\",\"18 and Over\",\"18 and Over\",\"18 and Over\",\"18 and Over\",\"18 and Over\",\"18 and Over\",\"18 and Over\",\"18 and Over\",\"18 and Over\",\"18 and Over\",\"18 and Over\",\"18 and Over\",\"18 and Over\",\"18 and Over\",\"18 and Over\",\"18 and Over\",\"18 and Over\",\"18 and Over\",\"18 and Over\",\"18 and Over\",\"18 and Over\",\"18 and Over\",\"18 and Over\",\"18 and Over\",\"18 and Over\",\"18 and Over\",\"18 and Over\",\"18 and Over\",\"18 and Over\",\"18 and Over\",\"18 and Over\",\"18 and Over\",\"18 and Over\",\"18 and Over\",\"18 and Over\",\"18 and Over\",\"18 and Over\",\"18 and Over\",\"18 and Over\",\"18 and Over\",\"18 and Over\",\"18 and Over\",\"18 and Over\",\"18 and Over\",\"18 and Over\",\"18 and Over\",\"18 and Over\",\"18 and Over\",\"18 and Over\",\"18 and Over\",\"18 and Over\",\"18 and Over\",\"18 and Over\",\"18 and Over\",\"18 and Over\",\"18 and Over\",\"18 and Over\",\"18 and Over\",\"18 and Over\",\"18 and Over\",\"18 and Over\",\"18 and Over\",\"18 and Over\",\"18 and Over\",\"18 and Over\",\"18 and Over\",\"18 and Over\",\"18 and Over\",\"18 and Over\",\"18 and Over\",\"18 and Over\",\"18 and Over\",\"18 and Over\",\"18 and Over\",\"18 and Over\",\"18 and Over\",\"18 and Over\",\"18 and Over\",\"18 and Over\",\"18 and Over\",\"18 and Over\",\"18 and Over\",\"18 and Over\",\"18 and Over\",\"18 and Over\",\"18 and Over\",\"18 and Over\",\"18 and Over\",\"18 and Over\",\"18 and Over\",\"18 and Over\",\"18 and Over\",\"18 and Over\",\"18 and Over\",\"18 and Over\",\"18 and Over\",\"18 and Over\",\"18 and Over\",\"18 and Over\",\"18 and Over\",\"18 and Over\",\"18 and Over\",\"18 and Over\",\"18 and Over\",\"18 and Over\",\"18 and Over\",\"18 and Over\",\"18 and Over\",\"18 and Over\",\"18 and Over\",\"18 and Over\",\"18 and Over\",\"18 and Over\",\"18 and Over\",\"18 and Over\",\"18 and Over\",\"18 and Over\",\"18 and Over\",\"18 and Over\",\"18 and Over\",\"18 and Over\",\"18 and Over\",\"18 and Over\",\"18 and Over\",\"18 and Over\",\"18 and Over\",\"18 and Over\",\"18 and Over\",\"18 and Over\",\"18 and Over\",\"18 and Over\",\"18 and Over\",\"18 and Over\",\"18 and Over\",\"18 and Over\",\"18 and Over\",\"18 and Over\",\"18 and Over\",\"18 and Over\",\"18 and Over\",\"18 and Over\",\"18 and Over\",\"18 and Over\",\"18 and Over\",\"18 and Over\",\"18 and Over\",\"18 and Over\",\"18 and Over\",\"18 and Over\",\"18 and Over\",\"18 and Over\",\"18 and Over\",\"18 and Over\",\"18 and Over\",\"18 and Over\",\"18 and Over\",\"18 and Over\",\"18 and Over\",\"18 and Over\",\"18 and Over\",\"18 and Over\",\"18 and Over\",\"18 and Over\",\"18 and Over\",\"18 and Over\",\"18 and Over\",\"18 and Over\",\"18 and Over\",\"18 and Over\",\"18 and Over\",\"18 and Over\",\"18 and Over\",\"18 and Over\",\"18 and Over\",\"18 and Over\",\"18 and Over\",\"18 and Over\",\"18 and Over\",\"18 and Over\",\"18 and Over\",\"18 and Over\",\"18 and Over\",\"18 and Over\",\"18 and Over\",\"18 and Over\",\"18 and Over\",\"18 and Over\",\"18 and Over\",\"18 and Over\",\"18 and Over\",\"18 and Over\",\"18 and Over\",\"18 and Over\",\"18 and Over\",\"18 and Over\",\"18 and Over\",\"18 and Over\",\"18 and Over\",\"18 and Over\",\"18 and Over\",\"18 and Over\",\"18 and Over\",\"18 and Over\",\"18 and Over\",\"18 and Over\",\"18 and Over\",\"18 and Over\",\"18 and Over\",\"18 and Over\",\"18 and Over\",\"18 and Over\",\"18 and Over\",\"18 and Over\",\"18 and Over\",\"18 and Over\",\"18 and Over\",\"18 and Over\",\"18 and Over\",\"18 and Over\",\"18 and Over\",\"18 and Over\",\"18 and Over\",\"18 and Over\",\"18 and Over\",\"18 and Over\",\"18 and Over\",\"18 and Over\",\"18 and Over\",\"18 and Over\",\"18 and Over\",\"18 and Over\",\"18 and Over\",\"18 and Over\",\"18 and Over\",\"18 and Over\",\"18 and Over\",\"18 and Over\",\"18 and Over\",\"18 and Over\",\"18 and Over\",\"18 and Over\",\"18 and Over\",\"18 and Over\",\"18 and Over\",\"18 and Over\",\"18 and Over\",\"18 and Over\",\"18 and Over\",\"18 and Over\",\"18 and Over\",\"18 and Over\",\"18 and Over\",\"18 and Over\",\"18 and Over\",\"18 and Over\",\"18 and Over\",\"18 and Over\",\"18 and Over\",\"18 and Over\",\"18 and Over\",\"18 and Over\",\"18 and Over\",\"18 and Over\",\"18 and Over\",\"18 and Over\",\"18 and Over\",\"18 and Over\",\"All Ages\",\"All Ages\",\"All Ages\",\"All Ages\",\"All Ages\",\"All Ages\",\"All Ages\",\"All Ages\",\"All Ages\",\"All Ages\",\"All Ages\",\"All Ages\",\"All Ages\",\"All Ages\",\"All Ages\",\"All Ages\",\"All Ages\",\"All Ages\",\"All Ages\",\"All Ages\",\"All Ages\",\"All Ages\",\"All Ages\",\"All Ages\",\"All Ages\",\"All Ages\",\"All Ages\",\"All Ages\",\"All Ages\",\"All Ages\",\"All Ages\",\"All Ages\",\"All Ages\",\"All Ages\",\"All Ages\",\"All Ages\",\"All Ages\",\"All Ages\",\"All Ages\",\"All Ages\",\"All Ages\",\"All Ages\",\"All Ages\",\"All Ages\",\"All Ages\",\"All Ages\",\"All Ages\",\"All Ages\",\"All Ages\",\"All Ages\",\"All Ages\",\"All Ages\",\"All Ages\",\"All Ages\",\"All Ages\",\"All Ages\",\"All Ages\",\"All Ages\",\"All Ages\",\"All Ages\",\"All Ages\",\"All Ages\",\"All Ages\",\"All Ages\",\"All Ages\",\"All Ages\",\"All Ages\",\"All Ages\",\"All Ages\",\"All Ages\",\"All Ages\",\"All Ages\",\"All Ages\",\"All Ages\",\"All Ages\",\"All Ages\",\"All Ages\",\"All Ages\",\"All Ages\",\"All Ages\",\"All Ages\",\"All Ages\",\"All Ages\",\"All Ages\",\"All Ages\",\"All Ages\",\"All Ages\",\"All Ages\",\"All Ages\",\"All Ages\",\"All Ages\",\"All Ages\",\"All Ages\",\"All Ages\",\"All Ages\",\"All Ages\",\"All Ages\",\"All Ages\",\"All Ages\",\"All Ages\",\"All Ages\",\"All Ages\",\"All Ages\",\"All Ages\",\"All Ages\",\"All Ages\",\"All Ages\",\"All Ages\",\"All Ages\",\"All Ages\",\"All Ages\",\"All Ages\",\"All Ages\",\"All Ages\",\"All Ages\",\"All Ages\",\"All Ages\",\"All Ages\",\"All Ages\",\"All Ages\",\"All Ages\",\"All Ages\",\"All Ages\",\"All Ages\",\"All Ages\",\"All Ages\",\"All Ages\",\"All Ages\",\"All Ages\",\"All Ages\",\"All Ages\",\"All Ages\",\"All Ages\",\"All Ages\",\"All Ages\",\"All Ages\",\"All Ages\",\"All Ages\",\"All Ages\",\"All Ages\",\"All Ages\",\"All Ages\",\"All Ages\",\"All Ages\",\"All Ages\",\"All Ages\",\"All Ages\",\"All Ages\",\"All Ages\",\"All Ages\",\"All Ages\",\"All Ages\",\"All Ages\",\"All Ages\",\"All Ages\",\"All Ages\",\"All Ages\",\"All Ages\",\"All Ages\",\"All Ages\",\"All Ages\",\"All Ages\",\"All Ages\",\"All Ages\",\"All Ages\",\"All Ages\",\"All Ages\",\"All Ages\",\"All Ages\",\"All Ages\",\"All Ages\",\"All Ages\",\"All Ages\",\"All Ages\",\"All Ages\",\"All Ages\",\"All Ages\",\"All Ages\",\"All Ages\",\"All Ages\",\"All Ages\",\"All Ages\",\"All Ages\",\"All Ages\",\"All Ages\",\"All Ages\",\"All Ages\",\"All Ages\",\"All Ages\",\"All Ages\",\"All Ages\",\"All Ages\",\"All Ages\",\"All Ages\",\"All Ages\",\"All Ages\",\"All Ages\",\"All Ages\",\"All Ages\",\"All Ages\",\"All Ages\",\"All Ages\",\"All Ages\",\"All Ages\",\"All Ages\",\"All Ages\",\"All Ages\",\"All Ages\",\"All Ages\",\"All Ages\",\"All Ages\",\"All Ages\",\"All Ages\",\"All Ages\",\"All Ages\",\"All Ages\",\"All Ages\",\"All Ages\",\"All Ages\",\"All Ages\",\"All Ages\",\"All Ages\",\"All Ages\",\"All Ages\",\"All Ages\",\"All Ages\",\"All Ages\",\"All Ages\",\"All Ages\",\"All Ages\",\"All Ages\",\"All Ages\",\"All Ages\",\"All Ages\",\"All Ages\",\"All Ages\",\"All Ages\",\"All Ages\",\"All Ages\",\"All Ages\",\"All Ages\",\"All Ages\",\"All Ages\",\"All Ages\",\"All Ages\",\"All Ages\",\"All Ages\",\"All Ages\",\"All Ages\",\"All Ages\",\"All Ages\",\"All Ages\",\"All Ages\",\"All Ages\",\"All Ages\",\"All Ages\",\"All Ages\",\"All Ages\",\"All Ages\",\"All Ages\",\"All Ages\",\"All Ages\",\"All Ages\",\"All Ages\",\"All Ages\",\"All Ages\",\"All Ages\",\"All Ages\",\"All Ages\",\"All Ages\",\"All Ages\",\"All Ages\",\"All Ages\",\"All Ages\",\"All Ages\",\"All Ages\",\"All Ages\",\"All Ages\",\"All Ages\",\"All Ages\",\"All Ages\",\"All Ages\",\"All Ages\",\"All Ages\",\"All Ages\",\"All Ages\",\"All Ages\",\"All Ages\",\"All Ages\",\"All Ages\",\"All Ages\",\"All Ages\",\"All Ages\",\"All Ages\",\"All Ages\",\"All Ages\",\"All Ages\",\"All Ages\",\"All Ages\",\"All Ages\",\"All Ages\",\"All Ages\",\"All Ages\",\"All Ages\",\"All Ages\",\"All Ages\",\"All Ages\",\"All Ages\",\"All Ages\",\"All Ages\",\"All Ages\",\"All Ages\",\"All Ages\",\"All Ages\",\"All Ages\",\"All Ages\",\"All Ages\",\"All Ages\",\"All Ages\",\"All Ages\",\"All Ages\",\"All Ages\",\"All Ages\",\"All Ages\",\"All Ages\",\"All Ages\",\"All Ages\",\"All Ages\",\"All Ages\",\"All Ages\",\"All Ages\",\"All Ages\",\"All Ages\",\"All Ages\",\"All Ages\",\"All Ages\",\"All Ages\",\"All Ages\",\"All Ages\",\"All Ages\",\"All Ages\",\"All Ages\",\"All Ages\",\"All Ages\",\"All Ages\",\"All Ages\",\"All Ages\",\"All Ages\",\"All Ages\",\"All Ages\",\"All Ages\",\"All Ages\",\"All Ages\",\"All Ages\",\"All Ages\",\"All Ages\",\"All Ages\",\"All Ages\",\"All Ages\",\"All Ages\",\"All Ages\",\"All Ages\",\"All Ages\",\"All Ages\",\"All Ages\",\"All Ages\",\"All Ages\",\"All Ages\",\"All Ages\",\"All Ages\",\"All Ages\",\"All Ages\",\"All Ages\",\"Under 18\",\"Under 18\",\"Under 18\",\"Under 18\",\"Under 18\",\"Under 18\",\"Under 18\",\"Under 18\",\"Under 18\",\"Under 18\",\"Under 18\",\"Under 18\",\"Under 18\",\"Under 18\",\"Under 18\",\"Under 18\",\"Under 18\",\"Under 18\",\"Under 18\",\"Under 18\",\"Under 18\",\"Under 18\",\"Under 18\",\"Under 18\",\"Under 18\",\"Under 18\",\"Under 18\",\"Under 18\",\"Under 18\",\"Under 18\",\"Under 18\",\"Under 18\",\"Under 18\",\"Under 18\",\"Under 18\",\"Under 18\",\"Under 18\",\"Under 18\",\"Under 18\",\"Under 18\",\"Under 18\",\"Under 18\",\"Under 18\",\"Under 18\",\"Under 18\",\"Under 18\",\"Under 18\",\"Under 18\",\"Under 18\",\"Under 18\",\"Under 18\",\"Under 18\",\"Under 18\",\"Under 18\",\"Under 18\",\"Under 18\",\"Under 18\",\"Under 18\",\"Under 18\",\"Under 18\",\"Under 18\",\"Under 18\",\"Under 18\",\"Under 18\",\"Under 18\",\"Under 18\",\"Under 18\",\"Under 18\",\"Under 18\",\"Under 18\",\"Under 18\",\"Under 18\",\"Under 18\",\"Under 18\",\"Under 18\",\"Under 18\",\"Under 18\",\"Under 18\",\"Under 18\",\"Under 18\",\"Under 18\",\"Under 18\",\"Under 18\",\"Under 18\",\"Under 18\",\"Under 18\",\"Under 18\",\"Under 18\",\"Under 18\",\"Under 18\",\"Under 18\",\"Under 18\",\"Under 18\",\"Under 18\",\"Under 18\",\"Under 18\",\"Under 18\",\"Under 18\",\"Under 18\",\"Under 18\",\"Under 18\",\"Under 18\",\"Under 18\",\"Under 18\",\"Under 18\",\"Under 18\",\"Under 18\",\"Under 18\",\"Under 18\",\"Under 18\",\"Under 18\",\"Under 18\",\"Under 18\",\"Under 18\",\"Under 18\",\"Under 18\",\"Under 18\",\"Under 18\",\"Under 18\",\"Under 18\",\"Under 18\",\"Under 18\",\"Under 18\",\"Under 18\",\"Under 18\",\"Under 18\",\"Under 18\",\"Under 18\",\"Under 18\",\"Under 18\",\"Under 18\",\"Under 18\",\"Under 18\",\"Under 18\",\"Under 18\",\"Under 18\",\"Under 18\",\"Under 18\",\"Under 18\",\"Under 18\",\"Under 18\",\"Under 18\",\"Under 18\",\"Under 18\",\"Under 18\",\"Under 18\",\"Under 18\",\"Under 18\",\"Under 18\",\"Under 18\",\"Under 18\",\"Under 18\",\"Under 18\",\"Under 18\",\"Under 18\",\"Under 18\",\"Under 18\",\"Under 18\",\"Under 18\",\"Under 18\",\"Under 18\",\"Under 18\",\"Under 18\",\"Under 18\",\"Under 18\",\"Under 18\",\"Under 18\",\"Under 18\",\"Under 18\",\"Under 18\",\"Under 18\",\"Under 18\",\"Under 18\",\"Under 18\",\"Under 18\",\"Under 18\",\"Under 18\",\"Under 18\",\"Under 18\",\"Under 18\",\"Under 18\",\"Under 18\",\"Under 18\",\"Under 18\",\"Under 18\",\"Under 18\",\"Under 18\",\"Under 18\",\"Under 18\",\"Under 18\",\"Under 18\",\"Under 18\",\"Under 18\",\"Under 18\",\"Under 18\",\"Under 18\",\"Under 18\",\"Under 18\",\"Under 18\",\"Under 18\",\"Under 18\",\"Under 18\",\"Under 18\",\"Under 18\",\"Under 18\",\"Under 18\",\"Under 18\",\"Under 18\",\"Under 18\",\"Under 18\",\"Under 18\",\"Under 18\",\"Under 18\",\"Under 18\",\"Under 18\",\"Under 18\",\"Under 18\",\"Under 18\",\"Under 18\",\"Under 18\",\"Under 18\",\"Under 18\",\"Under 18\",\"Under 18\",\"Under 18\",\"Under 18\",\"Under 18\",\"Under 18\",\"Under 18\",\"Under 18\",\"Under 18\",\"Under 18\",\"Under 18\",\"Under 18\",\"Under 18\",\"Under 18\",\"Under 18\",\"Under 18\",\"Under 18\",\"Under 18\",\"Under 18\",\"Under 18\",\"Under 18\",\"Under 18\",\"Under 18\",\"Under 18\",\"Under 18\",\"Under 18\",\"Under 18\",\"Under 18\",\"Under 18\",\"Under 18\",\"Under 18\",\"Under 18\",\"Under 18\",\"Under 18\",\"Under 18\",\"Under 18\",\"Under 18\",\"Under 18\",\"Under 18\",\"Under 18\",\"Under 18\",\"Under 18\",\"Under 18\",\"Under 18\",\"Under 18\",\"Under 18\",\"Under 18\",\"Under 18\",\"Under 18\",\"Under 18\",\"Under 18\",\"Under 18\",\"Under 18\",\"Under 18\",\"Under 18\",\"Under 18\",\"Under 18\",\"Under 18\",\"Under 18\",\"Under 18\",\"Under 18\",\"Under 18\",\"Under 18\",\"Under 18\",\"Under 18\",\"Under 18\",\"Under 18\",\"Under 18\",\"Under 18\",\"Under 18\",\"Under 18\",\"Under 18\",\"Under 18\",\"Under 18\",\"Under 18\",\"Under 18\",\"Under 18\",\"Under 18\",\"Under 18\",\"Under 18\",\"Under 18\",\"Under 18\",\"Under 18\",\"Under 18\",\"Under 18\",\"Under 18\",\"Under 18\",\"Under 18\",\"Under 18\",\"Under 18\",\"Under 18\",\"Under 18\",\"Under 18\",\"Under 18\",\"Under 18\",\"Under 18\",\"Under 18\",\"Under 18\",\"Under 18\",\"Under 18\",\"18 and Over\",\"18 and Over\",\"18 and Over\",\"18 and Over\",\"18 and Over\",\"18 and Over\",\"18 and Over\",\"18 and Over\",\"18 and Over\",\"18 and Over\",\"18 and Over\",\"18 and Over\",\"18 and Over\",\"18 and Over\",\"18 and Over\",\"18 and Over\",\"18 and Over\",\"18 and Over\",\"18 and Over\",\"18 and Over\",\"18 and Over\",\"18 and Over\",\"18 and Over\",\"18 and Over\",\"18 and Over\",\"18 and Over\",\"18 and Over\",\"18 and Over\",\"18 and Over\",\"18 and Over\",\"18 and Over\",\"18 and Over\",\"18 and Over\",\"18 and Over\",\"18 and Over\",\"18 and Over\",\"18 and Over\",\"18 and Over\",\"18 and Over\",\"18 and Over\",\"18 and Over\",\"18 and Over\",\"18 and Over\",\"18 and Over\",\"18 and Over\",\"18 and Over\",\"18 and Over\",\"18 and Over\",\"18 and Over\",\"18 and Over\",\"18 and Over\",\"18 and Over\",\"18 and Over\",\"18 and Over\",\"18 and Over\",\"18 and Over\",\"18 and Over\",\"18 and Over\",\"18 and Over\",\"18 and Over\",\"18 and Over\",\"18 and Over\",\"18 and Over\",\"18 and Over\",\"18 and Over\",\"18 and Over\",\"18 and Over\",\"18 and Over\",\"18 and Over\",\"18 and Over\",\"18 and Over\",\"18 and Over\",\"18 and Over\",\"18 and Over\",\"18 and Over\",\"18 and Over\",\"18 and Over\",\"18 and Over\",\"18 and Over\",\"18 and Over\",\"18 and Over\",\"18 and Over\",\"18 and Over\",\"18 and Over\",\"18 and Over\",\"18 and Over\",\"18 and Over\",\"18 and Over\",\"18 and Over\",\"18 and Over\",\"18 and Over\",\"18 and Over\",\"18 and Over\",\"18 and Over\",\"18 and Over\",\"18 and Over\",\"18 and Over\",\"18 and Over\",\"18 and Over\",\"18 and Over\",\"18 and Over\",\"18 and Over\",\"18 and Over\",\"18 and Over\",\"18 and Over\",\"18 and Over\",\"18 and Over\",\"18 and Over\",\"18 and Over\",\"18 and Over\",\"18 and Over\",\"18 and Over\",\"18 and Over\",\"18 and Over\",\"18 and Over\",\"18 and Over\",\"18 and Over\",\"18 and Over\",\"18 and Over\",\"18 and Over\",\"18 and Over\",\"18 and Over\",\"18 and Over\",\"18 and Over\",\"18 and Over\",\"18 and Over\",\"18 and Over\",\"18 and Over\",\"18 and Over\",\"18 and Over\",\"18 and Over\",\"18 and Over\",\"18 and Over\",\"18 and Over\",\"18 and Over\",\"18 and Over\",\"18 and Over\",\"18 and Over\",\"18 and Over\",\"18 and Over\",\"18 and Over\",\"18 and Over\",\"18 and Over\",\"18 and Over\",\"18 and Over\",\"18 and Over\",\"18 and Over\",\"18 and Over\",\"18 and Over\",\"18 and Over\",\"18 and Over\",\"18 and Over\",\"18 and Over\",\"18 and Over\",\"18 and Over\",\"18 and Over\",\"18 and Over\",\"18 and Over\",\"18 and Over\",\"18 and Over\",\"18 and Over\",\"18 and Over\",\"18 and Over\",\"18 and Over\",\"18 and Over\",\"18 and Over\",\"18 and Over\",\"18 and Over\",\"18 and Over\",\"18 and Over\",\"18 and Over\",\"18 and Over\",\"18 and Over\",\"18 and Over\",\"18 and Over\",\"18 and Over\",\"18 and Over\",\"18 and Over\",\"18 and Over\",\"18 and Over\",\"18 and Over\",\"18 and Over\",\"18 and Over\",\"18 and Over\",\"18 and Over\",\"18 and Over\",\"18 and Over\",\"18 and Over\",\"18 and Over\",\"18 and Over\",\"18 and Over\",\"18 and Over\",\"18 and Over\",\"18 and Over\",\"18 and Over\",\"18 and Over\",\"18 and Over\",\"18 and Over\",\"18 and Over\",\"18 and Over\",\"18 and Over\",\"18 and Over\",\"18 and Over\",\"18 and Over\",\"18 and Over\",\"18 and Over\",\"18 and Over\",\"18 and Over\",\"18 and Over\",\"18 and Over\",\"18 and Over\",\"18 and Over\",\"18 and Over\",\"18 and Over\",\"18 and Over\",\"18 and Over\",\"18 and Over\",\"18 and Over\",\"18 and Over\",\"18 and Over\",\"18 and Over\",\"18 and Over\",\"18 and Over\",\"18 and Over\",\"18 and Over\",\"18 and Over\",\"18 and Over\",\"18 and Over\",\"18 and Over\",\"18 and Over\",\"18 and Over\",\"18 and Over\",\"18 and Over\",\"18 and Over\",\"18 and Over\",\"18 and Over\",\"18 and Over\",\"18 and Over\",\"18 and Over\",\"18 and Over\",\"18 and Over\",\"18 and Over\",\"18 and Over\",\"18 and Over\",\"18 and Over\",\"18 and Over\",\"18 and Over\",\"18 and Over\",\"18 and Over\",\"18 and Over\",\"18 and Over\",\"18 and Over\",\"18 and Over\",\"18 and Over\",\"18 and Over\",\"18 and Over\",\"18 and Over\",\"18 and Over\",\"18 and Over\",\"18 and Over\",\"18 and Over\",\"18 and Over\",\"18 and Over\",\"18 and Over\",\"18 and Over\",\"18 and Over\",\"18 and Over\",\"18 and Over\",\"18 and Over\",\"18 and Over\",\"18 and Over\",\"18 and Over\",\"18 and Over\",\"18 and Over\",\"18 and Over\",\"18 and Over\",\"18 and Over\",\"18 and Over\",\"18 and Over\",\"18 and Over\",\"18 and Over\",\"18 and Over\",\"18 and Over\",\"18 and Over\",\"18 and Over\",\"18 and Over\",\"18 and Over\",\"18 and Over\",\"18 and Over\",\"18 and Over\",\"18 and Over\",\"18 and Over\",\"18 and Over\",\"18 and Over\",\"18 and Over\",\"18 and Over\",\"18 and Over\",\"18 and Over\",\"18 and Over\",\"18 and Over\",\"18 and Over\",\"18 and Over\",\"18 and Over\",\"18 and Over\",\"18 and Over\",\"18 and Over\",\"18 and Over\",\"18 and Over\",\"18 and Over\",\"18 and Over\",\"18 and Over\",\"18 and Over\",\"18 and Over\",\"18 and Over\",\"18 and Over\",\"18 and Over\",\"18 and Over\",\"18 and Over\",\"18 and Over\",\"18 and Over\",\"18 and Over\",\"18 and Over\",\"18 and Over\",\"18 and Over\",\"18 and Over\",\"18 and Over\",\"18 and Over\",\"18 and Over\",\"18 and Over\",\"18 and Over\",\"18 and Over\",\"18 and Over\",\"18 and Over\",\"18 and Over\",\"18 and Over\",\"18 and Over\",\"18 and Over\",\"18 and Over\",\"18 and Over\",\"18 and Over\",\"18 and Over\",\"18 and Over\",\"18 and Over\",\"18 and Over\",\"18 and Over\",\"18 and Over\",\"18 and Over\",\"18 and Over\",\"18 and Over\",\"18 and Over\",\"18 and Over\",\"18 and Over\",\"18 and Over\",\"18 and Over\",\"18 and Over\",\"18 and Over\",\"18 and Over\",\"18 and Over\",\"18 and Over\",\"18 and Over\",\"18 and Over\",\"18 and Over\",\"18 and Over\",\"18 and Over\",\"All Ages\",\"All Ages\",\"All Ages\",\"All Ages\",\"All Ages\",\"All Ages\",\"All Ages\",\"All Ages\",\"All Ages\",\"All Ages\",\"All Ages\",\"All Ages\",\"All Ages\",\"All Ages\",\"All Ages\",\"All Ages\",\"All Ages\",\"All Ages\",\"All Ages\",\"All Ages\",\"All Ages\",\"All Ages\",\"All Ages\",\"All Ages\",\"All Ages\",\"All Ages\",\"All Ages\",\"All Ages\",\"All Ages\",\"All Ages\",\"All Ages\",\"All Ages\",\"All Ages\",\"All Ages\",\"All Ages\",\"All Ages\",\"All Ages\",\"All Ages\",\"All Ages\",\"All Ages\",\"All Ages\",\"All Ages\",\"All Ages\",\"All Ages\",\"All Ages\",\"All Ages\",\"All Ages\",\"All Ages\",\"All Ages\",\"All Ages\",\"All Ages\",\"All Ages\",\"All Ages\",\"All Ages\",\"All Ages\",\"All Ages\",\"All Ages\",\"All Ages\",\"All Ages\",\"All Ages\",\"All Ages\",\"All Ages\",\"All Ages\",\"All Ages\",\"All Ages\",\"All Ages\",\"All Ages\",\"All Ages\",\"All Ages\",\"All Ages\",\"All Ages\",\"All Ages\",\"All Ages\",\"All Ages\",\"All Ages\",\"All Ages\",\"All Ages\",\"All Ages\",\"All Ages\",\"All Ages\",\"All Ages\",\"All Ages\",\"All Ages\",\"All Ages\",\"All Ages\",\"All Ages\",\"All Ages\",\"All Ages\",\"All Ages\",\"All Ages\",\"All Ages\",\"All Ages\",\"All Ages\",\"All Ages\",\"All Ages\",\"All Ages\",\"All Ages\",\"All Ages\",\"All Ages\",\"All Ages\",\"All Ages\",\"All Ages\",\"All Ages\",\"All Ages\",\"All Ages\",\"All Ages\",\"All Ages\",\"All Ages\",\"All Ages\",\"All Ages\",\"All Ages\",\"All Ages\",\"All Ages\",\"All Ages\",\"All Ages\",\"All Ages\",\"All Ages\",\"All Ages\",\"All Ages\",\"All Ages\",\"All Ages\",\"All Ages\",\"All Ages\",\"All Ages\",\"All Ages\",\"All Ages\",\"All Ages\",\"All Ages\",\"All Ages\",\"All Ages\",\"All Ages\",\"All Ages\",\"All Ages\",\"All Ages\",\"All Ages\",\"All Ages\",\"All Ages\",\"All Ages\",\"All Ages\",\"All Ages\",\"All Ages\",\"All Ages\",\"All Ages\",\"All Ages\",\"All Ages\",\"All Ages\",\"All Ages\",\"All Ages\",\"All Ages\",\"All Ages\",\"All Ages\",\"All Ages\",\"All Ages\",\"All Ages\",\"All Ages\",\"All Ages\",\"All Ages\",\"All Ages\",\"All Ages\",\"All Ages\",\"All Ages\",\"All Ages\",\"All Ages\",\"All Ages\",\"All Ages\",\"All Ages\",\"All Ages\",\"All Ages\",\"All Ages\",\"All Ages\",\"All Ages\",\"All Ages\",\"All Ages\",\"All Ages\",\"All Ages\",\"All Ages\",\"All Ages\",\"All Ages\",\"All Ages\",\"All Ages\",\"All Ages\",\"All Ages\",\"All Ages\",\"All Ages\",\"All Ages\",\"All Ages\",\"All Ages\",\"All Ages\",\"All Ages\",\"All Ages\",\"All Ages\",\"All Ages\",\"All Ages\",\"All Ages\",\"All Ages\",\"All Ages\",\"All Ages\",\"All Ages\",\"All Ages\",\"All Ages\",\"All Ages\",\"All Ages\",\"All Ages\",\"All Ages\",\"All Ages\",\"All Ages\",\"All Ages\",\"All Ages\",\"All Ages\",\"All Ages\",\"All Ages\",\"All Ages\",\"All Ages\",\"All Ages\",\"All Ages\",\"All Ages\",\"All Ages\",\"All Ages\",\"All Ages\",\"All Ages\",\"All Ages\",\"All Ages\",\"All Ages\",\"All Ages\",\"All Ages\",\"All Ages\",\"All Ages\",\"All Ages\",\"All Ages\",\"All Ages\",\"All Ages\",\"All Ages\",\"All Ages\",\"All Ages\",\"All Ages\",\"All Ages\",\"All Ages\",\"All Ages\",\"All Ages\",\"All Ages\",\"All Ages\",\"All Ages\",\"All Ages\",\"All Ages\",\"All Ages\",\"All Ages\",\"All Ages\",\"All Ages\",\"All Ages\",\"All Ages\",\"All Ages\",\"All Ages\",\"All Ages\",\"All Ages\",\"All Ages\",\"All Ages\",\"All Ages\",\"All Ages\",\"All Ages\",\"All Ages\",\"All Ages\",\"All Ages\",\"All Ages\",\"All Ages\",\"All Ages\",\"All Ages\",\"All Ages\",\"All Ages\",\"All Ages\",\"All Ages\",\"All Ages\",\"All Ages\",\"All Ages\",\"All Ages\",\"All Ages\",\"All Ages\",\"All Ages\",\"All Ages\",\"All Ages\",\"All Ages\",\"All Ages\",\"All Ages\",\"All Ages\",\"All Ages\",\"All Ages\",\"All Ages\",\"All Ages\",\"All Ages\",\"All Ages\",\"All Ages\",\"All Ages\",\"All Ages\",\"All Ages\",\"All Ages\",\"All Ages\",\"All Ages\",\"All Ages\",\"All Ages\",\"All Ages\",\"All Ages\",\"All Ages\",\"All Ages\",\"All Ages\",\"All Ages\",\"All Ages\",\"All Ages\",\"All Ages\",\"All Ages\",\"All Ages\",\"All Ages\",\"All Ages\",\"All Ages\",\"All Ages\",\"All Ages\",\"All Ages\",\"All Ages\",\"All Ages\",\"All Ages\",\"All Ages\",\"All Ages\",\"All Ages\",\"All Ages\",\"All Ages\",\"All Ages\",\"All Ages\",\"All Ages\",\"All Ages\",\"All Ages\",\"All Ages\",\"All Ages\",\"All Ages\",\"All Ages\",\"All Ages\",\"All Ages\",\"All Ages\",\"All Ages\",\"All Ages\",\"All Ages\",\"All Ages\",\"All Ages\",\"All Ages\",\"All Ages\",\"All Ages\",\"All Ages\",\"All Ages\",\"All Ages\",\"All Ages\",\"All Ages\",\"All Ages\",\"All Ages\",\"All Ages\",\"All Ages\",\"All Ages\",\"All Ages\",\"All Ages\",\"All Ages\",\"All Ages\",\"All Ages\",\"All Ages\",\"All Ages\",\"All Ages\",\"All Ages\",\"All Ages\",\"All Ages\",\"All Ages\",\"All Ages\",\"All Ages\",\"All Ages\",\"All Ages\",\"All Ages\",\"All Ages\",\"All Ages\",\"All Ages\",\"All Ages\",\"All Ages\",\"All Ages\",\"Under 18\",\"Under 18\",\"Under 18\",\"Under 18\",\"Under 18\",\"Under 18\",\"Under 18\",\"Under 18\",\"Under 18\",\"Under 18\",\"Under 18\",\"Under 18\",\"Under 18\",\"Under 18\",\"Under 18\",\"Under 18\",\"Under 18\",\"Under 18\",\"Under 18\",\"Under 18\",\"Under 18\",\"Under 18\",\"Under 18\",\"Under 18\",\"Under 18\",\"Under 18\",\"Under 18\",\"Under 18\",\"Under 18\",\"Under 18\",\"Under 18\",\"Under 18\",\"Under 18\",\"Under 18\",\"Under 18\",\"Under 18\",\"Under 18\",\"Under 18\",\"Under 18\",\"Under 18\",\"Under 18\",\"Under 18\",\"Under 18\",\"Under 18\",\"Under 18\",\"Under 18\",\"Under 18\",\"Under 18\",\"Under 18\",\"Under 18\",\"Under 18\",\"Under 18\",\"Under 18\",\"Under 18\",\"Under 18\",\"Under 18\",\"Under 18\",\"Under 18\",\"Under 18\",\"Under 18\",\"Under 18\",\"Under 18\",\"Under 18\",\"Under 18\",\"Under 18\",\"Under 18\",\"Under 18\",\"Under 18\",\"Under 18\",\"Under 18\",\"Under 18\",\"Under 18\",\"Under 18\",\"Under 18\",\"Under 18\",\"Under 18\",\"Under 18\",\"Under 18\",\"Under 18\",\"Under 18\",\"Under 18\",\"Under 18\",\"Under 18\",\"Under 18\",\"Under 18\",\"Under 18\",\"Under 18\",\"Under 18\",\"Under 18\",\"Under 18\",\"Under 18\",\"Under 18\",\"Under 18\",\"Under 18\",\"Under 18\",\"Under 18\",\"Under 18\",\"Under 18\",\"Under 18\",\"Under 18\",\"Under 18\",\"Under 18\",\"Under 18\",\"Under 18\",\"Under 18\",\"Under 18\",\"Under 18\",\"Under 18\",\"Under 18\",\"Under 18\",\"Under 18\",\"Under 18\",\"Under 18\",\"Under 18\",\"Under 18\",\"Under 18\",\"Under 18\",\"Under 18\",\"Under 18\",\"Under 18\",\"Under 18\",\"Under 18\",\"Under 18\",\"Under 18\",\"Under 18\",\"Under 18\",\"Under 18\",\"Under 18\",\"Under 18\",\"Under 18\",\"Under 18\",\"Under 18\",\"Under 18\",\"Under 18\",\"Under 18\",\"Under 18\",\"Under 18\",\"Under 18\",\"Under 18\",\"Under 18\",\"Under 18\",\"Under 18\",\"Under 18\",\"Under 18\",\"Under 18\",\"Under 18\",\"Under 18\",\"Under 18\",\"Under 18\",\"Under 18\",\"Under 18\",\"Under 18\",\"Under 18\",\"Under 18\",\"Under 18\",\"Under 18\",\"Under 18\",\"Under 18\",\"Under 18\",\"Under 18\",\"Under 18\",\"Under 18\",\"Under 18\",\"Under 18\",\"Under 18\",\"Under 18\",\"Under 18\",\"Under 18\",\"Under 18\",\"Under 18\",\"Under 18\",\"Under 18\",\"Under 18\",\"Under 18\",\"Under 18\",\"Under 18\",\"Under 18\",\"Under 18\",\"Under 18\",\"Under 18\",\"Under 18\",\"Under 18\",\"Under 18\",\"Under 18\",\"Under 18\",\"Under 18\",\"Under 18\",\"Under 18\",\"Under 18\",\"Under 18\",\"Under 18\",\"Under 18\",\"Under 18\",\"Under 18\",\"Under 18\",\"Under 18\",\"Under 18\",\"Under 18\",\"Under 18\",\"Under 18\",\"Under 18\",\"Under 18\",\"Under 18\",\"Under 18\",\"Under 18\",\"Under 18\",\"Under 18\",\"Under 18\",\"Under 18\",\"Under 18\",\"Under 18\",\"Under 18\",\"Under 18\",\"Under 18\",\"Under 18\",\"Under 18\",\"Under 18\",\"Under 18\",\"Under 18\",\"Under 18\",\"Under 18\",\"Under 18\",\"Under 18\",\"Under 18\",\"Under 18\",\"Under 18\",\"Under 18\",\"Under 18\",\"Under 18\",\"Under 18\",\"Under 18\",\"Under 18\",\"Under 18\",\"Under 18\",\"Under 18\",\"Under 18\",\"Under 18\",\"Under 18\",\"Under 18\",\"Under 18\",\"Under 18\",\"Under 18\",\"Under 18\",\"Under 18\",\"Under 18\",\"Under 18\",\"Under 18\",\"Under 18\",\"Under 18\",\"Under 18\",\"Under 18\",\"Under 18\",\"Under 18\",\"Under 18\",\"Under 18\",\"Under 18\",\"Under 18\",\"Under 18\",\"Under 18\",\"Under 18\",\"Under 18\",\"Under 18\",\"Under 18\",\"Under 18\",\"Under 18\",\"Under 18\",\"Under 18\",\"Under 18\",\"Under 18\",\"Under 18\",\"Under 18\",\"Under 18\",\"Under 18\",\"Under 18\",\"Under 18\",\"Under 18\",\"Under 18\",\"Under 18\",\"Under 18\",\"Under 18\",\"Under 18\",\"Under 18\",\"Under 18\",\"Under 18\",\"Under 18\",\"Under 18\",\"Under 18\",\"Under 18\",\"Under 18\",\"Under 18\",\"Under 18\",\"Under 18\",\"Under 18\",\"Under 18\",\"Under 18\",\"Under 18\",\"Under 18\",\"Under 18\",\"Under 18\",\"Under 18\",\"Under 18\",\"Under 18\",\"Under 18\",\"Under 18\",\"Under 18\",\"Under 18\",\"Under 18\",\"Under 18\",\"Under 18\",\"Under 18\",\"Under 18\",\"Under 18\",\"Under 18\",\"Under 18\",\"Under 18\",\"Under 18\",\"Under 18\",\"Under 18\",\"Under 18\",\"Under 18\",\"Under 18\",\"18 and Over\",\"18 and Over\",\"18 and Over\",\"18 and Over\",\"18 and Over\",\"18 and Over\",\"18 and Over\",\"18 and Over\",\"18 and Over\",\"18 and Over\",\"18 and Over\",\"18 and Over\",\"18 and Over\",\"18 and Over\",\"18 and Over\",\"18 and Over\",\"18 and Over\",\"18 and Over\",\"18 and Over\",\"18 and Over\",\"18 and Over\",\"18 and Over\",\"18 and Over\",\"18 and Over\",\"18 and Over\",\"18 and Over\",\"18 and Over\",\"18 and Over\",\"18 and Over\",\"18 and Over\",\"18 and Over\",\"18 and Over\",\"18 and Over\",\"18 and Over\",\"18 and Over\",\"18 and Over\",\"18 and Over\",\"18 and Over\",\"18 and Over\",\"18 and Over\",\"18 and Over\",\"18 and Over\",\"18 and Over\",\"18 and Over\",\"18 and Over\",\"18 and Over\",\"18 and Over\",\"18 and Over\",\"18 and Over\",\"18 and Over\",\"18 and Over\",\"18 and Over\",\"18 and Over\",\"18 and Over\",\"18 and Over\",\"18 and Over\",\"18 and Over\",\"18 and Over\",\"18 and Over\",\"18 and Over\",\"18 and Over\",\"18 and Over\",\"18 and Over\",\"18 and Over\",\"18 and Over\",\"18 and Over\",\"18 and Over\",\"18 and Over\",\"18 and Over\",\"18 and Over\",\"18 and Over\",\"18 and Over\",\"18 and Over\",\"18 and Over\",\"18 and Over\",\"18 and Over\",\"18 and Over\",\"18 and Over\",\"18 and Over\",\"18 and Over\",\"18 and Over\",\"18 and Over\",\"18 and Over\",\"18 and Over\",\"18 and Over\",\"18 and Over\",\"18 and Over\",\"18 and Over\",\"18 and Over\",\"18 and Over\",\"18 and Over\",\"18 and Over\",\"18 and Over\",\"18 and Over\",\"18 and Over\",\"18 and Over\",\"18 and Over\",\"18 and Over\",\"18 and Over\",\"18 and Over\",\"18 and Over\",\"18 and Over\",\"18 and Over\",\"18 and Over\",\"18 and Over\",\"18 and Over\",\"18 and Over\",\"18 and Over\",\"18 and Over\",\"18 and Over\",\"18 and Over\",\"18 and Over\",\"18 and Over\",\"18 and Over\",\"18 and Over\",\"18 and Over\",\"18 and Over\",\"18 and Over\",\"18 and Over\",\"18 and Over\",\"18 and Over\",\"18 and Over\",\"18 and Over\",\"18 and Over\",\"18 and Over\",\"18 and Over\",\"18 and Over\",\"18 and Over\",\"18 and Over\",\"18 and Over\",\"18 and Over\",\"18 and Over\",\"18 and Over\",\"18 and Over\",\"18 and Over\",\"18 and Over\",\"18 and Over\",\"18 and Over\",\"18 and Over\",\"18 and Over\",\"18 and Over\",\"18 and Over\",\"18 and Over\",\"18 and Over\",\"18 and Over\",\"18 and Over\",\"18 and Over\",\"18 and Over\",\"18 and Over\",\"18 and Over\",\"18 and Over\",\"18 and Over\",\"18 and Over\",\"18 and Over\",\"18 and Over\",\"18 and Over\",\"18 and Over\",\"18 and Over\",\"18 and Over\",\"18 and Over\",\"18 and Over\",\"18 and Over\",\"18 and Over\",\"18 and Over\",\"18 and Over\",\"18 and Over\",\"18 and Over\",\"18 and Over\",\"18 and Over\",\"18 and Over\",\"18 and Over\",\"18 and Over\",\"18 and Over\",\"18 and Over\",\"18 and Over\",\"18 and Over\",\"18 and Over\",\"18 and Over\",\"18 and Over\",\"18 and Over\",\"18 and Over\",\"18 and Over\",\"18 and Over\",\"18 and Over\",\"18 and Over\",\"18 and Over\",\"18 and Over\",\"18 and Over\",\"18 and Over\",\"18 and Over\",\"18 and Over\",\"18 and Over\",\"18 and Over\",\"18 and Over\",\"18 and Over\",\"18 and Over\",\"18 and Over\",\"18 and Over\",\"18 and Over\",\"18 and Over\",\"18 and Over\",\"18 and Over\",\"18 and Over\",\"18 and Over\",\"18 and Over\",\"18 and Over\",\"18 and Over\",\"18 and Over\",\"18 and Over\",\"18 and Over\",\"18 and Over\",\"18 and Over\",\"18 and Over\",\"18 and Over\",\"18 and Over\",\"18 and Over\",\"18 and Over\",\"18 and Over\",\"18 and Over\",\"18 and Over\",\"18 and Over\",\"18 and Over\",\"18 and Over\",\"18 and Over\",\"18 and Over\",\"18 and Over\",\"18 and Over\",\"18 and Over\",\"18 and Over\",\"18 and Over\",\"18 and Over\",\"18 and Over\",\"18 and Over\",\"18 and Over\",\"18 and Over\",\"18 and Over\",\"18 and Over\",\"18 and Over\",\"18 and Over\",\"18 and Over\",\"18 and Over\",\"18 and Over\",\"18 and Over\",\"18 and Over\",\"18 and Over\",\"18 and Over\",\"18 and Over\",\"18 and Over\",\"18 and Over\",\"18 and Over\",\"18 and Over\",\"18 and Over\",\"18 and Over\",\"18 and Over\",\"18 and Over\",\"18 and Over\",\"18 and Over\",\"18 and Over\",\"18 and Over\",\"18 and Over\",\"18 and Over\",\"18 and Over\",\"18 and Over\",\"18 and Over\",\"18 and Over\",\"18 and Over\",\"18 and Over\",\"18 and Over\",\"18 and Over\",\"18 and Over\",\"18 and Over\",\"18 and Over\",\"18 and Over\",\"18 and Over\",\"18 and Over\",\"18 and Over\",\"18 and Over\",\"18 and Over\",\"18 and Over\",\"18 and Over\",\"18 and Over\",\"18 and Over\",\"18 and Over\",\"18 and Over\",\"18 and Over\",\"18 and Over\",\"18 and Over\",\"18 and Over\",\"18 and Over\",\"18 and Over\",\"18 and Over\",\"18 and Over\",\"18 and Over\",\"18 and Over\",\"18 and Over\",\"18 and Over\",\"18 and Over\",\"18 and Over\",\"18 and Over\",\"18 and Over\",\"18 and Over\",\"18 and Over\",\"18 and Over\",\"18 and Over\",\"18 and Over\",\"18 and Over\",\"18 and Over\",\"18 and Over\",\"18 and Over\",\"18 and Over\",\"18 and Over\",\"18 and Over\",\"18 and Over\",\"18 and Over\",\"18 and Over\",\"18 and Over\",\"18 and Over\",\"18 and Over\",\"18 and Over\",\"18 and Over\",\"18 and Over\",\"18 and Over\",\"18 and Over\",\"18 and Over\",\"18 and Over\",\"18 and Over\",\"18 and Over\",\"18 and Over\",\"18 and Over\",\"18 and Over\",\"18 and Over\",\"18 and Over\",\"18 and Over\",\"18 and Over\",\"18 and Over\",\"18 and Over\",\"18 and Over\",\"18 and Over\",\"18 and Over\",\"18 and Over\",\"18 and Over\",\"18 and Over\",\"18 and Over\",\"18 and Over\",\"18 and Over\",\"18 and Over\",\"18 and Over\",\"18 and Over\",\"18 and Over\",\"18 and Over\",\"18 and Over\",\"18 and Over\",\"18 and Over\",\"18 and Over\",\"18 and Over\",\"18 and Over\",\"All Ages\",\"All Ages\",\"All Ages\",\"All Ages\",\"All Ages\",\"All Ages\",\"All Ages\",\"All Ages\",\"All Ages\",\"All Ages\",\"All Ages\",\"All Ages\",\"All Ages\",\"All Ages\",\"All Ages\",\"All Ages\",\"All Ages\",\"All Ages\",\"All Ages\",\"All Ages\",\"All Ages\",\"All Ages\",\"All Ages\",\"All Ages\",\"All Ages\",\"All Ages\",\"All Ages\",\"All Ages\",\"All Ages\",\"All Ages\",\"All Ages\",\"All Ages\",\"All Ages\",\"All Ages\",\"All Ages\",\"All Ages\",\"All Ages\",\"All Ages\",\"All Ages\",\"All Ages\",\"All Ages\",\"All Ages\",\"All Ages\",\"All Ages\",\"All Ages\",\"All Ages\",\"All Ages\",\"All Ages\",\"All Ages\",\"All Ages\",\"All Ages\",\"All Ages\",\"All Ages\",\"All Ages\",\"All Ages\",\"All Ages\",\"All Ages\",\"All Ages\",\"All Ages\",\"All Ages\",\"All Ages\",\"All Ages\",\"All Ages\",\"All Ages\",\"All Ages\",\"All Ages\",\"All Ages\",\"All Ages\",\"All Ages\",\"All Ages\",\"All Ages\",\"All Ages\",\"All Ages\",\"All Ages\",\"All Ages\",\"All Ages\",\"All Ages\",\"All Ages\",\"All Ages\",\"All Ages\",\"All Ages\",\"All Ages\",\"All Ages\",\"All Ages\",\"All Ages\",\"All Ages\",\"All Ages\",\"All Ages\",\"All Ages\",\"All Ages\",\"All Ages\",\"All Ages\",\"All Ages\",\"All Ages\",\"All Ages\",\"All Ages\",\"All Ages\",\"All Ages\",\"All Ages\",\"All Ages\",\"All Ages\",\"All Ages\",\"All Ages\",\"All Ages\",\"All Ages\",\"All Ages\",\"All Ages\",\"All Ages\",\"All Ages\",\"All Ages\",\"All Ages\",\"All Ages\",\"All Ages\",\"All Ages\",\"All Ages\",\"All Ages\",\"All Ages\",\"All Ages\",\"All Ages\",\"All Ages\",\"All Ages\",\"All Ages\",\"All Ages\",\"All Ages\",\"All Ages\",\"All Ages\",\"All Ages\",\"All Ages\",\"All Ages\",\"All Ages\",\"All Ages\",\"All Ages\",\"All Ages\",\"All Ages\",\"All Ages\",\"All Ages\",\"All Ages\",\"All Ages\",\"All Ages\",\"All Ages\",\"All Ages\",\"All Ages\",\"All Ages\",\"All Ages\",\"All Ages\",\"All Ages\",\"All Ages\",\"All Ages\",\"All Ages\",\"All Ages\",\"All Ages\",\"All Ages\",\"All Ages\",\"All Ages\",\"All Ages\",\"All Ages\",\"All Ages\",\"All Ages\",\"All Ages\",\"All Ages\",\"All Ages\",\"All Ages\",\"All Ages\",\"All Ages\",\"All Ages\",\"All Ages\",\"All Ages\",\"All Ages\",\"All Ages\",\"All Ages\",\"All Ages\",\"All Ages\",\"All Ages\",\"All Ages\",\"All Ages\",\"All Ages\",\"All Ages\",\"All Ages\",\"All Ages\",\"All Ages\",\"All Ages\",\"All Ages\",\"All Ages\",\"All Ages\",\"All Ages\",\"All Ages\",\"All Ages\",\"All Ages\",\"All Ages\",\"All Ages\",\"All Ages\",\"All Ages\",\"All Ages\",\"All Ages\",\"All Ages\",\"All Ages\",\"All Ages\",\"All Ages\",\"All Ages\",\"All Ages\",\"All Ages\",\"All Ages\",\"All Ages\",\"All Ages\",\"All Ages\",\"All Ages\",\"All Ages\",\"All Ages\",\"All Ages\",\"All Ages\",\"All Ages\",\"All Ages\",\"All Ages\",\"All Ages\",\"All Ages\",\"All Ages\",\"All Ages\",\"All Ages\",\"All Ages\",\"All Ages\",\"All Ages\",\"All Ages\",\"All Ages\",\"All Ages\",\"All Ages\",\"All Ages\",\"All Ages\",\"All Ages\",\"All Ages\",\"All Ages\",\"All Ages\",\"All Ages\",\"All Ages\",\"All Ages\",\"All Ages\",\"All Ages\",\"All Ages\",\"All Ages\",\"All Ages\",\"All Ages\",\"All Ages\",\"All Ages\",\"All Ages\",\"All Ages\",\"All Ages\",\"All Ages\",\"All Ages\",\"All Ages\",\"All Ages\",\"All Ages\",\"All Ages\",\"All Ages\",\"All Ages\",\"All Ages\",\"All Ages\",\"All Ages\",\"All Ages\",\"All Ages\",\"All Ages\",\"All Ages\",\"All Ages\",\"All Ages\",\"All Ages\",\"All Ages\",\"All Ages\",\"All Ages\",\"All Ages\",\"All Ages\",\"All Ages\",\"All Ages\",\"All Ages\",\"All Ages\",\"All Ages\",\"All Ages\",\"All Ages\",\"All Ages\",\"All Ages\",\"All Ages\",\"All Ages\",\"All Ages\",\"All Ages\",\"All Ages\",\"All Ages\",\"All Ages\",\"All Ages\",\"All Ages\",\"All Ages\",\"All Ages\",\"All Ages\",\"All Ages\",\"All Ages\",\"All Ages\",\"All Ages\",\"All Ages\",\"All Ages\",\"All Ages\",\"All Ages\",\"All Ages\",\"All Ages\",\"All Ages\",\"All Ages\",\"All Ages\",\"All Ages\",\"All Ages\",\"All Ages\",\"All Ages\",\"All Ages\",\"All Ages\",\"All Ages\",\"All Ages\",\"All Ages\",\"All Ages\",\"All Ages\",\"All Ages\",\"All Ages\",\"All Ages\",\"All Ages\",\"All Ages\",\"All Ages\",\"All Ages\",\"All Ages\",\"All Ages\",\"All Ages\",\"All Ages\",\"All Ages\",\"All Ages\",\"All Ages\",\"All Ages\",\"All Ages\",\"All Ages\",\"All Ages\",\"All Ages\",\"All Ages\",\"All Ages\",\"All Ages\",\"All Ages\",\"All Ages\",\"All Ages\",\"All Ages\",\"All Ages\",\"All Ages\",\"All Ages\",\"All Ages\",\"All Ages\",\"All Ages\",\"All Ages\",\"All Ages\",\"All Ages\",\"All Ages\",\"All Ages\",\"All Ages\",\"All Ages\",\"All Ages\",\"All Ages\",\"All Ages\",\"All Ages\",\"All Ages\",\"All Ages\",\"All Ages\",\"All Ages\",\"All Ages\",\"All Ages\",\"All Ages\",\"All Ages\",\"All Ages\",\"All Ages\",\"All Ages\",\"All Ages\",\"All Ages\",\"All Ages\",\"All Ages\",\"All Ages\",\"All Ages\",\"Under 18\",\"Under 18\",\"Under 18\",\"Under 18\",\"Under 18\",\"Under 18\",\"Under 18\",\"Under 18\",\"Under 18\",\"Under 18\",\"Under 18\",\"Under 18\",\"Under 18\",\"Under 18\",\"Under 18\",\"Under 18\",\"Under 18\",\"Under 18\",\"Under 18\",\"Under 18\",\"Under 18\",\"Under 18\",\"Under 18\",\"Under 18\",\"Under 18\",\"Under 18\",\"Under 18\",\"Under 18\",\"Under 18\",\"Under 18\",\"Under 18\",\"Under 18\",\"Under 18\",\"Under 18\",\"Under 18\",\"Under 18\",\"Under 18\",\"Under 18\",\"Under 18\",\"Under 18\",\"Under 18\",\"Under 18\",\"Under 18\",\"Under 18\",\"Under 18\",\"Under 18\",\"Under 18\",\"Under 18\",\"Under 18\",\"Under 18\",\"Under 18\",\"Under 18\",\"Under 18\",\"Under 18\",\"Under 18\",\"Under 18\",\"Under 18\",\"Under 18\",\"Under 18\",\"Under 18\",\"Under 18\",\"Under 18\",\"Under 18\",\"Under 18\",\"Under 18\",\"Under 18\",\"Under 18\",\"Under 18\",\"Under 18\",\"Under 18\",\"Under 18\",\"Under 18\",\"Under 18\",\"Under 18\",\"Under 18\",\"Under 18\",\"Under 18\",\"Under 18\",\"Under 18\",\"Under 18\",\"Under 18\",\"Under 18\",\"Under 18\",\"Under 18\",\"Under 18\",\"Under 18\",\"Under 18\",\"Under 18\",\"Under 18\",\"Under 18\",\"Under 18\",\"Under 18\",\"Under 18\",\"Under 18\",\"Under 18\",\"Under 18\",\"Under 18\",\"Under 18\",\"Under 18\",\"Under 18\",\"Under 18\",\"Under 18\",\"Under 18\",\"Under 18\",\"Under 18\",\"Under 18\",\"Under 18\",\"Under 18\",\"Under 18\",\"Under 18\",\"Under 18\",\"Under 18\",\"Under 18\",\"Under 18\",\"Under 18\",\"Under 18\",\"Under 18\",\"Under 18\",\"Under 18\",\"Under 18\",\"Under 18\",\"Under 18\",\"Under 18\",\"Under 18\",\"Under 18\",\"Under 18\",\"Under 18\",\"Under 18\",\"Under 18\",\"Under 18\",\"Under 18\",\"Under 18\",\"Under 18\",\"Under 18\",\"Under 18\",\"Under 18\",\"Under 18\",\"Under 18\",\"Under 18\",\"Under 18\",\"Under 18\",\"Under 18\",\"Under 18\",\"Under 18\",\"Under 18\",\"Under 18\",\"Under 18\",\"Under 18\",\"Under 18\",\"Under 18\",\"Under 18\",\"Under 18\",\"Under 18\",\"Under 18\",\"Under 18\",\"Under 18\",\"Under 18\",\"Under 18\",\"Under 18\",\"Under 18\",\"Under 18\",\"Under 18\",\"Under 18\",\"Under 18\",\"Under 18\",\"Under 18\",\"Under 18\",\"Under 18\",\"Under 18\",\"Under 18\",\"Under 18\",\"Under 18\",\"Under 18\",\"Under 18\",\"Under 18\",\"Under 18\",\"Under 18\",\"Under 18\",\"Under 18\",\"Under 18\",\"Under 18\",\"Under 18\",\"Under 18\",\"Under 18\",\"Under 18\",\"Under 18\",\"Under 18\",\"Under 18\",\"Under 18\",\"Under 18\",\"Under 18\",\"Under 18\",\"Under 18\",\"Under 18\",\"Under 18\",\"Under 18\",\"Under 18\",\"Under 18\",\"Under 18\",\"Under 18\",\"Under 18\",\"Under 18\",\"Under 18\",\"Under 18\",\"Under 18\",\"Under 18\",\"Under 18\",\"Under 18\",\"Under 18\",\"Under 18\",\"Under 18\",\"Under 18\",\"Under 18\",\"Under 18\",\"Under 18\",\"Under 18\",\"Under 18\",\"Under 18\",\"Under 18\",\"Under 18\",\"Under 18\",\"Under 18\",\"Under 18\",\"Under 18\",\"Under 18\",\"Under 18\",\"Under 18\",\"Under 18\",\"Under 18\",\"Under 18\",\"Under 18\",\"Under 18\",\"Under 18\",\"Under 18\",\"Under 18\",\"Under 18\",\"Under 18\",\"Under 18\",\"Under 18\",\"Under 18\",\"Under 18\",\"Under 18\",\"Under 18\",\"Under 18\",\"Under 18\",\"Under 18\",\"Under 18\",\"Under 18\",\"Under 18\",\"Under 18\",\"Under 18\",\"Under 18\",\"Under 18\",\"Under 18\",\"Under 18\",\"Under 18\",\"Under 18\",\"Under 18\",\"Under 18\",\"Under 18\",\"Under 18\",\"Under 18\",\"Under 18\",\"Under 18\",\"Under 18\",\"Under 18\",\"Under 18\",\"Under 18\",\"Under 18\",\"Under 18\",\"Under 18\",\"Under 18\",\"Under 18\",\"Under 18\",\"Under 18\",\"Under 18\",\"Under 18\",\"Under 18\",\"Under 18\",\"Under 18\",\"Under 18\",\"Under 18\",\"Under 18\",\"Under 18\",\"Under 18\",\"Under 18\",\"Under 18\",\"Under 18\",\"Under 18\",\"Under 18\",\"Under 18\",\"Under 18\",\"Under 18\",\"Under 18\",\"Under 18\",\"Under 18\",\"Under 18\",\"Under 18\",\"Under 18\",\"Under 18\",\"Under 18\",\"Under 18\",\"Under 18\",\"Under 18\",\"Under 18\",\"Under 18\",\"Under 18\",\"Under 18\",\"Under 18\",\"Under 18\",\"Under 18\",\"Under 18\",\"Under 18\",\"Under 18\",\"Under 18\",\"Under 18\",\"Under 18\",\"Under 18\",\"Under 18\",\"18 and Over\",\"18 and Over\",\"18 and Over\",\"18 and Over\",\"18 and Over\",\"18 and Over\",\"18 and Over\",\"18 and Over\",\"18 and Over\",\"18 and Over\",\"18 and Over\",\"18 and Over\",\"18 and Over\",\"18 and Over\",\"18 and Over\",\"18 and Over\",\"18 and Over\",\"18 and Over\",\"18 and Over\",\"18 and Over\",\"18 and Over\",\"18 and Over\",\"18 and Over\",\"18 and Over\",\"18 and Over\",\"18 and Over\",\"18 and Over\",\"18 and Over\",\"18 and Over\",\"18 and Over\",\"18 and Over\",\"18 and Over\",\"18 and Over\",\"18 and Over\",\"18 and Over\",\"18 and Over\",\"18 and Over\",\"18 and Over\",\"18 and Over\",\"18 and Over\",\"18 and Over\",\"18 and Over\",\"18 and Over\",\"18 and Over\",\"18 and Over\",\"18 and Over\",\"18 and Over\",\"18 and Over\",\"18 and Over\",\"18 and Over\",\"18 and Over\",\"18 and Over\",\"18 and Over\",\"18 and Over\",\"18 and Over\",\"18 and Over\",\"18 and Over\",\"18 and Over\",\"18 and Over\",\"18 and Over\",\"18 and Over\",\"18 and Over\",\"18 and Over\",\"18 and Over\",\"18 and Over\",\"18 and Over\",\"18 and Over\",\"18 and Over\",\"18 and Over\",\"18 and Over\",\"18 and Over\",\"18 and Over\",\"18 and Over\",\"18 and Over\",\"18 and Over\",\"18 and Over\",\"18 and Over\",\"18 and Over\",\"18 and Over\",\"18 and Over\",\"18 and Over\",\"18 and Over\",\"18 and Over\",\"18 and Over\",\"18 and Over\",\"18 and Over\",\"18 and Over\",\"18 and Over\",\"18 and Over\",\"18 and Over\",\"18 and Over\",\"18 and Over\",\"18 and Over\",\"18 and Over\",\"18 and Over\",\"18 and Over\",\"18 and Over\",\"18 and Over\",\"18 and Over\",\"18 and Over\",\"18 and Over\",\"18 and Over\",\"18 and Over\",\"18 and Over\",\"18 and Over\",\"18 and Over\",\"18 and Over\",\"18 and Over\",\"18 and Over\",\"18 and Over\",\"18 and Over\",\"18 and Over\",\"18 and Over\",\"18 and Over\",\"18 and Over\",\"18 and Over\",\"18 and Over\",\"18 and Over\",\"18 and Over\",\"18 and Over\",\"18 and Over\",\"18 and Over\",\"18 and Over\",\"18 and Over\",\"18 and Over\",\"18 and Over\",\"18 and Over\",\"18 and Over\",\"18 and Over\",\"18 and Over\",\"18 and Over\",\"18 and Over\",\"18 and Over\",\"18 and Over\",\"18 and Over\",\"18 and Over\",\"18 and Over\",\"18 and Over\",\"18 and Over\",\"18 and Over\",\"18 and Over\",\"18 and Over\",\"18 and Over\",\"18 and Over\",\"18 and Over\",\"18 and Over\",\"18 and Over\",\"18 and Over\",\"18 and Over\",\"18 and Over\",\"18 and Over\",\"18 and Over\",\"18 and Over\",\"18 and Over\",\"18 and Over\",\"18 and Over\",\"18 and Over\",\"18 and Over\",\"18 and Over\",\"18 and Over\",\"18 and Over\",\"18 and Over\",\"18 and Over\",\"18 and Over\",\"18 and Over\",\"18 and Over\",\"18 and Over\",\"18 and Over\",\"18 and Over\",\"18 and Over\",\"18 and Over\",\"18 and Over\",\"18 and Over\",\"18 and Over\",\"18 and Over\",\"18 and Over\",\"18 and Over\",\"18 and Over\",\"18 and Over\",\"18 and Over\",\"18 and Over\",\"18 and Over\",\"18 and Over\",\"18 and Over\",\"18 and Over\",\"18 and Over\",\"18 and Over\",\"18 and Over\",\"18 and Over\",\"18 and Over\",\"18 and Over\",\"18 and Over\",\"18 and Over\",\"18 and Over\",\"18 and Over\",\"18 and Over\",\"18 and Over\",\"18 and Over\",\"18 and Over\",\"18 and Over\",\"18 and Over\",\"18 and Over\",\"18 and Over\",\"18 and Over\",\"18 and Over\",\"18 and Over\",\"18 and Over\",\"18 and Over\",\"18 and Over\",\"18 and Over\",\"18 and Over\",\"18 and Over\",\"18 and Over\",\"18 and Over\",\"18 and Over\",\"18 and Over\",\"18 and Over\",\"18 and Over\",\"18 and Over\",\"18 and Over\",\"18 and Over\",\"18 and Over\",\"18 and Over\",\"18 and Over\",\"18 and Over\",\"18 and Over\",\"18 and Over\",\"18 and Over\",\"18 and Over\",\"18 and Over\",\"18 and Over\",\"18 and Over\",\"18 and Over\",\"18 and Over\",\"18 and Over\",\"18 and Over\",\"18 and Over\",\"18 and Over\",\"18 and Over\",\"18 and Over\",\"18 and Over\",\"18 and Over\",\"18 and Over\",\"18 and Over\",\"18 and Over\",\"18 and Over\",\"18 and Over\",\"18 and Over\",\"18 and Over\",\"18 and Over\",\"18 and Over\",\"18 and Over\",\"18 and Over\",\"18 and Over\",\"18 and Over\",\"18 and Over\",\"18 and Over\",\"18 and Over\",\"18 and Over\",\"18 and Over\",\"18 and Over\",\"18 and Over\",\"18 and Over\",\"18 and Over\",\"18 and Over\",\"18 and Over\",\"18 and Over\",\"18 and Over\",\"18 and Over\",\"18 and Over\",\"18 and Over\",\"18 and Over\",\"18 and Over\",\"18 and Over\",\"18 and Over\",\"18 and Over\",\"18 and Over\",\"18 and Over\",\"18 and Over\",\"18 and Over\",\"18 and Over\",\"18 and Over\",\"18 and Over\",\"18 and Over\",\"18 and Over\",\"18 and Over\",\"18 and Over\",\"18 and Over\",\"18 and Over\",\"18 and Over\",\"18 and Over\",\"18 and Over\",\"18 and Over\",\"18 and Over\",\"18 and Over\",\"18 and Over\",\"18 and Over\",\"18 and Over\",\"18 and Over\",\"18 and Over\",\"18 and Over\",\"18 and Over\",\"18 and Over\",\"18 and Over\",\"18 and Over\",\"18 and Over\",\"18 and Over\",\"18 and Over\",\"18 and Over\",\"18 and Over\",\"18 and Over\",\"18 and Over\",\"18 and Over\",\"18 and Over\",\"18 and Over\",\"18 and Over\",\"18 and Over\",\"18 and Over\",\"18 and Over\",\"18 and Over\",\"18 and Over\",\"18 and Over\",\"18 and Over\",\"18 and Over\",\"18 and Over\",\"18 and Over\",\"18 and Over\",\"18 and Over\",\"18 and Over\",\"18 and Over\",\"18 and Over\",\"18 and Over\",\"18 and Over\",\"18 and Over\",\"18 and Over\",\"18 and Over\",\"18 and Over\",\"18 and Over\",\"18 and Over\",\"18 and Over\",\"18 and Over\",\"18 and Over\",\"18 and Over\",\"18 and Over\",\"18 and Over\",\"18 and Over\",\"18 and Over\",\"18 and Over\",\"18 and Over\",\"18 and Over\",\"18 and Over\",\"18 and Over\",\"18 and Over\",\"18 and Over\",\"18 and Over\",\"18 and Over\",\"18 and Over\",\"18 and Over\",\"18 and Over\",\"All Ages\",\"All Ages\",\"All Ages\",\"All Ages\",\"All Ages\",\"All Ages\",\"All Ages\",\"All Ages\",\"All Ages\",\"All Ages\",\"All Ages\",\"All Ages\",\"All Ages\",\"All Ages\",\"All Ages\",\"All Ages\",\"All Ages\",\"All Ages\",\"All Ages\",\"All Ages\",\"All Ages\",\"All Ages\",\"All Ages\",\"All Ages\",\"All Ages\",\"All Ages\",\"All Ages\",\"All Ages\",\"All Ages\",\"All Ages\",\"All Ages\",\"All Ages\",\"All Ages\",\"All Ages\",\"All Ages\",\"All Ages\",\"All Ages\",\"All Ages\",\"All Ages\",\"All Ages\",\"All Ages\",\"All Ages\",\"All Ages\",\"All Ages\",\"All Ages\",\"All Ages\",\"All Ages\",\"All Ages\",\"All Ages\",\"All Ages\",\"All Ages\",\"All Ages\",\"All Ages\",\"All Ages\",\"All Ages\",\"All Ages\",\"All Ages\",\"All Ages\",\"All Ages\",\"All Ages\",\"All Ages\",\"All Ages\",\"All Ages\",\"All Ages\",\"All Ages\",\"All Ages\",\"All Ages\",\"All Ages\",\"All Ages\",\"All Ages\",\"All Ages\",\"All Ages\",\"All Ages\",\"All Ages\",\"All Ages\",\"All Ages\",\"All Ages\",\"All Ages\",\"All Ages\",\"All Ages\",\"All Ages\",\"All Ages\",\"All Ages\",\"All Ages\",\"All Ages\",\"All Ages\",\"All Ages\",\"All Ages\",\"All Ages\",\"All Ages\",\"All Ages\",\"All Ages\",\"All Ages\",\"All Ages\",\"All Ages\",\"All Ages\",\"All Ages\",\"All Ages\",\"All Ages\",\"All Ages\",\"All Ages\",\"All Ages\",\"All Ages\",\"All Ages\",\"All Ages\",\"All Ages\",\"All Ages\",\"All Ages\",\"All Ages\",\"All Ages\",\"All Ages\",\"All Ages\",\"All Ages\",\"All Ages\",\"All Ages\",\"All Ages\",\"All Ages\",\"All Ages\",\"All Ages\",\"All Ages\",\"All Ages\",\"All Ages\",\"All Ages\",\"All Ages\",\"All Ages\",\"All Ages\",\"All Ages\",\"All Ages\",\"All Ages\",\"All Ages\",\"All Ages\",\"All Ages\",\"All Ages\",\"All Ages\",\"All Ages\",\"All Ages\",\"All Ages\",\"All Ages\",\"All Ages\",\"All Ages\",\"All Ages\",\"All Ages\",\"All Ages\",\"All Ages\",\"All Ages\",\"All Ages\",\"All Ages\",\"All Ages\",\"All Ages\",\"All Ages\",\"All Ages\",\"All Ages\",\"All Ages\",\"All Ages\",\"All Ages\",\"All Ages\",\"All Ages\",\"All Ages\",\"All Ages\",\"All Ages\",\"All Ages\",\"All Ages\",\"All Ages\",\"All Ages\",\"All Ages\",\"All Ages\",\"All Ages\",\"All Ages\",\"All Ages\",\"All Ages\",\"All Ages\",\"All Ages\",\"All Ages\",\"All Ages\",\"All Ages\",\"All Ages\",\"All Ages\",\"All Ages\",\"All Ages\",\"All Ages\",\"All Ages\",\"All Ages\",\"All Ages\",\"All Ages\",\"All Ages\",\"All Ages\",\"All Ages\",\"All Ages\",\"All Ages\",\"All Ages\",\"All Ages\",\"All Ages\",\"All Ages\",\"All Ages\",\"All Ages\",\"All Ages\",\"All Ages\",\"All Ages\",\"All Ages\",\"All Ages\",\"All Ages\",\"All Ages\",\"All Ages\",\"All Ages\",\"All Ages\",\"All Ages\",\"All Ages\",\"All Ages\",\"All Ages\",\"All Ages\",\"All Ages\",\"All Ages\",\"All Ages\",\"All Ages\",\"All Ages\",\"All Ages\",\"All Ages\",\"All Ages\",\"All Ages\",\"All Ages\",\"All Ages\",\"All Ages\",\"All Ages\",\"All Ages\",\"All Ages\",\"All Ages\",\"All Ages\",\"All Ages\",\"All Ages\",\"All Ages\",\"All Ages\",\"All Ages\",\"All Ages\",\"All Ages\",\"All Ages\",\"All Ages\",\"All Ages\",\"All Ages\",\"All Ages\",\"All Ages\",\"All Ages\",\"All Ages\",\"All Ages\",\"All Ages\",\"All Ages\",\"All Ages\",\"All Ages\",\"All Ages\",\"All Ages\",\"All Ages\",\"All Ages\",\"All Ages\",\"All Ages\",\"All Ages\",\"All Ages\",\"All Ages\",\"All Ages\",\"All Ages\",\"All Ages\",\"All Ages\",\"All Ages\",\"All Ages\",\"All Ages\",\"All Ages\",\"All Ages\",\"All Ages\",\"All Ages\",\"All Ages\",\"All Ages\",\"All Ages\",\"All Ages\",\"All Ages\",\"All Ages\",\"All Ages\",\"All Ages\",\"All Ages\",\"All Ages\",\"All Ages\",\"All Ages\",\"All Ages\",\"All Ages\",\"All Ages\",\"All Ages\",\"All Ages\",\"All Ages\",\"All Ages\",\"All Ages\",\"All Ages\",\"All Ages\",\"All Ages\",\"All Ages\",\"All Ages\",\"All Ages\",\"All Ages\",\"All Ages\",\"All Ages\",\"All Ages\",\"All Ages\",\"All Ages\",\"All Ages\",\"All Ages\",\"All Ages\",\"All Ages\",\"All Ages\",\"All Ages\",\"All Ages\",\"All Ages\",\"All Ages\",\"All Ages\",\"All Ages\",\"All Ages\",\"All Ages\",\"All Ages\",\"All Ages\",\"All Ages\",\"All Ages\",\"All Ages\",\"All Ages\",\"All Ages\",\"All Ages\",\"All Ages\",\"All Ages\",\"All Ages\",\"All Ages\",\"All Ages\",\"All Ages\",\"All Ages\",\"All Ages\",\"All Ages\",\"All Ages\",\"All Ages\",\"All Ages\",\"All Ages\",\"All Ages\",\"All Ages\",\"All Ages\",\"All Ages\",\"All Ages\",\"All Ages\",\"All Ages\",\"All Ages\",\"All Ages\",\"All Ages\",\"All Ages\",\"All Ages\",\"All Ages\",\"All Ages\",\"All Ages\",\"All Ages\",\"All Ages\",\"All Ages\",\"All Ages\",\"All Ages\",\"All Ages\",\"All Ages\",\"All Ages\",\"All Ages\",\"All Ages\",\"All Ages\",\"All Ages\",\"All Ages\",\"All Ages\",\"All Ages\",\"All Ages\",\"All Ages\",\"All Ages\",\"All Ages\",\"All Ages\",\"All Ages\",\"Under 18\",\"Under 18\",\"Under 18\",\"Under 18\",\"Under 18\",\"Under 18\",\"Under 18\",\"Under 18\",\"Under 18\",\"Under 18\",\"Under 18\",\"Under 18\",\"Under 18\",\"Under 18\",\"Under 18\",\"Under 18\",\"Under 18\",\"Under 18\",\"Under 18\",\"Under 18\",\"Under 18\",\"Under 18\",\"Under 18\",\"Under 18\",\"Under 18\",\"Under 18\",\"Under 18\",\"Under 18\",\"Under 18\",\"Under 18\",\"Under 18\",\"Under 18\",\"Under 18\",\"Under 18\",\"Under 18\",\"Under 18\",\"Under 18\",\"Under 18\",\"Under 18\",\"Under 18\",\"Under 18\",\"Under 18\",\"Under 18\",\"Under 18\",\"Under 18\",\"Under 18\",\"Under 18\",\"Under 18\",\"Under 18\",\"Under 18\",\"Under 18\",\"Under 18\",\"Under 18\",\"Under 18\",\"Under 18\",\"Under 18\",\"Under 18\",\"Under 18\",\"Under 18\",\"Under 18\",\"Under 18\",\"Under 18\",\"Under 18\",\"Under 18\",\"Under 18\",\"Under 18\",\"Under 18\",\"Under 18\",\"Under 18\",\"Under 18\",\"Under 18\",\"Under 18\",\"Under 18\",\"Under 18\",\"Under 18\",\"Under 18\",\"Under 18\",\"Under 18\",\"Under 18\",\"Under 20\",\"Under 18\",\"Under 18\",\"Under 18\",\"Under 18\",\"Under 18\",\"Under 18\",\"Under 18\",\"Under 18\",\"Under 18\",\"Under 18\",\"Under 18\",\"Under 18\",\"Under 18\",\"Under 18\",\"Under 18\",\"Under 18\",\"Under 18\",\"Under 18\",\"Under 18\",\"Under 18\",\"Under 18\",\"Under 18\",\"Under 18\",\"Under 18\",\"Under 18\",\"Under 18\",\"Under 18\",\"Under 18\",\"Under 18\",\"Under 18\",\"Under 19\",\"Under 18\",\"Under 18\",\"Under 18\",\"Under 18\",\"Under 18\",\"Under 18\",\"Under 18\",\"Under 18\",\"Under 18\",\"Under 18\",\"Under 18\",\"Under 18\",\"Under 18\",\"Under 18\",\"Under 18\",\"Under 18\",\"Under 18\",\"Under 18\",\"Under 18\",\"Under 18\",\"Under 18\",\"Under 18\",\"Under 18\",\"Under 18\",\"Under 18\",\"Under 18\",\"Under 18\",\"Under 18\",\"Under 18\",\"Under 18\",\"Under 18\",\"Under 18\",\"Under 18\",\"Under 18\",\"Under 18\",\"Under 18\",\"Under 18\",\"Under 18\",\"Under 18\",\"Under 18\",\"Under 18\",\"Under 18\",\"Under 18\",\"Under 18\",\"Under 18\",\"Under 18\",\"Under 18\",\"Under 18\",\"Under 18\",\"Under 18\",\"Under 18\",\"Under 18\",\"Under 18\",\"Under 18\",\"Under 18\",\"Under 18\",\"Under 18\",\"Under 18\",\"Under 18\",\"Under 18\",\"Under 18\",\"Under 18\",\"Under 18\",\"Under 18\",\"Under 18\",\"Under 18\",\"Under 18\",\"Under 18\",\"Under 18\",\"Under 18\",\"Under 18\",\"Under 18\",\"Under 18\",\"Under 18\",\"Under 18\",\"Under 18\",\"Under 18\",\"Under 18\",\"Under 18\",\"Under 18\",\"Under 18\",\"Under 18\",\"Under 18\",\"Under 18\",\"Under 18\",\"Under 18\",\"Under 18\",\"Under 18\",\"Under 18\",\"Under 18\",\"Under 18\",\"Under 18\",\"Under 18\",\"Under 18\",\"Under 18\",\"Under 18\",\"Under 18\",\"Under 18\",\"Under 18\",\"Under 18\",\"Under 18\",\"Under 18\",\"Under 18\",\"Under 18\",\"Under 18\",\"Under 18\",\"Under 18\",\"Under 18\",\"Under 18\",\"Under 18\",\"Under 18\",\"Under 18\",\"Under 18\",\"Under 18\",\"Under 18\",\"Under 18\",\"Under 18\",\"Under 18\",\"Under 18\",\"Under 18\",\"Under 18\",\"Under 18\",\"Under 18\",\"Under 18\",\"Under 18\",\"Under 18\",\"Under 18\",\"Under 18\",\"Under 18\",\"Under 18\",\"Under 18\",\"Under 18\",\"Under 18\",\"Under 18\",\"Under 18\",\"Under 18\",\"Under 18\",\"Under 18\",\"Under 18\",\"Under 18\",\"Under 18\",\"Under 18\",\"Under 18\",\"Under 18\",\"Under 18\",\"Under 18\",\"Under 18\",\"Under 18\",\"Under 18\",\"Under 18\",\"Under 18\",\"Under 18\",\"Under 18\",\"Under 18\",\"Under 18\",\"Under 18\",\"Under 18\",\"Under 18\",\"Under 18\",\"Under 18\",\"Under 18\",\"Under 18\",\"Under 18\",\"Under 18\",\"Under 18\",\"Under 18\",\"Under 18\",\"Under 18\",\"Under 18\",\"Under 18\",\"Under 18\",\"Under 18\",\"Under 18\",\"Under 18\",\"Under 18\",\"Under 18\",\"Under 18\",\"Under 18\",\"Under 18\",\"Under 18\",\"Under 18\",\"Under 18\",\"Under 18\",\"Under 18\",\"Under 18\",\"Under 18\",\"Under 18\",\"Under 18\",\"Under 18\",\"Under 18\",\"Under 18\",\"Under 18\",\"Under 18\",\"Under 18\",\"Under 18\",\"Under 18\",\"Under 18\",\"Under 18\",\"Under 18\",\"Under 18\",\"Under 18\",\"Under 18\",\"Under 18\",\"Under 18\"],\"xaxis\":\"x\",\"yaxis\":\"y\",\"type\":\"histogram\"}],                        {\"template\":{\"data\":{\"bar\":[{\"error_x\":{\"color\":\"#2a3f5f\"},\"error_y\":{\"color\":\"#2a3f5f\"},\"marker\":{\"line\":{\"color\":\"#E5ECF6\",\"width\":0.5},\"pattern\":{\"fillmode\":\"overlay\",\"size\":10,\"solidity\":0.2}},\"type\":\"bar\"}],\"barpolar\":[{\"marker\":{\"line\":{\"color\":\"#E5ECF6\",\"width\":0.5},\"pattern\":{\"fillmode\":\"overlay\",\"size\":10,\"solidity\":0.2}},\"type\":\"barpolar\"}],\"carpet\":[{\"aaxis\":{\"endlinecolor\":\"#2a3f5f\",\"gridcolor\":\"white\",\"linecolor\":\"white\",\"minorgridcolor\":\"white\",\"startlinecolor\":\"#2a3f5f\"},\"baxis\":{\"endlinecolor\":\"#2a3f5f\",\"gridcolor\":\"white\",\"linecolor\":\"white\",\"minorgridcolor\":\"white\",\"startlinecolor\":\"#2a3f5f\"},\"type\":\"carpet\"}],\"choropleth\":[{\"colorbar\":{\"outlinewidth\":0,\"ticks\":\"\"},\"type\":\"choropleth\"}],\"contour\":[{\"colorbar\":{\"outlinewidth\":0,\"ticks\":\"\"},\"colorscale\":[[0.0,\"#0d0887\"],[0.1111111111111111,\"#46039f\"],[0.2222222222222222,\"#7201a8\"],[0.3333333333333333,\"#9c179e\"],[0.4444444444444444,\"#bd3786\"],[0.5555555555555556,\"#d8576b\"],[0.6666666666666666,\"#ed7953\"],[0.7777777777777778,\"#fb9f3a\"],[0.8888888888888888,\"#fdca26\"],[1.0,\"#f0f921\"]],\"type\":\"contour\"}],\"contourcarpet\":[{\"colorbar\":{\"outlinewidth\":0,\"ticks\":\"\"},\"type\":\"contourcarpet\"}],\"heatmap\":[{\"colorbar\":{\"outlinewidth\":0,\"ticks\":\"\"},\"colorscale\":[[0.0,\"#0d0887\"],[0.1111111111111111,\"#46039f\"],[0.2222222222222222,\"#7201a8\"],[0.3333333333333333,\"#9c179e\"],[0.4444444444444444,\"#bd3786\"],[0.5555555555555556,\"#d8576b\"],[0.6666666666666666,\"#ed7953\"],[0.7777777777777778,\"#fb9f3a\"],[0.8888888888888888,\"#fdca26\"],[1.0,\"#f0f921\"]],\"type\":\"heatmap\"}],\"heatmapgl\":[{\"colorbar\":{\"outlinewidth\":0,\"ticks\":\"\"},\"colorscale\":[[0.0,\"#0d0887\"],[0.1111111111111111,\"#46039f\"],[0.2222222222222222,\"#7201a8\"],[0.3333333333333333,\"#9c179e\"],[0.4444444444444444,\"#bd3786\"],[0.5555555555555556,\"#d8576b\"],[0.6666666666666666,\"#ed7953\"],[0.7777777777777778,\"#fb9f3a\"],[0.8888888888888888,\"#fdca26\"],[1.0,\"#f0f921\"]],\"type\":\"heatmapgl\"}],\"histogram\":[{\"marker\":{\"pattern\":{\"fillmode\":\"overlay\",\"size\":10,\"solidity\":0.2}},\"type\":\"histogram\"}],\"histogram2d\":[{\"colorbar\":{\"outlinewidth\":0,\"ticks\":\"\"},\"colorscale\":[[0.0,\"#0d0887\"],[0.1111111111111111,\"#46039f\"],[0.2222222222222222,\"#7201a8\"],[0.3333333333333333,\"#9c179e\"],[0.4444444444444444,\"#bd3786\"],[0.5555555555555556,\"#d8576b\"],[0.6666666666666666,\"#ed7953\"],[0.7777777777777778,\"#fb9f3a\"],[0.8888888888888888,\"#fdca26\"],[1.0,\"#f0f921\"]],\"type\":\"histogram2d\"}],\"histogram2dcontour\":[{\"colorbar\":{\"outlinewidth\":0,\"ticks\":\"\"},\"colorscale\":[[0.0,\"#0d0887\"],[0.1111111111111111,\"#46039f\"],[0.2222222222222222,\"#7201a8\"],[0.3333333333333333,\"#9c179e\"],[0.4444444444444444,\"#bd3786\"],[0.5555555555555556,\"#d8576b\"],[0.6666666666666666,\"#ed7953\"],[0.7777777777777778,\"#fb9f3a\"],[0.8888888888888888,\"#fdca26\"],[1.0,\"#f0f921\"]],\"type\":\"histogram2dcontour\"}],\"mesh3d\":[{\"colorbar\":{\"outlinewidth\":0,\"ticks\":\"\"},\"type\":\"mesh3d\"}],\"parcoords\":[{\"line\":{\"colorbar\":{\"outlinewidth\":0,\"ticks\":\"\"}},\"type\":\"parcoords\"}],\"pie\":[{\"automargin\":true,\"type\":\"pie\"}],\"scatter\":[{\"marker\":{\"colorbar\":{\"outlinewidth\":0,\"ticks\":\"\"}},\"type\":\"scatter\"}],\"scatter3d\":[{\"line\":{\"colorbar\":{\"outlinewidth\":0,\"ticks\":\"\"}},\"marker\":{\"colorbar\":{\"outlinewidth\":0,\"ticks\":\"\"}},\"type\":\"scatter3d\"}],\"scattercarpet\":[{\"marker\":{\"colorbar\":{\"outlinewidth\":0,\"ticks\":\"\"}},\"type\":\"scattercarpet\"}],\"scattergeo\":[{\"marker\":{\"colorbar\":{\"outlinewidth\":0,\"ticks\":\"\"}},\"type\":\"scattergeo\"}],\"scattergl\":[{\"marker\":{\"colorbar\":{\"outlinewidth\":0,\"ticks\":\"\"}},\"type\":\"scattergl\"}],\"scattermapbox\":[{\"marker\":{\"colorbar\":{\"outlinewidth\":0,\"ticks\":\"\"}},\"type\":\"scattermapbox\"}],\"scatterpolar\":[{\"marker\":{\"colorbar\":{\"outlinewidth\":0,\"ticks\":\"\"}},\"type\":\"scatterpolar\"}],\"scatterpolargl\":[{\"marker\":{\"colorbar\":{\"outlinewidth\":0,\"ticks\":\"\"}},\"type\":\"scatterpolargl\"}],\"scatterternary\":[{\"marker\":{\"colorbar\":{\"outlinewidth\":0,\"ticks\":\"\"}},\"type\":\"scatterternary\"}],\"surface\":[{\"colorbar\":{\"outlinewidth\":0,\"ticks\":\"\"},\"colorscale\":[[0.0,\"#0d0887\"],[0.1111111111111111,\"#46039f\"],[0.2222222222222222,\"#7201a8\"],[0.3333333333333333,\"#9c179e\"],[0.4444444444444444,\"#bd3786\"],[0.5555555555555556,\"#d8576b\"],[0.6666666666666666,\"#ed7953\"],[0.7777777777777778,\"#fb9f3a\"],[0.8888888888888888,\"#fdca26\"],[1.0,\"#f0f921\"]],\"type\":\"surface\"}],\"table\":[{\"cells\":{\"fill\":{\"color\":\"#EBF0F8\"},\"line\":{\"color\":\"white\"}},\"header\":{\"fill\":{\"color\":\"#C8D4E3\"},\"line\":{\"color\":\"white\"}},\"type\":\"table\"}]},\"layout\":{\"annotationdefaults\":{\"arrowcolor\":\"#2a3f5f\",\"arrowhead\":0,\"arrowwidth\":1},\"autotypenumbers\":\"strict\",\"coloraxis\":{\"colorbar\":{\"outlinewidth\":0,\"ticks\":\"\"}},\"colorscale\":{\"diverging\":[[0,\"#8e0152\"],[0.1,\"#c51b7d\"],[0.2,\"#de77ae\"],[0.3,\"#f1b6da\"],[0.4,\"#fde0ef\"],[0.5,\"#f7f7f7\"],[0.6,\"#e6f5d0\"],[0.7,\"#b8e186\"],[0.8,\"#7fbc41\"],[0.9,\"#4d9221\"],[1,\"#276419\"]],\"sequential\":[[0.0,\"#0d0887\"],[0.1111111111111111,\"#46039f\"],[0.2222222222222222,\"#7201a8\"],[0.3333333333333333,\"#9c179e\"],[0.4444444444444444,\"#bd3786\"],[0.5555555555555556,\"#d8576b\"],[0.6666666666666666,\"#ed7953\"],[0.7777777777777778,\"#fb9f3a\"],[0.8888888888888888,\"#fdca26\"],[1.0,\"#f0f921\"]],\"sequentialminus\":[[0.0,\"#0d0887\"],[0.1111111111111111,\"#46039f\"],[0.2222222222222222,\"#7201a8\"],[0.3333333333333333,\"#9c179e\"],[0.4444444444444444,\"#bd3786\"],[0.5555555555555556,\"#d8576b\"],[0.6666666666666666,\"#ed7953\"],[0.7777777777777778,\"#fb9f3a\"],[0.8888888888888888,\"#fdca26\"],[1.0,\"#f0f921\"]]},\"colorway\":[\"#636efa\",\"#EF553B\",\"#00cc96\",\"#ab63fa\",\"#FFA15A\",\"#19d3f3\",\"#FF6692\",\"#B6E880\",\"#FF97FF\",\"#FECB52\"],\"font\":{\"color\":\"#2a3f5f\"},\"geo\":{\"bgcolor\":\"white\",\"lakecolor\":\"white\",\"landcolor\":\"#E5ECF6\",\"showlakes\":true,\"showland\":true,\"subunitcolor\":\"white\"},\"hoverlabel\":{\"align\":\"left\"},\"hovermode\":\"closest\",\"mapbox\":{\"style\":\"light\"},\"paper_bgcolor\":\"white\",\"plot_bgcolor\":\"#E5ECF6\",\"polar\":{\"angularaxis\":{\"gridcolor\":\"white\",\"linecolor\":\"white\",\"ticks\":\"\"},\"bgcolor\":\"#E5ECF6\",\"radialaxis\":{\"gridcolor\":\"white\",\"linecolor\":\"white\",\"ticks\":\"\"}},\"scene\":{\"xaxis\":{\"backgroundcolor\":\"#E5ECF6\",\"gridcolor\":\"white\",\"gridwidth\":2,\"linecolor\":\"white\",\"showbackground\":true,\"ticks\":\"\",\"zerolinecolor\":\"white\"},\"yaxis\":{\"backgroundcolor\":\"#E5ECF6\",\"gridcolor\":\"white\",\"gridwidth\":2,\"linecolor\":\"white\",\"showbackground\":true,\"ticks\":\"\",\"zerolinecolor\":\"white\"},\"zaxis\":{\"backgroundcolor\":\"#E5ECF6\",\"gridcolor\":\"white\",\"gridwidth\":2,\"linecolor\":\"white\",\"showbackground\":true,\"ticks\":\"\",\"zerolinecolor\":\"white\"}},\"shapedefaults\":{\"line\":{\"color\":\"#2a3f5f\"}},\"ternary\":{\"aaxis\":{\"gridcolor\":\"white\",\"linecolor\":\"white\",\"ticks\":\"\"},\"baxis\":{\"gridcolor\":\"white\",\"linecolor\":\"white\",\"ticks\":\"\"},\"bgcolor\":\"#E5ECF6\",\"caxis\":{\"gridcolor\":\"white\",\"linecolor\":\"white\",\"ticks\":\"\"}},\"title\":{\"x\":0.05},\"xaxis\":{\"automargin\":true,\"gridcolor\":\"white\",\"linecolor\":\"white\",\"ticks\":\"\",\"title\":{\"standoff\":15},\"zerolinecolor\":\"white\",\"zerolinewidth\":2},\"yaxis\":{\"automargin\":true,\"gridcolor\":\"white\",\"linecolor\":\"white\",\"ticks\":\"\",\"title\":{\"standoff\":15},\"zerolinecolor\":\"white\",\"zerolinewidth\":2}}},\"xaxis\":{\"anchor\":\"y\",\"domain\":[0.0,1.0],\"title\":{\"text\":\"Age Group\"}},\"yaxis\":{\"anchor\":\"x\",\"domain\":[0.0,1.0],\"title\":{\"text\":\"count\"}},\"legend\":{\"tracegroupgap\":0},\"margin\":{\"t\":60},\"barmode\":\"relative\"},                        {\"responsive\": true}                    ).then(function(){\n",
       "                            \n",
       "var gd = document.getElementById('ff1b5548-d37c-4073-be70-fa44a73d8fc5');\n",
       "var x = new MutationObserver(function (mutations, observer) {{\n",
       "        var display = window.getComputedStyle(gd).display;\n",
       "        if (!display || display === 'none') {{\n",
       "            console.log([gd, 'removed!']);\n",
       "            Plotly.purge(gd);\n",
       "            observer.disconnect();\n",
       "        }}\n",
       "}});\n",
       "\n",
       "// Listen for the removal of the full notebook cells\n",
       "var notebookContainer = gd.closest('#notebook-container');\n",
       "if (notebookContainer) {{\n",
       "    x.observe(notebookContainer, {childList: true});\n",
       "}}\n",
       "\n",
       "// Listen for the clearing of the current output cell\n",
       "var outputEl = gd.closest('.output');\n",
       "if (outputEl) {{\n",
       "    x.observe(outputEl, {childList: true});\n",
       "}}\n",
       "\n",
       "                        })                };                });            </script>        </div>"
      ]
     },
     "metadata": {},
     "output_type": "display_data"
    }
   ],
   "source": [
    "fig = px.histogram(frame, x=\"Age Group\")\n",
    "fig.show()"
   ]
  },
  {
   "cell_type": "markdown",
   "id": "dfca2c72",
   "metadata": {
    "papermill": {
     "duration": 0.05269,
     "end_time": "2022-02-14T14:01:48.364151",
     "exception": false,
     "start_time": "2022-02-14T14:01:48.311461",
     "status": "completed"
    },
    "tags": []
   },
   "source": [
    "The above shows the distribution under 5 different categories."
   ]
  },
  {
   "cell_type": "code",
   "execution_count": 19,
   "id": "58d7d122",
   "metadata": {
    "execution": {
     "iopub.execute_input": "2022-02-14T14:01:48.472889Z",
     "iopub.status.busy": "2022-02-14T14:01:48.472327Z",
     "iopub.status.idle": "2022-02-14T14:01:48.736903Z",
     "shell.execute_reply": "2022-02-14T14:01:48.736404Z",
     "shell.execute_reply.started": "2022-02-14T08:53:44.861851Z"
    },
    "papermill": {
     "duration": 0.319986,
     "end_time": "2022-02-14T14:01:48.737046",
     "exception": false,
     "start_time": "2022-02-14T14:01:48.417060",
     "status": "completed"
    },
    "tags": []
   },
   "outputs": [
    {
     "data": {
      "text/plain": [
       "<AxesSubplot:>"
      ]
     },
     "execution_count": 19,
     "metadata": {},
     "output_type": "execute_result"
    },
    {
     "data": {
      "image/png": "[encoded data removed]",
      "text/plain": [
       "<Figure size 432x288 with 1 Axes>"
      ]
     },
     "metadata": {
      "needs_background": "light"
     },
     "output_type": "display_data"
    }
   ],
   "source": [
    "frame[\"Strata Name\"].value_counts().head(10).plot.bar()"
   ]
  },
  {
   "cell_type": "code",
   "execution_count": null,
   "id": "4a7bf939",
   "metadata": {
    "papermill": {
     "duration": 0.05495,
     "end_time": "2022-02-14T14:01:48.845867",
     "exception": false,
     "start_time": "2022-02-14T14:01:48.790917",
     "status": "completed"
    },
    "tags": []
   },
   "outputs": [],
   "source": []
  },
  {
   "cell_type": "code",
   "execution_count": null,
   "id": "9cba704a",
   "metadata": {
    "papermill": {
     "duration": 0.054402,
     "end_time": "2022-02-14T14:01:48.955493",
     "exception": false,
     "start_time": "2022-02-14T14:01:48.901091",
     "status": "completed"
    },
    "tags": []
   },
   "outputs": [],
   "source": []
  },
  {
   "cell_type": "code",
   "execution_count": null,
   "id": "6e6917b1",
   "metadata": {
    "papermill": {
     "duration": 0.054148,
     "end_time": "2022-02-14T14:01:49.064185",
     "exception": false,
     "start_time": "2022-02-14T14:01:49.010037",
     "status": "completed"
    },
    "tags": []
   },
   "outputs": [],
   "source": []
  },
  {
   "cell_type": "code",
   "execution_count": null,
   "id": "bfb12103",
   "metadata": {
    "papermill": {
     "duration": 0.054056,
     "end_time": "2022-02-14T14:01:49.174128",
     "exception": false,
     "start_time": "2022-02-14T14:01:49.120072",
     "status": "completed"
    },
    "tags": []
   },
   "outputs": [],
   "source": []
  },
  {
   "cell_type": "code",
   "execution_count": null,
   "id": "a5492c7d",
   "metadata": {
    "papermill": {
     "duration": 0.053884,
     "end_time": "2022-02-14T14:01:49.282275",
     "exception": false,
     "start_time": "2022-02-14T14:01:49.228391",
     "status": "completed"
    },
    "tags": []
   },
   "outputs": [],
   "source": []
  },
  {
   "cell_type": "code",
   "execution_count": null,
   "id": "da580ee6",
   "metadata": {
    "papermill": {
     "duration": 0.053607,
     "end_time": "2022-02-14T14:01:49.389832",
     "exception": false,
     "start_time": "2022-02-14T14:01:49.336225",
     "status": "completed"
    },
    "tags": []
   },
   "outputs": [],
   "source": []
  },
  {
   "cell_type": "code",
   "execution_count": null,
   "id": "939aecb1",
   "metadata": {
    "papermill": {
     "duration": 0.053437,
     "end_time": "2022-02-14T14:01:49.497135",
     "exception": false,
     "start_time": "2022-02-14T14:01:49.443698",
     "status": "completed"
    },
    "tags": []
   },
   "outputs": [],
   "source": []
  },
  {
   "cell_type": "code",
   "execution_count": null,
   "id": "877150d9",
   "metadata": {
    "papermill": {
     "duration": 0.055506,
     "end_time": "2022-02-14T14:01:49.608058",
     "exception": false,
     "start_time": "2022-02-14T14:01:49.552552",
     "status": "completed"
    },
    "tags": []
   },
   "outputs": [],
   "source": []
  },
  {
   "cell_type": "code",
   "execution_count": 20,
   "id": "854b44ce",
   "metadata": {
    "execution": {
     "iopub.execute_input": "2022-02-14T14:01:49.726853Z",
     "iopub.status.busy": "2022-02-14T14:01:49.726140Z",
     "iopub.status.idle": "2022-02-14T14:01:49.728939Z",
     "shell.execute_reply": "2022-02-14T14:01:49.729378Z",
     "shell.execute_reply.started": "2022-02-11T18:04:41.381194Z"
    },
    "papermill": {
     "duration": 0.066565,
     "end_time": "2022-02-14T14:01:49.729534",
     "exception": false,
     "start_time": "2022-02-14T14:01:49.662969",
     "status": "completed"
    },
    "tags": []
   },
   "outputs": [
    {
     "name": "stderr",
     "output_type": "stream",
     "text": [
      "/opt/conda/lib/python3.7/site-packages/ipykernel_launcher.py:13: SettingWithCopyWarning:\n",
      "\n",
      "\n",
      "A value is trying to be set on a copy of a slice from a DataFrame.\n",
      "Try using .loc[row_indexer,col_indexer] = value instead\n",
      "\n",
      "See the caveats in the documentation: https://pandas.pydata.org/pandas-docs/stable/user_guide/indexing.html#returning-a-view-versus-a-copy\n",
      "\n"
     ]
    }
   ],
   "source": [
    "def label_age(age):\n",
    "    if age == \"Under 18\":\n",
    "        age = 1\n",
    "    elif age == \"Under 19\":\n",
    "        age == 2\n",
    "    elif age == \"Under 20\":\n",
    "        age = 3\n",
    "    elif age == \"18 and Over\":\n",
    "        age = 4\n",
    "    else:\n",
    "        age == 5\n",
    "    return age\n",
    "frame[\"label_age\"] = frame[\"Age Group\"].apply(lambda x : label_age(x))"
   ]
  },
  {
   "cell_type": "code",
   "execution_count": 21,
   "id": "78a34b71",
   "metadata": {
    "execution": {
     "iopub.execute_input": "2022-02-14T14:01:49.843011Z",
     "iopub.status.busy": "2022-02-14T14:01:49.842344Z",
     "iopub.status.idle": "2022-02-14T14:01:49.860292Z",
     "shell.execute_reply": "2022-02-14T14:01:49.860857Z",
     "shell.execute_reply.started": "2022-02-11T18:04:41.401457Z"
    },
    "papermill": {
     "duration": 0.077196,
     "end_time": "2022-02-14T14:01:49.861025",
     "exception": false,
     "start_time": "2022-02-14T14:01:49.783829",
     "status": "completed"
    },
    "tags": []
   },
   "outputs": [
    {
     "data": {
      "text/html": [
       "<div>\n",
       "<style scoped>\n",
       "    .dataframe tbody tr th:only-of-type {\n",
       "        vertical-align: middle;\n",
       "    }\n",
       "\n",
       "    .dataframe tbody tr th {\n",
       "        vertical-align: top;\n",
       "    }\n",
       "\n",
       "    .dataframe thead th {\n",
       "        text-align: right;\n",
       "    }\n",
       "</style>\n",
       "<table border=\"1\" class=\"dataframe\">\n",
       "  <thead>\n",
       "    <tr style=\"text-align: right;\">\n",
       "      <th></th>\n",
       "      <th>index</th>\n",
       "      <th>LGHC Indicator Name</th>\n",
       "      <th>Geography</th>\n",
       "      <th>Year</th>\n",
       "      <th>Age Group</th>\n",
       "      <th>Strata</th>\n",
       "      <th>Strata Name</th>\n",
       "      <th>Numerator</th>\n",
       "      <th>Rate</th>\n",
       "      <th>LGHC Indicator ID</th>\n",
       "      <th>LGHC Target Rate</th>\n",
       "      <th>label_age</th>\n",
       "    </tr>\n",
       "  </thead>\n",
       "  <tbody>\n",
       "    <tr>\n",
       "      <th>0</th>\n",
       "      <td>0</td>\n",
       "      <td>Asthma ED Visit Rates</td>\n",
       "      <td>Alameda</td>\n",
       "      <td>2015</td>\n",
       "      <td>18 and Over</td>\n",
       "      <td>Total Population</td>\n",
       "      <td>18 and Over</td>\n",
       "      <td>6513</td>\n",
       "      <td>53.1</td>\n",
       "      <td>7</td>\n",
       "      <td>28</td>\n",
       "      <td>4</td>\n",
       "    </tr>\n",
       "    <tr>\n",
       "      <th>1</th>\n",
       "      <td>1</td>\n",
       "      <td>Asthma ED Visit Rates</td>\n",
       "      <td>Amador</td>\n",
       "      <td>2015</td>\n",
       "      <td>18 and Over</td>\n",
       "      <td>Total Population</td>\n",
       "      <td>18 and Over</td>\n",
       "      <td>151</td>\n",
       "      <td>49.1</td>\n",
       "      <td>7</td>\n",
       "      <td>28</td>\n",
       "      <td>4</td>\n",
       "    </tr>\n",
       "    <tr>\n",
       "      <th>2</th>\n",
       "      <td>2</td>\n",
       "      <td>Asthma ED Visit Rates</td>\n",
       "      <td>Butte</td>\n",
       "      <td>2015</td>\n",
       "      <td>18 and Over</td>\n",
       "      <td>Total Population</td>\n",
       "      <td>18 and Over</td>\n",
       "      <td>736</td>\n",
       "      <td>43.8</td>\n",
       "      <td>7</td>\n",
       "      <td>28</td>\n",
       "      <td>4</td>\n",
       "    </tr>\n",
       "    <tr>\n",
       "      <th>3</th>\n",
       "      <td>3</td>\n",
       "      <td>Asthma ED Visit Rates</td>\n",
       "      <td>Calaveras</td>\n",
       "      <td>2015</td>\n",
       "      <td>18 and Over</td>\n",
       "      <td>Total Population</td>\n",
       "      <td>18 and Over</td>\n",
       "      <td>139</td>\n",
       "      <td>42.7</td>\n",
       "      <td>7</td>\n",
       "      <td>28</td>\n",
       "      <td>4</td>\n",
       "    </tr>\n",
       "    <tr>\n",
       "      <th>4</th>\n",
       "      <td>4</td>\n",
       "      <td>Asthma ED Visit Rates</td>\n",
       "      <td>California</td>\n",
       "      <td>2015</td>\n",
       "      <td>18 and Over</td>\n",
       "      <td>Total Population</td>\n",
       "      <td>18 and Over</td>\n",
       "      <td>117854</td>\n",
       "      <td>40.0</td>\n",
       "      <td>7</td>\n",
       "      <td>28</td>\n",
       "      <td>4</td>\n",
       "    </tr>\n",
       "    <tr>\n",
       "      <th>...</th>\n",
       "      <td>...</td>\n",
       "      <td>...</td>\n",
       "      <td>...</td>\n",
       "      <td>...</td>\n",
       "      <td>...</td>\n",
       "      <td>...</td>\n",
       "      <td>...</td>\n",
       "      <td>...</td>\n",
       "      <td>...</td>\n",
       "      <td>...</td>\n",
       "      <td>...</td>\n",
       "      <td>...</td>\n",
       "    </tr>\n",
       "    <tr>\n",
       "      <th>9420</th>\n",
       "      <td>9420</td>\n",
       "      <td>Asthma ED Visit Rates</td>\n",
       "      <td>Tulare</td>\n",
       "      <td>2019</td>\n",
       "      <td>Under 18</td>\n",
       "      <td>Sex</td>\n",
       "      <td>Male</td>\n",
       "      <td>597</td>\n",
       "      <td>81.2</td>\n",
       "      <td>7</td>\n",
       "      <td>28</td>\n",
       "      <td>1</td>\n",
       "    </tr>\n",
       "    <tr>\n",
       "      <th>9421</th>\n",
       "      <td>9421</td>\n",
       "      <td>Asthma ED Visit Rates</td>\n",
       "      <td>Tuolumne</td>\n",
       "      <td>2019</td>\n",
       "      <td>Under 18</td>\n",
       "      <td>Sex</td>\n",
       "      <td>Male</td>\n",
       "      <td>37</td>\n",
       "      <td>90.0</td>\n",
       "      <td>7</td>\n",
       "      <td>28</td>\n",
       "      <td>1</td>\n",
       "    </tr>\n",
       "    <tr>\n",
       "      <th>9422</th>\n",
       "      <td>9422</td>\n",
       "      <td>Asthma ED Visit Rates</td>\n",
       "      <td>Ventura</td>\n",
       "      <td>2019</td>\n",
       "      <td>Under 18</td>\n",
       "      <td>Sex</td>\n",
       "      <td>Male</td>\n",
       "      <td>602</td>\n",
       "      <td>61.0</td>\n",
       "      <td>7</td>\n",
       "      <td>28</td>\n",
       "      <td>1</td>\n",
       "    </tr>\n",
       "    <tr>\n",
       "      <th>9423</th>\n",
       "      <td>9423</td>\n",
       "      <td>Asthma ED Visit Rates</td>\n",
       "      <td>Yolo</td>\n",
       "      <td>2019</td>\n",
       "      <td>Under 18</td>\n",
       "      <td>Sex</td>\n",
       "      <td>Male</td>\n",
       "      <td>135</td>\n",
       "      <td>52.4</td>\n",
       "      <td>7</td>\n",
       "      <td>28</td>\n",
       "      <td>1</td>\n",
       "    </tr>\n",
       "    <tr>\n",
       "      <th>9424</th>\n",
       "      <td>9424</td>\n",
       "      <td>Asthma ED Visit Rates</td>\n",
       "      <td>Yuba</td>\n",
       "      <td>2019</td>\n",
       "      <td>Under 18</td>\n",
       "      <td>Sex</td>\n",
       "      <td>Male</td>\n",
       "      <td>59</td>\n",
       "      <td>52.9</td>\n",
       "      <td>7</td>\n",
       "      <td>28</td>\n",
       "      <td>1</td>\n",
       "    </tr>\n",
       "  </tbody>\n",
       "</table>\n",
       "<p>9425 rows × 12 columns</p>\n",
       "</div>"
      ],
      "text/plain": [
       "      index    LGHC Indicator Name   Geography  Year    Age Group  \\\n",
       "0         0  Asthma ED Visit Rates     Alameda  2015  18 and Over   \n",
       "1         1  Asthma ED Visit Rates      Amador  2015  18 and Over   \n",
       "2         2  Asthma ED Visit Rates       Butte  2015  18 and Over   \n",
       "3         3  Asthma ED Visit Rates   Calaveras  2015  18 and Over   \n",
       "4         4  Asthma ED Visit Rates  California  2015  18 and Over   \n",
       "...     ...                    ...         ...   ...          ...   \n",
       "9420   9420  Asthma ED Visit Rates      Tulare  2019     Under 18   \n",
       "9421   9421  Asthma ED Visit Rates    Tuolumne  2019     Under 18   \n",
       "9422   9422  Asthma ED Visit Rates     Ventura  2019     Under 18   \n",
       "9423   9423  Asthma ED Visit Rates        Yolo  2019     Under 18   \n",
       "9424   9424  Asthma ED Visit Rates        Yuba  2019     Under 18   \n",
       "\n",
       "                Strata  Strata Name  Numerator  Rate  LGHC Indicator ID  \\\n",
       "0     Total Population  18 and Over       6513  53.1                  7   \n",
       "1     Total Population  18 and Over        151  49.1                  7   \n",
       "2     Total Population  18 and Over        736  43.8                  7   \n",
       "3     Total Population  18 and Over        139  42.7                  7   \n",
       "4     Total Population  18 and Over     117854  40.0                  7   \n",
       "...                ...          ...        ...   ...                ...   \n",
       "9420               Sex         Male        597  81.2                  7   \n",
       "9421               Sex         Male         37  90.0                  7   \n",
       "9422               Sex         Male        602  61.0                  7   \n",
       "9423               Sex         Male        135  52.4                  7   \n",
       "9424               Sex         Male         59  52.9                  7   \n",
       "\n",
       "      LGHC Target Rate label_age  \n",
       "0                   28         4  \n",
       "1                   28         4  \n",
       "2                   28         4  \n",
       "3                   28         4  \n",
       "4                   28         4  \n",
       "...                ...       ...  \n",
       "9420                28         1  \n",
       "9421                28         1  \n",
       "9422                28         1  \n",
       "9423                28         1  \n",
       "9424                28         1  \n",
       "\n",
       "[9425 rows x 12 columns]"
      ]
     },
     "execution_count": 21,
     "metadata": {},
     "output_type": "execute_result"
    }
   ],
   "source": [
    "frame"
   ]
  },
  {
   "cell_type": "code",
   "execution_count": 22,
   "id": "4da0445f",
   "metadata": {
    "execution": {
     "iopub.execute_input": "2022-02-14T14:01:49.976351Z",
     "iopub.status.busy": "2022-02-14T14:01:49.975728Z",
     "iopub.status.idle": "2022-02-14T14:01:49.982686Z",
     "shell.execute_reply": "2022-02-14T14:01:49.982182Z",
     "shell.execute_reply.started": "2022-02-11T18:04:41.432316Z"
    },
    "papermill": {
     "duration": 0.066011,
     "end_time": "2022-02-14T14:01:49.982831",
     "exception": false,
     "start_time": "2022-02-14T14:01:49.916820",
     "status": "completed"
    },
    "tags": []
   },
   "outputs": [
    {
     "data": {
      "text/plain": [
       "array(['18 and Over', 'African-American',\n",
       "       'American Indian/Alaskan Native', 'Asian/Pacific Islander',\n",
       "       'Hispanic', 'White', 'Female', 'Male', 'All Ages', 'Under 18'],\n",
       "      dtype=object)"
      ]
     },
     "execution_count": 22,
     "metadata": {},
     "output_type": "execute_result"
    }
   ],
   "source": [
    "frame[\"Strata Name\"].unique()"
   ]
  },
  {
   "cell_type": "code",
   "execution_count": 23,
   "id": "cdf24ca6",
   "metadata": {
    "execution": {
     "iopub.execute_input": "2022-02-14T14:01:50.112565Z",
     "iopub.status.busy": "2022-02-14T14:01:50.111909Z",
     "iopub.status.idle": "2022-02-14T14:02:07.894505Z",
     "shell.execute_reply": "2022-02-14T14:02:07.894989Z",
     "shell.execute_reply.started": "2022-02-11T18:15:02.746787Z"
    },
    "papermill": {
     "duration": 17.85646,
     "end_time": "2022-02-14T14:02:07.895166",
     "exception": false,
     "start_time": "2022-02-14T14:01:50.038706",
     "status": "completed"
    },
    "tags": []
   },
   "outputs": [
    {
     "data": {
      "text/plain": [
       "<BarContainer object of 9425 artists>"
      ]
     },
     "execution_count": 23,
     "metadata": {},
     "output_type": "execute_result"
    },
    {
     "data": {
      "image/png": "[encoded data removed]",
      "text/plain": [
       "<Figure size 1080x360 with 1 Axes>"
      ]
     },
     "metadata": {
      "needs_background": "light"
     },
     "output_type": "display_data"
    }
   ],
   "source": [
    "# asthma rate in different strata\n",
    "\n",
    "y = frame[\"Rate\"]\n",
    "x = frame[\"Geography\"]\n",
    "plt.figure(figsize = (15, 5))\n",
    "plt.title(\"Asthma rate as per the country and race type\")\n",
    "plt.xlabel(\"county\")\n",
    "plt.ylabel(\"race\")\n",
    "\n",
    "plt.xticks(rotation = 45)\n",
    "\n",
    "plt.bar(x, y)\n"
   ]
  },
  {
   "cell_type": "code",
   "execution_count": null,
   "id": "781d6da2",
   "metadata": {
    "papermill": {
     "duration": 0.058549,
     "end_time": "2022-02-14T14:02:08.012724",
     "exception": false,
     "start_time": "2022-02-14T14:02:07.954175",
     "status": "completed"
    },
    "tags": []
   },
   "outputs": [],
   "source": []
  },
  {
   "cell_type": "code",
   "execution_count": null,
   "id": "4527f02b",
   "metadata": {
    "papermill": {
     "duration": 0.057959,
     "end_time": "2022-02-14T14:02:08.128736",
     "exception": false,
     "start_time": "2022-02-14T14:02:08.070777",
     "status": "completed"
    },
    "tags": []
   },
   "outputs": [],
   "source": []
  },
  {
   "cell_type": "code",
   "execution_count": null,
   "id": "5230c63d",
   "metadata": {
    "papermill": {
     "duration": 0.060233,
     "end_time": "2022-02-14T14:02:08.247746",
     "exception": false,
     "start_time": "2022-02-14T14:02:08.187513",
     "status": "completed"
    },
    "tags": []
   },
   "outputs": [],
   "source": []
  },
  {
   "cell_type": "code",
   "execution_count": null,
   "id": "f2c5eaaa",
   "metadata": {
    "papermill": {
     "duration": 0.058897,
     "end_time": "2022-02-14T14:02:08.365853",
     "exception": false,
     "start_time": "2022-02-14T14:02:08.306956",
     "status": "completed"
    },
    "tags": []
   },
   "outputs": [],
   "source": []
  },
  {
   "cell_type": "code",
   "execution_count": null,
   "id": "9ac3c0a9",
   "metadata": {
    "papermill": {
     "duration": 0.05823,
     "end_time": "2022-02-14T14:02:08.482469",
     "exception": false,
     "start_time": "2022-02-14T14:02:08.424239",
     "status": "completed"
    },
    "tags": []
   },
   "outputs": [],
   "source": []
  },
  {
   "cell_type": "code",
   "execution_count": null,
   "id": "05880bbb",
   "metadata": {
    "papermill": {
     "duration": 0.058716,
     "end_time": "2022-02-14T14:02:08.600635",
     "exception": false,
     "start_time": "2022-02-14T14:02:08.541919",
     "status": "completed"
    },
    "tags": []
   },
   "outputs": [],
   "source": []
  },
  {
   "cell_type": "code",
   "execution_count": null,
   "id": "62fea2e2",
   "metadata": {
    "papermill": {
     "duration": 0.058141,
     "end_time": "2022-02-14T14:02:08.718087",
     "exception": false,
     "start_time": "2022-02-14T14:02:08.659946",
     "status": "completed"
    },
    "tags": []
   },
   "outputs": [],
   "source": []
  },
  {
   "cell_type": "code",
   "execution_count": null,
   "id": "860202e4",
   "metadata": {
    "papermill": {
     "duration": 0.057577,
     "end_time": "2022-02-14T14:02:08.833512",
     "exception": false,
     "start_time": "2022-02-14T14:02:08.775935",
     "status": "completed"
    },
    "tags": []
   },
   "outputs": [],
   "source": []
  },
  {
   "cell_type": "code",
   "execution_count": null,
   "id": "5457035c",
   "metadata": {
    "papermill": {
     "duration": 0.058519,
     "end_time": "2022-02-14T14:02:08.951262",
     "exception": false,
     "start_time": "2022-02-14T14:02:08.892743",
     "status": "completed"
    },
    "tags": []
   },
   "outputs": [],
   "source": []
  },
  {
   "cell_type": "code",
   "execution_count": null,
   "id": "94e9014b",
   "metadata": {
    "papermill": {
     "duration": 0.058417,
     "end_time": "2022-02-14T14:02:09.069413",
     "exception": false,
     "start_time": "2022-02-14T14:02:09.010996",
     "status": "completed"
    },
    "tags": []
   },
   "outputs": [],
   "source": []
  },
  {
   "cell_type": "code",
   "execution_count": null,
   "id": "3a9109f6",
   "metadata": {
    "papermill": {
     "duration": 0.058619,
     "end_time": "2022-02-14T14:02:09.185805",
     "exception": false,
     "start_time": "2022-02-14T14:02:09.127186",
     "status": "completed"
    },
    "tags": []
   },
   "outputs": [],
   "source": []
  },
  {
   "cell_type": "code",
   "execution_count": null,
   "id": "6da80c1c",
   "metadata": {
    "papermill": {
     "duration": 0.057784,
     "end_time": "2022-02-14T14:02:09.301343",
     "exception": false,
     "start_time": "2022-02-14T14:02:09.243559",
     "status": "completed"
    },
    "tags": []
   },
   "outputs": [],
   "source": []
  },
  {
   "cell_type": "code",
   "execution_count": null,
   "id": "0e1a0a57",
   "metadata": {
    "papermill": {
     "duration": 0.058331,
     "end_time": "2022-02-14T14:02:09.419100",
     "exception": false,
     "start_time": "2022-02-14T14:02:09.360769",
     "status": "completed"
    },
    "tags": []
   },
   "outputs": [],
   "source": []
  },
  {
   "cell_type": "code",
   "execution_count": null,
   "id": "4ac6b787",
   "metadata": {
    "papermill": {
     "duration": 0.058918,
     "end_time": "2022-02-14T14:02:09.537641",
     "exception": false,
     "start_time": "2022-02-14T14:02:09.478723",
     "status": "completed"
    },
    "tags": []
   },
   "outputs": [],
   "source": []
  },
  {
   "cell_type": "code",
   "execution_count": null,
   "id": "fdbcbb0b",
   "metadata": {
    "papermill": {
     "duration": 0.058485,
     "end_time": "2022-02-14T14:02:09.654840",
     "exception": false,
     "start_time": "2022-02-14T14:02:09.596355",
     "status": "completed"
    },
    "tags": []
   },
   "outputs": [],
   "source": []
  },
  {
   "cell_type": "code",
   "execution_count": null,
   "id": "0a322927",
   "metadata": {
    "papermill": {
     "duration": 0.058242,
     "end_time": "2022-02-14T14:02:09.772847",
     "exception": false,
     "start_time": "2022-02-14T14:02:09.714605",
     "status": "completed"
    },
    "tags": []
   },
   "outputs": [],
   "source": []
  },
  {
   "cell_type": "code",
   "execution_count": null,
   "id": "8288d32c",
   "metadata": {
    "papermill": {
     "duration": 0.057495,
     "end_time": "2022-02-14T14:02:09.889401",
     "exception": false,
     "start_time": "2022-02-14T14:02:09.831906",
     "status": "completed"
    },
    "tags": []
   },
   "outputs": [],
   "source": []
  },
  {
   "cell_type": "code",
   "execution_count": null,
   "id": "ccca6b64",
   "metadata": {
    "papermill": {
     "duration": 0.059299,
     "end_time": "2022-02-14T14:02:10.006050",
     "exception": false,
     "start_time": "2022-02-14T14:02:09.946751",
     "status": "completed"
    },
    "tags": []
   },
   "outputs": [],
   "source": []
  },
  {
   "cell_type": "code",
   "execution_count": null,
   "id": "883bd830",
   "metadata": {
    "papermill": {
     "duration": 0.056876,
     "end_time": "2022-02-14T14:02:10.120694",
     "exception": false,
     "start_time": "2022-02-14T14:02:10.063818",
     "status": "completed"
    },
    "tags": []
   },
   "outputs": [],
   "source": []
  },
  {
   "cell_type": "code",
   "execution_count": null,
   "id": "77d34a09",
   "metadata": {
    "papermill": {
     "duration": 0.058171,
     "end_time": "2022-02-14T14:02:10.236401",
     "exception": false,
     "start_time": "2022-02-14T14:02:10.178230",
     "status": "completed"
    },
    "tags": []
   },
   "outputs": [],
   "source": []
  },
  {
   "cell_type": "code",
   "execution_count": null,
   "id": "9d90b7d6",
   "metadata": {
    "papermill": {
     "duration": 0.05733,
     "end_time": "2022-02-14T14:02:10.351641",
     "exception": false,
     "start_time": "2022-02-14T14:02:10.294311",
     "status": "completed"
    },
    "tags": []
   },
   "outputs": [],
   "source": []
  },
  {
   "cell_type": "code",
   "execution_count": null,
   "id": "f6c8a771",
   "metadata": {
    "papermill": {
     "duration": 0.057809,
     "end_time": "2022-02-14T14:02:10.467661",
     "exception": false,
     "start_time": "2022-02-14T14:02:10.409852",
     "status": "completed"
    },
    "tags": []
   },
   "outputs": [],
   "source": []
  },
  {
   "cell_type": "code",
   "execution_count": null,
   "id": "0b972c92",
   "metadata": {
    "papermill": {
     "duration": 0.05714,
     "end_time": "2022-02-14T14:02:10.582221",
     "exception": false,
     "start_time": "2022-02-14T14:02:10.525081",
     "status": "completed"
    },
    "tags": []
   },
   "outputs": [],
   "source": []
  },
  {
   "cell_type": "code",
   "execution_count": null,
   "id": "879e0c9e",
   "metadata": {
    "papermill": {
     "duration": 0.061749,
     "end_time": "2022-02-14T14:02:10.703035",
     "exception": false,
     "start_time": "2022-02-14T14:02:10.641286",
     "status": "completed"
    },
    "tags": []
   },
   "outputs": [],
   "source": []
  },
  {
   "cell_type": "code",
   "execution_count": null,
   "id": "ba271a0f",
   "metadata": {
    "papermill": {
     "duration": 0.057308,
     "end_time": "2022-02-14T14:02:10.817783",
     "exception": false,
     "start_time": "2022-02-14T14:02:10.760475",
     "status": "completed"
    },
    "tags": []
   },
   "outputs": [],
   "source": []
  }
 ],
 "metadata": {
  "kernelspec": {
   "display_name": "Python 3",
   "language": "python",
   "name": "python3"
  },
  "language_info": {
   "codemirror_mode": {
    "name": "ipython",
    "version": 3
   },
   "file_extension": ".py",
   "mimetype": "text/x-python",
   "name": "python",
   "nbconvert_exporter": "python",
   "pygments_lexer": "ipython3",
   "version": "3.7.12"
  },
  "papermill": {
   "default_parameters": {},
   "duration": 39.659511,
   "end_time": "2022-02-14T14:02:12.689691",
   "environment_variables": {},
   "exception": null,
   "input_path": "__notebook__.ipynb",
   "output_path": "__notebook__.ipynb",
   "parameters": {},
   "start_time": "2022-02-14T14:01:33.030180",
   "version": "2.3.3"
  }
 },
 "nbformat": 4,
 "nbformat_minor": 5
}
